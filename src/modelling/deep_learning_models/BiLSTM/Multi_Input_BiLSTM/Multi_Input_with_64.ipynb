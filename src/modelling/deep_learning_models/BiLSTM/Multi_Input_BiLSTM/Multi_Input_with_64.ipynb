{
  "nbformat": 4,
  "nbformat_minor": 0,
  "metadata": {
    "colab": {
      "name": "Siamese_with_64.ipynb",
      "provenance": [],
      "collapsed_sections": []
    },
    "kernelspec": {
      "name": "python3",
      "display_name": "Python 3"
    },
    "accelerator": "GPU"
  },
  "cells": [
    {
      "cell_type": "code",
      "metadata": {
        "id": "NP3kwQq8zkIa",
        "colab_type": "code",
        "outputId": "847a61f6-63c7-4608-a016-255cf68369b7",
        "colab": {
          "base_uri": "https://localhost:8080/",
          "height": 139
        }
      },
      "source": [
        "import pandas as pd\n",
        "import numpy as np\n",
        "import csv\n",
        "\n",
        "%tensorflow_version 2.x\n",
        "import tensorflow as tf\n",
        "tf.__version__\n",
        "assert tf.__version__ >= \"2.0\"\n",
        "\n",
        "from google.colab import drive\n",
        "drive.mount('/content/drive')"
      ],
      "execution_count": 0,
      "outputs": [
        {
          "output_type": "stream",
          "text": [
            "TensorFlow 2.x selected.\n",
            "Go to this URL in a browser: https://accounts.google.com/o/oauth2/auth?client_id=947318989803-6bn6qk8qdgf4n4g3pfee6491hc0brc4i.apps.googleusercontent.com&redirect_uri=urn%3aietf%3awg%3aoauth%3a2.0%3aoob&response_type=code&scope=email%20https%3a%2f%2fwww.googleapis.com%2fauth%2fdocs.test%20https%3a%2f%2fwww.googleapis.com%2fauth%2fdrive%20https%3a%2f%2fwww.googleapis.com%2fauth%2fdrive.photos.readonly%20https%3a%2f%2fwww.googleapis.com%2fauth%2fpeopleapi.readonly\n",
            "\n",
            "Enter your authorization code:\n",
            "··········\n",
            "Mounted at /content/drive\n"
          ],
          "name": "stdout"
        }
      ]
    },
    {
      "cell_type": "code",
      "metadata": {
        "id": "VTJva58j2IuX",
        "colab_type": "code",
        "colab": {}
      },
      "source": [
        "x_train = pd.read_csv('/content/drive/My Drive/bilstm_data/x_train.csv')\n",
        "x_test = pd.read_csv('/content/drive/My Drive/bilstm_data/x_test.csv')\n",
        "x_val = pd.read_csv('/content/drive/My Drive/bilstm_data/x_val.csv')\n",
        "\n",
        "\n",
        "y_train = pd.read_csv('/content/drive/My Drive/bilstm_data/y_train.csv')\n",
        "y_test = pd.read_csv('/content/drive/My Drive/bilstm_data/y_test.csv')\n",
        "y_val = pd.read_csv('/content/drive/My Drive/bilstm_data/y_val.csv')\n"
      ],
      "execution_count": 0,
      "outputs": []
    },
    {
      "cell_type": "code",
      "metadata": {
        "id": "WHI6wapl3MZt",
        "colab_type": "code",
        "colab": {}
      },
      "source": [
        "texts = x_train['article_text'].values\n",
        "texts_test = x_test['article_text'].values"
      ],
      "execution_count": 0,
      "outputs": []
    },
    {
      "cell_type": "code",
      "metadata": {
        "id": "XN7dgcl0gAAT",
        "colab_type": "code",
        "colab": {}
      },
      "source": [
        "x_train['heading'] = x_train['heading'].str.replace('GUEST EDITORIAL:', '')\n",
        "x_train['heading'] = x_train['heading'].str.replace('EDITORIAL:', '')\n",
        "x_train['heading'] = x_train['heading'].str.replace('Op-Ed:', '')\n",
        "x_train['heading'] = x_train['heading'].str.replace('Editorial:', '')\n",
        "x_train['heading'] = x_train['heading'].str.replace('Opinion:', '')\n",
        "x_train['heading'] = x_train['heading'].str.replace('Opinion', '')\n",
        "x_train['heading'] = x_train['heading'].str.replace('Editorial', '')\n",
        "x_train['heading'] = x_train['heading'].str.replace('Opioid', '')\n",
        "x_train['heading'] = x_train['heading'].str.replace('LETTER', '')\n",
        "x_train['heading'] = x_train['heading'].str.replace('Letter to the Editor:', '')\n",
        "x_train['heading'] = x_train['heading'].str.replace('COLUMN:', '')\n",
        "\n",
        "x_val['heading'] = x_val['heading'].str.replace('GUEST EDITORIAL:', '')\n",
        "x_val['heading'] = x_val['heading'].str.replace('EDITORIAL:', '')\n",
        "x_val['heading'] = x_val['heading'].str.replace('Op-Ed:', '')\n",
        "x_val['heading'] = x_val['heading'].str.replace('Editorial:', '')\n",
        "x_val['heading'] = x_val['heading'].str.replace('Opinion:', '')\n",
        "x_val['heading'] = x_val['heading'].str.replace('Opinion', '')\n",
        "x_val['heading'] = x_val['heading'].str.replace('Editorial', '')\n",
        "x_val['heading'] = x_val['heading'].str.replace('Opioid', '')\n",
        "x_val['heading'] = x_val['heading'].str.replace('LETTER', '')\n",
        "x_val['heading'] = x_val['heading'].str.replace('Letter to the Editor:', '')\n",
        "x_val['heading'] = x_val['heading'].str.replace('COLUMN:', '')\n",
        "\n",
        "x_test['heading'] = x_test['heading'].str.replace('GUEST EDITORIAL:', '')\n",
        "x_test['heading'] = x_test['heading'].str.replace('EDITORIAL:', '')\n",
        "x_test['heading'] = x_test['heading'].str.replace('Op-Ed:', '')\n",
        "x_test['heading'] = x_test['heading'].str.replace('Editorial:', '')\n",
        "x_test['heading'] = x_test['heading'].str.replace('Opinion:', '')\n",
        "x_test['heading'] = x_test['heading'].str.replace('Opinion', '')\n",
        "x_test['heading'] = x_test['heading'].str.replace('Editorial', '')\n",
        "x_test['heading'] = x_test['heading'].str.replace('Opioid', '')\n",
        "x_test['heading'] = x_test['heading'].str.replace('LETTER', '')\n",
        "x_test['heading'] = x_test['heading'].str.replace('Letter to the Editor:', '')\n",
        "x_test['heading'] = x_test['heading'].str.replace('COLUMN:', '')\n"
      ],
      "execution_count": 0,
      "outputs": []
    },
    {
      "cell_type": "code",
      "metadata": {
        "id": "S616P0RIfwja",
        "colab_type": "code",
        "colab": {}
      },
      "source": [
        "texts_header = x_train['heading'].values\n",
        "texts_header_test = x_test['heading'].values\n",
        "texts_header_val = x_val['heading'].values"
      ],
      "execution_count": 0,
      "outputs": []
    },
    {
      "cell_type": "code",
      "metadata": {
        "id": "nu3Ffwxm37xJ",
        "colab_type": "code",
        "colab": {}
      },
      "source": [
        "texts_val = x_val['article_text'].values\n",
        "labels_val = y_val['label'].values"
      ],
      "execution_count": 0,
      "outputs": []
    },
    {
      "cell_type": "code",
      "metadata": {
        "id": "oxW-NQs87j_z",
        "colab_type": "code",
        "colab": {}
      },
      "source": [
        "labels_test = y_test['label'].values\n",
        "labels = y_train['label'].values"
      ],
      "execution_count": 0,
      "outputs": []
    },
    {
      "cell_type": "code",
      "metadata": {
        "id": "MRmzS-eY93rE",
        "colab_type": "code",
        "outputId": "913d4981-6be0-4a63-efbf-d6bb4c207c5e",
        "colab": {
          "base_uri": "https://localhost:8080/",
          "height": 34
        }
      },
      "source": [
        "print(labels.shape, labels_test.shape, labels_test.shape)"
      ],
      "execution_count": 0,
      "outputs": [
        {
          "output_type": "stream",
          "text": [
            "(5746,) (3429,) (3429,)\n"
          ],
          "name": "stdout"
        }
      ]
    },
    {
      "cell_type": "code",
      "metadata": {
        "id": "3mPm_rI-gNtB",
        "colab_type": "code",
        "outputId": "3c38f6ef-b508-498c-9f4f-767345ad0305",
        "colab": {
          "base_uri": "https://localhost:8080/",
          "height": 34
        }
      },
      "source": [
        "print(texts_header.shape, texts_header_val.shape, texts_header_test.shape)"
      ],
      "execution_count": 0,
      "outputs": [
        {
          "output_type": "stream",
          "text": [
            "(5746,) (639,) (3429,)\n"
          ],
          "name": "stdout"
        }
      ]
    },
    {
      "cell_type": "code",
      "metadata": {
        "id": "KoA8QpdF7j8a",
        "colab_type": "code",
        "outputId": "636bc64e-77bd-4bd3-e7b9-2b9edc346dd7",
        "colab": {
          "base_uri": "https://localhost:8080/",
          "height": 34
        }
      },
      "source": [
        "len(y_test.loc[y_test['label']==0])"
      ],
      "execution_count": 0,
      "outputs": [
        {
          "output_type": "execute_result",
          "data": {
            "text/plain": [
              "3076"
            ]
          },
          "metadata": {
            "tags": []
          },
          "execution_count": 10
        }
      ]
    },
    {
      "cell_type": "code",
      "metadata": {
        "id": "cDWY2Gns7rpm",
        "colab_type": "code",
        "outputId": "9cfa276a-aa06-4bf3-9826-2a7440a153b2",
        "colab": {
          "base_uri": "https://localhost:8080/",
          "height": 34
        }
      },
      "source": [
        "len(y_test.loc[y_test['label']==1])"
      ],
      "execution_count": 0,
      "outputs": [
        {
          "output_type": "execute_result",
          "data": {
            "text/plain": [
              "353"
            ]
          },
          "metadata": {
            "tags": []
          },
          "execution_count": 11
        }
      ]
    },
    {
      "cell_type": "code",
      "metadata": {
        "id": "5yf8klrD7uXO",
        "colab_type": "code",
        "colab": {}
      },
      "source": [
        "MAX_NUM_WORDS = 3000 # how many unique words to use (i.e num rows in embedding vector)\n",
        "MAX_SEQUENCE_LENGTH = 64 # max number of words in a review to use\n",
        "MAX_HEADER_LENGTH = 20 # max number of words in header to use"
      ],
      "execution_count": 0,
      "outputs": []
    },
    {
      "cell_type": "code",
      "metadata": {
        "id": "mypJfroL70Fj",
        "colab_type": "code",
        "outputId": "0562a4e5-ba3e-4621-afe6-f72872a13f05",
        "colab": {
          "base_uri": "https://localhost:8080/",
          "height": 34
        }
      },
      "source": [
        "from tensorflow.keras.preprocessing.text import Tokenizer\n",
        "\n",
        "tokenizer_train = Tokenizer(num_words=MAX_NUM_WORDS) #convert word(string to int)\n",
        "tokenizer_train.fit_on_texts(texts) \n",
        "sequences = tokenizer_train.texts_to_sequences(texts) \n",
        "\n",
        "word_index = tokenizer_train.word_index #convert this to dict\n",
        "print('Found %s unique tokens.' % len(word_index))\n"
      ],
      "execution_count": 0,
      "outputs": [
        {
          "output_type": "stream",
          "text": [
            "Found 85423 unique tokens.\n"
          ],
          "name": "stdout"
        }
      ]
    },
    {
      "cell_type": "code",
      "metadata": {
        "id": "b7AXCaBa77mO",
        "colab_type": "code",
        "colab": {}
      },
      "source": [
        "sequences3 = tokenizer_train.texts_to_sequences(texts_val) \n",
        "sequences_test = tokenizer_train.texts_to_sequences(texts_test)"
      ],
      "execution_count": 0,
      "outputs": []
    },
    {
      "cell_type": "code",
      "metadata": {
        "id": "s5eNML5bmxzU",
        "colab_type": "code",
        "outputId": "86d3948b-b812-45bf-aaac-f0734076d876",
        "colab": {
          "base_uri": "https://localhost:8080/",
          "height": 54
        }
      },
      "source": [
        "'''\n",
        "tokenizer_header_train = Tokenizer(num_words=MAX_HEADER_LENGTH) #convert word(string to int)\n",
        "tokenizer_header_train.fit_on_texts(texts_header) \n",
        "sequences_header_train = tokenizer_header_train.texts_to_sequences(texts_header) \n",
        "\n",
        "word_index2 = tokenizer_header_train.word_index #convert this to dict\n",
        "word_index.update(word_index2)\n",
        "print('Found %s unique tokens.' % len(word_index2))\n",
        "'''"
      ],
      "execution_count": 0,
      "outputs": [
        {
          "output_type": "execute_result",
          "data": {
            "text/plain": [
              "\"\\ntokenizer_header_train = Tokenizer(num_words=MAX_HEADER_LENGTH) #convert word(string to int)\\ntokenizer_header_train.fit_on_texts(texts_header) \\nsequences_header_train = tokenizer_header_train.texts_to_sequences(texts_header) \\n\\nword_index2 = tokenizer_header_train.word_index #convert this to dict\\nword_index.update(word_index2)\\nprint('Found %s unique tokens.' % len(word_index2))\\n\""
            ]
          },
          "metadata": {
            "tags": []
          },
          "execution_count": 15
        }
      ]
    },
    {
      "cell_type": "code",
      "metadata": {
        "id": "WM_bFIOvorz1",
        "colab_type": "code",
        "colab": {}
      },
      "source": [
        "sequences_header_train = tokenizer_train.texts_to_sequences(texts_header) \n",
        "sequences_header_test = tokenizer_train.texts_to_sequences(texts_header_test) \n",
        "sequences_header_val = tokenizer_train.texts_to_sequences(texts_header_val) "
      ],
      "execution_count": 0,
      "outputs": []
    },
    {
      "cell_type": "code",
      "metadata": {
        "id": "YJw3dLXv8GFf",
        "colab_type": "code",
        "outputId": "20ede05a-2d05-4839-944b-066bfd1efa51",
        "colab": {
          "base_uri": "https://localhost:8080/",
          "height": 68
        }
      },
      "source": [
        "from tensorflow.keras.preprocessing.sequence import pad_sequences\n",
        "from tensorflow.keras.utils import to_categorical\n",
        "\n",
        "data = pad_sequences(sequences, maxlen=MAX_SEQUENCE_LENGTH, padding='pre')\n",
        "data_header = pad_sequences(sequences_header_train, maxlen = MAX_SEQUENCE_LENGTH, padding='pre')\n",
        "labels = to_categorical(np.asarray(labels))\n",
        "print('Shape of data tensor:', data.shape)\n",
        "print('Shape of header tensor:', data_header.shape)\n",
        "print('Shape of label tensor:', labels.shape)"
      ],
      "execution_count": 0,
      "outputs": [
        {
          "output_type": "stream",
          "text": [
            "Shape of data tensor: (5746, 64)\n",
            "Shape of header tensor: (5746, 64)\n",
            "Shape of label tensor: (5746, 2)\n"
          ],
          "name": "stdout"
        }
      ]
    },
    {
      "cell_type": "code",
      "metadata": {
        "id": "qayTi_pg8dpd",
        "colab_type": "code",
        "outputId": "d8bb0a23-b722-42fb-db7e-7c59f464d523",
        "colab": {
          "base_uri": "https://localhost:8080/",
          "height": 119
        }
      },
      "source": [
        "data2 = pad_sequences(sequences_test, maxlen=MAX_SEQUENCE_LENGTH, padding='pre')\n",
        "data2_header = pad_sequences(sequences_header_test, maxlen=MAX_SEQUENCE_LENGTH, padding='pre')\n",
        "labels2 = to_categorical(np.asarray(labels_test))\n",
        "print('Shape of data tensor:', data2.shape)\n",
        "print('Shape of header tensor:', data2_header.shape)\n",
        "print('Shape of label tensor:', labels2.shape)\n",
        "\n",
        "data3 = pad_sequences(sequences3, maxlen=MAX_SEQUENCE_LENGTH, padding='pre')\n",
        "data3_header = pad_sequences(sequences_header_val, maxlen=MAX_SEQUENCE_LENGTH, padding='pre')\n",
        "labels3 = to_categorical(np.asarray(labels_val))\n",
        "print('Shape of data tensor:', data3.shape)\n",
        "print('Shape of header tensor:', data3_header.shape)\n",
        "print('Shape of label tensor:', labels3.shape)\n"
      ],
      "execution_count": 0,
      "outputs": [
        {
          "output_type": "stream",
          "text": [
            "Shape of data tensor: (3429, 64)\n",
            "Shape of header tensor: (3429, 64)\n",
            "Shape of label tensor: (3429, 2)\n",
            "Shape of data tensor: (639, 64)\n",
            "Shape of header tensor: (639, 64)\n",
            "Shape of label tensor: (639, 2)\n"
          ],
          "name": "stdout"
        }
      ]
    },
    {
      "cell_type": "code",
      "metadata": {
        "id": "lYxt4ph48joU",
        "colab_type": "code",
        "colab": {}
      },
      "source": [
        "x_train_article = data\n",
        "x_train_header = data_header\n",
        "y_train = labels\n",
        "\n",
        "x_val_article = data3\n",
        "x_val_header = data3_header\n",
        "y_val = labels3\n",
        "\n",
        "x_test_article = data2\n",
        "x_test_header = data2_header\n",
        "y_test = labels2"
      ],
      "execution_count": 0,
      "outputs": []
    },
    {
      "cell_type": "code",
      "metadata": {
        "id": "-NlMg25i-XM3",
        "colab_type": "code",
        "outputId": "0c0be7d4-d59a-4813-ed2e-f89eadc7c3d5",
        "colab": {
          "base_uri": "https://localhost:8080/",
          "height": 34
        }
      },
      "source": [
        "print(y_train.shape, y_val.shape, y_test.shape)"
      ],
      "execution_count": 0,
      "outputs": [
        {
          "output_type": "stream",
          "text": [
            "(5746, 2) (639, 2) (3429, 2)\n"
          ],
          "name": "stdout"
        }
      ]
    },
    {
      "cell_type": "code",
      "metadata": {
        "id": "MCj9Orni8GIm",
        "colab_type": "code",
        "outputId": "b67cc75b-2a5c-434d-b8e1-07c6f4628fe3",
        "colab": {
          "base_uri": "https://localhost:8080/",
          "height": 34
        }
      },
      "source": [
        "GLOVE_DIR='drive/My Drive/yelp_review_polarity_csv/'\n",
        "\n",
        "import os\n",
        "embeddings_index = {}\n",
        "f = open(os.path.join(GLOVE_DIR, 'glove.42B.300d.txt'))\n",
        "for line in f:\n",
        "    values = line.split()\n",
        "    word = values[0]\n",
        "    coefs = np.asarray(values[1:], dtype='float32')\n",
        "    embeddings_index[word] = coefs\n",
        "f.close()\n",
        "\n",
        "print('Found %s word vectors.' % len(embeddings_index))\n"
      ],
      "execution_count": 0,
      "outputs": [
        {
          "output_type": "stream",
          "text": [
            "Found 1917494 word vectors.\n"
          ],
          "name": "stdout"
        }
      ]
    },
    {
      "cell_type": "code",
      "metadata": {
        "id": "I3BgH8Lq8u3b",
        "colab_type": "code",
        "colab": {}
      },
      "source": [
        "EMBEDDING_DIM = 300 # how big is each word vector\n",
        "\n",
        "embedding_matrix = np.zeros((len(word_index) + 1, EMBEDDING_DIM))\n",
        "for word, i in word_index.items():\n",
        "    embedding_vector = embeddings_index.get(word)\n",
        "    if embedding_vector is not None:\n",
        "        # words not found in embedding index will be all-zeros.\n",
        "        embedding_matrix[i] = embedding_vector"
      ],
      "execution_count": 0,
      "outputs": []
    },
    {
      "cell_type": "code",
      "metadata": {
        "id": "QK-to-cx84gn",
        "colab_type": "code",
        "colab": {}
      },
      "source": [
        "from tensorflow.keras.layers import Embedding\n",
        "\n",
        "embedding_layer = Embedding(len(word_index) + 1,\n",
        "                            EMBEDDING_DIM,\n",
        "                            weights=[embedding_matrix],\n",
        "                            input_length=MAX_SEQUENCE_LENGTH,\n",
        "                            trainable=False)"
      ],
      "execution_count": 0,
      "outputs": []
    },
    {
      "cell_type": "code",
      "metadata": {
        "id": "LgLfbTHY86Ds",
        "colab_type": "code",
        "outputId": "53a10ff4-f93a-458e-f03d-85167c708ad1",
        "colab": {
          "base_uri": "https://localhost:8080/",
          "height": 629
        }
      },
      "source": [
        "from tensorflow.keras.layers import Bidirectional, GlobalMaxPool1D, Conv1D\n",
        "from tensorflow.keras.layers import Dense, Input, LSTM, Embedding, Dropout, Activation, concatenate\n",
        "from tensorflow.keras.models import Model, Sequential\n",
        "from tensorflow.keras.callbacks import EarlyStopping, ModelCheckpoint\n",
        "from tensorflow.keras.backend import sum\n",
        "\n",
        "es = EarlyStopping(monitor='val_loss', mode='min', verbose=1, patience=6)\n",
        "mc = ModelCheckpoint('Siamese_with_64.h5', monitor='val_accuracy', mode='max', verbose=1, save_best_only=True)\n",
        "\n",
        "inp1 = Input(shape=(MAX_SEQUENCE_LENGTH,))\n",
        "x = embedded_sequences = embedding_layer(inp1)\n",
        "\n",
        "x = Bidirectional(LSTM(64, return_sequences=True, dropout=0.3, recurrent_dropout=0.2))(x)\n",
        "x = GlobalMaxPool1D()(x)\n",
        "x = Dense(64, activation=\"relu\")(x)\n",
        "x = Dropout(0.5)(x)\n",
        "\n",
        "\n",
        "inp2 = Input(shape=(MAX_SEQUENCE_LENGTH,))\n",
        "y = embedded_sequences = embedding_layer(inp2)\n",
        "\n",
        "y = Bidirectional(LSTM(64, return_sequences=True, dropout=0.3, recurrent_dropout=0.2))(y)\n",
        "y = GlobalMaxPool1D()(y)\n",
        "y = Dense(64, activation=\"relu\")(y)\n",
        "y = Dropout(0.5)(y)\n",
        "\n",
        "res = concatenate([x, y])\n",
        "res = Dense(2, activation=\"softmax\")(res)\n",
        "model = Model(inputs=[inp1, inp2], outputs=res)\n",
        "model.compile(loss='categorical_crossentropy', optimizer='adam', metrics=['accuracy'])\n",
        "model.summary()\n"
      ],
      "execution_count": 0,
      "outputs": [
        {
          "output_type": "stream",
          "text": [
            "Model: \"model\"\n",
            "__________________________________________________________________________________________________\n",
            "Layer (type)                    Output Shape         Param #     Connected to                     \n",
            "==================================================================================================\n",
            "input_1 (InputLayer)            [(None, 64)]         0                                            \n",
            "__________________________________________________________________________________________________\n",
            "input_2 (InputLayer)            [(None, 64)]         0                                            \n",
            "__________________________________________________________________________________________________\n",
            "embedding (Embedding)           (None, 64, 300)      25627200    input_1[0][0]                    \n",
            "                                                                 input_2[0][0]                    \n",
            "__________________________________________________________________________________________________\n",
            "bidirectional (Bidirectional)   (None, 64, 128)      186880      embedding[0][0]                  \n",
            "__________________________________________________________________________________________________\n",
            "bidirectional_1 (Bidirectional) (None, 64, 128)      186880      embedding[1][0]                  \n",
            "__________________________________________________________________________________________________\n",
            "global_max_pooling1d (GlobalMax (None, 128)          0           bidirectional[0][0]              \n",
            "__________________________________________________________________________________________________\n",
            "global_max_pooling1d_1 (GlobalM (None, 128)          0           bidirectional_1[0][0]            \n",
            "__________________________________________________________________________________________________\n",
            "dense (Dense)                   (None, 64)           8256        global_max_pooling1d[0][0]       \n",
            "__________________________________________________________________________________________________\n",
            "dense_1 (Dense)                 (None, 64)           8256        global_max_pooling1d_1[0][0]     \n",
            "__________________________________________________________________________________________________\n",
            "dropout (Dropout)               (None, 64)           0           dense[0][0]                      \n",
            "__________________________________________________________________________________________________\n",
            "dropout_1 (Dropout)             (None, 64)           0           dense_1[0][0]                    \n",
            "__________________________________________________________________________________________________\n",
            "concatenate (Concatenate)       (None, 128)          0           dropout[0][0]                    \n",
            "                                                                 dropout_1[0][0]                  \n",
            "__________________________________________________________________________________________________\n",
            "dense_2 (Dense)                 (None, 2)            258         concatenate[0][0]                \n",
            "==================================================================================================\n",
            "Total params: 26,017,730\n",
            "Trainable params: 390,530\n",
            "Non-trainable params: 25,627,200\n",
            "__________________________________________________________________________________________________\n"
          ],
          "name": "stdout"
        }
      ]
    },
    {
      "cell_type": "code",
      "metadata": {
        "colab_type": "code",
        "outputId": "e784b0cf-3bec-4b8b-947f-8bb75830d80a",
        "id": "ZQOaBISriice",
        "colab": {
          "base_uri": "https://localhost:8080/",
          "height": 734
        }
      },
      "source": [
        "history = model.fit([x_train_article, x_train_header], y_train, validation_data=[[x_val_article, x_val_header], y_val], epochs=10, callbacks=[es, mc], batch_size=64)"
      ],
      "execution_count": 0,
      "outputs": [
        {
          "output_type": "stream",
          "text": [
            "Train on 5746 samples, validate on 639 samples\n",
            "Epoch 1/10\n",
            "5696/5746 [============================>.] - ETA: 0s - loss: 0.5022 - accuracy: 0.7486\n",
            "Epoch 00001: val_accuracy improved from -inf to 0.85446, saving model to Siamese_with_64.h5\n",
            "5746/5746 [==============================] - 34s 6ms/sample - loss: 0.5007 - accuracy: 0.7497 - val_loss: 0.3451 - val_accuracy: 0.8545\n",
            "Epoch 2/10\n",
            "5696/5746 [============================>.] - ETA: 0s - loss: 0.3256 - accuracy: 0.8696\n",
            "Epoch 00002: val_accuracy improved from 0.85446 to 0.86072, saving model to Siamese_with_64.h5\n",
            "5746/5746 [==============================] - 27s 5ms/sample - loss: 0.3266 - accuracy: 0.8693 - val_loss: 0.3397 - val_accuracy: 0.8607\n",
            "Epoch 3/10\n",
            "5696/5746 [============================>.] - ETA: 0s - loss: 0.2955 - accuracy: 0.8799\n",
            "Epoch 00003: val_accuracy improved from 0.86072 to 0.87167, saving model to Siamese_with_64.h5\n",
            "5746/5746 [==============================] - 27s 5ms/sample - loss: 0.2949 - accuracy: 0.8803 - val_loss: 0.2918 - val_accuracy: 0.8717\n",
            "Epoch 4/10\n",
            "5696/5746 [============================>.] - ETA: 0s - loss: 0.2462 - accuracy: 0.9010\n",
            "Epoch 00004: val_accuracy improved from 0.87167 to 0.88732, saving model to Siamese_with_64.h5\n",
            "5746/5746 [==============================] - 27s 5ms/sample - loss: 0.2453 - accuracy: 0.9017 - val_loss: 0.2828 - val_accuracy: 0.8873\n",
            "Epoch 5/10\n",
            "5696/5746 [============================>.] - ETA: 0s - loss: 0.2273 - accuracy: 0.9091\n",
            "Epoch 00005: val_accuracy improved from 0.88732 to 0.88889, saving model to Siamese_with_64.h5\n",
            "5746/5746 [==============================] - 27s 5ms/sample - loss: 0.2269 - accuracy: 0.9097 - val_loss: 0.2627 - val_accuracy: 0.8889\n",
            "Epoch 6/10\n",
            "5696/5746 [============================>.] - ETA: 0s - loss: 0.1879 - accuracy: 0.9242\n",
            "Epoch 00006: val_accuracy did not improve from 0.88889\n",
            "5746/5746 [==============================] - 27s 5ms/sample - loss: 0.1881 - accuracy: 0.9241 - val_loss: 0.2714 - val_accuracy: 0.8889\n",
            "Epoch 7/10\n",
            "5696/5746 [============================>.] - ETA: 0s - loss: 0.1823 - accuracy: 0.9273\n",
            "Epoch 00007: val_accuracy improved from 0.88889 to 0.89515, saving model to Siamese_with_64.h5\n",
            "5746/5746 [==============================] - 27s 5ms/sample - loss: 0.1836 - accuracy: 0.9267 - val_loss: 0.2639 - val_accuracy: 0.8951\n",
            "Epoch 8/10\n",
            "5696/5746 [============================>.] - ETA: 0s - loss: 0.1531 - accuracy: 0.9417\n",
            "Epoch 00008: val_accuracy improved from 0.89515 to 0.89984, saving model to Siamese_with_64.h5\n",
            "5746/5746 [==============================] - 27s 5ms/sample - loss: 0.1533 - accuracy: 0.9414 - val_loss: 0.2643 - val_accuracy: 0.8998\n",
            "Epoch 9/10\n",
            "5696/5746 [============================>.] - ETA: 0s - loss: 0.1392 - accuracy: 0.9433\n",
            "Epoch 00009: val_accuracy did not improve from 0.89984\n",
            "5746/5746 [==============================] - 27s 5ms/sample - loss: 0.1389 - accuracy: 0.9433 - val_loss: 0.2673 - val_accuracy: 0.8951\n",
            "Epoch 10/10\n",
            "5696/5746 [============================>.] - ETA: 0s - loss: 0.1176 - accuracy: 0.9570\n",
            "Epoch 00010: val_accuracy did not improve from 0.89984\n",
            "5746/5746 [==============================] - 27s 5ms/sample - loss: 0.1180 - accuracy: 0.9567 - val_loss: 0.2682 - val_accuracy: 0.8983\n"
          ],
          "name": "stdout"
        }
      ]
    },
    {
      "cell_type": "code",
      "metadata": {
        "id": "0j_NdJc0-VTb",
        "colab_type": "code",
        "outputId": "25f43007-376c-4d86-f601-c20536457f4f",
        "colab": {
          "base_uri": "https://localhost:8080/",
          "height": 34
        }
      },
      "source": [
        "print(x_train_article.shape, x_train_header.shape, x_val_article.shape, x_val_header.shape)"
      ],
      "execution_count": 0,
      "outputs": [
        {
          "output_type": "stream",
          "text": [
            "(5746, 64) (5746, 64) (639, 64) (639, 64)\n"
          ],
          "name": "stdout"
        }
      ]
    },
    {
      "cell_type": "code",
      "metadata": {
        "id": "lml5wMcL9aTW",
        "colab_type": "code",
        "outputId": "7ae8e5e8-8f4d-4369-f8fc-57d8330993e4",
        "colab": {
          "base_uri": "https://localhost:8080/",
          "height": 573
        }
      },
      "source": [
        "import matplotlib.pyplot as plt\n",
        "\n",
        "def plot(history):\n",
        "  \n",
        "  acc = history.history['accuracy']\n",
        "  val_acc = history.history['val_accuracy']\n",
        "  loss = history.history['loss']\n",
        "  val_loss = history.history['val_loss']\n",
        "\n",
        "  epochs = range(len(acc))\n",
        "\n",
        "  plt.title('Training and validation accuracy')\n",
        "  plt.plot(epochs, acc, color='blue', label='Train')\n",
        "  plt.plot(epochs, val_acc, color='orange', label='Val')\n",
        "  plt.xlabel('Epoch')\n",
        "  plt.ylabel('Accuracy')\n",
        "  plt.legend()\n",
        "\n",
        "  _ = plt.figure()\n",
        "  plt.title('Training and validation loss')\n",
        "  plt.plot(epochs, loss, color='blue', label='Train')\n",
        "  plt.plot(epochs, val_loss, color='orange', label='Val')\n",
        "  plt.xlabel('Epoch')\n",
        "  plt.ylabel('Loss')\n",
        "  plt.legend()\n",
        "  \n",
        "plot(history)"
      ],
      "execution_count": 0,
      "outputs": [
        {
          "output_type": "display_data",
          "data": {
            "image/png": "[encoded data removed]",
            "text/plain": [
              "<Figure size 432x288 with 1 Axes>"
            ]
          },
          "metadata": {
            "tags": []
          }
        },
        {
          "output_type": "display_data",
          "data": {
            "image/png": "[encoded data removed]",
            "text/plain": [
              "<Figure size 432x288 with 1 Axes>"
            ]
          },
          "metadata": {
            "tags": []
          }
        }
      ]
    },
    {
      "cell_type": "code",
      "metadata": {
        "id": "zo9nkee6CID9",
        "colab_type": "code",
        "colab": {}
      },
      "source": [
        "from tensorflow.keras.models import load_model\n",
        "saved_model = load_model('/content/Siamese_with_64.h5')"
      ],
      "execution_count": 0,
      "outputs": []
    },
    {
      "cell_type": "code",
      "metadata": {
        "id": "bKnzZ3Eo-87Z",
        "colab_type": "code",
        "outputId": "3e754f8b-efef-4e60-8507-95d85e400e89",
        "colab": {
          "base_uri": "https://localhost:8080/",
          "height": 102
        }
      },
      "source": [
        "y_test_new = np.argmax(y_test, axis=1)\n",
        "y_test[0:5]"
      ],
      "execution_count": 0,
      "outputs": [
        {
          "output_type": "execute_result",
          "data": {
            "text/plain": [
              "array([[1., 0.],\n",
              "       [1., 0.],\n",
              "       [1., 0.],\n",
              "       [0., 1.],\n",
              "       [1., 0.]], dtype=float32)"
            ]
          },
          "metadata": {
            "tags": []
          },
          "execution_count": 29
        }
      ]
    },
    {
      "cell_type": "code",
      "metadata": {
        "id": "SBzHHT7N_FhV",
        "colab_type": "code",
        "outputId": "a21930a0-1e07-492a-867a-4ce77e0797af",
        "colab": {
          "base_uri": "https://localhost:8080/",
          "height": 34
        }
      },
      "source": [
        "y_test_new[0:5]"
      ],
      "execution_count": 0,
      "outputs": [
        {
          "output_type": "execute_result",
          "data": {
            "text/plain": [
              "array([0, 0, 0, 1, 0])"
            ]
          },
          "metadata": {
            "tags": []
          },
          "execution_count": 30
        }
      ]
    },
    {
      "cell_type": "code",
      "metadata": {
        "id": "cHVIpKZp_I-F",
        "colab_type": "code",
        "outputId": "c6a7e948-6c26-48f0-d0cd-c4ab4343f514",
        "colab": {
          "base_uri": "https://localhost:8080/",
          "height": 102
        }
      },
      "source": [
        "prediction = saved_model.predict([x_test_article, x_test_header])\n",
        "prediction[0:5]"
      ],
      "execution_count": 0,
      "outputs": [
        {
          "output_type": "execute_result",
          "data": {
            "text/plain": [
              "array([[9.4174844e-01, 5.8251627e-02],\n",
              "       [9.9221605e-01, 7.7839387e-03],\n",
              "       [9.9909818e-01, 9.0188149e-04],\n",
              "       [7.0888003e-05, 9.9992907e-01],\n",
              "       [8.6475420e-01, 1.3524576e-01]], dtype=float32)"
            ]
          },
          "metadata": {
            "tags": []
          },
          "execution_count": 31
        }
      ]
    },
    {
      "cell_type": "code",
      "metadata": {
        "id": "fMV56lno_M8n",
        "colab_type": "code",
        "colab": {}
      },
      "source": [
        "y_pred=np.argmax(prediction, axis=1)"
      ],
      "execution_count": 0,
      "outputs": []
    },
    {
      "cell_type": "code",
      "metadata": {
        "id": "aV7UTiWV_UVQ",
        "colab_type": "code",
        "outputId": "43ef9561-17c9-48f1-d4d8-22560d48dbba",
        "colab": {
          "base_uri": "https://localhost:8080/",
          "height": 34
        }
      },
      "source": [
        "np.sum(y_pred)"
      ],
      "execution_count": 0,
      "outputs": [
        {
          "output_type": "execute_result",
          "data": {
            "text/plain": [
              "700"
            ]
          },
          "metadata": {
            "tags": []
          },
          "execution_count": 33
        }
      ]
    },
    {
      "cell_type": "code",
      "metadata": {
        "id": "iLW-BOXe_VRO",
        "colab_type": "code",
        "outputId": "9b3f39e3-1e2e-45a7-82fe-6df93f89bd4a",
        "colab": {
          "base_uri": "https://localhost:8080/",
          "height": 34
        }
      },
      "source": [
        "np.sum(y_test_new)"
      ],
      "execution_count": 0,
      "outputs": [
        {
          "output_type": "execute_result",
          "data": {
            "text/plain": [
              "353"
            ]
          },
          "metadata": {
            "tags": []
          },
          "execution_count": 34
        }
      ]
    },
    {
      "cell_type": "code",
      "metadata": {
        "id": "-PTadiGk_VOO",
        "colab_type": "code",
        "outputId": "5334a21a-3458-4396-e910-21b12cc5ecf0",
        "colab": {
          "base_uri": "https://localhost:8080/",
          "height": 68
        }
      },
      "source": [
        "from sklearn.metrics import confusion_matrix\n",
        "cm1 = confusion_matrix(y_test_new,y_pred)\n",
        "print('Confusion Matrix : \\n', cm1)"
      ],
      "execution_count": 0,
      "outputs": [
        {
          "output_type": "stream",
          "text": [
            "Confusion Matrix : \n",
            " [[2703  373]\n",
            " [  26  327]]\n"
          ],
          "name": "stdout"
        }
      ]
    },
    {
      "cell_type": "code",
      "metadata": {
        "id": "5yddwwcW_e5N",
        "colab_type": "code",
        "outputId": "818d5a40-fd1f-45de-eeb7-471b29e662ba",
        "colab": {
          "base_uri": "https://localhost:8080/",
          "height": 51
        }
      },
      "source": [
        "from sklearn.metrics import precision_recall_fscore_support\n",
        "print(precision_recall_fscore_support(y_test_new, y_pred, average='macro'))\n",
        "print(precision_recall_fscore_support(y_test_new, y_pred, average='weighted'))"
      ],
      "execution_count": 0,
      "outputs": [
        {
          "output_type": "stream",
          "text": [
            "(0.7288077788828979, 0.902542115325816, 0.7761743854767111, None)\n",
            "(0.9365982664589059, 0.8836395450568679, 0.8993341622177747, None)\n"
          ],
          "name": "stdout"
        }
      ]
    },
    {
      "cell_type": "code",
      "metadata": {
        "id": "DProZgQg_qC-",
        "colab_type": "code",
        "outputId": "8b8771bf-3351-4ce3-8dea-3953d9f92176",
        "colab": {
          "base_uri": "https://localhost:8080/",
          "height": 34
        }
      },
      "source": [
        "from sklearn.metrics import confusion_matrix\n",
        "tn, fp, fn, tp = confusion_matrix(y_test_new, y_pred).ravel()\n",
        "pre = tp / (tp + fp)\n",
        "rec = tp / (tp + fn)\n",
        "tnr = tn / (tn + fp)\n",
        "acc = (tp + tn)/ (tp + tn + fp + fn)\n",
        "balanced_acc = (rec + tnr) / 2\n",
        "f1 = 2 * (pre * rec)/(pre+rec)\n",
        "\n",
        "print(pre, rec, tnr, acc, balanced_acc, f1)"
      ],
      "execution_count": 0,
      "outputs": [
        {
          "output_type": "stream",
          "text": [
            "0.46714285714285714 0.9263456090651558 0.878738621586476 0.8836395450568679 0.902542115325816 0.6210826210826211\n"
          ],
          "name": "stdout"
        }
      ]
    },
    {
      "cell_type": "code",
      "metadata": {
        "id": "ypFj_Xg8FRWR",
        "colab_type": "code",
        "outputId": "d6122651-8554-421b-c2e8-bf3c176deecc",
        "colab": {
          "base_uri": "https://localhost:8080/",
          "height": 34
        }
      },
      "source": [
        "print(tp, tn, fp, fn)"
      ],
      "execution_count": 0,
      "outputs": [
        {
          "output_type": "stream",
          "text": [
            "327 2703 373 26\n"
          ],
          "name": "stdout"
        }
      ]
    },
    {
      "cell_type": "code",
      "metadata": {
        "id": "DG8niQJAF8iZ",
        "colab_type": "code",
        "outputId": "6a6fa3ab-08aa-482a-b8e1-b43fa1045ae1",
        "colab": {
          "base_uri": "https://localhost:8080/",
          "height": 51
        }
      },
      "source": [
        "import math\n",
        "num = (tp*tn - fp*fn)\n",
        "den = math.sqrt((tp+fp)*(tp+fn)*(tn+fp)*(tn+fn))\n",
        "print(num, den)\n",
        "mcc = num/den\n",
        "print(mcc)"
      ],
      "execution_count": 0,
      "outputs": [
        {
          "output_type": "stream",
          "text": [
            "874183 1440228.1862260578\n",
            "0.6069753448519084\n"
          ],
          "name": "stdout"
        }
      ]
    }
  ]
}