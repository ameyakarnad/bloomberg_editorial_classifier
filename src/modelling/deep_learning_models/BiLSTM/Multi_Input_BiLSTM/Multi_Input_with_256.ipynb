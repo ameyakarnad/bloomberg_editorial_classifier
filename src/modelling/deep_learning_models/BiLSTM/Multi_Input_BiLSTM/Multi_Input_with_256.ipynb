{
  "nbformat": 4,
  "nbformat_minor": 0,
  "metadata": {
    "colab": {
      "name": "Siamese_with_256.ipynb",
      "provenance": [],
      "collapsed_sections": []
    },
    "kernelspec": {
      "name": "python3",
      "display_name": "Python 3"
    },
    "accelerator": "GPU"
  },
  "cells": [
    {
      "cell_type": "code",
      "metadata": {
        "id": "NP3kwQq8zkIa",
        "colab_type": "code",
        "outputId": "81812d3f-d260-41aa-a3c9-fd56f8f9702e",
        "colab": {
          "base_uri": "https://localhost:8080/",
          "height": 139
        }
      },
      "source": [
        "import pandas as pd\n",
        "import numpy as np\n",
        "import csv\n",
        "\n",
        "%tensorflow_version 2.x\n",
        "import tensorflow as tf\n",
        "tf.__version__\n",
        "assert tf.__version__ >= \"2.0\"\n",
        "\n",
        "from google.colab import drive\n",
        "drive.mount('/content/drive')"
      ],
      "execution_count": 0,
      "outputs": [
        {
          "output_type": "stream",
          "text": [
            "TensorFlow 2.x selected.\n",
            "Go to this URL in a browser: https://accounts.google.com/o/oauth2/auth?client_id=947318989803-6bn6qk8qdgf4n4g3pfee6491hc0brc4i.apps.googleusercontent.com&redirect_uri=urn%3aietf%3awg%3aoauth%3a2.0%3aoob&response_type=code&scope=email%20https%3a%2f%2fwww.googleapis.com%2fauth%2fdocs.test%20https%3a%2f%2fwww.googleapis.com%2fauth%2fdrive%20https%3a%2f%2fwww.googleapis.com%2fauth%2fdrive.photos.readonly%20https%3a%2f%2fwww.googleapis.com%2fauth%2fpeopleapi.readonly\n",
            "\n",
            "Enter your authorization code:\n",
            "··········\n",
            "Mounted at /content/drive\n"
          ],
          "name": "stdout"
        }
      ]
    },
    {
      "cell_type": "code",
      "metadata": {
        "id": "VTJva58j2IuX",
        "colab_type": "code",
        "colab": {}
      },
      "source": [
        "x_train = pd.read_csv('/content/drive/My Drive/bilstm_data/x_train.csv')\n",
        "x_test = pd.read_csv('/content/drive/My Drive/bilstm_data/x_test.csv')\n",
        "x_val = pd.read_csv('/content/drive/My Drive/bilstm_data/x_val.csv')\n",
        "\n",
        "\n",
        "y_train = pd.read_csv('/content/drive/My Drive/bilstm_data/y_train.csv')\n",
        "y_test = pd.read_csv('/content/drive/My Drive/bilstm_data/y_test.csv')\n",
        "y_val = pd.read_csv('/content/drive/My Drive/bilstm_data/y_val.csv')\n"
      ],
      "execution_count": 0,
      "outputs": []
    },
    {
      "cell_type": "code",
      "metadata": {
        "id": "WHI6wapl3MZt",
        "colab_type": "code",
        "colab": {}
      },
      "source": [
        "texts = x_train['article_text'].values\n",
        "texts_test = x_test['article_text'].values"
      ],
      "execution_count": 0,
      "outputs": []
    },
    {
      "cell_type": "code",
      "metadata": {
        "id": "JQZT1ypJe5Cq",
        "colab_type": "code",
        "colab": {}
      },
      "source": [
        "x_train['heading'] = x_train['heading'].str.replace('GUEST EDITORIAL:', '')\n",
        "x_train['heading'] = x_train['heading'].str.replace('EDITORIAL:', '')\n",
        "x_train['heading'] = x_train['heading'].str.replace('Op-Ed:', '')\n",
        "x_train['heading'] = x_train['heading'].str.replace('Editorial:', '')\n",
        "x_train['heading'] = x_train['heading'].str.replace('Opinion:', '')\n",
        "x_train['heading'] = x_train['heading'].str.replace('Opinion', '')\n",
        "x_train['heading'] = x_train['heading'].str.replace('Editorial', '')\n",
        "x_train['heading'] = x_train['heading'].str.replace('Opioid', '')\n",
        "x_train['heading'] = x_train['heading'].str.replace('LETTER', '')\n",
        "x_train['heading'] = x_train['heading'].str.replace('Letter to the Editor:', '')\n",
        "x_train['heading'] = x_train['heading'].str.replace('COLUMN:', '')\n"
      ],
      "execution_count": 0,
      "outputs": []
    },
    {
      "cell_type": "code",
      "metadata": {
        "id": "e1iGjwzDnF0-",
        "colab_type": "code",
        "colab": {}
      },
      "source": [
        "x_val['heading'] = x_val['heading'].str.replace('GUEST EDITORIAL:', '')\n",
        "x_val['heading'] = x_val['heading'].str.replace('EDITORIAL:', '')\n",
        "x_val['heading'] = x_val['heading'].str.replace('Op-Ed:', '')\n",
        "x_val['heading'] = x_val['heading'].str.replace('Editorial:', '')\n",
        "x_val['heading'] = x_val['heading'].str.replace('Opinion:', '')\n",
        "x_val['heading'] = x_val['heading'].str.replace('Opinion', '')\n",
        "x_val['heading'] = x_val['heading'].str.replace('Editorial', '')\n",
        "x_val['heading'] = x_val['heading'].str.replace('Opioid', '')\n",
        "x_val['heading'] = x_val['heading'].str.replace('LETTER', '')\n",
        "x_val['heading'] = x_val['heading'].str.replace('Letter to the Editor:', '')\n",
        "x_val['heading'] = x_val['heading'].str.replace('COLUMN:', '')\n"
      ],
      "execution_count": 0,
      "outputs": []
    },
    {
      "cell_type": "code",
      "metadata": {
        "id": "KuceCexm6NSU",
        "colab_type": "code",
        "colab": {}
      },
      "source": [
        "x_test['heading'] = x_test['heading'].str.replace('GUEST EDITORIAL:', '')\n",
        "x_test['heading'] = x_test['heading'].str.replace('EDITORIAL:', '')\n",
        "x_test['heading'] = x_test['heading'].str.replace('Op-Ed:', '')\n",
        "x_test['heading'] = x_test['heading'].str.replace('Editorial:', '')\n",
        "x_test['heading'] = x_test['heading'].str.replace('Opinion:', '')\n",
        "x_test['heading'] = x_test['heading'].str.replace('Opinion', '')\n",
        "x_test['heading'] = x_test['heading'].str.replace('Editorial', '')\n",
        "x_test['heading'] = x_test['heading'].str.replace('Opioid', '')\n",
        "x_test['heading'] = x_test['heading'].str.replace('LETTER', '')\n",
        "x_test['heading'] = x_test['heading'].str.replace('Letter to the Editor:', '')\n",
        "x_test['heading'] = x_test['heading'].str.replace('COLUMN:', '')\n"
      ],
      "execution_count": 0,
      "outputs": []
    },
    {
      "cell_type": "code",
      "metadata": {
        "id": "S616P0RIfwja",
        "colab_type": "code",
        "colab": {}
      },
      "source": [
        "texts_header = x_train['heading'].values\n",
        "texts_header_test = x_test['heading'].values\n",
        "texts_header_val = x_val['heading'].values"
      ],
      "execution_count": 0,
      "outputs": []
    },
    {
      "cell_type": "code",
      "metadata": {
        "id": "nu3Ffwxm37xJ",
        "colab_type": "code",
        "colab": {}
      },
      "source": [
        "texts_val = x_val['article_text'].values\n",
        "labels_val = y_val['label'].values"
      ],
      "execution_count": 0,
      "outputs": []
    },
    {
      "cell_type": "code",
      "metadata": {
        "id": "oxW-NQs87j_z",
        "colab_type": "code",
        "colab": {}
      },
      "source": [
        "labels_test = y_test['label'].values\n",
        "labels = y_train['label'].values"
      ],
      "execution_count": 0,
      "outputs": []
    },
    {
      "cell_type": "code",
      "metadata": {
        "id": "MRmzS-eY93rE",
        "colab_type": "code",
        "outputId": "3b6289a1-60a4-4735-8e66-33514fffb1b4",
        "colab": {
          "base_uri": "https://localhost:8080/",
          "height": 34
        }
      },
      "source": [
        "print(labels.shape, labels_test.shape, labels_test.shape)"
      ],
      "execution_count": 0,
      "outputs": [
        {
          "output_type": "stream",
          "text": [
            "(5746,) (3429,) (3429,)\n"
          ],
          "name": "stdout"
        }
      ]
    },
    {
      "cell_type": "code",
      "metadata": {
        "id": "3mPm_rI-gNtB",
        "colab_type": "code",
        "outputId": "76d49785-442f-4b10-947b-b6821d699e8d",
        "colab": {
          "base_uri": "https://localhost:8080/",
          "height": 34
        }
      },
      "source": [
        "print(texts_header.shape, texts_header_val.shape, texts_header_test.shape)"
      ],
      "execution_count": 0,
      "outputs": [
        {
          "output_type": "stream",
          "text": [
            "(5746,) (639,) (3429,)\n"
          ],
          "name": "stdout"
        }
      ]
    },
    {
      "cell_type": "code",
      "metadata": {
        "id": "KoA8QpdF7j8a",
        "colab_type": "code",
        "outputId": "094f76a6-6cae-4500-e96b-9221b25e7740",
        "colab": {
          "base_uri": "https://localhost:8080/",
          "height": 34
        }
      },
      "source": [
        "len(y_test.loc[y_test['label']==0])"
      ],
      "execution_count": 0,
      "outputs": [
        {
          "output_type": "execute_result",
          "data": {
            "text/plain": [
              "3076"
            ]
          },
          "metadata": {
            "tags": []
          },
          "execution_count": 12
        }
      ]
    },
    {
      "cell_type": "code",
      "metadata": {
        "id": "cDWY2Gns7rpm",
        "colab_type": "code",
        "outputId": "1d196ccb-7b3b-4698-dc3d-e6bc1a3d9d10",
        "colab": {
          "base_uri": "https://localhost:8080/",
          "height": 34
        }
      },
      "source": [
        "len(y_test.loc[y_test['label']==1])"
      ],
      "execution_count": 0,
      "outputs": [
        {
          "output_type": "execute_result",
          "data": {
            "text/plain": [
              "353"
            ]
          },
          "metadata": {
            "tags": []
          },
          "execution_count": 13
        }
      ]
    },
    {
      "cell_type": "code",
      "metadata": {
        "id": "5yf8klrD7uXO",
        "colab_type": "code",
        "colab": {}
      },
      "source": [
        "MAX_NUM_WORDS = 3000 # how many unique words to use (i.e num rows in embedding vector)\n",
        "MAX_SEQUENCE_LENGTH = 256 # max number of words in a review to use"
      ],
      "execution_count": 0,
      "outputs": []
    },
    {
      "cell_type": "code",
      "metadata": {
        "id": "mypJfroL70Fj",
        "colab_type": "code",
        "outputId": "c7a4e7b7-633c-4ed6-83ba-2efe19de73af",
        "colab": {
          "base_uri": "https://localhost:8080/",
          "height": 34
        }
      },
      "source": [
        "from tensorflow.keras.preprocessing.text import Tokenizer\n",
        "\n",
        "tokenizer_train = Tokenizer(num_words=MAX_NUM_WORDS) #convert word(string to int)\n",
        "tokenizer_train.fit_on_texts(texts) \n",
        "sequences = tokenizer_train.texts_to_sequences(texts) \n",
        "\n",
        "word_index = tokenizer_train.word_index #convert this to dict\n",
        "print('Found %s unique tokens.' % len(word_index))\n"
      ],
      "execution_count": 0,
      "outputs": [
        {
          "output_type": "stream",
          "text": [
            "Found 85423 unique tokens.\n"
          ],
          "name": "stdout"
        }
      ]
    },
    {
      "cell_type": "code",
      "metadata": {
        "id": "b7AXCaBa77mO",
        "colab_type": "code",
        "colab": {}
      },
      "source": [
        "sequences3 = tokenizer_train.texts_to_sequences(texts_val) \n",
        "sequences_test = tokenizer_train.texts_to_sequences(texts_test)"
      ],
      "execution_count": 0,
      "outputs": []
    },
    {
      "cell_type": "code",
      "metadata": {
        "id": "s5eNML5bmxzU",
        "colab_type": "code",
        "outputId": "4b463cf6-0d09-45a3-fde5-fd2dedb7be50",
        "colab": {
          "base_uri": "https://localhost:8080/",
          "height": 54
        }
      },
      "source": [
        "'''\n",
        "tokenizer_header_train = Tokenizer(num_words=MAX_HEADER_LENGTH) #convert word(string to int)\n",
        "tokenizer_header_train.fit_on_texts(texts_header) \n",
        "sequences_header_train = tokenizer_header_train.texts_to_sequences(texts_header) \n",
        "\n",
        "word_index2 = tokenizer_header_train.word_index #convert this to dict\n",
        "word_index.update(word_index2)\n",
        "print('Found %s unique tokens.' % len(word_index2))\n",
        "'''"
      ],
      "execution_count": 0,
      "outputs": [
        {
          "output_type": "execute_result",
          "data": {
            "text/plain": [
              "\"\\ntokenizer_header_train = Tokenizer(num_words=MAX_HEADER_LENGTH) #convert word(string to int)\\ntokenizer_header_train.fit_on_texts(texts_header) \\nsequences_header_train = tokenizer_header_train.texts_to_sequences(texts_header) \\n\\nword_index2 = tokenizer_header_train.word_index #convert this to dict\\nword_index.update(word_index2)\\nprint('Found %s unique tokens.' % len(word_index2))\\n\""
            ]
          },
          "metadata": {
            "tags": []
          },
          "execution_count": 17
        }
      ]
    },
    {
      "cell_type": "code",
      "metadata": {
        "id": "WM_bFIOvorz1",
        "colab_type": "code",
        "colab": {}
      },
      "source": [
        "sequences_header_train = tokenizer_train.texts_to_sequences(texts_header) \n",
        "sequences_header_test = tokenizer_train.texts_to_sequences(texts_header_test) \n",
        "sequences_header_val = tokenizer_train.texts_to_sequences(texts_header_val) "
      ],
      "execution_count": 0,
      "outputs": []
    },
    {
      "cell_type": "code",
      "metadata": {
        "id": "YJw3dLXv8GFf",
        "colab_type": "code",
        "outputId": "7dad25f7-bb13-4f1f-9314-bb5f1a6b2210",
        "colab": {
          "base_uri": "https://localhost:8080/",
          "height": 68
        }
      },
      "source": [
        "from tensorflow.keras.preprocessing.sequence import pad_sequences\n",
        "from tensorflow.keras.utils import to_categorical\n",
        "\n",
        "data = pad_sequences(sequences, maxlen=MAX_SEQUENCE_LENGTH, padding='pre')\n",
        "data_header = pad_sequences(sequences_header_train, maxlen = MAX_SEQUENCE_LENGTH, padding='pre')\n",
        "labels = to_categorical(np.asarray(labels))\n",
        "print('Shape of data tensor:', data.shape)\n",
        "print('Shape of header tensor:', data_header.shape)\n",
        "print('Shape of label tensor:', labels.shape)"
      ],
      "execution_count": 0,
      "outputs": [
        {
          "output_type": "stream",
          "text": [
            "Shape of data tensor: (5746, 256)\n",
            "Shape of header tensor: (5746, 256)\n",
            "Shape of label tensor: (5746, 2)\n"
          ],
          "name": "stdout"
        }
      ]
    },
    {
      "cell_type": "code",
      "metadata": {
        "id": "qayTi_pg8dpd",
        "colab_type": "code",
        "outputId": "42eda4b4-cfa9-4036-e3f6-67181ab5ddbb",
        "colab": {
          "base_uri": "https://localhost:8080/",
          "height": 119
        }
      },
      "source": [
        "data2 = pad_sequences(sequences_test, maxlen=MAX_SEQUENCE_LENGTH, padding='pre')\n",
        "data2_header = pad_sequences(sequences_header_test, maxlen=MAX_SEQUENCE_LENGTH, padding='pre')\n",
        "labels2 = to_categorical(np.asarray(labels_test))\n",
        "print('Shape of data tensor:', data2.shape)\n",
        "print('Shape of header tensor:', data2_header.shape)\n",
        "print('Shape of label tensor:', labels2.shape)\n",
        "\n",
        "data3 = pad_sequences(sequences3, maxlen=MAX_SEQUENCE_LENGTH, padding='pre')\n",
        "data3_header = pad_sequences(sequences_header_val, maxlen=MAX_SEQUENCE_LENGTH, padding='pre')\n",
        "labels3 = to_categorical(np.asarray(labels_val))\n",
        "print('Shape of data tensor:', data3.shape)\n",
        "print('Shape of header tensor:', data3_header.shape)\n",
        "print('Shape of label tensor:', labels3.shape)\n"
      ],
      "execution_count": 0,
      "outputs": [
        {
          "output_type": "stream",
          "text": [
            "Shape of data tensor: (3429, 256)\n",
            "Shape of header tensor: (3429, 256)\n",
            "Shape of label tensor: (3429, 2)\n",
            "Shape of data tensor: (639, 256)\n",
            "Shape of header tensor: (639, 256)\n",
            "Shape of label tensor: (639, 2)\n"
          ],
          "name": "stdout"
        }
      ]
    },
    {
      "cell_type": "code",
      "metadata": {
        "id": "lYxt4ph48joU",
        "colab_type": "code",
        "colab": {}
      },
      "source": [
        "x_train_article = data\n",
        "x_train_header = data_header\n",
        "y_train = labels\n",
        "\n",
        "x_val_article = data3\n",
        "x_val_header = data3_header\n",
        "y_val = labels3\n",
        "\n",
        "x_test_article = data2\n",
        "x_test_header = data2_header\n",
        "y_test = labels2"
      ],
      "execution_count": 0,
      "outputs": []
    },
    {
      "cell_type": "code",
      "metadata": {
        "id": "-NlMg25i-XM3",
        "colab_type": "code",
        "outputId": "062abc72-14b4-416a-9886-679594b8a925",
        "colab": {
          "base_uri": "https://localhost:8080/",
          "height": 34
        }
      },
      "source": [
        "print(y_train.shape, y_val.shape, y_test.shape)"
      ],
      "execution_count": 0,
      "outputs": [
        {
          "output_type": "stream",
          "text": [
            "(5746, 2) (639, 2) (3429, 2)\n"
          ],
          "name": "stdout"
        }
      ]
    },
    {
      "cell_type": "code",
      "metadata": {
        "id": "0j_NdJc0-VTb",
        "colab_type": "code",
        "outputId": "3d08c469-f074-4cce-cf64-78fb86a9dbf8",
        "colab": {
          "base_uri": "https://localhost:8080/",
          "height": 34
        }
      },
      "source": [
        "print(x_train_article.shape, x_train_header.shape, x_val_article.shape, x_val_header.shape)"
      ],
      "execution_count": 0,
      "outputs": [
        {
          "output_type": "stream",
          "text": [
            "(5746, 256) (5746, 256) (639, 256) (639, 256)\n"
          ],
          "name": "stdout"
        }
      ]
    },
    {
      "cell_type": "code",
      "metadata": {
        "id": "MCj9Orni8GIm",
        "colab_type": "code",
        "outputId": "0bf3a607-e387-4c4a-fa60-ce2d4fc13d03",
        "colab": {
          "base_uri": "https://localhost:8080/",
          "height": 34
        }
      },
      "source": [
        "GLOVE_DIR='drive/My Drive/yelp_review_polarity_csv/'\n",
        "\n",
        "import os\n",
        "embeddings_index = {}\n",
        "f = open(os.path.join(GLOVE_DIR, 'glove.42B.300d.txt'))\n",
        "for line in f:\n",
        "    values = line.split()\n",
        "    word = values[0]\n",
        "    coefs = np.asarray(values[1:], dtype='float32')\n",
        "    embeddings_index[word] = coefs\n",
        "f.close()\n",
        "\n",
        "print('Found %s word vectors.' % len(embeddings_index))\n"
      ],
      "execution_count": 0,
      "outputs": [
        {
          "output_type": "stream",
          "text": [
            "Found 1917494 word vectors.\n"
          ],
          "name": "stdout"
        }
      ]
    },
    {
      "cell_type": "code",
      "metadata": {
        "id": "I3BgH8Lq8u3b",
        "colab_type": "code",
        "colab": {}
      },
      "source": [
        "EMBEDDING_DIM = 300 # how big is each word vector\n",
        "\n",
        "embedding_matrix = np.zeros((len(word_index) + 1, EMBEDDING_DIM))\n",
        "for word, i in word_index.items():\n",
        "    embedding_vector = embeddings_index.get(word)\n",
        "    if embedding_vector is not None:\n",
        "        # words not found in embedding index will be all-zeros.\n",
        "        embedding_matrix[i] = embedding_vector"
      ],
      "execution_count": 0,
      "outputs": []
    },
    {
      "cell_type": "code",
      "metadata": {
        "id": "QK-to-cx84gn",
        "colab_type": "code",
        "colab": {}
      },
      "source": [
        "from tensorflow.keras.layers import Embedding\n",
        "\n",
        "embedding_layer = Embedding(len(word_index) + 1,\n",
        "                            EMBEDDING_DIM,\n",
        "                            weights=[embedding_matrix],\n",
        "                            input_length=MAX_SEQUENCE_LENGTH,\n",
        "                            trainable=False)"
      ],
      "execution_count": 0,
      "outputs": []
    },
    {
      "cell_type": "code",
      "metadata": {
        "id": "LgLfbTHY86Ds",
        "colab_type": "code",
        "outputId": "845a6bea-6cf4-48d5-c1bb-428e38333bbb",
        "colab": {
          "base_uri": "https://localhost:8080/",
          "height": 629
        }
      },
      "source": [
        "from tensorflow.keras.layers import Bidirectional, GlobalMaxPool1D, Conv1D\n",
        "from tensorflow.keras.layers import Dense, Input, LSTM, Embedding, Dropout, Activation, concatenate\n",
        "from tensorflow.keras.models import Model, Sequential\n",
        "from tensorflow.keras.callbacks import EarlyStopping, ModelCheckpoint\n",
        "from tensorflow.keras.backend import sum\n",
        "\n",
        "es = EarlyStopping(monitor='val_loss', mode='min', verbose=1, patience=6)\n",
        "mc = ModelCheckpoint('Siamese_with_256.h5', monitor='val_accuracy', mode='max', verbose=1, save_best_only=True)\n",
        "\n",
        "inp1 = Input(shape=(MAX_SEQUENCE_LENGTH,))\n",
        "x = embedded_sequences = embedding_layer(inp1)\n",
        "\n",
        "x = Bidirectional(LSTM(128, return_sequences=True, dropout=0.3, recurrent_dropout=0.2))(x)\n",
        "x = GlobalMaxPool1D()(x)\n",
        "x = Dense(64, activation=\"relu\")(x)\n",
        "x = Dropout(0.5)(x)\n",
        "\n",
        "\n",
        "inp2 = Input(shape=(MAX_SEQUENCE_LENGTH,))\n",
        "y = embedded_sequences = embedding_layer(inp2)\n",
        "\n",
        "y = Bidirectional(LSTM(128, return_sequences=True, dropout=0.3, recurrent_dropout=0.2))(y)\n",
        "y = GlobalMaxPool1D()(y)\n",
        "y = Dense(64, activation=\"relu\")(y)\n",
        "y = Dropout(0.5)(y)\n",
        "\n",
        "res = concatenate([x, y])\n",
        "res = Dense(2, activation=\"softmax\")(res)\n",
        "model = Model(inputs=[inp1, inp2], outputs=res)\n",
        "model.compile(loss='categorical_crossentropy', optimizer='adam', metrics=['accuracy'])\n",
        "model.summary()\n"
      ],
      "execution_count": 0,
      "outputs": [
        {
          "output_type": "stream",
          "text": [
            "Model: \"model\"\n",
            "__________________________________________________________________________________________________\n",
            "Layer (type)                    Output Shape         Param #     Connected to                     \n",
            "==================================================================================================\n",
            "input_1 (InputLayer)            [(None, 256)]        0                                            \n",
            "__________________________________________________________________________________________________\n",
            "input_2 (InputLayer)            [(None, 256)]        0                                            \n",
            "__________________________________________________________________________________________________\n",
            "embedding (Embedding)           (None, 256, 300)     25627200    input_1[0][0]                    \n",
            "                                                                 input_2[0][0]                    \n",
            "__________________________________________________________________________________________________\n",
            "bidirectional (Bidirectional)   (None, 256, 256)     439296      embedding[0][0]                  \n",
            "__________________________________________________________________________________________________\n",
            "bidirectional_1 (Bidirectional) (None, 256, 256)     439296      embedding[1][0]                  \n",
            "__________________________________________________________________________________________________\n",
            "global_max_pooling1d (GlobalMax (None, 256)          0           bidirectional[0][0]              \n",
            "__________________________________________________________________________________________________\n",
            "global_max_pooling1d_1 (GlobalM (None, 256)          0           bidirectional_1[0][0]            \n",
            "__________________________________________________________________________________________________\n",
            "dense (Dense)                   (None, 64)           16448       global_max_pooling1d[0][0]       \n",
            "__________________________________________________________________________________________________\n",
            "dense_1 (Dense)                 (None, 64)           16448       global_max_pooling1d_1[0][0]     \n",
            "__________________________________________________________________________________________________\n",
            "dropout (Dropout)               (None, 64)           0           dense[0][0]                      \n",
            "__________________________________________________________________________________________________\n",
            "dropout_1 (Dropout)             (None, 64)           0           dense_1[0][0]                    \n",
            "__________________________________________________________________________________________________\n",
            "concatenate (Concatenate)       (None, 128)          0           dropout[0][0]                    \n",
            "                                                                 dropout_1[0][0]                  \n",
            "__________________________________________________________________________________________________\n",
            "dense_2 (Dense)                 (None, 2)            258         concatenate[0][0]                \n",
            "==================================================================================================\n",
            "Total params: 26,538,946\n",
            "Trainable params: 911,746\n",
            "Non-trainable params: 25,627,200\n",
            "__________________________________________________________________________________________________\n"
          ],
          "name": "stdout"
        }
      ]
    },
    {
      "cell_type": "code",
      "metadata": {
        "colab_type": "code",
        "outputId": "cc9064a1-cb22-4910-caf3-9d9187369e2f",
        "id": "ZQOaBISriice",
        "colab": {
          "base_uri": "https://localhost:8080/",
          "height": 714
        }
      },
      "source": [
        "history = model.fit([x_train_article, x_train_header], y_train, validation_data=[[x_val_article, x_val_header], y_val], epochs=10, callbacks=[es, mc], batch_size=64)"
      ],
      "execution_count": 0,
      "outputs": [
        {
          "output_type": "stream",
          "text": [
            "Train on 5746 samples, validate on 639 samples\n",
            "Epoch 1/10\n",
            "5696/5746 [============================>.] - ETA: 0s - loss: 0.5047 - accuracy: 0.7375\n",
            "Epoch 00001: val_accuracy improved from -inf to 0.88106, saving model to Siamese_with_256.h5\n",
            "5746/5746 [==============================] - 110s 19ms/sample - loss: 0.5029 - accuracy: 0.7386 - val_loss: 0.3043 - val_accuracy: 0.8811\n",
            "Epoch 2/10\n",
            "5696/5746 [============================>.] - ETA: 0s - loss: 0.3223 - accuracy: 0.8689\n",
            "Epoch 00002: val_accuracy improved from 0.88106 to 0.88732, saving model to Siamese_with_256.h5\n",
            "5746/5746 [==============================] - 103s 18ms/sample - loss: 0.3225 - accuracy: 0.8683 - val_loss: 0.2820 - val_accuracy: 0.8873\n",
            "Epoch 3/10\n",
            "5696/5746 [============================>.] - ETA: 0s - loss: 0.2718 - accuracy: 0.8943\n",
            "Epoch 00003: val_accuracy did not improve from 0.88732\n",
            "5746/5746 [==============================] - 103s 18ms/sample - loss: 0.2730 - accuracy: 0.8937 - val_loss: 0.3078 - val_accuracy: 0.8623\n",
            "Epoch 4/10\n",
            "5696/5746 [============================>.] - ETA: 0s - loss: 0.2359 - accuracy: 0.9066\n",
            "Epoch 00004: val_accuracy improved from 0.88732 to 0.90141, saving model to Siamese_with_256.h5\n",
            "5746/5746 [==============================] - 103s 18ms/sample - loss: 0.2357 - accuracy: 0.9069 - val_loss: 0.2469 - val_accuracy: 0.9014\n",
            "Epoch 5/10\n",
            "5696/5746 [============================>.] - ETA: 0s - loss: 0.1994 - accuracy: 0.9235\n",
            "Epoch 00005: val_accuracy improved from 0.90141 to 0.90454, saving model to Siamese_with_256.h5\n",
            "5746/5746 [==============================] - 103s 18ms/sample - loss: 0.1991 - accuracy: 0.9234 - val_loss: 0.2263 - val_accuracy: 0.9045\n",
            "Epoch 6/10\n",
            "5696/5746 [============================>.] - ETA: 0s - loss: 0.1739 - accuracy: 0.9307\n",
            "Epoch 00006: val_accuracy improved from 0.90454 to 0.91393, saving model to Siamese_with_256.h5\n",
            "5746/5746 [==============================] - 102s 18ms/sample - loss: 0.1740 - accuracy: 0.9307 - val_loss: 0.2170 - val_accuracy: 0.9139\n",
            "Epoch 7/10\n",
            "5696/5746 [============================>.] - ETA: 0s - loss: 0.1365 - accuracy: 0.9482\n",
            "Epoch 00007: val_accuracy improved from 0.91393 to 0.92488, saving model to Siamese_with_256.h5\n",
            "5746/5746 [==============================] - 102s 18ms/sample - loss: 0.1364 - accuracy: 0.9483 - val_loss: 0.2048 - val_accuracy: 0.9249\n",
            "Epoch 8/10\n",
            "5696/5746 [============================>.] - ETA: 0s - loss: 0.1158 - accuracy: 0.9577\n",
            "Epoch 00008: val_accuracy improved from 0.92488 to 0.92645, saving model to Siamese_with_256.h5\n",
            "5746/5746 [==============================] - 102s 18ms/sample - loss: 0.1157 - accuracy: 0.9577 - val_loss: 0.2134 - val_accuracy: 0.9264\n",
            "Epoch 9/10\n",
            "5696/5746 [============================>.] - ETA: 0s - loss: 0.1060 - accuracy: 0.9586\n",
            "Epoch 00009: val_accuracy did not improve from 0.92645\n",
            "5746/5746 [==============================] - 102s 18ms/sample - loss: 0.1063 - accuracy: 0.9584 - val_loss: 0.2093 - val_accuracy: 0.9218\n",
            "Epoch 10/10\n",
            "5696/5746 [============================>.] - ETA: 0s - loss: 0.0810 - accuracy: 0.9716\n",
            "Epoch 00010: val_accuracy did not improve from 0.92645\n",
            "5746/5746 [==============================] - 101s 18ms/sample - loss: 0.0808 - accuracy: 0.9716 - val_loss: 0.2361 - val_accuracy: 0.9155\n"
          ],
          "name": "stdout"
        }
      ]
    },
    {
      "cell_type": "code",
      "metadata": {
        "id": "lml5wMcL9aTW",
        "colab_type": "code",
        "outputId": "71499209-629e-4dcd-e1cc-873a59a39ca6",
        "colab": {
          "base_uri": "https://localhost:8080/",
          "height": 573
        }
      },
      "source": [
        "import matplotlib.pyplot as plt\n",
        "\n",
        "def plot(history):\n",
        "  \n",
        "  acc = history.history['accuracy']\n",
        "  val_acc = history.history['val_accuracy']\n",
        "  loss = history.history['loss']\n",
        "  val_loss = history.history['val_loss']\n",
        "\n",
        "  epochs = range(len(acc))\n",
        "\n",
        "  plt.title('Training and validation accuracy')\n",
        "  plt.plot(epochs, acc, color='blue', label='Train')\n",
        "  plt.plot(epochs, val_acc, color='orange', label='Val')\n",
        "  plt.xlabel('Epoch')\n",
        "  plt.ylabel('Accuracy')\n",
        "  plt.legend()\n",
        "\n",
        "  _ = plt.figure()\n",
        "  plt.title('Training and validation loss')\n",
        "  plt.plot(epochs, loss, color='blue', label='Train')\n",
        "  plt.plot(epochs, val_loss, color='orange', label='Val')\n",
        "  plt.xlabel('Epoch')\n",
        "  plt.ylabel('Loss')\n",
        "  plt.legend()\n",
        "  \n",
        "plot(history)"
      ],
      "execution_count": 0,
      "outputs": [
        {
          "output_type": "display_data",
          "data": {
            "image/png": "[encoded data removed]",
            "text/plain": [
              "<Figure size 432x288 with 1 Axes>"
            ]
          },
          "metadata": {
            "tags": []
          }
        },
        {
          "output_type": "display_data",
          "data": {
            "image/png": "[encoded data removed]",
            "text/plain": [
              "<Figure size 432x288 with 1 Axes>"
            ]
          },
          "metadata": {
            "tags": []
          }
        }
      ]
    },
    {
      "cell_type": "code",
      "metadata": {
        "id": "zo9nkee6CID9",
        "colab_type": "code",
        "colab": {}
      },
      "source": [
        "from tensorflow.keras.models import load_model\n",
        "saved_model = load_model('/content/Siamese_with_256.h5')"
      ],
      "execution_count": 0,
      "outputs": []
    },
    {
      "cell_type": "code",
      "metadata": {
        "id": "bKnzZ3Eo-87Z",
        "colab_type": "code",
        "outputId": "87468009-dbda-4b74-a6ed-cf4dec9a5636",
        "colab": {
          "base_uri": "https://localhost:8080/",
          "height": 102
        }
      },
      "source": [
        "y_test_new = np.argmax(y_test, axis=1)\n",
        "y_test[0:5]"
      ],
      "execution_count": 0,
      "outputs": [
        {
          "output_type": "execute_result",
          "data": {
            "text/plain": [
              "array([[1., 0.],\n",
              "       [1., 0.],\n",
              "       [1., 0.],\n",
              "       [0., 1.],\n",
              "       [1., 0.]], dtype=float32)"
            ]
          },
          "metadata": {
            "tags": []
          },
          "execution_count": 31
        }
      ]
    },
    {
      "cell_type": "code",
      "metadata": {
        "id": "SBzHHT7N_FhV",
        "colab_type": "code",
        "outputId": "aa7b1581-3d7a-4105-9797-0fcc64e372bb",
        "colab": {
          "base_uri": "https://localhost:8080/",
          "height": 34
        }
      },
      "source": [
        "y_test_new[0:5]"
      ],
      "execution_count": 0,
      "outputs": [
        {
          "output_type": "execute_result",
          "data": {
            "text/plain": [
              "array([0, 0, 0, 1, 0])"
            ]
          },
          "metadata": {
            "tags": []
          },
          "execution_count": 32
        }
      ]
    },
    {
      "cell_type": "code",
      "metadata": {
        "id": "cHVIpKZp_I-F",
        "colab_type": "code",
        "outputId": "050d46f2-d596-4bf1-ebf8-82c8ff3f0de7",
        "colab": {
          "base_uri": "https://localhost:8080/",
          "height": 102
        }
      },
      "source": [
        "prediction = saved_model.predict([x_test_article, x_test_header])\n",
        "prediction[0:5]"
      ],
      "execution_count": 0,
      "outputs": [
        {
          "output_type": "execute_result",
          "data": {
            "text/plain": [
              "array([[9.7893792e-01, 2.1062149e-02],\n",
              "       [9.9170375e-01, 8.2961749e-03],\n",
              "       [9.9983609e-01, 1.6383703e-04],\n",
              "       [9.0088266e-05, 9.9990988e-01],\n",
              "       [9.9358749e-01, 6.4125042e-03]], dtype=float32)"
            ]
          },
          "metadata": {
            "tags": []
          },
          "execution_count": 33
        }
      ]
    },
    {
      "cell_type": "code",
      "metadata": {
        "id": "fMV56lno_M8n",
        "colab_type": "code",
        "colab": {}
      },
      "source": [
        "y_pred=np.argmax(prediction, axis=1)"
      ],
      "execution_count": 0,
      "outputs": []
    },
    {
      "cell_type": "code",
      "metadata": {
        "id": "aV7UTiWV_UVQ",
        "colab_type": "code",
        "outputId": "19e294e0-4e71-47e2-9bd7-2f133f36f131",
        "colab": {
          "base_uri": "https://localhost:8080/",
          "height": 34
        }
      },
      "source": [
        "np.sum(y_pred)"
      ],
      "execution_count": 0,
      "outputs": [
        {
          "output_type": "execute_result",
          "data": {
            "text/plain": [
              "569"
            ]
          },
          "metadata": {
            "tags": []
          },
          "execution_count": 35
        }
      ]
    },
    {
      "cell_type": "code",
      "metadata": {
        "id": "iLW-BOXe_VRO",
        "colab_type": "code",
        "outputId": "c2d720d1-d8bd-4b89-923d-f7c212d3af78",
        "colab": {
          "base_uri": "https://localhost:8080/",
          "height": 34
        }
      },
      "source": [
        "np.sum(y_test_new)"
      ],
      "execution_count": 0,
      "outputs": [
        {
          "output_type": "execute_result",
          "data": {
            "text/plain": [
              "353"
            ]
          },
          "metadata": {
            "tags": []
          },
          "execution_count": 36
        }
      ]
    },
    {
      "cell_type": "code",
      "metadata": {
        "id": "-PTadiGk_VOO",
        "colab_type": "code",
        "outputId": "fd04700b-9617-45f2-df98-dc3e2606d240",
        "colab": {
          "base_uri": "https://localhost:8080/",
          "height": 68
        }
      },
      "source": [
        "from sklearn.metrics import confusion_matrix\n",
        "cm1 = confusion_matrix(y_test_new,y_pred)\n",
        "print('Confusion Matrix : \\n', cm1)"
      ],
      "execution_count": 0,
      "outputs": [
        {
          "output_type": "stream",
          "text": [
            "Confusion Matrix : \n",
            " [[2836  240]\n",
            " [  24  329]]\n"
          ],
          "name": "stdout"
        }
      ]
    },
    {
      "cell_type": "code",
      "metadata": {
        "id": "5yddwwcW_e5N",
        "colab_type": "code",
        "outputId": "e29c4ccd-3e5f-43f1-e78f-ababf4e60d4a",
        "colab": {
          "base_uri": "https://localhost:8080/",
          "height": 51
        }
      },
      "source": [
        "from sklearn.metrics import precision_recall_fscore_support\n",
        "print(precision_recall_fscore_support(y_test_new, y_pred, average='macro'))\n",
        "print(precision_recall_fscore_support(y_test_new, y_pred, average='weighted'))"
      ],
      "execution_count": 0,
      "outputs": [
        {
          "output_type": "stream",
          "text": [
            "(0.7849078864896089, 0.9269939622113263, 0.8345957750349352, None)\n",
            "(0.9490506323159272, 0.9230096237970253, 0.9306272509739745, None)\n"
          ],
          "name": "stdout"
        }
      ]
    },
    {
      "cell_type": "code",
      "metadata": {
        "id": "DProZgQg_qC-",
        "colab_type": "code",
        "outputId": "0dae6224-a29b-404c-c4b8-a065de916f44",
        "colab": {
          "base_uri": "https://localhost:8080/",
          "height": 34
        }
      },
      "source": [
        "from sklearn.metrics import confusion_matrix\n",
        "tn, fp, fn, tp = confusion_matrix(y_test_new, y_pred).ravel()\n",
        "pre = tp / (tp + fp)\n",
        "rec = tp / (tp + fn)\n",
        "tnr = tn / (tn + fp)\n",
        "acc = (tp + tn)/ (tp + tn + fp + fn)\n",
        "balanced_acc = (rec + tnr) / 2\n",
        "f1 = 2 * (pre * rec)/(pre+rec)\n",
        "\n",
        "print(pre, rec, tnr, acc, balanced_acc, f1)"
      ],
      "execution_count": 0,
      "outputs": [
        {
          "output_type": "stream",
          "text": [
            "0.5782073813708261 0.9320113314447592 0.9219765929778934 0.9230096237970253 0.9269939622113263 0.7136659436008678\n"
          ],
          "name": "stdout"
        }
      ]
    },
    {
      "cell_type": "code",
      "metadata": {
        "id": "ypFj_Xg8FRWR",
        "colab_type": "code",
        "outputId": "a6da8b23-7bf9-4746-eaef-16cb0e16eb3c",
        "colab": {
          "base_uri": "https://localhost:8080/",
          "height": 34
        }
      },
      "source": [
        "print(tp, tn, fp, fn)"
      ],
      "execution_count": 0,
      "outputs": [
        {
          "output_type": "stream",
          "text": [
            "329 2836 240 24\n"
          ],
          "name": "stdout"
        }
      ]
    },
    {
      "cell_type": "code",
      "metadata": {
        "id": "DG8niQJAF8iZ",
        "colab_type": "code",
        "outputId": "ab263345-b19b-4010-f64d-5a7bdd457ee4",
        "colab": {
          "base_uri": "https://localhost:8080/",
          "height": 51
        }
      },
      "source": [
        "import math\n",
        "num = (tp*tn - fp*fn)\n",
        "den = math.sqrt((tp+fp)*(tp+fn)*(tn+fp)*(tn+fn))\n",
        "print(num, den)\n",
        "mcc = num/den\n",
        "print(mcc)"
      ],
      "execution_count": 0,
      "outputs": [
        {
          "output_type": "stream",
          "text": [
            "927284 1329289.7868862154\n",
            "0.6975785183546089\n"
          ],
          "name": "stdout"
        }
      ]
    }
  ]
}