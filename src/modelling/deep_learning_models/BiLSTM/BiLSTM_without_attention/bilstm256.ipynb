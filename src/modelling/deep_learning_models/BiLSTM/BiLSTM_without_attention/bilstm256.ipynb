{
  "nbformat": 4,
  "nbformat_minor": 0,
  "metadata": {
    "colab": {
      "name": "bilstm256.ipynb",
      "provenance": [],
      "collapsed_sections": []
    },
    "kernelspec": {
      "name": "python3",
      "display_name": "Python 3"
    },
    "accelerator": "GPU"
  },
  "cells": [
    {
      "cell_type": "code",
      "metadata": {
        "id": "fn7M0NGD33eh",
        "colab_type": "code",
        "colab": {}
      },
      "source": [
        "import pandas as pd\n",
        "import numpy as np\n",
        "import csv"
      ],
      "execution_count": 0,
      "outputs": []
    },
    {
      "cell_type": "code",
      "metadata": {
        "id": "uzYidTbp5xqu",
        "colab_type": "code",
        "outputId": "13338a3e-ce61-4a82-b818-a33eb84716c2",
        "colab": {
          "base_uri": "https://localhost:8080/",
          "height": 34
        }
      },
      "source": [
        "%tensorflow_version 2.x\n",
        "import tensorflow as tf\n",
        "tf.__version__\n",
        "assert tf.__version__ >= \"2.0\""
      ],
      "execution_count": 0,
      "outputs": [
        {
          "output_type": "stream",
          "text": [
            "TensorFlow 2.x selected.\n"
          ],
          "name": "stdout"
        }
      ]
    },
    {
      "cell_type": "code",
      "metadata": {
        "id": "nFd2yBAx52eW",
        "colab_type": "code",
        "outputId": "8eb8c413-3168-46c1-d5f2-464c8bf2da8b",
        "colab": {
          "base_uri": "https://localhost:8080/",
          "height": 122
        }
      },
      "source": [
        "from google.colab import drive\n",
        "drive.mount('/content/drive')"
      ],
      "execution_count": 0,
      "outputs": [
        {
          "output_type": "stream",
          "text": [
            "Go to this URL in a browser: https://accounts.google.com/o/oauth2/auth?client_id=947318989803-6bn6qk8qdgf4n4g3pfee6491hc0brc4i.apps.googleusercontent.com&redirect_uri=urn%3aietf%3awg%3aoauth%3a2.0%3aoob&response_type=code&scope=email%20https%3a%2f%2fwww.googleapis.com%2fauth%2fdocs.test%20https%3a%2f%2fwww.googleapis.com%2fauth%2fdrive%20https%3a%2f%2fwww.googleapis.com%2fauth%2fdrive.photos.readonly%20https%3a%2f%2fwww.googleapis.com%2fauth%2fpeopleapi.readonly\n",
            "\n",
            "Enter your authorization code:\n",
            "··········\n",
            "Mounted at /content/drive\n"
          ],
          "name": "stdout"
        }
      ]
    },
    {
      "cell_type": "code",
      "metadata": {
        "id": "hSxv0dYu6OFZ",
        "colab_type": "code",
        "colab": {}
      },
      "source": [
        "import pickle\n",
        "pkl_file = open('/content/drive/My Drive/Bloomberg Editorial Classifier/data/train_test_v2/X_train.pkl', 'rb')\n",
        "x_train = pickle.load(pkl_file)\n",
        "pkl_file = open('/content/drive/My Drive/Bloomberg Editorial Classifier/data/train_test_v2/y_train.pkl', 'rb')\n",
        "y_train = pickle.load(pkl_file)\n",
        "\n",
        "pkl_file = open('/content/drive/My Drive/Bloomberg Editorial Classifier/data/train_test_v2/X_test.pkl', 'rb')\n",
        "x_test = pickle.load(pkl_file)\n",
        "pkl_file = open('/content/drive/My Drive/Bloomberg Editorial Classifier/data/train_test_v2/y_test.pkl', 'rb')\n",
        "y_test = pickle.load(pkl_file)"
      ],
      "execution_count": 0,
      "outputs": []
    },
    {
      "cell_type": "code",
      "metadata": {
        "id": "hUZfMmLg6TCx",
        "colab_type": "code",
        "colab": {}
      },
      "source": [
        "x_train = x_train.drop(5983)\n",
        "y_train = y_train.drop(5983)\n",
        "\n",
        "x_test = x_test.drop([2878, 3103, 3113, 3350, 3395, 3476, 3494])\n",
        "y_test = y_test.drop([2878, 3103, 3113, 3350, 3395, 3476, 3494])"
      ],
      "execution_count": 0,
      "outputs": []
    },
    {
      "cell_type": "code",
      "metadata": {
        "id": "MXYZ1GUxKkG_",
        "colab_type": "code",
        "colab": {}
      },
      "source": [
        "from sklearn.model_selection import train_test_split\n",
        "x_train, x_val, y_train, y_val = train_test_split(x_train, y_train, train_size=0.9, shuffle=True)"
      ],
      "execution_count": 0,
      "outputs": []
    },
    {
      "cell_type": "code",
      "metadata": {
        "id": "Q422_4pUDbmw",
        "colab_type": "code",
        "outputId": "5b49c282-6d2c-4899-8800-f1c38ba33e39",
        "colab": {
          "base_uri": "https://localhost:8080/",
          "height": 34
        }
      },
      "source": [
        "print(len(y_train), len(y_test), len(y_val))"
      ],
      "execution_count": 0,
      "outputs": [
        {
          "output_type": "stream",
          "text": [
            "5746 3429 639\n"
          ],
          "name": "stdout"
        }
      ]
    },
    {
      "cell_type": "code",
      "metadata": {
        "id": "vNQN0Zezz8Ch",
        "colab_type": "code",
        "colab": {}
      },
      "source": [
        "x_train.to_csv('x_train.csv', index=False)\n",
        "x_test.to_csv('x_test.csv', index=False)\n",
        "x_val.to_csv('x_val.csv', index=False)\n",
        "\n",
        "y_train.to_csv('y_train.csv', index=False)\n",
        "y_test.to_csv('y_test.csv', index=False)\n",
        "y_val.to_csv('y_val.csv', index=False)\n"
      ],
      "execution_count": 0,
      "outputs": []
    },
    {
      "cell_type": "code",
      "metadata": {
        "id": "yQwCUiSZ8Mxl",
        "colab_type": "code",
        "colab": {}
      },
      "source": [
        "texts = x_train['article_text'].values\n",
        "texts_test = x_test['article_text'].values"
      ],
      "execution_count": 0,
      "outputs": []
    },
    {
      "cell_type": "code",
      "metadata": {
        "id": "fNZarlaHL7ia",
        "colab_type": "code",
        "colab": {}
      },
      "source": [
        "texts_val = x_val['article_text'].values\n",
        "labels_val = y_val['label'].values"
      ],
      "execution_count": 0,
      "outputs": []
    },
    {
      "cell_type": "code",
      "metadata": {
        "id": "SNnfxBmd8Vo5",
        "colab_type": "code",
        "colab": {}
      },
      "source": [
        "labels_test = y_test['label'].values\n",
        "labels = y_train['label'].values"
      ],
      "execution_count": 0,
      "outputs": []
    },
    {
      "cell_type": "code",
      "metadata": {
        "id": "eX0YxNMK92vm",
        "colab_type": "code",
        "outputId": "fe100c65-56ce-4bbb-9769-17753632277f",
        "colab": {
          "base_uri": "https://localhost:8080/",
          "height": 34
        }
      },
      "source": [
        "labels_test.shape"
      ],
      "execution_count": 0,
      "outputs": [
        {
          "output_type": "execute_result",
          "data": {
            "text/plain": [
              "(3429,)"
            ]
          },
          "metadata": {
            "tags": []
          },
          "execution_count": 114
        }
      ]
    },
    {
      "cell_type": "code",
      "metadata": {
        "id": "TUHpZ7UJ8Zlx",
        "colab_type": "code",
        "outputId": "655bb075-88a4-4d12-8c65-ef80abbb3392",
        "colab": {
          "base_uri": "https://localhost:8080/",
          "height": 34
        }
      },
      "source": [
        "len(y_test.loc[y_test['label']==0])"
      ],
      "execution_count": 0,
      "outputs": [
        {
          "output_type": "execute_result",
          "data": {
            "text/plain": [
              "3076"
            ]
          },
          "metadata": {
            "tags": []
          },
          "execution_count": 115
        }
      ]
    },
    {
      "cell_type": "code",
      "metadata": {
        "id": "YaWT7e0T8ZuJ",
        "colab_type": "code",
        "outputId": "a31e55bb-6f95-4c4d-b3fa-675899bb02b8",
        "colab": {
          "base_uri": "https://localhost:8080/",
          "height": 34
        }
      },
      "source": [
        "len(y_test.loc[y_test['label']==1])"
      ],
      "execution_count": 0,
      "outputs": [
        {
          "output_type": "execute_result",
          "data": {
            "text/plain": [
              "353"
            ]
          },
          "metadata": {
            "tags": []
          },
          "execution_count": 116
        }
      ]
    },
    {
      "cell_type": "code",
      "metadata": {
        "id": "GF2hGUDH8Zxz",
        "colab_type": "code",
        "colab": {}
      },
      "source": [
        "MAX_NUM_WORDS=3000 # how many unique words to use (i.e num rows in embedding vector)\n",
        "MAX_SEQUENCE_LENGTH=256 # max number of words in a review to use\n"
      ],
      "execution_count": 0,
      "outputs": []
    },
    {
      "cell_type": "code",
      "metadata": {
        "id": "FTNGNln98Zr8",
        "colab_type": "code",
        "outputId": "0de540fb-2623-4d93-a88c-ed8a26a99290",
        "colab": {
          "base_uri": "https://localhost:8080/",
          "height": 34
        }
      },
      "source": [
        "from tensorflow.keras.preprocessing.text import Tokenizer\n",
        "\n",
        "tokenizer_train = Tokenizer(num_words=MAX_NUM_WORDS) #convert word(string to int)\n",
        "tokenizer_train.fit_on_texts(texts) \n",
        "sequences = tokenizer_train.texts_to_sequences(texts) \n",
        "\n",
        "word_index = tokenizer_train.word_index #convert this to dict\n",
        "print('Found %s unique tokens.' % len(word_index))\n"
      ],
      "execution_count": 0,
      "outputs": [
        {
          "output_type": "stream",
          "text": [
            "Found 85423 unique tokens.\n"
          ],
          "name": "stdout"
        }
      ]
    },
    {
      "cell_type": "code",
      "metadata": {
        "id": "FJIlNVxxMLoz",
        "colab_type": "code",
        "colab": {}
      },
      "source": [
        "#tokenizer_val = Tokenizer(num_words=MAX_NUM_WORDS) #convert word(string to int)\n",
        "#tokenizer_val.fit_on_texts(texts_val) \n",
        "#word_index2 = tokenizer.word_index #convert this to dict\n",
        "#word_index.update(word_index2)\n",
        "#print('Found %s unique tokens.' % len(word_index))\n"
      ],
      "execution_count": 0,
      "outputs": []
    },
    {
      "cell_type": "code",
      "metadata": {
        "id": "t8kc9UngRiGX",
        "colab_type": "code",
        "colab": {}
      },
      "source": [
        "#tokenizer_test = Tokenizer(num_words=MAX_NUM_WORDS)\n",
        "#tokenizer_test.fit_on_texts(texts_test)\n",
        "sequences3 = tokenizer_train.texts_to_sequences(texts_val) \n",
        "sequences_test = tokenizer_train.texts_to_sequences(texts_test)"
      ],
      "execution_count": 0,
      "outputs": []
    },
    {
      "cell_type": "code",
      "metadata": {
        "id": "SwPPVS_8-B4z",
        "colab_type": "code",
        "outputId": "4f7d24b4-d804-4e16-dae0-f1b5504b39de",
        "colab": {
          "base_uri": "https://localhost:8080/",
          "height": 51
        }
      },
      "source": [
        "from tensorflow.keras.preprocessing.sequence import pad_sequences\n",
        "from tensorflow.keras.utils import to_categorical\n",
        "\n",
        "data = pad_sequences(sequences, maxlen=MAX_SEQUENCE_LENGTH, padding='pre')\n",
        "labels = to_categorical(np.asarray(labels))\n",
        "print('Shape of data tensor:', data.shape)\n",
        "print('Shape of label tensor:', labels.shape)"
      ],
      "execution_count": 0,
      "outputs": [
        {
          "output_type": "stream",
          "text": [
            "Shape of data tensor: (5746, 256)\n",
            "Shape of label tensor: (5746, 2)\n"
          ],
          "name": "stdout"
        }
      ]
    },
    {
      "cell_type": "code",
      "metadata": {
        "id": "idGmffps-UbX",
        "colab_type": "code",
        "outputId": "9414d9ed-0995-41b9-afbc-63db900662d7",
        "colab": {
          "base_uri": "https://localhost:8080/",
          "height": 85
        }
      },
      "source": [
        "data2 = pad_sequences(sequences_test, maxlen=MAX_SEQUENCE_LENGTH, padding='pre')\n",
        "labels2 = to_categorical(np.asarray(labels_test))\n",
        "print('Shape of data tensor:', data2.shape)\n",
        "print('Shape of label tensor:', labels2.shape)\n",
        "\n",
        "data3 = pad_sequences(sequences3, maxlen=MAX_SEQUENCE_LENGTH, padding='pre')\n",
        "labels3 = to_categorical(np.asarray(labels_val))\n",
        "print('Shape of data tensor:', data3.shape)\n",
        "print('Shape of label tensor:', labels3.shape)\n"
      ],
      "execution_count": 0,
      "outputs": [
        {
          "output_type": "stream",
          "text": [
            "Shape of data tensor: (3429, 256)\n",
            "Shape of label tensor: (3429, 2)\n",
            "Shape of data tensor: (639, 256)\n",
            "Shape of label tensor: (639, 2)\n"
          ],
          "name": "stdout"
        }
      ]
    },
    {
      "cell_type": "code",
      "metadata": {
        "id": "3VPHDbcBzagw",
        "colab_type": "code",
        "outputId": "5f52b0ff-cd1d-4ab6-b154-fe47d2c86b7e",
        "colab": {
          "base_uri": "https://localhost:8080/",
          "height": 34
        }
      },
      "source": [
        "print(labels.shape, labels2.shape, labels3.shape)"
      ],
      "execution_count": 0,
      "outputs": [
        {
          "output_type": "stream",
          "text": [
            "(5746, 2) (3429, 2) (639, 2)\n"
          ],
          "name": "stdout"
        }
      ]
    },
    {
      "cell_type": "code",
      "metadata": {
        "id": "DmmMGmQp-DRS",
        "colab_type": "code",
        "colab": {}
      },
      "source": [
        "x_train = data\n",
        "y_train = labels\n",
        "\n",
        "x_val = data3\n",
        "y_val = labels3\n",
        "\n",
        "x_test = data2\n",
        "y_test = labels2"
      ],
      "execution_count": 0,
      "outputs": []
    },
    {
      "cell_type": "code",
      "metadata": {
        "id": "2iFhm9J--4o-",
        "colab_type": "code",
        "outputId": "62f86071-ba88-42ac-cf0b-d680ab5e1a44",
        "colab": {
          "base_uri": "https://localhost:8080/",
          "height": 34
        }
      },
      "source": [
        "GLOVE_DIR='drive/My Drive/yelp_review_polarity_csv/'\n",
        "\n",
        "import os\n",
        "embeddings_index = {}\n",
        "f = open(os.path.join(GLOVE_DIR, 'glove.42B.300d.txt'))\n",
        "for line in f:\n",
        "    values = line.split()\n",
        "    word = values[0]\n",
        "    coefs = np.asarray(values[1:], dtype='float32')\n",
        "    embeddings_index[word] = coefs\n",
        "f.close()\n",
        "\n",
        "print('Found %s word vectors.' % len(embeddings_index))\n"
      ],
      "execution_count": 0,
      "outputs": [
        {
          "output_type": "stream",
          "text": [
            "Found 1917494 word vectors.\n"
          ],
          "name": "stdout"
        }
      ]
    },
    {
      "cell_type": "code",
      "metadata": {
        "id": "cv2BP0d9-9mG",
        "colab_type": "code",
        "colab": {}
      },
      "source": [
        "EMBEDDING_DIM = 300 # how big is each word vector\n",
        "\n",
        "embedding_matrix = np.zeros((len(word_index) + 1, EMBEDDING_DIM))\n",
        "for word, i in word_index.items():\n",
        "    embedding_vector = embeddings_index.get(word)\n",
        "    if embedding_vector is not None:\n",
        "        # words not found in embedding index will be all-zeros.\n",
        "        embedding_matrix[i] = embedding_vector"
      ],
      "execution_count": 0,
      "outputs": []
    },
    {
      "cell_type": "code",
      "metadata": {
        "id": "UhzZTRH6-_mj",
        "colab_type": "code",
        "colab": {}
      },
      "source": [
        "from tensorflow.keras.layers import Embedding\n",
        "\n",
        "embedding_layer = Embedding(len(word_index) + 1,\n",
        "                            EMBEDDING_DIM,\n",
        "                            weights=[embedding_matrix],\n",
        "                            input_length=MAX_SEQUENCE_LENGTH,\n",
        "                            trainable=False)"
      ],
      "execution_count": 0,
      "outputs": []
    },
    {
      "cell_type": "code",
      "metadata": {
        "id": "VAHw2_zD_IZE",
        "colab_type": "code",
        "colab": {}
      },
      "source": [
        "from tensorflow.keras.layers import Bidirectional, GlobalMaxPool1D, Conv1D\n",
        "from tensorflow.keras.layers import Dense, Input, LSTM, Embedding, Dropout, Activation, TimeDistributed, Flatten\n",
        "from tensorflow.keras.models import Model, Sequential\n",
        "from tensorflow.keras.callbacks import EarlyStopping, ModelCheckpoint\n",
        "\n",
        "es = EarlyStopping(monitor='val_loss', mode='min', verbose=1, patience=6)\n",
        "mc = ModelCheckpoint('best_model.h5', monitor='val_accuracy', mode='max', verbose=1, save_best_only=True)\n",
        "\n",
        "inp = Input(shape=(MAX_SEQUENCE_LENGTH,))\n",
        "x = embedded_sequences = embedding_layer(inp)\n",
        "\n",
        "x = Bidirectional(LSTM(128, return_sequences=True, dropout=0.2, recurrent_dropout=0.1))(x)\n",
        "x = GlobalMaxPool1D()(x)\n",
        "x = Dense(64, activation=\"relu\")(x)\n",
        "x = Dropout(0.5)(x)\n",
        "x = Dense(2, activation=\"softmax\")(x)\n",
        "model = Model(inputs=inp, outputs=x)\n"
      ],
      "execution_count": 0,
      "outputs": []
    },
    {
      "cell_type": "code",
      "metadata": {
        "id": "eOGu-THh4p5C",
        "colab_type": "code",
        "colab": {}
      },
      "source": [
        "model.compile('adam', 'categorical_crossentropy', metrics=['accuracy'])"
      ],
      "execution_count": 0,
      "outputs": []
    },
    {
      "cell_type": "code",
      "metadata": {
        "id": "5MkVGXoL_nDx",
        "colab_type": "code",
        "outputId": "9335e892-dea3-47fe-c1eb-0c5757d2b266",
        "colab": {
          "base_uri": "https://localhost:8080/",
          "height": 391
        }
      },
      "source": [
        "model.summary()"
      ],
      "execution_count": 0,
      "outputs": [
        {
          "output_type": "stream",
          "text": [
            "Model: \"model_5\"\n",
            "_________________________________________________________________\n",
            "Layer (type)                 Output Shape              Param #   \n",
            "=================================================================\n",
            "input_6 (InputLayer)         [(None, 256)]             0         \n",
            "_________________________________________________________________\n",
            "embedding_1 (Embedding)      (None, 256, 300)          25688400  \n",
            "_________________________________________________________________\n",
            "bidirectional_5 (Bidirection (None, 256, 256)          439296    \n",
            "_________________________________________________________________\n",
            "global_max_pooling1d_5 (Glob (None, 256)               0         \n",
            "_________________________________________________________________\n",
            "dense_10 (Dense)             (None, 64)                16448     \n",
            "_________________________________________________________________\n",
            "dropout_5 (Dropout)          (None, 64)                0         \n",
            "_________________________________________________________________\n",
            "dense_11 (Dense)             (None, 2)                 130       \n",
            "=================================================================\n",
            "Total params: 26,144,274\n",
            "Trainable params: 455,874\n",
            "Non-trainable params: 25,688,400\n",
            "_________________________________________________________________\n"
          ],
          "name": "stdout"
        }
      ]
    },
    {
      "cell_type": "code",
      "metadata": {
        "id": "1VOxGzYx_z5A",
        "colab_type": "code",
        "outputId": "ad767296-ca24-4305-bc9a-0bb7a9db1ba3",
        "colab": {
          "base_uri": "https://localhost:8080/",
          "height": 819
        }
      },
      "source": [
        "history = model.fit(x_train, y_train, validation_data=[x_val, y_val], epochs=20, callbacks=[mc,es])"
      ],
      "execution_count": 0,
      "outputs": [
        {
          "output_type": "stream",
          "text": [
            "Train on 5746 samples, validate on 639 samples\n",
            "Epoch 1/20\n",
            "5728/5746 [============================>.] - ETA: 0s - loss: 0.6080 - accuracy: 0.6561\n",
            "Epoch 00001: val_accuracy improved from -inf to 0.83099, saving model to best_model.h5\n",
            "5746/5746 [==============================] - 150s 26ms/sample - loss: 0.6075 - accuracy: 0.6565 - val_loss: 0.4311 - val_accuracy: 0.8310\n",
            "Epoch 2/20\n",
            "5728/5746 [============================>.] - ETA: 0s - loss: 0.4239 - accuracy: 0.8219\n",
            "Epoch 00002: val_accuracy improved from 0.83099 to 0.85915, saving model to best_model.h5\n",
            "5746/5746 [==============================] - 146s 25ms/sample - loss: 0.4232 - accuracy: 0.8225 - val_loss: 0.3518 - val_accuracy: 0.8592\n",
            "Epoch 3/20\n",
            "5728/5746 [============================>.] - ETA: 0s - loss: 0.3431 - accuracy: 0.8595\n",
            "Epoch 00003: val_accuracy improved from 0.85915 to 0.88106, saving model to best_model.h5\n",
            "5746/5746 [==============================] - 145s 25ms/sample - loss: 0.3434 - accuracy: 0.8590 - val_loss: 0.2930 - val_accuracy: 0.8811\n",
            "Epoch 4/20\n",
            "5728/5746 [============================>.] - ETA: 0s - loss: 0.2787 - accuracy: 0.8898\n",
            "Epoch 00004: val_accuracy improved from 0.88106 to 0.89045, saving model to best_model.h5\n",
            "5746/5746 [==============================] - 146s 25ms/sample - loss: 0.2785 - accuracy: 0.8897 - val_loss: 0.2594 - val_accuracy: 0.8905\n",
            "Epoch 5/20\n",
            "5728/5746 [============================>.] - ETA: 0s - loss: 0.2250 - accuracy: 0.9131\n",
            "Epoch 00005: val_accuracy improved from 0.89045 to 0.89358, saving model to best_model.h5\n",
            "5746/5746 [==============================] - 146s 25ms/sample - loss: 0.2245 - accuracy: 0.9133 - val_loss: 0.2483 - val_accuracy: 0.8936\n",
            "Epoch 6/20\n",
            "5728/5746 [============================>.] - ETA: 0s - loss: 0.1691 - accuracy: 0.9408\n",
            "Epoch 00006: val_accuracy did not improve from 0.89358\n",
            "5746/5746 [==============================] - 146s 25ms/sample - loss: 0.1690 - accuracy: 0.9408 - val_loss: 0.2558 - val_accuracy: 0.8905\n",
            "Epoch 7/20\n",
            "5728/5746 [============================>.] - ETA: 0s - loss: 0.1331 - accuracy: 0.9539\n",
            "Epoch 00007: val_accuracy did not improve from 0.89358\n",
            "5746/5746 [==============================] - 145s 25ms/sample - loss: 0.1331 - accuracy: 0.9539 - val_loss: 0.3092 - val_accuracy: 0.8842\n",
            "Epoch 8/20\n",
            "5728/5746 [============================>.] - ETA: 0s - loss: 0.0983 - accuracy: 0.9665\n",
            "Epoch 00008: val_accuracy improved from 0.89358 to 0.89984, saving model to best_model.h5\n",
            "5746/5746 [==============================] - 145s 25ms/sample - loss: 0.0985 - accuracy: 0.9664 - val_loss: 0.2665 - val_accuracy: 0.8998\n",
            "Epoch 9/20\n",
            "5728/5746 [============================>.] - ETA: 0s - loss: 0.0706 - accuracy: 0.9789\n",
            "Epoch 00009: val_accuracy did not improve from 0.89984\n",
            "5746/5746 [==============================] - 145s 25ms/sample - loss: 0.0705 - accuracy: 0.9789 - val_loss: 0.2969 - val_accuracy: 0.8936\n",
            "Epoch 10/20\n",
            "5728/5746 [============================>.] - ETA: 0s - loss: 0.0531 - accuracy: 0.9820\n",
            "Epoch 00010: val_accuracy improved from 0.89984 to 0.90141, saving model to best_model.h5\n",
            "5746/5746 [==============================] - 146s 25ms/sample - loss: 0.0529 - accuracy: 0.9821 - val_loss: 0.3008 - val_accuracy: 0.9014\n",
            "Epoch 11/20\n",
            "5728/5746 [============================>.] - ETA: 0s - loss: 0.0321 - accuracy: 0.9911\n",
            "Epoch 00011: val_accuracy did not improve from 0.90141\n",
            "5746/5746 [==============================] - 146s 25ms/sample - loss: 0.0320 - accuracy: 0.9911 - val_loss: 0.3987 - val_accuracy: 0.8842\n",
            "Epoch 00011: early stopping\n"
          ],
          "name": "stdout"
        }
      ]
    },
    {
      "cell_type": "code",
      "metadata": {
        "id": "o5SAw14IACrm",
        "colab_type": "code",
        "outputId": "2868a153-ba4c-4c00-fb39-62cf3052eb69",
        "colab": {
          "base_uri": "https://localhost:8080/",
          "height": 573
        }
      },
      "source": [
        "import matplotlib.pyplot as plt\n",
        "\n",
        "def plot(history):\n",
        "  \n",
        "  acc = history.history['accuracy']\n",
        "  val_acc = history.history['val_accuracy']\n",
        "  loss = history.history['loss']\n",
        "  val_loss = history.history['val_loss']\n",
        "\n",
        "  epochs = range(len(acc))\n",
        "\n",
        "  plt.title('Training and validation accuracy')\n",
        "  plt.plot(epochs, acc, color='blue', label='Train')\n",
        "  plt.plot(epochs, val_acc, color='orange', label='Val')\n",
        "  plt.xlabel('Epoch')\n",
        "  plt.ylabel('Accuracy')\n",
        "  plt.legend()\n",
        "\n",
        "  _ = plt.figure()\n",
        "  plt.title('Training and validation loss')\n",
        "  plt.plot(epochs, loss, color='blue', label='Train')\n",
        "  plt.plot(epochs, val_loss, color='orange', label='Val')\n",
        "  plt.xlabel('Epoch')\n",
        "  plt.ylabel('Loss')\n",
        "  plt.legend()\n",
        "  \n",
        "plot(history)"
      ],
      "execution_count": 0,
      "outputs": [
        {
          "output_type": "display_data",
          "data": {
            "image/png": "[encoded data removed]",
            "text/plain": [
              "<Figure size 432x288 with 1 Axes>"
            ]
          },
          "metadata": {
            "tags": []
          }
        },
        {
          "output_type": "display_data",
          "data": {
            "image/png": "[encoded data removed]",
            "text/plain": [
              "<Figure size 432x288 with 1 Axes>"
            ]
          },
          "metadata": {
            "tags": []
          }
        }
      ]
    },
    {
      "cell_type": "code",
      "metadata": {
        "id": "wXmhv5sBImE0",
        "colab_type": "code",
        "colab": {}
      },
      "source": [
        "from tensorflow.keras.models import load_model\n",
        "\n",
        "saved_model = load_model('/content/best_model.h5')"
      ],
      "execution_count": 0,
      "outputs": []
    },
    {
      "cell_type": "code",
      "metadata": {
        "id": "epZgF7CvAFSU",
        "colab_type": "code",
        "colab": {}
      },
      "source": [
        "y_test_new = np.argmax(y_test, axis=1)"
      ],
      "execution_count": 0,
      "outputs": []
    },
    {
      "cell_type": "code",
      "metadata": {
        "id": "RlJ_e50jtc3n",
        "colab_type": "code",
        "outputId": "88bf3c26-005c-4377-9e5e-66cdb1d6041d",
        "colab": {
          "base_uri": "https://localhost:8080/",
          "height": 102
        }
      },
      "source": [
        "y_test[0:5]"
      ],
      "execution_count": 0,
      "outputs": [
        {
          "output_type": "execute_result",
          "data": {
            "text/plain": [
              "array([[1., 0.],\n",
              "       [1., 0.],\n",
              "       [1., 0.],\n",
              "       [0., 1.],\n",
              "       [1., 0.]], dtype=float32)"
            ]
          },
          "metadata": {
            "tags": []
          },
          "execution_count": 136
        }
      ]
    },
    {
      "cell_type": "code",
      "metadata": {
        "id": "Ykmy3gKS10bK",
        "colab_type": "code",
        "outputId": "79021403-a31c-4391-e849-33cd7f999958",
        "colab": {
          "base_uri": "https://localhost:8080/",
          "height": 34
        }
      },
      "source": [
        "y_test_new[0:5]"
      ],
      "execution_count": 0,
      "outputs": [
        {
          "output_type": "execute_result",
          "data": {
            "text/plain": [
              "array([0, 0, 0, 1, 0])"
            ]
          },
          "metadata": {
            "tags": []
          },
          "execution_count": 138
        }
      ]
    },
    {
      "cell_type": "code",
      "metadata": {
        "id": "cl1DVndARGdz",
        "colab_type": "code",
        "outputId": "0c60987d-94c0-4460-9d4d-253cfde873a6",
        "colab": {
          "base_uri": "https://localhost:8080/",
          "height": 102
        }
      },
      "source": [
        "prediction = saved_model.predict(x_test)\n",
        "prediction[0:5]"
      ],
      "execution_count": 0,
      "outputs": [
        {
          "output_type": "execute_result",
          "data": {
            "text/plain": [
              "array([[9.9569762e-01, 4.3024388e-03],\n",
              "       [9.7745776e-01, 2.2542251e-02],\n",
              "       [9.9073106e-01, 9.2689190e-03],\n",
              "       [9.8672532e-04, 9.9901330e-01],\n",
              "       [9.9912292e-01, 8.7714556e-04]], dtype=float32)"
            ]
          },
          "metadata": {
            "tags": []
          },
          "execution_count": 141
        }
      ]
    },
    {
      "cell_type": "code",
      "metadata": {
        "id": "ayePLMOPDxxh",
        "colab_type": "code",
        "colab": {}
      },
      "source": [
        "y_pred=np.argmax(prediction, axis=1)"
      ],
      "execution_count": 0,
      "outputs": []
    },
    {
      "cell_type": "code",
      "metadata": {
        "id": "7SuTxCOoEDtx",
        "colab_type": "code",
        "outputId": "48367ac2-58f5-4ab4-e86d-0ffad594921e",
        "colab": {
          "base_uri": "https://localhost:8080/",
          "height": 34
        }
      },
      "source": [
        "y_pred[0:5]"
      ],
      "execution_count": 0,
      "outputs": [
        {
          "output_type": "execute_result",
          "data": {
            "text/plain": [
              "array([0, 0, 0, 1, 0])"
            ]
          },
          "metadata": {
            "tags": []
          },
          "execution_count": 143
        }
      ]
    },
    {
      "cell_type": "code",
      "metadata": {
        "id": "M892Fe54stYb",
        "colab_type": "code",
        "outputId": "1fb92160-3728-4650-b46f-890666ae97b6",
        "colab": {
          "base_uri": "https://localhost:8080/",
          "height": 34
        }
      },
      "source": [
        "sum(y_pred)"
      ],
      "execution_count": 0,
      "outputs": [
        {
          "output_type": "execute_result",
          "data": {
            "text/plain": [
              "585"
            ]
          },
          "metadata": {
            "tags": []
          },
          "execution_count": 144
        }
      ]
    },
    {
      "cell_type": "code",
      "metadata": {
        "id": "CbcF1PT3syKA",
        "colab_type": "code",
        "outputId": "5b0e5ff8-95d0-46c5-db68-4269453d9895",
        "colab": {
          "base_uri": "https://localhost:8080/",
          "height": 34
        }
      },
      "source": [
        "sum(y_test_new)"
      ],
      "execution_count": 0,
      "outputs": [
        {
          "output_type": "execute_result",
          "data": {
            "text/plain": [
              "353"
            ]
          },
          "metadata": {
            "tags": []
          },
          "execution_count": 145
        }
      ]
    },
    {
      "cell_type": "code",
      "metadata": {
        "id": "GK6tNtg_RAnk",
        "colab_type": "code",
        "outputId": "9e8e431c-120f-44b9-eff3-002d8e2ab857",
        "colab": {
          "base_uri": "https://localhost:8080/",
          "height": 68
        }
      },
      "source": [
        "from sklearn.metrics import confusion_matrix\n",
        "cm1 = confusion_matrix(y_test_new,y_pred)\n",
        "print('Confusion Matrix : \\n', cm1)\n"
      ],
      "execution_count": 0,
      "outputs": [
        {
          "output_type": "stream",
          "text": [
            "Confusion Matrix : \n",
            " [[2793  283]\n",
            " [  51  302]]\n"
          ],
          "name": "stdout"
        }
      ]
    },
    {
      "cell_type": "code",
      "metadata": {
        "id": "NaBVCBiJzqRC",
        "colab_type": "code",
        "outputId": "43c7e7d4-e7f8-434b-b01d-dc2a85acea50",
        "colab": {
          "base_uri": "https://localhost:8080/",
          "height": 51
        }
      },
      "source": [
        "from sklearn.metrics import precision_recall_fscore_support\n",
        "print(precision_recall_fscore_support(y_test_new, y_pred, average='macro'))\n",
        "print(precision_recall_fscore_support(y_test_new, y_pred, average='weighted'))"
      ],
      "execution_count": 0,
      "outputs": [
        {
          "output_type": "stream",
          "text": [
            "(0.7491534133939197, 0.8817607392699396, 0.7937521610096236, None)\n",
            "(0.934112610405289, 0.9025955088947215, 0.9127326653416675, None)\n"
          ],
          "name": "stdout"
        }
      ]
    },
    {
      "cell_type": "code",
      "metadata": {
        "id": "ypwGDqcIGK4Q",
        "colab_type": "code",
        "colab": {}
      },
      "source": [
        "from sklearn.metrics import confusion_matrix\n",
        "tn, fp, fn, tp = confusion_matrix(y_test_new, y_pred).ravel()\n",
        "pre = tp / (tp + fp)\n",
        "rec = tp / (tp + fn)\n",
        "tnr = tn / (tn + fp)\n",
        "acc = (tp + tn)/ (tp + tn + fp + fn)\n",
        "balanced_acc = (rec + tnr) / 2\n",
        "f1 = 2 * (pre * rec)/(pre+rec)"
      ],
      "execution_count": 0,
      "outputs": []
    },
    {
      "cell_type": "code",
      "metadata": {
        "id": "JEIlfzmBJRLk",
        "colab_type": "code",
        "outputId": "626e56f3-4db3-4c83-be21-423bc73f8bd7",
        "colab": {
          "base_uri": "https://localhost:8080/",
          "height": 34
        }
      },
      "source": [
        "print(tp, tn, fp, fn)"
      ],
      "execution_count": 0,
      "outputs": [
        {
          "output_type": "stream",
          "text": [
            "302 2793 283 51\n"
          ],
          "name": "stdout"
        }
      ]
    },
    {
      "cell_type": "code",
      "metadata": {
        "id": "04DrI_FKuc77",
        "colab_type": "code",
        "outputId": "3022f464-00ef-4325-ef47-7e693082941f",
        "colab": {
          "base_uri": "https://localhost:8080/",
          "height": 34
        }
      },
      "source": [
        "print(pre, rec, tnr, acc, balanced_acc, f1)"
      ],
      "execution_count": 0,
      "outputs": [
        {
          "output_type": "stream",
          "text": [
            "0.5162393162393163 0.8555240793201133 0.907997399219766 0.9025955088947215 0.8817607392699396 0.6439232409381663\n"
          ],
          "name": "stdout"
        }
      ]
    },
    {
      "cell_type": "code",
      "metadata": {
        "id": "lEAMRTJYJwjE",
        "colab_type": "code",
        "outputId": "64b11c3c-d580-4139-a6d1-cb1f87ac8488",
        "colab": {
          "base_uri": "https://localhost:8080/",
          "height": 51
        }
      },
      "source": [
        "import math\n",
        "num = (tp*tn - fp*fn)\n",
        "den = math.sqrt((tp+fp)*(tp+fn)*(tn+fp)*(tn+fn))\n",
        "print(num, den)\n",
        "mcc = num/den\n",
        "print(mcc)"
      ],
      "execution_count": 0,
      "outputs": [
        {
          "output_type": "stream",
          "text": [
            "829053 1344074.2080406125\n",
            "0.6168208533728142\n"
          ],
          "name": "stdout"
        }
      ]
    },
    {
      "cell_type": "code",
      "metadata": {
        "id": "KszW-GW9KR66",
        "colab_type": "code",
        "colab": {}
      },
      "source": [
        ""
      ],
      "execution_count": 0,
      "outputs": []
    }
  ]
}