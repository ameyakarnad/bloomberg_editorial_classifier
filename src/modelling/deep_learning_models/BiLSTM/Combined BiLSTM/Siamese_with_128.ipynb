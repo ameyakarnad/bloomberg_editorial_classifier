{
  "nbformat": 4,
  "nbformat_minor": 0,
  "metadata": {
    "colab": {
      "name": "Siamese_with_128.ipynb",
      "provenance": [],
      "collapsed_sections": []
    },
    "kernelspec": {
      "name": "python3",
      "display_name": "Python 3"
    },
    "accelerator": "GPU"
  },
  "cells": [
    {
      "cell_type": "code",
      "metadata": {
        "id": "NP3kwQq8zkIa",
        "colab_type": "code",
        "outputId": "e2cc1c53-0aab-493a-dfe2-5c33b2e335a0",
        "colab": {
          "base_uri": "https://localhost:8080/",
          "height": 139
        }
      },
      "source": [
        "import pandas as pd\n",
        "import numpy as np\n",
        "import csv\n",
        "\n",
        "%tensorflow_version 2.x\n",
        "import tensorflow as tf\n",
        "tf.__version__\n",
        "assert tf.__version__ >= \"2.0\"\n",
        "\n",
        "from google.colab import drive\n",
        "drive.mount('/content/drive')"
      ],
      "execution_count": 0,
      "outputs": [
        {
          "output_type": "stream",
          "text": [
            "TensorFlow 2.x selected.\n",
            "Go to this URL in a browser: https://accounts.google.com/o/oauth2/auth?client_id=947318989803-6bn6qk8qdgf4n4g3pfee6491hc0brc4i.apps.googleusercontent.com&redirect_uri=urn%3aietf%3awg%3aoauth%3a2.0%3aoob&response_type=code&scope=email%20https%3a%2f%2fwww.googleapis.com%2fauth%2fdocs.test%20https%3a%2f%2fwww.googleapis.com%2fauth%2fdrive%20https%3a%2f%2fwww.googleapis.com%2fauth%2fdrive.photos.readonly%20https%3a%2f%2fwww.googleapis.com%2fauth%2fpeopleapi.readonly\n",
            "\n",
            "Enter your authorization code:\n",
            "··········\n",
            "Mounted at /content/drive\n"
          ],
          "name": "stdout"
        }
      ]
    },
    {
      "cell_type": "code",
      "metadata": {
        "id": "VTJva58j2IuX",
        "colab_type": "code",
        "colab": {}
      },
      "source": [
        "x_train = pd.read_csv('/content/drive/My Drive/bilstm_data/x_train.csv')\n",
        "x_test = pd.read_csv('/content/drive/My Drive/bilstm_data/x_test.csv')\n",
        "x_val = pd.read_csv('/content/drive/My Drive/bilstm_data/x_val.csv')\n",
        "\n",
        "\n",
        "y_train = pd.read_csv('/content/drive/My Drive/bilstm_data/y_train.csv')\n",
        "y_test = pd.read_csv('/content/drive/My Drive/bilstm_data/y_test.csv')\n",
        "y_val = pd.read_csv('/content/drive/My Drive/bilstm_data/y_val.csv')\n"
      ],
      "execution_count": 0,
      "outputs": []
    },
    {
      "cell_type": "code",
      "metadata": {
        "id": "SF6vfNFcMkea",
        "colab_type": "code",
        "colab": {}
      },
      "source": [
        "x_train['heading'] = x_train['heading'].str.replace('GUEST EDITORIAL:', '')\n",
        "x_train['heading'] = x_train['heading'].str.replace('EDITORIAL:', '')\n",
        "x_train['heading'] = x_train['heading'].str.replace('Op-Ed:', '')\n",
        "x_train['heading'] = x_train['heading'].str.replace('Editorial:', '')\n",
        "x_train['heading'] = x_train['heading'].str.replace('Opinion:', '')\n",
        "x_train['heading'] = x_train['heading'].str.replace('Opinion', '')\n",
        "x_train['heading'] = x_train['heading'].str.replace('Editorial', '')\n",
        "x_train['heading'] = x_train['heading'].str.replace('Opioid', '')\n",
        "x_train['heading'] = x_train['heading'].str.replace('LETTER', '')\n",
        "x_train['heading'] = x_train['heading'].str.replace('Letter to the Editor:', '')\n",
        "x_train['heading'] = x_train['heading'].str.replace('COLUMN:', '')\n",
        "\n",
        "x_val['heading'] = x_val['heading'].str.replace('GUEST EDITORIAL:', '')\n",
        "x_val['heading'] = x_val['heading'].str.replace('EDITORIAL:', '')\n",
        "x_val['heading'] = x_val['heading'].str.replace('Op-Ed:', '')\n",
        "x_val['heading'] = x_val['heading'].str.replace('Editorial:', '')\n",
        "x_val['heading'] = x_val['heading'].str.replace('Opinion:', '')\n",
        "x_val['heading'] = x_val['heading'].str.replace('Opinion', '')\n",
        "x_val['heading'] = x_val['heading'].str.replace('Editorial', '')\n",
        "x_val['heading'] = x_val['heading'].str.replace('Opioid', '')\n",
        "x_val['heading'] = x_val['heading'].str.replace('LETTER', '')\n",
        "x_val['heading'] = x_val['heading'].str.replace('Letter to the Editor:', '')\n",
        "x_val['heading'] = x_val['heading'].str.replace('COLUMN:', '')\n",
        "\n",
        "x_test['heading'] = x_test['heading'].str.replace('GUEST EDITORIAL:', '')\n",
        "x_test['heading'] = x_test['heading'].str.replace('EDITORIAL:', '')\n",
        "x_test['heading'] = x_test['heading'].str.replace('Op-Ed:', '')\n",
        "x_test['heading'] = x_test['heading'].str.replace('Editorial:', '')\n",
        "x_test['heading'] = x_test['heading'].str.replace('Opinion:', '')\n",
        "x_test['heading'] = x_test['heading'].str.replace('Opinion', '')\n",
        "x_test['heading'] = x_test['heading'].str.replace('Editorial', '')\n",
        "x_test['heading'] = x_test['heading'].str.replace('Opioid', '')\n",
        "x_test['heading'] = x_test['heading'].str.replace('LETTER', '')\n",
        "x_test['heading'] = x_test['heading'].str.replace('Letter to the Editor:', '')\n",
        "x_test['heading'] = x_test['heading'].str.replace('COLUMN:', '')\n"
      ],
      "execution_count": 0,
      "outputs": []
    },
    {
      "cell_type": "code",
      "metadata": {
        "id": "WHI6wapl3MZt",
        "colab_type": "code",
        "colab": {}
      },
      "source": [
        "texts = x_train['article_text'].values\n",
        "texts_test = x_test['article_text'].values"
      ],
      "execution_count": 0,
      "outputs": []
    },
    {
      "cell_type": "code",
      "metadata": {
        "id": "S616P0RIfwja",
        "colab_type": "code",
        "colab": {}
      },
      "source": [
        "texts_header = x_train['heading'].values\n",
        "texts_header_test = x_test['heading'].values\n",
        "texts_header_val = x_val['heading'].values"
      ],
      "execution_count": 0,
      "outputs": []
    },
    {
      "cell_type": "code",
      "metadata": {
        "id": "nu3Ffwxm37xJ",
        "colab_type": "code",
        "colab": {}
      },
      "source": [
        "texts_val = x_val['article_text'].values\n",
        "labels_val = y_val['label'].values"
      ],
      "execution_count": 0,
      "outputs": []
    },
    {
      "cell_type": "code",
      "metadata": {
        "id": "oxW-NQs87j_z",
        "colab_type": "code",
        "colab": {}
      },
      "source": [
        "labels_test = y_test['label'].values\n",
        "labels = y_train['label'].values"
      ],
      "execution_count": 0,
      "outputs": []
    },
    {
      "cell_type": "code",
      "metadata": {
        "id": "MRmzS-eY93rE",
        "colab_type": "code",
        "outputId": "970d5cfd-749f-41f1-9f74-6c9f43a93604",
        "colab": {
          "base_uri": "https://localhost:8080/",
          "height": 34
        }
      },
      "source": [
        "print(labels.shape, labels_test.shape, labels_test.shape)"
      ],
      "execution_count": 0,
      "outputs": [
        {
          "output_type": "stream",
          "text": [
            "(5746,) (3429,) (3429,)\n"
          ],
          "name": "stdout"
        }
      ]
    },
    {
      "cell_type": "code",
      "metadata": {
        "id": "3mPm_rI-gNtB",
        "colab_type": "code",
        "outputId": "9e21697f-2a0f-4d7c-9156-57140459ec8a",
        "colab": {
          "base_uri": "https://localhost:8080/",
          "height": 34
        }
      },
      "source": [
        "print(texts_header.shape, texts_header_val.shape, texts_header_test.shape)"
      ],
      "execution_count": 0,
      "outputs": [
        {
          "output_type": "stream",
          "text": [
            "(5746,) (639,) (3429,)\n"
          ],
          "name": "stdout"
        }
      ]
    },
    {
      "cell_type": "code",
      "metadata": {
        "id": "KoA8QpdF7j8a",
        "colab_type": "code",
        "outputId": "a793447f-e497-47c6-92c7-35ff3d6e994e",
        "colab": {
          "base_uri": "https://localhost:8080/",
          "height": 34
        }
      },
      "source": [
        "len(y_test.loc[y_test['label']==0])"
      ],
      "execution_count": 0,
      "outputs": [
        {
          "output_type": "execute_result",
          "data": {
            "text/plain": [
              "3076"
            ]
          },
          "metadata": {
            "tags": []
          },
          "execution_count": 10
        }
      ]
    },
    {
      "cell_type": "code",
      "metadata": {
        "id": "cDWY2Gns7rpm",
        "colab_type": "code",
        "outputId": "c7d21fe5-633e-4ec6-9204-38e4bd2d462a",
        "colab": {
          "base_uri": "https://localhost:8080/",
          "height": 34
        }
      },
      "source": [
        "len(y_test.loc[y_test['label']==1])"
      ],
      "execution_count": 0,
      "outputs": [
        {
          "output_type": "execute_result",
          "data": {
            "text/plain": [
              "353"
            ]
          },
          "metadata": {
            "tags": []
          },
          "execution_count": 11
        }
      ]
    },
    {
      "cell_type": "code",
      "metadata": {
        "id": "5yf8klrD7uXO",
        "colab_type": "code",
        "colab": {}
      },
      "source": [
        "MAX_NUM_WORDS = 3000 # how many unique words to use (i.e num rows in embedding vector)\n",
        "MAX_SEQUENCE_LENGTH = 128 # max number of words in a review to use"
      ],
      "execution_count": 0,
      "outputs": []
    },
    {
      "cell_type": "code",
      "metadata": {
        "id": "mypJfroL70Fj",
        "colab_type": "code",
        "outputId": "cb0ddeac-dd2a-4ebb-c47e-53f73701b1c9",
        "colab": {
          "base_uri": "https://localhost:8080/",
          "height": 34
        }
      },
      "source": [
        "from tensorflow.keras.preprocessing.text import Tokenizer\n",
        "\n",
        "tokenizer_train = Tokenizer(num_words=MAX_NUM_WORDS) #convert word(string to int)\n",
        "tokenizer_train.fit_on_texts(texts) \n",
        "sequences = tokenizer_train.texts_to_sequences(texts) \n",
        "\n",
        "word_index = tokenizer_train.word_index #convert this to dict\n",
        "print('Found %s unique tokens.' % len(word_index))\n"
      ],
      "execution_count": 0,
      "outputs": [
        {
          "output_type": "stream",
          "text": [
            "Found 85423 unique tokens.\n"
          ],
          "name": "stdout"
        }
      ]
    },
    {
      "cell_type": "code",
      "metadata": {
        "id": "b7AXCaBa77mO",
        "colab_type": "code",
        "colab": {}
      },
      "source": [
        "sequences3 = tokenizer_train.texts_to_sequences(texts_val) \n",
        "sequences_test = tokenizer_train.texts_to_sequences(texts_test)"
      ],
      "execution_count": 0,
      "outputs": []
    },
    {
      "cell_type": "code",
      "metadata": {
        "id": "s5eNML5bmxzU",
        "colab_type": "code",
        "outputId": "dfec0bee-b885-4e96-ea7f-a557f1759a4b",
        "colab": {
          "base_uri": "https://localhost:8080/",
          "height": 54
        }
      },
      "source": [
        "'''\n",
        "tokenizer_header_train = Tokenizer(num_words=MAX_HEADER_LENGTH) #convert word(string to int)\n",
        "tokenizer_header_train.fit_on_texts(texts_header) \n",
        "sequences_header_train = tokenizer_header_train.texts_to_sequences(texts_header) \n",
        "\n",
        "word_index2 = tokenizer_header_train.word_index #convert this to dict\n",
        "word_index.update(word_index2)\n",
        "print('Found %s unique tokens.' % len(word_index2))\n",
        "'''"
      ],
      "execution_count": 0,
      "outputs": [
        {
          "output_type": "execute_result",
          "data": {
            "text/plain": [
              "\"\\ntokenizer_header_train = Tokenizer(num_words=MAX_HEADER_LENGTH) #convert word(string to int)\\ntokenizer_header_train.fit_on_texts(texts_header) \\nsequences_header_train = tokenizer_header_train.texts_to_sequences(texts_header) \\n\\nword_index2 = tokenizer_header_train.word_index #convert this to dict\\nword_index.update(word_index2)\\nprint('Found %s unique tokens.' % len(word_index2))\\n\""
            ]
          },
          "metadata": {
            "tags": []
          },
          "execution_count": 15
        }
      ]
    },
    {
      "cell_type": "code",
      "metadata": {
        "id": "WM_bFIOvorz1",
        "colab_type": "code",
        "colab": {}
      },
      "source": [
        "sequences_header_train = tokenizer_train.texts_to_sequences(texts_header) \n",
        "sequences_header_test = tokenizer_train.texts_to_sequences(texts_header_test) \n",
        "sequences_header_val = tokenizer_train.texts_to_sequences(texts_header_val) "
      ],
      "execution_count": 0,
      "outputs": []
    },
    {
      "cell_type": "code",
      "metadata": {
        "id": "YJw3dLXv8GFf",
        "colab_type": "code",
        "outputId": "1c7566d2-c50d-4e20-f894-76f141283d34",
        "colab": {
          "base_uri": "https://localhost:8080/",
          "height": 68
        }
      },
      "source": [
        "from tensorflow.keras.preprocessing.sequence import pad_sequences\n",
        "from tensorflow.keras.utils import to_categorical\n",
        "\n",
        "data = pad_sequences(sequences, maxlen=MAX_SEQUENCE_LENGTH, padding='pre')\n",
        "data_header = pad_sequences(sequences_header_train, maxlen = MAX_SEQUENCE_LENGTH, padding='pre')\n",
        "labels = to_categorical(np.asarray(labels))\n",
        "print('Shape of data tensor:', data.shape)\n",
        "print('Shape of header tensor:', data_header.shape)\n",
        "print('Shape of label tensor:', labels.shape)"
      ],
      "execution_count": 0,
      "outputs": [
        {
          "output_type": "stream",
          "text": [
            "Shape of data tensor: (5746, 128)\n",
            "Shape of header tensor: (5746, 128)\n",
            "Shape of label tensor: (5746, 2)\n"
          ],
          "name": "stdout"
        }
      ]
    },
    {
      "cell_type": "code",
      "metadata": {
        "id": "qayTi_pg8dpd",
        "colab_type": "code",
        "outputId": "ed395ca7-333b-4c97-f1f8-28e0a0067ee1",
        "colab": {
          "base_uri": "https://localhost:8080/",
          "height": 119
        }
      },
      "source": [
        "data2 = pad_sequences(sequences_test, maxlen=MAX_SEQUENCE_LENGTH, padding='pre')\n",
        "data2_header = pad_sequences(sequences_header_test, maxlen=MAX_SEQUENCE_LENGTH, padding='pre')\n",
        "labels2 = to_categorical(np.asarray(labels_test))\n",
        "print('Shape of data tensor:', data2.shape)\n",
        "print('Shape of header tensor:', data2_header.shape)\n",
        "print('Shape of label tensor:', labels2.shape)\n",
        "\n",
        "data3 = pad_sequences(sequences3, maxlen=MAX_SEQUENCE_LENGTH, padding='pre')\n",
        "data3_header = pad_sequences(sequences_header_val, maxlen=MAX_SEQUENCE_LENGTH, padding='pre')\n",
        "labels3 = to_categorical(np.asarray(labels_val))\n",
        "print('Shape of data tensor:', data3.shape)\n",
        "print('Shape of header tensor:', data3_header.shape)\n",
        "print('Shape of label tensor:', labels3.shape)\n"
      ],
      "execution_count": 0,
      "outputs": [
        {
          "output_type": "stream",
          "text": [
            "Shape of data tensor: (3429, 128)\n",
            "Shape of header tensor: (3429, 128)\n",
            "Shape of label tensor: (3429, 2)\n",
            "Shape of data tensor: (639, 128)\n",
            "Shape of header tensor: (639, 128)\n",
            "Shape of label tensor: (639, 2)\n"
          ],
          "name": "stdout"
        }
      ]
    },
    {
      "cell_type": "code",
      "metadata": {
        "id": "lYxt4ph48joU",
        "colab_type": "code",
        "colab": {}
      },
      "source": [
        "x_train_article = data\n",
        "x_train_header = data_header\n",
        "y_train = labels\n",
        "\n",
        "x_val_article = data3\n",
        "x_val_header = data3_header\n",
        "y_val = labels3\n",
        "\n",
        "x_test_article = data2\n",
        "x_test_header = data2_header\n",
        "y_test = labels2"
      ],
      "execution_count": 0,
      "outputs": []
    },
    {
      "cell_type": "code",
      "metadata": {
        "id": "-NlMg25i-XM3",
        "colab_type": "code",
        "outputId": "9e793865-cef5-4678-c42f-afa05d5840cb",
        "colab": {
          "base_uri": "https://localhost:8080/",
          "height": 34
        }
      },
      "source": [
        "print(y_train.shape, y_val.shape, y_test.shape)"
      ],
      "execution_count": 0,
      "outputs": [
        {
          "output_type": "stream",
          "text": [
            "(5746, 2) (639, 2) (3429, 2)\n"
          ],
          "name": "stdout"
        }
      ]
    },
    {
      "cell_type": "code",
      "metadata": {
        "id": "0j_NdJc0-VTb",
        "colab_type": "code",
        "outputId": "576da4f6-f7ed-4cf4-bca2-250015946ca5",
        "colab": {
          "base_uri": "https://localhost:8080/",
          "height": 34
        }
      },
      "source": [
        "print(x_train_article.shape, x_train_header.shape, x_val_article.shape, x_val_header.shape)"
      ],
      "execution_count": 0,
      "outputs": [
        {
          "output_type": "stream",
          "text": [
            "(5746, 128) (5746, 128) (639, 128) (639, 128)\n"
          ],
          "name": "stdout"
        }
      ]
    },
    {
      "cell_type": "code",
      "metadata": {
        "id": "MCj9Orni8GIm",
        "colab_type": "code",
        "outputId": "b5b2a78e-52b9-414a-f618-b594bbecd0bb",
        "colab": {
          "base_uri": "https://localhost:8080/",
          "height": 34
        }
      },
      "source": [
        "GLOVE_DIR='drive/My Drive/yelp_review_polarity_csv/'\n",
        "\n",
        "import os\n",
        "embeddings_index = {}\n",
        "f = open(os.path.join(GLOVE_DIR, 'glove.42B.300d.txt'))\n",
        "for line in f:\n",
        "    values = line.split()\n",
        "    word = values[0]\n",
        "    coefs = np.asarray(values[1:], dtype='float32')\n",
        "    embeddings_index[word] = coefs\n",
        "f.close()\n",
        "\n",
        "print('Found %s word vectors.' % len(embeddings_index))\n"
      ],
      "execution_count": 0,
      "outputs": [
        {
          "output_type": "stream",
          "text": [
            "Found 1917494 word vectors.\n"
          ],
          "name": "stdout"
        }
      ]
    },
    {
      "cell_type": "code",
      "metadata": {
        "id": "I3BgH8Lq8u3b",
        "colab_type": "code",
        "colab": {}
      },
      "source": [
        "EMBEDDING_DIM = 300 # how big is each word vector\n",
        "\n",
        "embedding_matrix = np.zeros((len(word_index) + 1, EMBEDDING_DIM))\n",
        "for word, i in word_index.items():\n",
        "    embedding_vector = embeddings_index.get(word)\n",
        "    if embedding_vector is not None:\n",
        "        # words not found in embedding index will be all-zeros.\n",
        "        embedding_matrix[i] = embedding_vector"
      ],
      "execution_count": 0,
      "outputs": []
    },
    {
      "cell_type": "code",
      "metadata": {
        "id": "QK-to-cx84gn",
        "colab_type": "code",
        "colab": {}
      },
      "source": [
        "from tensorflow.keras.layers import Embedding\n",
        "\n",
        "embedding_layer = Embedding(len(word_index) + 1,\n",
        "                            EMBEDDING_DIM,\n",
        "                            weights=[embedding_matrix],\n",
        "                            input_length=MAX_SEQUENCE_LENGTH,\n",
        "                            trainable=False)"
      ],
      "execution_count": 0,
      "outputs": []
    },
    {
      "cell_type": "code",
      "metadata": {
        "id": "LgLfbTHY86Ds",
        "colab_type": "code",
        "outputId": "f0af2d9e-9a2a-4f1d-ce10-51be3eab0139",
        "colab": {
          "base_uri": "https://localhost:8080/",
          "height": 629
        }
      },
      "source": [
        "from tensorflow.keras.layers import Bidirectional, GlobalMaxPool1D, Conv1D\n",
        "from tensorflow.keras.layers import Dense, Input, LSTM, Embedding, Dropout, Activation, concatenate\n",
        "from tensorflow.keras.models import Model, Sequential\n",
        "from tensorflow.keras.callbacks import EarlyStopping, ModelCheckpoint\n",
        "from tensorflow.keras.backend import sum\n",
        "\n",
        "es = EarlyStopping(monitor='val_loss', mode='min', verbose=1, patience=6)\n",
        "mc = ModelCheckpoint('Siamese_with_128.h5', monitor='val_accuracy', mode='max', verbose=1, save_best_only=True)\n",
        "\n",
        "inp1 = Input(shape=(MAX_SEQUENCE_LENGTH,))\n",
        "x = embedded_sequences = embedding_layer(inp1)\n",
        "\n",
        "x = Bidirectional(LSTM(64, return_sequences=True, dropout=0.3, recurrent_dropout=0.2))(x)\n",
        "x = GlobalMaxPool1D()(x)\n",
        "x = Dense(64, activation=\"relu\")(x)\n",
        "x = Dropout(0.5)(x)\n",
        "\n",
        "\n",
        "inp2 = Input(shape=(MAX_SEQUENCE_LENGTH,))\n",
        "y = embedded_sequences = embedding_layer(inp2)\n",
        "\n",
        "y = Bidirectional(LSTM(64, return_sequences=True, dropout=0.3, recurrent_dropout=0.2))(y)\n",
        "y = GlobalMaxPool1D()(y)\n",
        "y = Dense(64, activation=\"relu\")(y)\n",
        "y = Dropout(0.5)(y)\n",
        "\n",
        "res = concatenate([x, y])\n",
        "res = Dense(2, activation=\"softmax\")(res)\n",
        "model = Model(inputs=[inp1, inp2], outputs=res)\n",
        "model.compile(loss='categorical_crossentropy', optimizer='adam', metrics=['accuracy'])\n",
        "model.summary()\n"
      ],
      "execution_count": 0,
      "outputs": [
        {
          "output_type": "stream",
          "text": [
            "Model: \"model\"\n",
            "__________________________________________________________________________________________________\n",
            "Layer (type)                    Output Shape         Param #     Connected to                     \n",
            "==================================================================================================\n",
            "input_1 (InputLayer)            [(None, 128)]        0                                            \n",
            "__________________________________________________________________________________________________\n",
            "input_2 (InputLayer)            [(None, 128)]        0                                            \n",
            "__________________________________________________________________________________________________\n",
            "embedding (Embedding)           (None, 128, 300)     25627200    input_1[0][0]                    \n",
            "                                                                 input_2[0][0]                    \n",
            "__________________________________________________________________________________________________\n",
            "bidirectional (Bidirectional)   (None, 128, 128)     186880      embedding[0][0]                  \n",
            "__________________________________________________________________________________________________\n",
            "bidirectional_1 (Bidirectional) (None, 128, 128)     186880      embedding[1][0]                  \n",
            "__________________________________________________________________________________________________\n",
            "global_max_pooling1d (GlobalMax (None, 128)          0           bidirectional[0][0]              \n",
            "__________________________________________________________________________________________________\n",
            "global_max_pooling1d_1 (GlobalM (None, 128)          0           bidirectional_1[0][0]            \n",
            "__________________________________________________________________________________________________\n",
            "dense (Dense)                   (None, 64)           8256        global_max_pooling1d[0][0]       \n",
            "__________________________________________________________________________________________________\n",
            "dense_1 (Dense)                 (None, 64)           8256        global_max_pooling1d_1[0][0]     \n",
            "__________________________________________________________________________________________________\n",
            "dropout (Dropout)               (None, 64)           0           dense[0][0]                      \n",
            "__________________________________________________________________________________________________\n",
            "dropout_1 (Dropout)             (None, 64)           0           dense_1[0][0]                    \n",
            "__________________________________________________________________________________________________\n",
            "concatenate (Concatenate)       (None, 128)          0           dropout[0][0]                    \n",
            "                                                                 dropout_1[0][0]                  \n",
            "__________________________________________________________________________________________________\n",
            "dense_2 (Dense)                 (None, 2)            258         concatenate[0][0]                \n",
            "==================================================================================================\n",
            "Total params: 26,017,730\n",
            "Trainable params: 390,530\n",
            "Non-trainable params: 25,627,200\n",
            "__________________________________________________________________________________________________\n"
          ],
          "name": "stdout"
        }
      ]
    },
    {
      "cell_type": "code",
      "metadata": {
        "colab_type": "code",
        "outputId": "3ace2ca3-bf19-4b41-f8b1-4007e3e2890f",
        "id": "ZQOaBISriice",
        "colab": {
          "base_uri": "https://localhost:8080/",
          "height": 714
        }
      },
      "source": [
        "history = model.fit([x_train_article, x_train_header], y_train, validation_data=[[x_val_article, x_val_header], y_val], epochs=10, callbacks=[es, mc], batch_size=64)"
      ],
      "execution_count": 0,
      "outputs": [
        {
          "output_type": "stream",
          "text": [
            "Train on 5746 samples, validate on 639 samples\n",
            "Epoch 1/10\n",
            "5696/5746 [============================>.] - ETA: 0s - loss: 0.5346 - accuracy: 0.7231\n",
            "Epoch 00001: val_accuracy improved from -inf to 0.87480, saving model to Siamese_with_128.h5\n",
            "5746/5746 [==============================] - 84s 15ms/sample - loss: 0.5319 - accuracy: 0.7245 - val_loss: 0.3144 - val_accuracy: 0.8748\n",
            "Epoch 2/10\n",
            "5696/5746 [============================>.] - ETA: 0s - loss: 0.3276 - accuracy: 0.8622\n",
            "Epoch 00002: val_accuracy did not improve from 0.87480\n",
            "5746/5746 [==============================] - 74s 13ms/sample - loss: 0.3278 - accuracy: 0.8622 - val_loss: 0.3147 - val_accuracy: 0.8701\n",
            "Epoch 3/10\n",
            "5696/5746 [============================>.] - ETA: 0s - loss: 0.2732 - accuracy: 0.8959\n",
            "Epoch 00003: val_accuracy improved from 0.87480 to 0.89671, saving model to Siamese_with_128.h5\n",
            "5746/5746 [==============================] - 74s 13ms/sample - loss: 0.2747 - accuracy: 0.8954 - val_loss: 0.2554 - val_accuracy: 0.8967\n",
            "Epoch 4/10\n",
            "5696/5746 [============================>.] - ETA: 0s - loss: 0.2480 - accuracy: 0.9024\n",
            "Epoch 00004: val_accuracy improved from 0.89671 to 0.90923, saving model to Siamese_with_128.h5\n",
            "5746/5746 [==============================] - 75s 13ms/sample - loss: 0.2476 - accuracy: 0.9025 - val_loss: 0.2335 - val_accuracy: 0.9092\n",
            "Epoch 5/10\n",
            "5696/5746 [============================>.] - ETA: 0s - loss: 0.2137 - accuracy: 0.9177\n",
            "Epoch 00005: val_accuracy did not improve from 0.90923\n",
            "5746/5746 [==============================] - 74s 13ms/sample - loss: 0.2130 - accuracy: 0.9180 - val_loss: 0.2510 - val_accuracy: 0.8936\n",
            "Epoch 6/10\n",
            "5696/5746 [============================>.] - ETA: 0s - loss: 0.1920 - accuracy: 0.9243\n",
            "Epoch 00006: val_accuracy did not improve from 0.90923\n",
            "5746/5746 [==============================] - 74s 13ms/sample - loss: 0.1922 - accuracy: 0.9243 - val_loss: 0.2327 - val_accuracy: 0.9045\n",
            "Epoch 7/10\n",
            "5696/5746 [============================>.] - ETA: 0s - loss: 0.1712 - accuracy: 0.9345\n",
            "Epoch 00007: val_accuracy improved from 0.90923 to 0.91549, saving model to Siamese_with_128.h5\n",
            "5746/5746 [==============================] - 74s 13ms/sample - loss: 0.1706 - accuracy: 0.9349 - val_loss: 0.2175 - val_accuracy: 0.9155\n",
            "Epoch 8/10\n",
            "5696/5746 [============================>.] - ETA: 0s - loss: 0.1487 - accuracy: 0.9405\n",
            "Epoch 00008: val_accuracy did not improve from 0.91549\n",
            "5746/5746 [==============================] - 74s 13ms/sample - loss: 0.1494 - accuracy: 0.9403 - val_loss: 0.2166 - val_accuracy: 0.9155\n",
            "Epoch 9/10\n",
            "5696/5746 [============================>.] - ETA: 0s - loss: 0.1318 - accuracy: 0.9480\n",
            "Epoch 00009: val_accuracy improved from 0.91549 to 0.92019, saving model to Siamese_with_128.h5\n",
            "5746/5746 [==============================] - 74s 13ms/sample - loss: 0.1318 - accuracy: 0.9478 - val_loss: 0.2038 - val_accuracy: 0.9202\n",
            "Epoch 10/10\n",
            "5696/5746 [============================>.] - ETA: 0s - loss: 0.1152 - accuracy: 0.9542\n",
            "Epoch 00010: val_accuracy did not improve from 0.92019\n",
            "5746/5746 [==============================] - 74s 13ms/sample - loss: 0.1154 - accuracy: 0.9541 - val_loss: 0.2235 - val_accuracy: 0.9171\n"
          ],
          "name": "stdout"
        }
      ]
    },
    {
      "cell_type": "code",
      "metadata": {
        "id": "lml5wMcL9aTW",
        "colab_type": "code",
        "outputId": "4f84d197-00ba-4388-fcd8-a0fb848e9a69",
        "colab": {
          "base_uri": "https://localhost:8080/",
          "height": 573
        }
      },
      "source": [
        "import matplotlib.pyplot as plt\n",
        "\n",
        "def plot(history):\n",
        "  \n",
        "  acc = history.history['accuracy']\n",
        "  val_acc = history.history['val_accuracy']\n",
        "  loss = history.history['loss']\n",
        "  val_loss = history.history['val_loss']\n",
        "\n",
        "  epochs = range(len(acc))\n",
        "\n",
        "  plt.title('Training and validation accuracy')\n",
        "  plt.plot(epochs, acc, color='blue', label='Train')\n",
        "  plt.plot(epochs, val_acc, color='orange', label='Val')\n",
        "  plt.xlabel('Epoch')\n",
        "  plt.ylabel('Accuracy')\n",
        "  plt.legend()\n",
        "\n",
        "  _ = plt.figure()\n",
        "  plt.title('Training and validation loss')\n",
        "  plt.plot(epochs, loss, color='blue', label='Train')\n",
        "  plt.plot(epochs, val_loss, color='orange', label='Val')\n",
        "  plt.xlabel('Epoch')\n",
        "  plt.ylabel('Loss')\n",
        "  plt.legend()\n",
        "  \n",
        "plot(history)"
      ],
      "execution_count": 0,
      "outputs": [
        {
          "output_type": "display_data",
          "data": {
            "image/png": "[encoded data removed]",
            "text/plain": [
              "<Figure size 432x288 with 1 Axes>"
            ]
          },
          "metadata": {
            "tags": []
          }
        },
        {
          "output_type": "display_data",
          "data": {
            "image/png": "[encoded data removed]",
            "text/plain": [
              "<Figure size 432x288 with 1 Axes>"
            ]
          },
          "metadata": {
            "tags": []
          }
        }
      ]
    },
    {
      "cell_type": "code",
      "metadata": {
        "id": "zo9nkee6CID9",
        "colab_type": "code",
        "colab": {}
      },
      "source": [
        "from tensorflow.keras.models import load_model\n",
        "saved_model = load_model('/content/Siamese_with_128.h5')"
      ],
      "execution_count": 0,
      "outputs": []
    },
    {
      "cell_type": "code",
      "metadata": {
        "id": "bKnzZ3Eo-87Z",
        "colab_type": "code",
        "outputId": "01707c1a-6749-4e6b-b8f9-563263acca46",
        "colab": {
          "base_uri": "https://localhost:8080/",
          "height": 102
        }
      },
      "source": [
        "y_test_new = np.argmax(y_test, axis=1)\n",
        "y_test[0:5]"
      ],
      "execution_count": 0,
      "outputs": [
        {
          "output_type": "execute_result",
          "data": {
            "text/plain": [
              "array([[1., 0.],\n",
              "       [1., 0.],\n",
              "       [1., 0.],\n",
              "       [0., 1.],\n",
              "       [1., 0.]], dtype=float32)"
            ]
          },
          "metadata": {
            "tags": []
          },
          "execution_count": 29
        }
      ]
    },
    {
      "cell_type": "code",
      "metadata": {
        "id": "SBzHHT7N_FhV",
        "colab_type": "code",
        "outputId": "599d5f60-610c-4101-9431-15a94889dde2",
        "colab": {
          "base_uri": "https://localhost:8080/",
          "height": 34
        }
      },
      "source": [
        "y_test_new[0:5]"
      ],
      "execution_count": 0,
      "outputs": [
        {
          "output_type": "execute_result",
          "data": {
            "text/plain": [
              "array([0, 0, 0, 1, 0])"
            ]
          },
          "metadata": {
            "tags": []
          },
          "execution_count": 30
        }
      ]
    },
    {
      "cell_type": "code",
      "metadata": {
        "id": "cHVIpKZp_I-F",
        "colab_type": "code",
        "outputId": "7f2899d3-a30f-4a79-82de-72daf88a8adb",
        "colab": {
          "base_uri": "https://localhost:8080/",
          "height": 102
        }
      },
      "source": [
        "prediction = saved_model.predict([x_test_article, x_test_header])\n",
        "prediction[0:5]"
      ],
      "execution_count": 0,
      "outputs": [
        {
          "output_type": "execute_result",
          "data": {
            "text/plain": [
              "array([[9.2971611e-01, 7.0283882e-02],\n",
              "       [9.5487529e-01, 4.5124732e-02],\n",
              "       [9.9895430e-01, 1.0456453e-03],\n",
              "       [7.3435855e-05, 9.9992657e-01],\n",
              "       [9.9200624e-01, 7.9937782e-03]], dtype=float32)"
            ]
          },
          "metadata": {
            "tags": []
          },
          "execution_count": 31
        }
      ]
    },
    {
      "cell_type": "code",
      "metadata": {
        "id": "fMV56lno_M8n",
        "colab_type": "code",
        "colab": {}
      },
      "source": [
        "y_pred=np.argmax(prediction, axis=1)"
      ],
      "execution_count": 0,
      "outputs": []
    },
    {
      "cell_type": "code",
      "metadata": {
        "id": "aV7UTiWV_UVQ",
        "colab_type": "code",
        "outputId": "6e3e0422-8b89-4d46-a35d-b1ab6eec703e",
        "colab": {
          "base_uri": "https://localhost:8080/",
          "height": 34
        }
      },
      "source": [
        "np.sum(y_pred)"
      ],
      "execution_count": 0,
      "outputs": [
        {
          "output_type": "execute_result",
          "data": {
            "text/plain": [
              "694"
            ]
          },
          "metadata": {
            "tags": []
          },
          "execution_count": 33
        }
      ]
    },
    {
      "cell_type": "code",
      "metadata": {
        "id": "iLW-BOXe_VRO",
        "colab_type": "code",
        "outputId": "1e05428b-fa35-4983-a314-f109e0c51d92",
        "colab": {
          "base_uri": "https://localhost:8080/",
          "height": 34
        }
      },
      "source": [
        "np.sum(y_test_new)"
      ],
      "execution_count": 0,
      "outputs": [
        {
          "output_type": "execute_result",
          "data": {
            "text/plain": [
              "353"
            ]
          },
          "metadata": {
            "tags": []
          },
          "execution_count": 34
        }
      ]
    },
    {
      "cell_type": "code",
      "metadata": {
        "id": "-PTadiGk_VOO",
        "colab_type": "code",
        "outputId": "71572b96-abeb-45af-b5bc-5150f1b71822",
        "colab": {
          "base_uri": "https://localhost:8080/",
          "height": 68
        }
      },
      "source": [
        "from sklearn.metrics import confusion_matrix\n",
        "cm1 = confusion_matrix(y_test_new,y_pred)\n",
        "print('Confusion Matrix : \\n', cm1)"
      ],
      "execution_count": 0,
      "outputs": [
        {
          "output_type": "stream",
          "text": [
            "Confusion Matrix : \n",
            " [[2714  362]\n",
            " [  21  332]]\n"
          ],
          "name": "stdout"
        }
      ]
    },
    {
      "cell_type": "code",
      "metadata": {
        "id": "5yddwwcW_e5N",
        "colab_type": "code",
        "outputId": "ca269d2a-6c88-4b45-95ad-2e7818f4bb3d",
        "colab": {
          "base_uri": "https://localhost:8080/",
          "height": 51
        }
      },
      "source": [
        "from sklearn.metrics import precision_recall_fscore_support\n",
        "print(precision_recall_fscore_support(y_test_new, y_pred, average='macro'))\n",
        "print(precision_recall_fscore_support(y_test_new, y_pred, average='weighted'))"
      ],
      "execution_count": 0,
      "outputs": [
        {
          "output_type": "stream",
          "text": [
            "(0.7353539610871982, 0.9114123047112433, 0.7841417250851684, None)\n",
            "(0.9394144168758333, 0.8883056284631088, 0.9032174215159541, None)\n"
          ],
          "name": "stdout"
        }
      ]
    },
    {
      "cell_type": "code",
      "metadata": {
        "id": "DProZgQg_qC-",
        "colab_type": "code",
        "outputId": "e2da802c-0a94-4b5e-b869-edec6b355fbb",
        "colab": {
          "base_uri": "https://localhost:8080/",
          "height": 34
        }
      },
      "source": [
        "from sklearn.metrics import confusion_matrix\n",
        "tn, fp, fn, tp = confusion_matrix(y_test_new, y_pred).ravel()\n",
        "pre = tp / (tp + fp)\n",
        "rec = tp / (tp + fn)\n",
        "tnr = tn / (tn + fp)\n",
        "acc = (tp + tn)/ (tp + tn + fp + fn)\n",
        "balanced_acc = (rec + tnr) / 2\n",
        "f1 = 2 * (pre * rec)/(pre+rec)\n",
        "\n",
        "print(pre, rec, tnr, acc, balanced_acc, f1)"
      ],
      "execution_count": 0,
      "outputs": [
        {
          "output_type": "stream",
          "text": [
            "0.4783861671469741 0.9405099150141643 0.8823146944083224 0.8883056284631088 0.9114123047112433 0.6341929321872015\n"
          ],
          "name": "stdout"
        }
      ]
    },
    {
      "cell_type": "code",
      "metadata": {
        "id": "ypFj_Xg8FRWR",
        "colab_type": "code",
        "outputId": "cc024f05-f510-4dc2-9e34-5a88a08761c3",
        "colab": {
          "base_uri": "https://localhost:8080/",
          "height": 34
        }
      },
      "source": [
        "print(tp, tn, fp, fn)"
      ],
      "execution_count": 0,
      "outputs": [
        {
          "output_type": "stream",
          "text": [
            "332 2714 362 21\n"
          ],
          "name": "stdout"
        }
      ]
    },
    {
      "cell_type": "code",
      "metadata": {
        "id": "DG8niQJAF8iZ",
        "colab_type": "code",
        "outputId": "987401d9-2d93-4530-86ae-aa1552d2af16",
        "colab": {
          "base_uri": "https://localhost:8080/",
          "height": 51
        }
      },
      "source": [
        "import math\n",
        "num = (tp*tn - fp*fn)\n",
        "den = math.sqrt((tp+fp)*(tp+fn)*(tn+fp)*(tn+fn))\n",
        "print(num, den)\n",
        "mcc = num/den\n",
        "print(mcc)"
      ],
      "execution_count": 0,
      "outputs": [
        {
          "output_type": "stream",
          "text": [
            "893446 1435618.0789193204\n",
            "0.6223423994998396\n"
          ],
          "name": "stdout"
        }
      ]
    }
  ]
}