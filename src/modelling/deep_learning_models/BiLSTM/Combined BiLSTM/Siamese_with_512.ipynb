{
  "nbformat": 4,
  "nbformat_minor": 0,
  "metadata": {
    "colab": {
      "name": "Siamese_with_512.ipynb",
      "provenance": [],
      "collapsed_sections": []
    },
    "kernelspec": {
      "name": "python3",
      "display_name": "Python 3"
    },
    "accelerator": "GPU"
  },
  "cells": [
    {
      "cell_type": "code",
      "metadata": {
        "id": "NP3kwQq8zkIa",
        "colab_type": "code",
        "outputId": "41206351-56ba-48c4-d125-13812082a023",
        "colab": {
          "base_uri": "https://localhost:8080/",
          "height": 139
        }
      },
      "source": [
        "import pandas as pd\n",
        "import numpy as np\n",
        "import csv\n",
        "\n",
        "%tensorflow_version 2.x\n",
        "import tensorflow as tf\n",
        "tf.__version__\n",
        "assert tf.__version__ >= \"2.0\"\n",
        "\n",
        "from google.colab import drive\n",
        "drive.mount('/content/drive')"
      ],
      "execution_count": 0,
      "outputs": [
        {
          "output_type": "stream",
          "text": [
            "TensorFlow 2.x selected.\n",
            "Go to this URL in a browser: https://accounts.google.com/o/oauth2/auth?client_id=947318989803-6bn6qk8qdgf4n4g3pfee6491hc0brc4i.apps.googleusercontent.com&redirect_uri=urn%3aietf%3awg%3aoauth%3a2.0%3aoob&response_type=code&scope=email%20https%3a%2f%2fwww.googleapis.com%2fauth%2fdocs.test%20https%3a%2f%2fwww.googleapis.com%2fauth%2fdrive%20https%3a%2f%2fwww.googleapis.com%2fauth%2fdrive.photos.readonly%20https%3a%2f%2fwww.googleapis.com%2fauth%2fpeopleapi.readonly\n",
            "\n",
            "Enter your authorization code:\n",
            "··········\n",
            "Mounted at /content/drive\n"
          ],
          "name": "stdout"
        }
      ]
    },
    {
      "cell_type": "code",
      "metadata": {
        "id": "VTJva58j2IuX",
        "colab_type": "code",
        "colab": {}
      },
      "source": [
        "x_train = pd.read_csv('/content/drive/My Drive/bilstm_data/x_train.csv')\n",
        "x_test = pd.read_csv('/content/drive/My Drive/bilstm_data/x_test.csv')\n",
        "x_val = pd.read_csv('/content/drive/My Drive/bilstm_data/x_val.csv')\n",
        "\n",
        "\n",
        "y_train = pd.read_csv('/content/drive/My Drive/bilstm_data/y_train.csv')\n",
        "y_test = pd.read_csv('/content/drive/My Drive/bilstm_data/y_test.csv')\n",
        "y_val = pd.read_csv('/content/drive/My Drive/bilstm_data/y_val.csv')\n"
      ],
      "execution_count": 0,
      "outputs": []
    },
    {
      "cell_type": "code",
      "metadata": {
        "id": "WHI6wapl3MZt",
        "colab_type": "code",
        "colab": {}
      },
      "source": [
        "texts = x_train['article_text'].values\n",
        "texts_test = x_test['article_text'].values"
      ],
      "execution_count": 0,
      "outputs": []
    },
    {
      "cell_type": "code",
      "metadata": {
        "id": "JQZT1ypJe5Cq",
        "colab_type": "code",
        "colab": {}
      },
      "source": [
        "x_train['heading'] = x_train['heading'].str.replace('GUEST EDITORIAL:', '')\n",
        "x_train['heading'] = x_train['heading'].str.replace('EDITORIAL:', '')\n",
        "x_train['heading'] = x_train['heading'].str.replace('Op-Ed:', '')\n",
        "x_train['heading'] = x_train['heading'].str.replace('Editorial:', '')\n",
        "x_train['heading'] = x_train['heading'].str.replace('Opinion:', '')\n",
        "x_train['heading'] = x_train['heading'].str.replace('Opinion', '')\n",
        "x_train['heading'] = x_train['heading'].str.replace('Editorial', '')\n",
        "x_train['heading'] = x_train['heading'].str.replace('Opioid', '')\n",
        "x_train['heading'] = x_train['heading'].str.replace('LETTER', '')\n",
        "x_train['heading'] = x_train['heading'].str.replace('Letter to the Editor:', '')\n",
        "x_train['heading'] = x_train['heading'].str.replace('COLUMN:', '')\n"
      ],
      "execution_count": 0,
      "outputs": []
    },
    {
      "cell_type": "code",
      "metadata": {
        "id": "e1iGjwzDnF0-",
        "colab_type": "code",
        "colab": {}
      },
      "source": [
        "x_val['heading'] = x_val['heading'].str.replace('GUEST EDITORIAL:', '')\n",
        "x_val['heading'] = x_val['heading'].str.replace('EDITORIAL:', '')\n",
        "x_val['heading'] = x_val['heading'].str.replace('Op-Ed:', '')\n",
        "x_val['heading'] = x_val['heading'].str.replace('Editorial:', '')\n",
        "x_val['heading'] = x_val['heading'].str.replace('Opinion:', '')\n",
        "x_val['heading'] = x_val['heading'].str.replace('Opinion', '')\n",
        "x_val['heading'] = x_val['heading'].str.replace('Editorial', '')\n",
        "x_val['heading'] = x_val['heading'].str.replace('Opioid', '')\n",
        "x_val['heading'] = x_val['heading'].str.replace('LETTER', '')\n",
        "x_val['heading'] = x_val['heading'].str.replace('Letter to the Editor:', '')\n",
        "x_val['heading'] = x_val['heading'].str.replace('COLUMN:', '')\n"
      ],
      "execution_count": 0,
      "outputs": []
    },
    {
      "cell_type": "code",
      "metadata": {
        "id": "BBvPzi4Q4Wnp",
        "colab_type": "code",
        "colab": {}
      },
      "source": [
        "x_test['heading'] = x_test['heading'].str.replace('GUEST EDITORIAL:', '')\n",
        "x_test['heading'] = x_test['heading'].str.replace('EDITORIAL:', '')\n",
        "x_test['heading'] = x_test['heading'].str.replace('Op-Ed:', '')\n",
        "x_test['heading'] = x_test['heading'].str.replace('Editorial:', '')\n",
        "x_test['heading'] = x_test['heading'].str.replace('Opinion:', '')\n",
        "x_test['heading'] = x_test['heading'].str.replace('Opinion', '')\n",
        "x_test['heading'] = x_test['heading'].str.replace('Editorial', '')\n",
        "x_test['heading'] = x_test['heading'].str.replace('Opioid', '')\n",
        "x_test['heading'] = x_test['heading'].str.replace('LETTER', '')\n",
        "x_test['heading'] = x_test['heading'].str.replace('Letter to the Editor:', '')\n",
        "x_test['heading'] = x_test['heading'].str.replace('COLUMN:', '')\n"
      ],
      "execution_count": 0,
      "outputs": []
    },
    {
      "cell_type": "code",
      "metadata": {
        "id": "S616P0RIfwja",
        "colab_type": "code",
        "colab": {}
      },
      "source": [
        "texts_header = x_train['heading'].values\n",
        "texts_header_test = x_test['heading'].values\n",
        "texts_header_val = x_val['heading'].values"
      ],
      "execution_count": 0,
      "outputs": []
    },
    {
      "cell_type": "code",
      "metadata": {
        "id": "nu3Ffwxm37xJ",
        "colab_type": "code",
        "colab": {}
      },
      "source": [
        "texts_val = x_val['article_text'].values\n",
        "labels_val = y_val['label'].values"
      ],
      "execution_count": 0,
      "outputs": []
    },
    {
      "cell_type": "code",
      "metadata": {
        "id": "oxW-NQs87j_z",
        "colab_type": "code",
        "colab": {}
      },
      "source": [
        "labels_test = y_test['label'].values\n",
        "labels = y_train['label'].values"
      ],
      "execution_count": 0,
      "outputs": []
    },
    {
      "cell_type": "code",
      "metadata": {
        "id": "MRmzS-eY93rE",
        "colab_type": "code",
        "outputId": "e8c6afee-9d85-4799-a0eb-e05606e24b5b",
        "colab": {
          "base_uri": "https://localhost:8080/",
          "height": 34
        }
      },
      "source": [
        "print(labels.shape, labels_test.shape, labels_test.shape)"
      ],
      "execution_count": 0,
      "outputs": [
        {
          "output_type": "stream",
          "text": [
            "(5746,) (3429,) (3429,)\n"
          ],
          "name": "stdout"
        }
      ]
    },
    {
      "cell_type": "code",
      "metadata": {
        "id": "3mPm_rI-gNtB",
        "colab_type": "code",
        "outputId": "98b2766f-8449-4f6a-cd90-84ea9645f2db",
        "colab": {
          "base_uri": "https://localhost:8080/",
          "height": 34
        }
      },
      "source": [
        "print(texts_header.shape, texts_header_val.shape, texts_header_test.shape)"
      ],
      "execution_count": 0,
      "outputs": [
        {
          "output_type": "stream",
          "text": [
            "(5746,) (639,) (3429,)\n"
          ],
          "name": "stdout"
        }
      ]
    },
    {
      "cell_type": "code",
      "metadata": {
        "id": "KoA8QpdF7j8a",
        "colab_type": "code",
        "outputId": "33ca959d-9431-4454-a8b4-15111700cbb4",
        "colab": {
          "base_uri": "https://localhost:8080/",
          "height": 34
        }
      },
      "source": [
        "len(y_test.loc[y_test['label']==0])"
      ],
      "execution_count": 0,
      "outputs": [
        {
          "output_type": "execute_result",
          "data": {
            "text/plain": [
              "3076"
            ]
          },
          "metadata": {
            "tags": []
          },
          "execution_count": 12
        }
      ]
    },
    {
      "cell_type": "code",
      "metadata": {
        "id": "cDWY2Gns7rpm",
        "colab_type": "code",
        "outputId": "01a6c0c7-46ba-44b4-ddec-a022e61d1f2f",
        "colab": {
          "base_uri": "https://localhost:8080/",
          "height": 34
        }
      },
      "source": [
        "len(y_test.loc[y_test['label']==1])"
      ],
      "execution_count": 0,
      "outputs": [
        {
          "output_type": "execute_result",
          "data": {
            "text/plain": [
              "353"
            ]
          },
          "metadata": {
            "tags": []
          },
          "execution_count": 13
        }
      ]
    },
    {
      "cell_type": "code",
      "metadata": {
        "id": "5yf8klrD7uXO",
        "colab_type": "code",
        "colab": {}
      },
      "source": [
        "MAX_NUM_WORDS = 3000 # how many unique words to use (i.e num rows in embedding vector)\n",
        "MAX_SEQUENCE_LENGTH = 512 # max number of words in a review to use"
      ],
      "execution_count": 0,
      "outputs": []
    },
    {
      "cell_type": "code",
      "metadata": {
        "id": "mypJfroL70Fj",
        "colab_type": "code",
        "outputId": "15efbd7f-2d1a-4fe1-e021-393daff9fad9",
        "colab": {
          "base_uri": "https://localhost:8080/",
          "height": 34
        }
      },
      "source": [
        "from tensorflow.keras.preprocessing.text import Tokenizer\n",
        "\n",
        "tokenizer_train = Tokenizer(num_words=MAX_NUM_WORDS) #convert word(string to int)\n",
        "tokenizer_train.fit_on_texts(texts) \n",
        "sequences = tokenizer_train.texts_to_sequences(texts) \n",
        "\n",
        "word_index = tokenizer_train.word_index #convert this to dict\n",
        "print('Found %s unique tokens.' % len(word_index))\n"
      ],
      "execution_count": 0,
      "outputs": [
        {
          "output_type": "stream",
          "text": [
            "Found 85423 unique tokens.\n"
          ],
          "name": "stdout"
        }
      ]
    },
    {
      "cell_type": "code",
      "metadata": {
        "id": "b7AXCaBa77mO",
        "colab_type": "code",
        "colab": {}
      },
      "source": [
        "sequences3 = tokenizer_train.texts_to_sequences(texts_val) \n",
        "sequences_test = tokenizer_train.texts_to_sequences(texts_test)"
      ],
      "execution_count": 0,
      "outputs": []
    },
    {
      "cell_type": "code",
      "metadata": {
        "id": "s5eNML5bmxzU",
        "colab_type": "code",
        "outputId": "96a12063-6aab-4865-d5e1-2afd0387fb68",
        "colab": {
          "base_uri": "https://localhost:8080/",
          "height": 54
        }
      },
      "source": [
        "'''\n",
        "tokenizer_header_train = Tokenizer(num_words=MAX_HEADER_LENGTH) #convert word(string to int)\n",
        "tokenizer_header_train.fit_on_texts(texts_header) \n",
        "sequences_header_train = tokenizer_header_train.texts_to_sequences(texts_header) \n",
        "\n",
        "word_index2 = tokenizer_header_train.word_index #convert this to dict\n",
        "word_index.update(word_index2)\n",
        "print('Found %s unique tokens.' % len(word_index2))\n",
        "'''"
      ],
      "execution_count": 0,
      "outputs": [
        {
          "output_type": "execute_result",
          "data": {
            "text/plain": [
              "\"\\ntokenizer_header_train = Tokenizer(num_words=MAX_HEADER_LENGTH) #convert word(string to int)\\ntokenizer_header_train.fit_on_texts(texts_header) \\nsequences_header_train = tokenizer_header_train.texts_to_sequences(texts_header) \\n\\nword_index2 = tokenizer_header_train.word_index #convert this to dict\\nword_index.update(word_index2)\\nprint('Found %s unique tokens.' % len(word_index2))\\n\""
            ]
          },
          "metadata": {
            "tags": []
          },
          "execution_count": 17
        }
      ]
    },
    {
      "cell_type": "code",
      "metadata": {
        "id": "WM_bFIOvorz1",
        "colab_type": "code",
        "colab": {}
      },
      "source": [
        "sequences_header_train = tokenizer_train.texts_to_sequences(texts_header) \n",
        "sequences_header_test = tokenizer_train.texts_to_sequences(texts_header_test) \n",
        "sequences_header_val = tokenizer_train.texts_to_sequences(texts_header_val) "
      ],
      "execution_count": 0,
      "outputs": []
    },
    {
      "cell_type": "code",
      "metadata": {
        "id": "YJw3dLXv8GFf",
        "colab_type": "code",
        "outputId": "7fca95ac-e702-48e7-d3da-a96d99cfc7f2",
        "colab": {
          "base_uri": "https://localhost:8080/",
          "height": 68
        }
      },
      "source": [
        "from tensorflow.keras.preprocessing.sequence import pad_sequences\n",
        "from tensorflow.keras.utils import to_categorical\n",
        "\n",
        "data = pad_sequences(sequences, maxlen=MAX_SEQUENCE_LENGTH, padding='pre')\n",
        "data_header = pad_sequences(sequences_header_train, maxlen = MAX_SEQUENCE_LENGTH, padding='pre')\n",
        "labels = to_categorical(np.asarray(labels))\n",
        "print('Shape of data tensor:', data.shape)\n",
        "print('Shape of header tensor:', data_header.shape)\n",
        "print('Shape of label tensor:', labels.shape)"
      ],
      "execution_count": 0,
      "outputs": [
        {
          "output_type": "stream",
          "text": [
            "Shape of data tensor: (5746, 512)\n",
            "Shape of header tensor: (5746, 512)\n",
            "Shape of label tensor: (5746, 2)\n"
          ],
          "name": "stdout"
        }
      ]
    },
    {
      "cell_type": "code",
      "metadata": {
        "id": "qayTi_pg8dpd",
        "colab_type": "code",
        "outputId": "311cc8eb-d8ac-4433-c756-6f843e0765e6",
        "colab": {
          "base_uri": "https://localhost:8080/",
          "height": 119
        }
      },
      "source": [
        "data2 = pad_sequences(sequences_test, maxlen=MAX_SEQUENCE_LENGTH, padding='pre')\n",
        "data2_header = pad_sequences(sequences_header_test, maxlen=MAX_SEQUENCE_LENGTH, padding='pre')\n",
        "labels2 = to_categorical(np.asarray(labels_test))\n",
        "print('Shape of data tensor:', data2.shape)\n",
        "print('Shape of header tensor:', data2_header.shape)\n",
        "print('Shape of label tensor:', labels2.shape)\n",
        "\n",
        "data3 = pad_sequences(sequences3, maxlen=MAX_SEQUENCE_LENGTH, padding='pre')\n",
        "data3_header = pad_sequences(sequences_header_val, maxlen=MAX_SEQUENCE_LENGTH, padding='pre')\n",
        "labels3 = to_categorical(np.asarray(labels_val))\n",
        "print('Shape of data tensor:', data3.shape)\n",
        "print('Shape of header tensor:', data3_header.shape)\n",
        "print('Shape of label tensor:', labels3.shape)\n"
      ],
      "execution_count": 0,
      "outputs": [
        {
          "output_type": "stream",
          "text": [
            "Shape of data tensor: (3429, 512)\n",
            "Shape of header tensor: (3429, 512)\n",
            "Shape of label tensor: (3429, 2)\n",
            "Shape of data tensor: (639, 512)\n",
            "Shape of header tensor: (639, 512)\n",
            "Shape of label tensor: (639, 2)\n"
          ],
          "name": "stdout"
        }
      ]
    },
    {
      "cell_type": "code",
      "metadata": {
        "id": "lYxt4ph48joU",
        "colab_type": "code",
        "colab": {}
      },
      "source": [
        "x_train_article = data\n",
        "x_train_header = data_header\n",
        "y_train = labels\n",
        "\n",
        "x_val_article = data3\n",
        "x_val_header = data3_header\n",
        "y_val = labels3\n",
        "\n",
        "x_test_article = data2\n",
        "x_test_header = data2_header\n",
        "y_test = labels2"
      ],
      "execution_count": 0,
      "outputs": []
    },
    {
      "cell_type": "code",
      "metadata": {
        "id": "-NlMg25i-XM3",
        "colab_type": "code",
        "outputId": "b4922ae2-85ae-4e35-e639-29955876f46e",
        "colab": {
          "base_uri": "https://localhost:8080/",
          "height": 34
        }
      },
      "source": [
        "print(y_train.shape, y_val.shape, y_test.shape)"
      ],
      "execution_count": 0,
      "outputs": [
        {
          "output_type": "stream",
          "text": [
            "(5746, 2) (639, 2) (3429, 2)\n"
          ],
          "name": "stdout"
        }
      ]
    },
    {
      "cell_type": "code",
      "metadata": {
        "id": "0j_NdJc0-VTb",
        "colab_type": "code",
        "outputId": "90d09dc2-182e-406d-980a-d522dcd8a4cc",
        "colab": {
          "base_uri": "https://localhost:8080/",
          "height": 34
        }
      },
      "source": [
        "print(x_train_article.shape, x_train_header.shape, x_val_article.shape, x_val_header.shape)"
      ],
      "execution_count": 0,
      "outputs": [
        {
          "output_type": "stream",
          "text": [
            "(5746, 512) (5746, 512) (639, 512) (639, 512)\n"
          ],
          "name": "stdout"
        }
      ]
    },
    {
      "cell_type": "code",
      "metadata": {
        "id": "MCj9Orni8GIm",
        "colab_type": "code",
        "outputId": "9a14c4f6-666a-4d04-8094-087a6012a3e9",
        "colab": {
          "base_uri": "https://localhost:8080/",
          "height": 34
        }
      },
      "source": [
        "GLOVE_DIR='drive/My Drive/yelp_review_polarity_csv/'\n",
        "\n",
        "import os\n",
        "embeddings_index = {}\n",
        "f = open(os.path.join(GLOVE_DIR, 'glove.42B.300d.txt'))\n",
        "for line in f:\n",
        "    values = line.split()\n",
        "    word = values[0]\n",
        "    coefs = np.asarray(values[1:], dtype='float32')\n",
        "    embeddings_index[word] = coefs\n",
        "f.close()\n",
        "\n",
        "print('Found %s word vectors.' % len(embeddings_index))\n"
      ],
      "execution_count": 0,
      "outputs": [
        {
          "output_type": "stream",
          "text": [
            "Found 1917494 word vectors.\n"
          ],
          "name": "stdout"
        }
      ]
    },
    {
      "cell_type": "code",
      "metadata": {
        "id": "I3BgH8Lq8u3b",
        "colab_type": "code",
        "colab": {}
      },
      "source": [
        "EMBEDDING_DIM = 300 # how big is each word vector\n",
        "\n",
        "embedding_matrix = np.zeros((len(word_index) + 1, EMBEDDING_DIM))\n",
        "for word, i in word_index.items():\n",
        "    embedding_vector = embeddings_index.get(word)\n",
        "    if embedding_vector is not None:\n",
        "        # words not found in embedding index will be all-zeros.\n",
        "        embedding_matrix[i] = embedding_vector"
      ],
      "execution_count": 0,
      "outputs": []
    },
    {
      "cell_type": "code",
      "metadata": {
        "id": "QK-to-cx84gn",
        "colab_type": "code",
        "colab": {}
      },
      "source": [
        "from tensorflow.keras.layers import Embedding\n",
        "\n",
        "embedding_layer = Embedding(len(word_index) + 1,\n",
        "                            EMBEDDING_DIM,\n",
        "                            weights=[embedding_matrix],\n",
        "                            input_length=MAX_SEQUENCE_LENGTH,\n",
        "                            trainable=False)"
      ],
      "execution_count": 0,
      "outputs": []
    },
    {
      "cell_type": "code",
      "metadata": {
        "id": "LgLfbTHY86Ds",
        "colab_type": "code",
        "outputId": "fb20ff8f-81ab-4240-a700-ccf65b07d6ce",
        "colab": {
          "base_uri": "https://localhost:8080/",
          "height": 629
        }
      },
      "source": [
        "from tensorflow.keras.layers import Bidirectional, GlobalMaxPool1D, Conv1D\n",
        "from tensorflow.keras.layers import Dense, Input, LSTM, Embedding, Dropout, Activation, concatenate\n",
        "from tensorflow.keras.models import Model, Sequential\n",
        "from tensorflow.keras.callbacks import EarlyStopping, ModelCheckpoint\n",
        "from tensorflow.keras.backend import sum\n",
        "\n",
        "es = EarlyStopping(monitor='val_loss', mode='min', verbose=1, patience=6)\n",
        "mc = ModelCheckpoint('Siamese_with_512.h5', monitor='val_accuracy', mode='max', verbose=1, save_best_only=True)\n",
        "\n",
        "inp1 = Input(shape=(MAX_SEQUENCE_LENGTH,))\n",
        "x = embedded_sequences = embedding_layer(inp1)\n",
        "\n",
        "x = Bidirectional(LSTM(64, return_sequences=True, dropout=0.3, recurrent_dropout=0.2))(x)\n",
        "x = GlobalMaxPool1D()(x)\n",
        "x = Dense(64, activation=\"relu\")(x)\n",
        "x = Dropout(0.5)(x)\n",
        "\n",
        "\n",
        "inp2 = Input(shape=(MAX_SEQUENCE_LENGTH,))\n",
        "y = embedded_sequences = embedding_layer(inp2)\n",
        "\n",
        "y = Bidirectional(LSTM(64, return_sequences=True, dropout=0.3, recurrent_dropout=0.2))(y)\n",
        "y = GlobalMaxPool1D()(y)\n",
        "y = Dense(64, activation=\"relu\")(y)\n",
        "y = Dropout(0.5)(y)\n",
        "\n",
        "res = concatenate([x, y])\n",
        "res = Dense(2, activation=\"softmax\")(res)\n",
        "model = Model(inputs=[inp1, inp2], outputs=res)\n",
        "model.compile(loss='categorical_crossentropy', optimizer='adam', metrics=['accuracy'])\n",
        "model.summary()\n"
      ],
      "execution_count": 0,
      "outputs": [
        {
          "output_type": "stream",
          "text": [
            "Model: \"model\"\n",
            "__________________________________________________________________________________________________\n",
            "Layer (type)                    Output Shape         Param #     Connected to                     \n",
            "==================================================================================================\n",
            "input_1 (InputLayer)            [(None, 512)]        0                                            \n",
            "__________________________________________________________________________________________________\n",
            "input_2 (InputLayer)            [(None, 512)]        0                                            \n",
            "__________________________________________________________________________________________________\n",
            "embedding (Embedding)           (None, 512, 300)     25627200    input_1[0][0]                    \n",
            "                                                                 input_2[0][0]                    \n",
            "__________________________________________________________________________________________________\n",
            "bidirectional (Bidirectional)   (None, 512, 128)     186880      embedding[0][0]                  \n",
            "__________________________________________________________________________________________________\n",
            "bidirectional_1 (Bidirectional) (None, 512, 128)     186880      embedding[1][0]                  \n",
            "__________________________________________________________________________________________________\n",
            "global_max_pooling1d (GlobalMax (None, 128)          0           bidirectional[0][0]              \n",
            "__________________________________________________________________________________________________\n",
            "global_max_pooling1d_1 (GlobalM (None, 128)          0           bidirectional_1[0][0]            \n",
            "__________________________________________________________________________________________________\n",
            "dense (Dense)                   (None, 64)           8256        global_max_pooling1d[0][0]       \n",
            "__________________________________________________________________________________________________\n",
            "dense_1 (Dense)                 (None, 64)           8256        global_max_pooling1d_1[0][0]     \n",
            "__________________________________________________________________________________________________\n",
            "dropout (Dropout)               (None, 64)           0           dense[0][0]                      \n",
            "__________________________________________________________________________________________________\n",
            "dropout_1 (Dropout)             (None, 64)           0           dense_1[0][0]                    \n",
            "__________________________________________________________________________________________________\n",
            "concatenate (Concatenate)       (None, 128)          0           dropout[0][0]                    \n",
            "                                                                 dropout_1[0][0]                  \n",
            "__________________________________________________________________________________________________\n",
            "dense_2 (Dense)                 (None, 2)            258         concatenate[0][0]                \n",
            "==================================================================================================\n",
            "Total params: 26,017,730\n",
            "Trainable params: 390,530\n",
            "Non-trainable params: 25,627,200\n",
            "__________________________________________________________________________________________________\n"
          ],
          "name": "stdout"
        }
      ]
    },
    {
      "cell_type": "code",
      "metadata": {
        "colab_type": "code",
        "outputId": "6f50088b-e976-41ba-d104-19fa76204312",
        "id": "ZQOaBISriice",
        "colab": {
          "base_uri": "https://localhost:8080/",
          "height": 734
        }
      },
      "source": [
        "history = model.fit([x_train_article, x_train_header], y_train, validation_data=[[x_val_article, x_val_header], y_val], epochs=10, callbacks=[es, mc])"
      ],
      "execution_count": 0,
      "outputs": [
        {
          "output_type": "stream",
          "text": [
            "Train on 5746 samples, validate on 639 samples\n",
            "Epoch 1/10\n",
            "5728/5746 [============================>.] - ETA: 1s - loss: 0.4902 - accuracy: 0.7554\n",
            "Epoch 00001: val_accuracy improved from -inf to 0.89515, saving model to Siamese_with_512.h5\n",
            "5746/5746 [==============================] - 435s 76ms/sample - loss: 0.4898 - accuracy: 0.7557 - val_loss: 0.2872 - val_accuracy: 0.8951\n",
            "Epoch 2/10\n",
            "5728/5746 [============================>.] - ETA: 1s - loss: 0.3050 - accuracy: 0.8797\n",
            "Epoch 00002: val_accuracy improved from 0.89515 to 0.89984, saving model to Siamese_with_512.h5\n",
            "5746/5746 [==============================] - 434s 76ms/sample - loss: 0.3057 - accuracy: 0.8792 - val_loss: 0.2455 - val_accuracy: 0.8998\n",
            "Epoch 3/10\n",
            "5728/5746 [============================>.] - ETA: 1s - loss: 0.2458 - accuracy: 0.9040\n",
            "Epoch 00003: val_accuracy improved from 0.89984 to 0.90767, saving model to Siamese_with_512.h5\n",
            "5746/5746 [==============================] - 434s 76ms/sample - loss: 0.2456 - accuracy: 0.9041 - val_loss: 0.2111 - val_accuracy: 0.9077\n",
            "Epoch 4/10\n",
            "5728/5746 [============================>.] - ETA: 1s - loss: 0.1970 - accuracy: 0.9218\n",
            "Epoch 00004: val_accuracy did not improve from 0.90767\n",
            "5746/5746 [==============================] - 434s 76ms/sample - loss: 0.1967 - accuracy: 0.9219 - val_loss: 0.2247 - val_accuracy: 0.9077\n",
            "Epoch 5/10\n",
            "5728/5746 [============================>.] - ETA: 1s - loss: 0.1698 - accuracy: 0.9316\n",
            "Epoch 00005: val_accuracy improved from 0.90767 to 0.92175, saving model to Siamese_with_512.h5\n",
            "5746/5746 [==============================] - 438s 76ms/sample - loss: 0.1694 - accuracy: 0.9318 - val_loss: 0.2049 - val_accuracy: 0.9218\n",
            "Epoch 6/10\n",
            "5728/5746 [============================>.] - ETA: 1s - loss: 0.1503 - accuracy: 0.9419\n",
            "Epoch 00006: val_accuracy improved from 0.92175 to 0.92488, saving model to Siamese_with_512.h5\n",
            "5746/5746 [==============================] - 436s 76ms/sample - loss: 0.1503 - accuracy: 0.9419 - val_loss: 0.1901 - val_accuracy: 0.9249\n",
            "Epoch 7/10\n",
            "5728/5746 [============================>.] - ETA: 1s - loss: 0.1273 - accuracy: 0.9543\n",
            "Epoch 00007: val_accuracy improved from 0.92488 to 0.92801, saving model to Siamese_with_512.h5\n",
            "5746/5746 [==============================] - 436s 76ms/sample - loss: 0.1270 - accuracy: 0.9544 - val_loss: 0.1965 - val_accuracy: 0.9280\n",
            "Epoch 8/10\n",
            "5728/5746 [============================>.] - ETA: 1s - loss: 0.1045 - accuracy: 0.9600\n",
            "Epoch 00008: val_accuracy did not improve from 0.92801\n",
            "5746/5746 [==============================] - 436s 76ms/sample - loss: 0.1046 - accuracy: 0.9600 - val_loss: 0.1965 - val_accuracy: 0.9264\n",
            "Epoch 9/10\n",
            "5728/5746 [============================>.] - ETA: 1s - loss: 0.0779 - accuracy: 0.9708\n",
            "Epoch 00009: val_accuracy did not improve from 0.92801\n",
            "5746/5746 [==============================] - 426s 74ms/sample - loss: 0.0780 - accuracy: 0.9709 - val_loss: 0.2189 - val_accuracy: 0.9155\n",
            "Epoch 10/10\n",
            "5728/5746 [============================>.] - ETA: 1s - loss: 0.0669 - accuracy: 0.9761\n",
            "Epoch 00010: val_accuracy did not improve from 0.92801\n",
            "5746/5746 [==============================] - 429s 75ms/sample - loss: 0.0667 - accuracy: 0.9762 - val_loss: 0.2111 - val_accuracy: 0.9218\n"
          ],
          "name": "stdout"
        }
      ]
    },
    {
      "cell_type": "code",
      "metadata": {
        "id": "lml5wMcL9aTW",
        "colab_type": "code",
        "outputId": "81142f36-76ad-4f29-def1-97216b0cd2b9",
        "colab": {
          "base_uri": "https://localhost:8080/",
          "height": 573
        }
      },
      "source": [
        "import matplotlib.pyplot as plt\n",
        "\n",
        "def plot(history):\n",
        "  \n",
        "  acc = history.history['accuracy']\n",
        "  val_acc = history.history['val_accuracy']\n",
        "  loss = history.history['loss']\n",
        "  val_loss = history.history['val_loss']\n",
        "\n",
        "  epochs = range(len(acc))\n",
        "\n",
        "  plt.title('Training and validation accuracy')\n",
        "  plt.plot(epochs, acc, color='blue', label='Train')\n",
        "  plt.plot(epochs, val_acc, color='orange', label='Val')\n",
        "  plt.xlabel('Epoch')\n",
        "  plt.ylabel('Accuracy')\n",
        "  plt.legend()\n",
        "\n",
        "  _ = plt.figure()\n",
        "  plt.title('Training and validation loss')\n",
        "  plt.plot(epochs, loss, color='blue', label='Train')\n",
        "  plt.plot(epochs, val_loss, color='orange', label='Val')\n",
        "  plt.xlabel('Epoch')\n",
        "  plt.ylabel('Loss')\n",
        "  plt.legend()\n",
        "  \n",
        "plot(history)"
      ],
      "execution_count": 0,
      "outputs": [
        {
          "output_type": "display_data",
          "data": {
            "image/png": "[encoded data removed]",
            "text/plain": [
              "<Figure size 432x288 with 1 Axes>"
            ]
          },
          "metadata": {
            "tags": []
          }
        },
        {
          "output_type": "display_data",
          "data": {
            "image/png": "[encoded data removed]",
            "text/plain": [
              "<Figure size 432x288 with 1 Axes>"
            ]
          },
          "metadata": {
            "tags": []
          }
        }
      ]
    },
    {
      "cell_type": "code",
      "metadata": {
        "id": "zo9nkee6CID9",
        "colab_type": "code",
        "colab": {}
      },
      "source": [
        "from tensorflow.keras.models import load_model\n",
        "saved_model = load_model('/content/Siamese_with_512.h5')"
      ],
      "execution_count": 0,
      "outputs": []
    },
    {
      "cell_type": "code",
      "metadata": {
        "id": "bKnzZ3Eo-87Z",
        "colab_type": "code",
        "outputId": "92ff578a-f9eb-4a99-e90f-f87f6edbd386",
        "colab": {
          "base_uri": "https://localhost:8080/",
          "height": 102
        }
      },
      "source": [
        "y_test_new = np.argmax(y_test, axis=1)\n",
        "y_test[0:5]"
      ],
      "execution_count": 0,
      "outputs": [
        {
          "output_type": "execute_result",
          "data": {
            "text/plain": [
              "array([[1., 0.],\n",
              "       [1., 0.],\n",
              "       [1., 0.],\n",
              "       [0., 1.],\n",
              "       [1., 0.]], dtype=float32)"
            ]
          },
          "metadata": {
            "tags": []
          },
          "execution_count": 31
        }
      ]
    },
    {
      "cell_type": "code",
      "metadata": {
        "id": "SBzHHT7N_FhV",
        "colab_type": "code",
        "outputId": "a7c47618-4ca0-4573-f1e6-59ca48f7324b",
        "colab": {
          "base_uri": "https://localhost:8080/",
          "height": 34
        }
      },
      "source": [
        "y_test_new[0:5]"
      ],
      "execution_count": 0,
      "outputs": [
        {
          "output_type": "execute_result",
          "data": {
            "text/plain": [
              "array([0, 0, 0, 1, 0])"
            ]
          },
          "metadata": {
            "tags": []
          },
          "execution_count": 32
        }
      ]
    },
    {
      "cell_type": "code",
      "metadata": {
        "id": "cHVIpKZp_I-F",
        "colab_type": "code",
        "outputId": "67f2f46e-6b72-4690-84e4-5d75d912d392",
        "colab": {
          "base_uri": "https://localhost:8080/",
          "height": 102
        }
      },
      "source": [
        "prediction = saved_model.predict([x_test_article, x_test_header])\n",
        "prediction[0:5]"
      ],
      "execution_count": 0,
      "outputs": [
        {
          "output_type": "execute_result",
          "data": {
            "text/plain": [
              "array([[9.9103457e-01, 8.9655034e-03],\n",
              "       [9.9251682e-01, 7.4831513e-03],\n",
              "       [9.9953830e-01, 4.6173832e-04],\n",
              "       [2.3553155e-05, 9.9997640e-01],\n",
              "       [9.9489707e-01, 5.1028822e-03]], dtype=float32)"
            ]
          },
          "metadata": {
            "tags": []
          },
          "execution_count": 33
        }
      ]
    },
    {
      "cell_type": "code",
      "metadata": {
        "id": "fMV56lno_M8n",
        "colab_type": "code",
        "colab": {}
      },
      "source": [
        "y_pred=np.argmax(prediction, axis=1)"
      ],
      "execution_count": 0,
      "outputs": []
    },
    {
      "cell_type": "code",
      "metadata": {
        "id": "aV7UTiWV_UVQ",
        "colab_type": "code",
        "outputId": "a40f9a32-4003-4b95-d4fd-51dddc1743f7",
        "colab": {
          "base_uri": "https://localhost:8080/",
          "height": 34
        }
      },
      "source": [
        "np.sum(y_pred)"
      ],
      "execution_count": 0,
      "outputs": [
        {
          "output_type": "execute_result",
          "data": {
            "text/plain": [
              "568"
            ]
          },
          "metadata": {
            "tags": []
          },
          "execution_count": 35
        }
      ]
    },
    {
      "cell_type": "code",
      "metadata": {
        "id": "iLW-BOXe_VRO",
        "colab_type": "code",
        "outputId": "58da7f99-c3db-4f6c-ffc3-964d3e3122a4",
        "colab": {
          "base_uri": "https://localhost:8080/",
          "height": 34
        }
      },
      "source": [
        "np.sum(y_test_new)"
      ],
      "execution_count": 0,
      "outputs": [
        {
          "output_type": "execute_result",
          "data": {
            "text/plain": [
              "353"
            ]
          },
          "metadata": {
            "tags": []
          },
          "execution_count": 36
        }
      ]
    },
    {
      "cell_type": "code",
      "metadata": {
        "id": "-PTadiGk_VOO",
        "colab_type": "code",
        "outputId": "681a8afd-80a5-4e75-e954-03342d447300",
        "colab": {
          "base_uri": "https://localhost:8080/",
          "height": 68
        }
      },
      "source": [
        "from sklearn.metrics import confusion_matrix\n",
        "cm1 = confusion_matrix(y_test_new,y_pred)\n",
        "print('Confusion Matrix : \\n', cm1)"
      ],
      "execution_count": 0,
      "outputs": [
        {
          "output_type": "stream",
          "text": [
            "Confusion Matrix : \n",
            " [[2834  242]\n",
            " [  27  326]]\n"
          ],
          "name": "stdout"
        }
      ]
    },
    {
      "cell_type": "code",
      "metadata": {
        "id": "5yddwwcW_e5N",
        "colab_type": "code",
        "outputId": "e1e4ea5a-ecc4-4b27-d796-593c467e4874",
        "colab": {
          "base_uri": "https://localhost:8080/",
          "height": 51
        }
      },
      "source": [
        "from sklearn.metrics import precision_recall_fscore_support\n",
        "print(precision_recall_fscore_support(y_test_new, y_pred, average='macro'))\n",
        "print(precision_recall_fscore_support(y_test_new, y_pred, average='weighted'))"
      ],
      "execution_count": 0,
      "outputs": [
        {
          "output_type": "stream",
          "text": [
            "(0.7822532011362127, 0.922419572897365, 0.8313085442751496, None)\n",
            "(0.9476736954915965, 0.9215514727325751, 0.9292876089440371, None)\n"
          ],
          "name": "stdout"
        }
      ]
    },
    {
      "cell_type": "code",
      "metadata": {
        "id": "DProZgQg_qC-",
        "colab_type": "code",
        "outputId": "ec187b2d-e6af-46e1-aac5-149ef977d857",
        "colab": {
          "base_uri": "https://localhost:8080/",
          "height": 34
        }
      },
      "source": [
        "from sklearn.metrics import confusion_matrix\n",
        "tn, fp, fn, tp = confusion_matrix(y_test_new, y_pred).ravel()\n",
        "pre = tp / (tp + fp)\n",
        "rec = tp / (tp + fn)\n",
        "tnr = tn / (tn + fp)\n",
        "acc = (tp + tn)/ (tp + tn + fp + fn)\n",
        "balanced_acc = (rec + tnr) / 2\n",
        "f1 = 2 * (pre * rec)/(pre+rec)\n",
        "\n",
        "print(pre, rec, tnr, acc, balanced_acc, f1)"
      ],
      "execution_count": 0,
      "outputs": [
        {
          "output_type": "stream",
          "text": [
            "0.573943661971831 0.9235127478753541 0.9213263979193758 0.9215514727325751 0.922419572897365 0.7079261672095548\n"
          ],
          "name": "stdout"
        }
      ]
    },
    {
      "cell_type": "code",
      "metadata": {
        "id": "ypFj_Xg8FRWR",
        "colab_type": "code",
        "outputId": "9d4dad27-8dc4-4c09-bc2e-48e1f377acb4",
        "colab": {
          "base_uri": "https://localhost:8080/",
          "height": 34
        }
      },
      "source": [
        "print(tp, tn, fp, fn)"
      ],
      "execution_count": 0,
      "outputs": [
        {
          "output_type": "stream",
          "text": [
            "326 2834 242 27\n"
          ],
          "name": "stdout"
        }
      ]
    },
    {
      "cell_type": "code",
      "metadata": {
        "id": "DG8niQJAF8iZ",
        "colab_type": "code",
        "outputId": "fff242e8-864d-4d97-8003-a5c5f862fd47",
        "colab": {
          "base_uri": "https://localhost:8080/",
          "height": 51
        }
      },
      "source": [
        "import math\n",
        "num = (tp*tn - fp*fn)\n",
        "den = math.sqrt((tp+fp)*(tp+fn)*(tn+fp)*(tn+fn))\n",
        "print(num, den)\n",
        "mcc = num/den\n",
        "print(mcc)"
      ],
      "execution_count": 0,
      "outputs": [
        {
          "output_type": "stream",
          "text": [
            "917350 1328353.3489791036\n",
            "0.6905918524653268\n"
          ],
          "name": "stdout"
        }
      ]
    }
  ]
}