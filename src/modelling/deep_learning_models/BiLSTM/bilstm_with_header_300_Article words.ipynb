{
  "nbformat": 4,
  "nbformat_minor": 0,
  "metadata": {
    "colab": {
      "name": "chunk_bilstm300_sep.ipynb",
      "provenance": [],
      "collapsed_sections": []
    },
    "kernelspec": {
      "name": "python3",
      "display_name": "Python 3"
    },
    "accelerator": "GPU"
  },
  "cells": [
    {
      "cell_type": "code",
      "metadata": {
        "id": "NP3kwQq8zkIa",
        "colab_type": "code",
        "outputId": "6a15ba26-6d99-4d83-97dd-27774dbef316",
        "colab": {
          "base_uri": "https://localhost:8080/",
          "height": 139
        }
      },
      "source": [
        "import pandas as pd\n",
        "import numpy as np\n",
        "import csv\n",
        "\n",
        "%tensorflow_version 2.x\n",
        "import tensorflow as tf\n",
        "tf.__version__\n",
        "assert tf.__version__ >= \"2.0\"\n",
        "\n",
        "from google.colab import drive\n",
        "drive.mount('/content/drive')"
      ],
      "execution_count": 0,
      "outputs": [
        {
          "output_type": "stream",
          "text": [
            "TensorFlow 2.x selected.\n",
            "Go to this URL in a browser: https://accounts.google.com/o/oauth2/auth?client_id=947318989803-6bn6qk8qdgf4n4g3pfee6491hc0brc4i.apps.googleusercontent.com&redirect_uri=urn%3aietf%3awg%3aoauth%3a2.0%3aoob&response_type=code&scope=email%20https%3a%2f%2fwww.googleapis.com%2fauth%2fdocs.test%20https%3a%2f%2fwww.googleapis.com%2fauth%2fdrive%20https%3a%2f%2fwww.googleapis.com%2fauth%2fdrive.photos.readonly%20https%3a%2f%2fwww.googleapis.com%2fauth%2fpeopleapi.readonly\n",
            "\n",
            "Enter your authorization code:\n",
            "··········\n",
            "Mounted at /content/drive\n"
          ],
          "name": "stdout"
        }
      ]
    },
    {
      "cell_type": "code",
      "metadata": {
        "id": "VTJva58j2IuX",
        "colab_type": "code",
        "colab": {}
      },
      "source": [
        "x_train = pd.read_csv('/content/drive/My Drive/bilstm_data/x_train.csv')\n",
        "x_test = pd.read_csv('/content/drive/My Drive/bilstm_data/x_test.csv')\n",
        "x_val = pd.read_csv('/content/drive/My Drive/bilstm_data/x_val.csv')\n",
        "\n",
        "\n",
        "y_train = pd.read_csv('/content/drive/My Drive/bilstm_data/y_train.csv')\n",
        "y_test = pd.read_csv('/content/drive/My Drive/bilstm_data/y_test.csv')\n",
        "y_val = pd.read_csv('/content/drive/My Drive/bilstm_data/y_val.csv')\n"
      ],
      "execution_count": 0,
      "outputs": []
    },
    {
      "cell_type": "code",
      "metadata": {
        "id": "h5q77Ui2LeI3",
        "colab_type": "code",
        "colab": {}
      },
      "source": [
        "x_train['heading'] = x_train['heading'].str.replace('GUEST EDITORIAL:', '')\n",
        "x_train['heading'] = x_train['heading'].str.replace('EDITORIAL:', '')\n",
        "x_train['heading'] = x_train['heading'].str.replace('Op-Ed:', '')\n",
        "x_train['heading'] = x_train['heading'].str.replace('Editorial:', '')\n",
        "x_train['heading'] = x_train['heading'].str.replace('Opinion:', '')\n",
        "x_train['heading'] = x_train['heading'].str.replace('Opinion', '')\n",
        "x_train['heading'] = x_train['heading'].str.replace('Editorial', '')\n",
        "x_train['heading'] = x_train['heading'].str.replace('Opioid', '')\n",
        "x_train['heading'] = x_train['heading'].str.replace('LETTER', '')\n",
        "x_train['heading'] = x_train['heading'].str.replace('Letter to the Editor:', '')\n",
        "x_train['heading'] = x_train['heading'].str.replace('COLUMN:', '')\n",
        "\n",
        "x_val['heading'] = x_val['heading'].str.replace('GUEST EDITORIAL:', '')\n",
        "x_val['heading'] = x_val['heading'].str.replace('EDITORIAL:', '')\n",
        "x_val['heading'] = x_val['heading'].str.replace('Op-Ed:', '')\n",
        "x_val['heading'] = x_val['heading'].str.replace('Editorial:', '')\n",
        "x_val['heading'] = x_val['heading'].str.replace('Opinion:', '')\n",
        "x_val['heading'] = x_val['heading'].str.replace('Opinion', '')\n",
        "x_val['heading'] = x_val['heading'].str.replace('Editorial', '')\n",
        "x_val['heading'] = x_val['heading'].str.replace('Opioid', '')\n",
        "x_val['heading'] = x_val['heading'].str.replace('LETTER', '')\n",
        "x_val['heading'] = x_val['heading'].str.replace('Letter to the Editor:', '')\n",
        "x_val['heading'] = x_val['heading'].str.replace('COLUMN:', '')\n",
        "\n",
        "x_test['heading'] = x_test['heading'].str.replace('GUEST EDITORIAL:', '')\n",
        "x_test['heading'] = x_test['heading'].str.replace('EDITORIAL:', '')\n",
        "x_test['heading'] = x_test['heading'].str.replace('Op-Ed:', '')\n",
        "x_test['heading'] = x_test['heading'].str.replace('Editorial:', '')\n",
        "x_test['heading'] = x_test['heading'].str.replace('Opinion:', '')\n",
        "x_test['heading'] = x_test['heading'].str.replace('Opinion', '')\n",
        "x_test['heading'] = x_test['heading'].str.replace('Editorial', '')\n",
        "x_test['heading'] = x_test['heading'].str.replace('Opioid', '')\n",
        "x_test['heading'] = x_test['heading'].str.replace('LETTER', '')\n",
        "x_test['heading'] = x_test['heading'].str.replace('Letter to the Editor:', '')\n",
        "x_test['heading'] = x_test['heading'].str.replace('COLUMN:', '')\n"
      ],
      "execution_count": 0,
      "outputs": []
    },
    {
      "cell_type": "code",
      "metadata": {
        "id": "B4hrlqGkLmVH",
        "colab_type": "code",
        "colab": {}
      },
      "source": [
        "texts_header = x_train['heading'].values\n",
        "texts_header_test = x_test['heading'].values\n",
        "texts_header_val = x_val['heading'].values"
      ],
      "execution_count": 0,
      "outputs": []
    },
    {
      "cell_type": "code",
      "metadata": {
        "id": "AtOWAxomr_-9",
        "colab_type": "code",
        "colab": {}
      },
      "source": [
        "x_train['text_col1'] = x_train.article_text.apply(lambda x:x[:150])\n",
        "x_train['text_col2'] = x_train.article_text.apply(lambda x:x[-150:])"
      ],
      "execution_count": 0,
      "outputs": []
    },
    {
      "cell_type": "code",
      "metadata": {
        "id": "orHIp8U1sfNx",
        "colab_type": "code",
        "colab": {}
      },
      "source": [
        "x_test['text_col1'] = x_test.article_text.apply(lambda x:x[:150])\n",
        "x_test['text_col2'] = x_test.article_text.apply(lambda x:x[-150:])"
      ],
      "execution_count": 0,
      "outputs": []
    },
    {
      "cell_type": "code",
      "metadata": {
        "id": "Fm3RV4XQsnFp",
        "colab_type": "code",
        "colab": {}
      },
      "source": [
        "x_val['text_col1'] = x_val.article_text.apply(lambda x:x[:150])\n",
        "x_val['text_col2'] = x_val.article_text.apply(lambda x:x[-150:])"
      ],
      "execution_count": 0,
      "outputs": []
    },
    {
      "cell_type": "code",
      "metadata": {
        "id": "39HNVAlQs8st",
        "colab_type": "code",
        "colab": {}
      },
      "source": [
        "#x_train['text_col'] = x_train[['text_col1', 'text_col2']].apply(lambda x: ' '.join(x), axis=1)\n",
        "#x_test['text_col'] = x_test[['text_col1', 'text_col2']].apply(lambda x: ' '.join(x), axis=1)\n",
        "#x_val['text_col'] = x_val[['text_col1', 'text_col2']].apply(lambda x: ' '.join(x), axis=1)"
      ],
      "execution_count": 0,
      "outputs": []
    },
    {
      "cell_type": "code",
      "metadata": {
        "id": "WHI6wapl3MZt",
        "colab_type": "code",
        "colab": {}
      },
      "source": [
        "texts1 = x_train['text_col1'].values\n",
        "texts2 = x_train['text_col2'].values\n",
        "texts_test1 = x_test['text_col1'].values\n",
        "texts_test2 = x_test['text_col2'].values"
      ],
      "execution_count": 0,
      "outputs": []
    },
    {
      "cell_type": "code",
      "metadata": {
        "id": "nu3Ffwxm37xJ",
        "colab_type": "code",
        "colab": {}
      },
      "source": [
        "texts_val1 = x_val['text_col1'].values\n",
        "texts_val2 = x_val['text_col2'].values\n",
        "labels_val = y_val['label'].values"
      ],
      "execution_count": 0,
      "outputs": []
    },
    {
      "cell_type": "code",
      "metadata": {
        "id": "oxW-NQs87j_z",
        "colab_type": "code",
        "colab": {}
      },
      "source": [
        "labels_test = y_test['label'].values\n",
        "labels = y_train['label'].values"
      ],
      "execution_count": 0,
      "outputs": []
    },
    {
      "cell_type": "code",
      "metadata": {
        "id": "MRmzS-eY93rE",
        "colab_type": "code",
        "outputId": "da1074e9-8f51-4031-df4a-90960bf0c776",
        "colab": {
          "base_uri": "https://localhost:8080/",
          "height": 34
        }
      },
      "source": [
        "print(labels.shape, labels_test.shape, labels_test.shape)"
      ],
      "execution_count": 0,
      "outputs": [
        {
          "output_type": "stream",
          "text": [
            "(5746,) (3429,) (3429,)\n"
          ],
          "name": "stdout"
        }
      ]
    },
    {
      "cell_type": "code",
      "metadata": {
        "id": "KoA8QpdF7j8a",
        "colab_type": "code",
        "outputId": "ad5a97b9-8202-42cd-d4a7-5cd0631ff276",
        "colab": {
          "base_uri": "https://localhost:8080/",
          "height": 34
        }
      },
      "source": [
        "len(y_test.loc[y_test['label']==0])"
      ],
      "execution_count": 0,
      "outputs": [
        {
          "output_type": "execute_result",
          "data": {
            "text/plain": [
              "3076"
            ]
          },
          "metadata": {
            "tags": []
          },
          "execution_count": 13
        }
      ]
    },
    {
      "cell_type": "code",
      "metadata": {
        "id": "cDWY2Gns7rpm",
        "colab_type": "code",
        "outputId": "e5e17ba8-7d8c-4f5a-ecce-faae31918c25",
        "colab": {
          "base_uri": "https://localhost:8080/",
          "height": 34
        }
      },
      "source": [
        "len(y_test.loc[y_test['label']==1])"
      ],
      "execution_count": 0,
      "outputs": [
        {
          "output_type": "execute_result",
          "data": {
            "text/plain": [
              "353"
            ]
          },
          "metadata": {
            "tags": []
          },
          "execution_count": 14
        }
      ]
    },
    {
      "cell_type": "code",
      "metadata": {
        "id": "5yf8klrD7uXO",
        "colab_type": "code",
        "colab": {}
      },
      "source": [
        "MAX_NUM_WORDS = 3000 # how many unique words to use (i.e num rows in embedding vector)\n",
        "MAX_SEQUENCE_LENGTH = 300 # max number of words in a review to use\n"
      ],
      "execution_count": 0,
      "outputs": []
    },
    {
      "cell_type": "code",
      "metadata": {
        "id": "mypJfroL70Fj",
        "colab_type": "code",
        "outputId": "4ff9f9eb-096a-40cd-8a02-484852066889",
        "colab": {
          "base_uri": "https://localhost:8080/",
          "height": 34
        }
      },
      "source": [
        "from tensorflow.keras.preprocessing.text import Tokenizer\n",
        "\n",
        "tokenizer_train = Tokenizer(num_words=MAX_NUM_WORDS) #convert word(string to int)\n",
        "tokenizer_train.fit_on_texts(texts1)\n",
        "tokenizer_train.fit_on_texts(texts2)\n",
        " \n",
        "word_index = tokenizer_train.word_index #convert this to dict\n",
        "print('Found %s unique tokens.' % len(word_index))\n"
      ],
      "execution_count": 0,
      "outputs": [
        {
          "output_type": "stream",
          "text": [
            "Found 26647 unique tokens.\n"
          ],
          "name": "stdout"
        }
      ]
    },
    {
      "cell_type": "code",
      "metadata": {
        "id": "P9-lQK-VhvBP",
        "colab_type": "code",
        "colab": {}
      },
      "source": [
        "sequences1_1 = tokenizer_train.texts_to_sequences(texts1) \n",
        "sequences1_2 = tokenizer_train.texts_to_sequences(texts2) \n"
      ],
      "execution_count": 0,
      "outputs": []
    },
    {
      "cell_type": "code",
      "metadata": {
        "id": "3NAIejR-MBwd",
        "colab_type": "code",
        "colab": {}
      },
      "source": [
        "sequences_header_train = tokenizer_train.texts_to_sequences(texts_header) \n",
        "sequences_header_test = tokenizer_train.texts_to_sequences(texts_header_test) \n",
        "sequences_header_val = tokenizer_train.texts_to_sequences(texts_header_val) "
      ],
      "execution_count": 0,
      "outputs": []
    },
    {
      "cell_type": "code",
      "metadata": {
        "id": "b7AXCaBa77mO",
        "colab_type": "code",
        "colab": {}
      },
      "source": [
        "sequences3_1 = tokenizer_train.texts_to_sequences(texts_val1) \n",
        "sequences3_2 = tokenizer_train.texts_to_sequences(texts_val2) \n",
        "\n",
        "sequences_test_1 = tokenizer_train.texts_to_sequences(texts_test1)\n",
        "sequences_test_2 = tokenizer_train.texts_to_sequences(texts_test2)"
      ],
      "execution_count": 0,
      "outputs": []
    },
    {
      "cell_type": "code",
      "metadata": {
        "id": "YJw3dLXv8GFf",
        "colab_type": "code",
        "outputId": "aca1dcbd-5d86-494d-c2d7-b25f1c51d311",
        "colab": {
          "base_uri": "https://localhost:8080/",
          "height": 68
        }
      },
      "source": [
        "from tensorflow.keras.preprocessing.sequence import pad_sequences\n",
        "from tensorflow.keras.utils import to_categorical\n",
        "\n",
        "data1 = pad_sequences(sequences1_1, maxlen=MAX_SEQUENCE_LENGTH, padding='pre')\n",
        "data2 = pad_sequences(sequences1_2, maxlen=MAX_SEQUENCE_LENGTH, padding='pre')\n",
        "\n",
        "labels = to_categorical(np.asarray(labels))\n",
        "print('Shape of data1 tensor:', data1.shape)\n",
        "print('Shape of data2 tensor:', data2.shape)\n",
        "print('Shape of label tensor:', labels.shape)"
      ],
      "execution_count": 0,
      "outputs": [
        {
          "output_type": "stream",
          "text": [
            "Shape of data1 tensor: (5746, 300)\n",
            "Shape of data2 tensor: (5746, 300)\n",
            "Shape of label tensor: (5746, 2)\n"
          ],
          "name": "stdout"
        }
      ]
    },
    {
      "cell_type": "code",
      "metadata": {
        "id": "Hq8UcbMMMQUi",
        "colab_type": "code",
        "colab": {}
      },
      "source": [
        "data_header = pad_sequences(sequences_header_train, maxlen = MAX_SEQUENCE_LENGTH, padding='pre')\n",
        "print('Shape of header tensor:', data_header.shape)"
      ],
      "execution_count": 0,
      "outputs": []
    },
    {
      "cell_type": "code",
      "metadata": {
        "id": "BUkr5-hAMYN2",
        "colab_type": "code",
        "outputId": "cbcd087f-c84b-4ca1-ed10-2ab5095f71f3",
        "colab": {
          "base_uri": "https://localhost:8080/",
          "height": 51
        }
      },
      "source": [
        "data2_header = pad_sequences(sequences_header_test, maxlen=MAX_SEQUENCE_LENGTH, padding='pre')\n",
        "print('Shape of header tensor:', data2_header.shape)\n",
        "data3_header = pad_sequences(sequences_header_val, maxlen=MAX_SEQUENCE_LENGTH, padding='pre')\n",
        "print('Shape of header tensor:', data3_header.shape)\n"
      ],
      "execution_count": 0,
      "outputs": [
        {
          "output_type": "stream",
          "text": [
            "Shape of header tensor: (3429, 300)\n",
            "Shape of header tensor: (639, 300)\n"
          ],
          "name": "stdout"
        }
      ]
    },
    {
      "cell_type": "code",
      "metadata": {
        "id": "qayTi_pg8dpd",
        "colab_type": "code",
        "outputId": "1d1862c9-6c7e-49e2-bfe2-7265c3bc46e8",
        "colab": {
          "base_uri": "https://localhost:8080/",
          "height": 119
        }
      },
      "source": [
        "data2_1 = pad_sequences(sequences_test_1, maxlen=MAX_SEQUENCE_LENGTH, padding='pre')\n",
        "data2_2 = pad_sequences(sequences_test_2, maxlen=MAX_SEQUENCE_LENGTH, padding='pre')\n",
        "labels2 = to_categorical(np.asarray(labels_test))\n",
        "print('Shape of data1 tensor:', data2_1.shape)\n",
        "print('Shape of data2 tensor:', data2_2.shape)\n",
        "print('Shape of label tensor:', labels2.shape)\n",
        "\n",
        "data3_1 = pad_sequences(sequences3_1, maxlen=MAX_SEQUENCE_LENGTH, padding='pre')\n",
        "data3_2 = pad_sequences(sequences3_2, maxlen=MAX_SEQUENCE_LENGTH, padding='pre')\n",
        "labels3 = to_categorical(np.asarray(labels_val))\n",
        "print('Shape of data1 tensor:', data3_1.shape)\n",
        "print('Shape of data2 tensor:', data3_2.shape)\n",
        "print('Shape of label tensor:', labels3.shape)\n"
      ],
      "execution_count": 0,
      "outputs": [
        {
          "output_type": "stream",
          "text": [
            "Shape of data1 tensor: (3429, 300)\n",
            "Shape of data2 tensor: (3429, 300)\n",
            "Shape of label tensor: (3429, 2)\n",
            "Shape of data1 tensor: (639, 300)\n",
            "Shape of data2 tensor: (639, 300)\n",
            "Shape of label tensor: (639, 2)\n"
          ],
          "name": "stdout"
        }
      ]
    },
    {
      "cell_type": "code",
      "metadata": {
        "id": "lYxt4ph48joU",
        "colab_type": "code",
        "colab": {}
      },
      "source": [
        "x_train_article_1 = data1\n",
        "x_train_article_2 = data2\n",
        "x_train_header = data_header\n",
        "y_train = labels\n",
        "\n",
        "x_val_article_1 = data3_1\n",
        "x_val_article_2 = data3_2\n",
        "x_val_header = data3_header\n",
        "y_val = labels3\n",
        "\n",
        "x_test_article_1 = data2_1\n",
        "x_test_article_2 = data2_2\n",
        "x_test_header = data2_header\n",
        "y_test = labels2"
      ],
      "execution_count": 0,
      "outputs": []
    },
    {
      "cell_type": "code",
      "metadata": {
        "id": "-NlMg25i-XM3",
        "colab_type": "code",
        "colab": {}
      },
      "source": [
        "print(y_train.shape, y_val.shape, y_test.shape)"
      ],
      "execution_count": 0,
      "outputs": []
    },
    {
      "cell_type": "code",
      "metadata": {
        "id": "MCj9Orni8GIm",
        "colab_type": "code",
        "outputId": "18ec2e79-ef9e-4688-df24-274f79dc9f2c",
        "colab": {
          "base_uri": "https://localhost:8080/",
          "height": 34
        }
      },
      "source": [
        "GLOVE_DIR='drive/My Drive/yelp_review_polarity_csv/'\n",
        "\n",
        "import os\n",
        "embeddings_index = {}\n",
        "f = open(os.path.join(GLOVE_DIR, 'glove.42B.300d.txt'))\n",
        "for line in f:\n",
        "    values = line.split()\n",
        "    word = values[0]\n",
        "    coefs = np.asarray(values[1:], dtype='float32')\n",
        "    embeddings_index[word] = coefs\n",
        "f.close()\n",
        "\n",
        "print('Found %s word vectors.' % len(embeddings_index))\n"
      ],
      "execution_count": 0,
      "outputs": [
        {
          "output_type": "stream",
          "text": [
            "Found 1917494 word vectors.\n"
          ],
          "name": "stdout"
        }
      ]
    },
    {
      "cell_type": "code",
      "metadata": {
        "id": "I3BgH8Lq8u3b",
        "colab_type": "code",
        "colab": {}
      },
      "source": [
        "EMBEDDING_DIM = 300 # how big is each word vector\n",
        "\n",
        "embedding_matrix = np.zeros((len(word_index) + 1, EMBEDDING_DIM))\n",
        "for word, i in word_index.items():\n",
        "    embedding_vector = embeddings_index.get(word)\n",
        "    if embedding_vector is not None:\n",
        "        # words not found in embedding index will be all-zeros.\n",
        "        embedding_matrix[i] = embedding_vector"
      ],
      "execution_count": 0,
      "outputs": []
    },
    {
      "cell_type": "code",
      "metadata": {
        "id": "QK-to-cx84gn",
        "colab_type": "code",
        "colab": {}
      },
      "source": [
        "from tensorflow.keras.layers import Embedding\n",
        "\n",
        "embedding_layer = Embedding(len(word_index) + 1,\n",
        "                            EMBEDDING_DIM,\n",
        "                            weights=[embedding_matrix],\n",
        "                            input_length=MAX_SEQUENCE_LENGTH,\n",
        "                            trainable=False)"
      ],
      "execution_count": 0,
      "outputs": []
    },
    {
      "cell_type": "code",
      "metadata": {
        "id": "LgLfbTHY86Ds",
        "colab_type": "code",
        "outputId": "c7685422-ab71-435d-b296-38eb6e057ac1",
        "colab": {
          "base_uri": "https://localhost:8080/",
          "height": 867
        }
      },
      "source": [
        "from tensorflow.keras.layers import Bidirectional, GlobalMaxPool1D, Conv1D\n",
        "from tensorflow.keras.layers import Dense, Input, LSTM, Embedding, Dropout, Activation, TimeDistributed, Flatten,RepeatVector, Permute, Multiply, Lambda, concatenate\n",
        "from tensorflow.keras.models import Model, Sequential\n",
        "from tensorflow.keras.callbacks import EarlyStopping, ModelCheckpoint\n",
        "from tensorflow.keras.backend import sum\n",
        "\n",
        "es = EarlyStopping(monitor='val_loss', mode='min', verbose=1, patience=6)\n",
        "mc = ModelCheckpoint('best_model.h5', monitor='val_accuracy', mode='max', verbose=1, save_best_only=True)\n",
        "\n",
        "inp0 = Input(shape=(MAX_SEQUENCE_LENGTH,))\n",
        "x0 = embedded_sequences = embedding_layer(inp0)\n",
        "\n",
        "x0 = Bidirectional(LSTM(64, return_sequences=True))(x0)\n",
        "x0 = GlobalMaxPool1D()(x0)\n",
        "x0 = Dense(64, activation=\"relu\")(x0)\n",
        "x0 = Dropout(0.5)(x0)\n",
        "\n",
        "inp1 = Input(shape=(MAX_SEQUENCE_LENGTH,))\n",
        "x = embedded_sequences = embedding_layer(inp1)\n",
        "\n",
        "x = Bidirectional(LSTM(64, return_sequences=True))(x)\n",
        "x = GlobalMaxPool1D()(x)\n",
        "x = Dense(64, activation=\"relu\")(x)\n",
        "x = Dropout(0.5)(x)\n",
        "\n",
        "\n",
        "inp2 = Input(shape=(MAX_SEQUENCE_LENGTH,))\n",
        "y = embedded_sequences = embedding_layer(inp2)\n",
        "\n",
        "y = Bidirectional(LSTM(64, return_sequences=True))(y)\n",
        "y = GlobalMaxPool1D()(y)\n",
        "y = Dense(64, activation=\"relu\")(y)\n",
        "y = Dropout(0.5)(y)\n",
        "\n",
        "res = concatenate([x0, x, y])\n",
        "res = Dense(64, activation='relu')(res)\n",
        "res = Dense(2, activation=\"softmax\")(res)\n",
        "model = Model(inputs=[inp0, inp1, inp2], outputs=res)\n",
        "model.compile(loss='categorical_crossentropy', optimizer='adam', metrics=['accuracy'])\n",
        "model.summary()\n"
      ],
      "execution_count": 0,
      "outputs": [
        {
          "output_type": "stream",
          "text": [
            "Model: \"model_3\"\n",
            "__________________________________________________________________________________________________\n",
            "Layer (type)                    Output Shape         Param #     Connected to                     \n",
            "==================================================================================================\n",
            "input_10 (InputLayer)           [(None, 300)]        0                                            \n",
            "__________________________________________________________________________________________________\n",
            "input_11 (InputLayer)           [(None, 300)]        0                                            \n",
            "__________________________________________________________________________________________________\n",
            "input_12 (InputLayer)           [(None, 300)]        0                                            \n",
            "__________________________________________________________________________________________________\n",
            "embedding (Embedding)           (None, 300, 300)     7994400     input_10[0][0]                   \n",
            "                                                                 input_11[0][0]                   \n",
            "                                                                 input_12[0][0]                   \n",
            "__________________________________________________________________________________________________\n",
            "bidirectional_9 (Bidirectional) (None, 300, 128)     186880      embedding[9][0]                  \n",
            "__________________________________________________________________________________________________\n",
            "bidirectional_10 (Bidirectional (None, 300, 128)     186880      embedding[10][0]                 \n",
            "__________________________________________________________________________________________________\n",
            "bidirectional_11 (Bidirectional (None, 300, 128)     186880      embedding[11][0]                 \n",
            "__________________________________________________________________________________________________\n",
            "global_max_pooling1d_9 (GlobalM (None, 128)          0           bidirectional_9[0][0]            \n",
            "__________________________________________________________________________________________________\n",
            "global_max_pooling1d_10 (Global (None, 128)          0           bidirectional_10[0][0]           \n",
            "__________________________________________________________________________________________________\n",
            "global_max_pooling1d_11 (Global (None, 128)          0           bidirectional_11[0][0]           \n",
            "__________________________________________________________________________________________________\n",
            "dense_17 (Dense)                (None, 64)           8256        global_max_pooling1d_9[0][0]     \n",
            "__________________________________________________________________________________________________\n",
            "dense_18 (Dense)                (None, 64)           8256        global_max_pooling1d_10[0][0]    \n",
            "__________________________________________________________________________________________________\n",
            "dense_19 (Dense)                (None, 64)           8256        global_max_pooling1d_11[0][0]    \n",
            "__________________________________________________________________________________________________\n",
            "dropout_9 (Dropout)             (None, 64)           0           dense_17[0][0]                   \n",
            "__________________________________________________________________________________________________\n",
            "dropout_10 (Dropout)            (None, 64)           0           dense_18[0][0]                   \n",
            "__________________________________________________________________________________________________\n",
            "dropout_11 (Dropout)            (None, 64)           0           dense_19[0][0]                   \n",
            "__________________________________________________________________________________________________\n",
            "concatenate_3 (Concatenate)     (None, 192)          0           dropout_9[0][0]                  \n",
            "                                                                 dropout_10[0][0]                 \n",
            "                                                                 dropout_11[0][0]                 \n",
            "__________________________________________________________________________________________________\n",
            "dense_20 (Dense)                (None, 64)           12352       concatenate_3[0][0]              \n",
            "__________________________________________________________________________________________________\n",
            "dense_21 (Dense)                (None, 2)            130         dense_20[0][0]                   \n",
            "==================================================================================================\n",
            "Total params: 8,592,290\n",
            "Trainable params: 597,890\n",
            "Non-trainable params: 7,994,400\n",
            "__________________________________________________________________________________________________\n"
          ],
          "name": "stdout"
        }
      ]
    },
    {
      "cell_type": "code",
      "metadata": {
        "colab_type": "code",
        "outputId": "70bf5f9f-82a0-4ab6-c230-d24e3a880d47",
        "id": "ZQOaBISriice",
        "colab": {
          "base_uri": "https://localhost:8080/",
          "height": 663
        }
      },
      "source": [
        "history = model.fit([x_train_article_1, x_train_article_2, x_train_header], y_train, validation_data=[[x_val_article_1, x_val_article_2, x_val_header], y_val],\n",
        "                    epochs=20, callbacks=[es, mc])"
      ],
      "execution_count": 0,
      "outputs": [
        {
          "output_type": "stream",
          "text": [
            "Train on 5746 samples, validate on 639 samples\n",
            "Epoch 1/20\n",
            "5728/5746 [============================>.] - ETA: 0s - loss: 0.4131 - accuracy: 0.8073\n",
            "Epoch 00001: val_accuracy improved from -inf to 0.86541, saving model to best_model.h5\n",
            "5746/5746 [==============================] - 84s 15ms/sample - loss: 0.4126 - accuracy: 0.8073 - val_loss: 0.3077 - val_accuracy: 0.8654\n",
            "Epoch 2/20\n",
            "5728/5746 [============================>.] - ETA: 0s - loss: 0.2426 - accuracy: 0.8998\n",
            "Epoch 00002: val_accuracy improved from 0.86541 to 0.89358, saving model to best_model.h5\n",
            "5746/5746 [==============================] - 72s 13ms/sample - loss: 0.2420 - accuracy: 0.9001 - val_loss: 0.2847 - val_accuracy: 0.8936\n",
            "Epoch 3/20\n",
            "5728/5746 [============================>.] - ETA: 0s - loss: 0.1730 - accuracy: 0.9282\n",
            "Epoch 00003: val_accuracy improved from 0.89358 to 0.90297, saving model to best_model.h5\n",
            "5746/5746 [==============================] - 72s 13ms/sample - loss: 0.1727 - accuracy: 0.9285 - val_loss: 0.2435 - val_accuracy: 0.9030\n",
            "Epoch 4/20\n",
            "5728/5746 [============================>.] - ETA: 0s - loss: 0.1192 - accuracy: 0.9555\n",
            "Epoch 00004: val_accuracy did not improve from 0.90297\n",
            "5746/5746 [==============================] - 72s 13ms/sample - loss: 0.1194 - accuracy: 0.9553 - val_loss: 0.2855 - val_accuracy: 0.8936\n",
            "Epoch 5/20\n",
            "5728/5746 [============================>.] - ETA: 0s - loss: 0.0721 - accuracy: 0.9756\n",
            "Epoch 00005: val_accuracy did not improve from 0.90297\n",
            "5746/5746 [==============================] - 73s 13ms/sample - loss: 0.0723 - accuracy: 0.9755 - val_loss: 0.4084 - val_accuracy: 0.8858\n",
            "Epoch 6/20\n",
            "5728/5746 [============================>.] - ETA: 0s - loss: 0.0446 - accuracy: 0.9845\n",
            "Epoch 00006: val_accuracy did not improve from 0.90297\n",
            "5746/5746 [==============================] - 72s 13ms/sample - loss: 0.0445 - accuracy: 0.9845 - val_loss: 0.3746 - val_accuracy: 0.8967\n",
            "Epoch 7/20\n",
            "5728/5746 [============================>.] - ETA: 0s - loss: 0.0310 - accuracy: 0.9892\n",
            "Epoch 00007: val_accuracy did not improve from 0.90297\n",
            "5746/5746 [==============================] - 72s 13ms/sample - loss: 0.0309 - accuracy: 0.9892 - val_loss: 0.4347 - val_accuracy: 0.9014\n",
            "Epoch 8/20\n",
            "5728/5746 [============================>.] - ETA: 0s - loss: 0.0354 - accuracy: 0.9871\n",
            "Epoch 00008: val_accuracy improved from 0.90297 to 0.90610, saving model to best_model.h5\n",
            "5746/5746 [==============================] - 73s 13ms/sample - loss: 0.0353 - accuracy: 0.9871 - val_loss: 0.3509 - val_accuracy: 0.9061\n",
            "Epoch 9/20\n",
            "5728/5746 [============================>.] - ETA: 0s - loss: 0.0158 - accuracy: 0.9946\n",
            "Epoch 00009: val_accuracy did not improve from 0.90610\n",
            "5746/5746 [==============================] - 72s 13ms/sample - loss: 0.0157 - accuracy: 0.9946 - val_loss: 0.4571 - val_accuracy: 0.9030\n",
            "Epoch 00009: early stopping\n"
          ],
          "name": "stdout"
        }
      ]
    },
    {
      "cell_type": "code",
      "metadata": {
        "id": "lml5wMcL9aTW",
        "colab_type": "code",
        "outputId": "a80937d4-155b-4731-967d-61e59a42f485",
        "colab": {
          "base_uri": "https://localhost:8080/",
          "height": 573
        }
      },
      "source": [
        "import matplotlib.pyplot as plt\n",
        "\n",
        "def plot(history):\n",
        "  \n",
        "  acc = history.history['accuracy']\n",
        "  val_acc = history.history['val_accuracy']\n",
        "  loss = history.history['loss']\n",
        "  val_loss = history.history['val_loss']\n",
        "\n",
        "  epochs = range(len(acc))\n",
        "\n",
        "  plt.title('Training and validation accuracy')\n",
        "  plt.plot(epochs, acc, color='blue', label='Train')\n",
        "  plt.plot(epochs, val_acc, color='orange', label='Val')\n",
        "  plt.xlabel('Epoch')\n",
        "  plt.ylabel('Accuracy')\n",
        "  plt.legend()\n",
        "\n",
        "  _ = plt.figure()\n",
        "  plt.title('Training and validation loss')\n",
        "  plt.plot(epochs, loss, color='blue', label='Train')\n",
        "  plt.plot(epochs, val_loss, color='orange', label='Val')\n",
        "  plt.xlabel('Epoch')\n",
        "  plt.ylabel('Loss')\n",
        "  plt.legend()\n",
        "  \n",
        "plot(history)"
      ],
      "execution_count": 0,
      "outputs": [
        {
          "output_type": "display_data",
          "data": {
            "image/png": "[encoded data removed]",
            "text/plain": [
              "<Figure size 432x288 with 1 Axes>"
            ]
          },
          "metadata": {
            "tags": []
          }
        },
        {
          "output_type": "display_data",
          "data": {
            "image/png": "[encoded data removed]",
            "text/plain": [
              "<Figure size 432x288 with 1 Axes>"
            ]
          },
          "metadata": {
            "tags": []
          }
        }
      ]
    },
    {
      "cell_type": "code",
      "metadata": {
        "id": "Grx6CEwZOHbV",
        "colab_type": "code",
        "colab": {}
      },
      "source": [
        "from tensorflow.keras.models import load_model\n",
        "saved_model = load_model('/content/best_model.h5')"
      ],
      "execution_count": 0,
      "outputs": []
    },
    {
      "cell_type": "code",
      "metadata": {
        "id": "bKnzZ3Eo-87Z",
        "colab_type": "code",
        "outputId": "938e147c-e1ea-48ab-800a-b9b8503beed6",
        "colab": {
          "base_uri": "https://localhost:8080/",
          "height": 102
        }
      },
      "source": [
        "y_test_new = np.argmax(y_test, axis=1)\n",
        "y_test[0:5]"
      ],
      "execution_count": 0,
      "outputs": [
        {
          "output_type": "execute_result",
          "data": {
            "text/plain": [
              "array([[1., 0.],\n",
              "       [1., 0.],\n",
              "       [1., 0.],\n",
              "       [0., 1.],\n",
              "       [1., 0.]], dtype=float32)"
            ]
          },
          "metadata": {
            "tags": []
          },
          "execution_count": 80
        }
      ]
    },
    {
      "cell_type": "code",
      "metadata": {
        "id": "SBzHHT7N_FhV",
        "colab_type": "code",
        "outputId": "119e82a1-6ebb-46d8-afe2-28a6f6255d73",
        "colab": {
          "base_uri": "https://localhost:8080/",
          "height": 34
        }
      },
      "source": [
        "y_test_new[0:5]"
      ],
      "execution_count": 0,
      "outputs": [
        {
          "output_type": "execute_result",
          "data": {
            "text/plain": [
              "array([0, 0, 0, 1, 0])"
            ]
          },
          "metadata": {
            "tags": []
          },
          "execution_count": 81
        }
      ]
    },
    {
      "cell_type": "code",
      "metadata": {
        "id": "cHVIpKZp_I-F",
        "colab_type": "code",
        "outputId": "ae53f34f-a50e-4a5f-d5e2-f9ccd82b8522",
        "colab": {
          "base_uri": "https://localhost:8080/",
          "height": 102
        }
      },
      "source": [
        "op = saved_model.predict([x_test_article_1, x_test_article_2, x_test_header])\n",
        "prediction = op\n",
        "#attention_wts = op[1]\n",
        "prediction[0:5]"
      ],
      "execution_count": 0,
      "outputs": [
        {
          "output_type": "execute_result",
          "data": {
            "text/plain": [
              "array([[9.8375964e-01, 1.6240379e-02],\n",
              "       [9.9995661e-01, 4.3346641e-05],\n",
              "       [1.0000000e+00, 2.5916396e-09],\n",
              "       [1.0022340e-05, 9.9998999e-01],\n",
              "       [8.7286717e-01, 1.2713288e-01]], dtype=float32)"
            ]
          },
          "metadata": {
            "tags": []
          },
          "execution_count": 82
        }
      ]
    },
    {
      "cell_type": "code",
      "metadata": {
        "id": "fMV56lno_M8n",
        "colab_type": "code",
        "colab": {}
      },
      "source": [
        "y_pred=np.argmax(prediction, axis=1)"
      ],
      "execution_count": 0,
      "outputs": []
    },
    {
      "cell_type": "code",
      "metadata": {
        "id": "aV7UTiWV_UVQ",
        "colab_type": "code",
        "outputId": "30aa86a6-48ee-4a4a-d538-a9b3a2e29cb7",
        "colab": {
          "base_uri": "https://localhost:8080/",
          "height": 34
        }
      },
      "source": [
        "np.sum(y_pred)"
      ],
      "execution_count": 0,
      "outputs": [
        {
          "output_type": "execute_result",
          "data": {
            "text/plain": [
              "626"
            ]
          },
          "metadata": {
            "tags": []
          },
          "execution_count": 84
        }
      ]
    },
    {
      "cell_type": "code",
      "metadata": {
        "id": "iLW-BOXe_VRO",
        "colab_type": "code",
        "outputId": "52cefa3b-c6dc-42e5-ada1-383deaf149e6",
        "colab": {
          "base_uri": "https://localhost:8080/",
          "height": 34
        }
      },
      "source": [
        "np.sum(y_test_new)"
      ],
      "execution_count": 0,
      "outputs": [
        {
          "output_type": "execute_result",
          "data": {
            "text/plain": [
              "353"
            ]
          },
          "metadata": {
            "tags": []
          },
          "execution_count": 85
        }
      ]
    },
    {
      "cell_type": "code",
      "metadata": {
        "id": "-PTadiGk_VOO",
        "colab_type": "code",
        "outputId": "ad90d917-5b01-4fea-ab5a-c259e2d65c89",
        "colab": {
          "base_uri": "https://localhost:8080/",
          "height": 68
        }
      },
      "source": [
        "from sklearn.metrics import confusion_matrix\n",
        "cm1 = confusion_matrix(y_test_new,y_pred)\n",
        "print('Confusion Matrix : \\n', cm1)"
      ],
      "execution_count": 0,
      "outputs": [
        {
          "output_type": "stream",
          "text": [
            "Confusion Matrix : \n",
            " [[2774  302]\n",
            " [  29  324]]\n"
          ],
          "name": "stdout"
        }
      ]
    },
    {
      "cell_type": "code",
      "metadata": {
        "id": "5yddwwcW_e5N",
        "colab_type": "code",
        "outputId": "bbbc4949-2339-47af-f841-a565ee175cfb",
        "colab": {
          "base_uri": "https://localhost:8080/",
          "height": 51
        }
      },
      "source": [
        "from sklearn.metrics import precision_recall_fscore_support\n",
        "print(precision_recall_fscore_support(y_test_new, y_pred, average='macro'))\n",
        "print(precision_recall_fscore_support(y_test_new, y_pred, average='weighted'))"
      ],
      "execution_count": 0,
      "outputs": [
        {
          "output_type": "stream",
          "text": [
            "(0.7536129135944031, 0.9098337858297999, 0.8027989028312021, None)\n",
            "(0.9410552352351316, 0.9034703995333917, 0.9146880805944928, None)\n"
          ],
          "name": "stdout"
        }
      ]
    },
    {
      "cell_type": "code",
      "metadata": {
        "id": "DProZgQg_qC-",
        "colab_type": "code",
        "outputId": "053cb5db-d12c-4bed-893c-76d3a32435f0",
        "colab": {
          "base_uri": "https://localhost:8080/",
          "height": 34
        }
      },
      "source": [
        "from sklearn.metrics import confusion_matrix\n",
        "tn, fp, fn, tp = confusion_matrix(y_test_new, y_pred).ravel()\n",
        "pre = tp / (tp + fp)\n",
        "rec = tp / (tp + fn)\n",
        "tnr = tn / (tn + fp)\n",
        "acc = (tp + tn)/ (tp + tn + fp + fn)\n",
        "balanced_acc = (rec + tnr) / 2\n",
        "f1 = 2 * (pre * rec)/(pre+rec)\n",
        "\n",
        "print(pre, rec, tnr, acc, balanced_acc, f1)"
      ],
      "execution_count": 0,
      "outputs": [
        {
          "output_type": "stream",
          "text": [
            "0.5175718849840255 0.9178470254957507 0.9018205461638491 0.9034703995333917 0.9098337858297999 0.661899897854954\n"
          ],
          "name": "stdout"
        }
      ]
    },
    {
      "cell_type": "code",
      "metadata": {
        "id": "ypFj_Xg8FRWR",
        "colab_type": "code",
        "outputId": "b2751d3f-6b0c-47bc-9de9-2dec799dd59b",
        "colab": {
          "base_uri": "https://localhost:8080/",
          "height": 34
        }
      },
      "source": [
        "print(tp, tn, fp, fn)"
      ],
      "execution_count": 0,
      "outputs": [
        {
          "output_type": "stream",
          "text": [
            "324 2774 302 29\n"
          ],
          "name": "stdout"
        }
      ]
    },
    {
      "cell_type": "code",
      "metadata": {
        "id": "DG8niQJAF8iZ",
        "colab_type": "code",
        "outputId": "2b620378-1526-47a4-d744-0370a6134ebe",
        "colab": {
          "base_uri": "https://localhost:8080/",
          "height": 51
        }
      },
      "source": [
        "import math\n",
        "num = (tp*tn - fp*fn)\n",
        "den = math.sqrt((tp+fp)*(tp+fn)*(tn+fp)*(tn+fn))\n",
        "print(num, den)\n",
        "mcc = num/den\n",
        "print(mcc)"
      ],
      "execution_count": 0,
      "outputs": [
        {
          "output_type": "stream",
          "text": [
            "890018 1380318.2616280927\n",
            "0.6447918749913655\n"
          ],
          "name": "stdout"
        }
      ]
    }
  ]
}