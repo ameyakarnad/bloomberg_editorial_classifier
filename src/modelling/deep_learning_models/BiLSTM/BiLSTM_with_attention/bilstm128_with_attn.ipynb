{
  "nbformat": 4,
  "nbformat_minor": 0,
  "metadata": {
    "colab": {
      "name": "bilstm128_with_attn.ipynb",
      "provenance": [],
      "collapsed_sections": []
    },
    "kernelspec": {
      "name": "python3",
      "display_name": "Python 3"
    },
    "accelerator": "GPU"
  },
  "cells": [
    {
      "cell_type": "code",
      "metadata": {
        "id": "NP3kwQq8zkIa",
        "colab_type": "code",
        "outputId": "fb6f315b-120b-4889-d885-f106d88deb6e",
        "colab": {
          "base_uri": "https://localhost:8080/",
          "height": 139
        }
      },
      "source": [
        "import pandas as pd\n",
        "import numpy as np\n",
        "import csv\n",
        "\n",
        "%tensorflow_version 2.x\n",
        "import tensorflow as tf\n",
        "tf.__version__\n",
        "assert tf.__version__ >= \"2.0\"\n",
        "\n",
        "from google.colab import drive\n",
        "drive.mount('/content/drive')"
      ],
      "execution_count": 0,
      "outputs": [
        {
          "output_type": "stream",
          "text": [
            "TensorFlow 2.x selected.\n",
            "Go to this URL in a browser: https://accounts.google.com/o/oauth2/auth?client_id=947318989803-6bn6qk8qdgf4n4g3pfee6491hc0brc4i.apps.googleusercontent.com&redirect_uri=urn%3aietf%3awg%3aoauth%3a2.0%3aoob&response_type=code&scope=email%20https%3a%2f%2fwww.googleapis.com%2fauth%2fdocs.test%20https%3a%2f%2fwww.googleapis.com%2fauth%2fdrive%20https%3a%2f%2fwww.googleapis.com%2fauth%2fdrive.photos.readonly%20https%3a%2f%2fwww.googleapis.com%2fauth%2fpeopleapi.readonly\n",
            "\n",
            "Enter your authorization code:\n",
            "··········\n",
            "Mounted at /content/drive\n"
          ],
          "name": "stdout"
        }
      ]
    },
    {
      "cell_type": "code",
      "metadata": {
        "id": "VTJva58j2IuX",
        "colab_type": "code",
        "colab": {}
      },
      "source": [
        "x_train = pd.read_csv('/content/drive/My Drive/bilstm_data/x_train.csv')\n",
        "x_test = pd.read_csv('/content/drive/My Drive/bilstm_data/x_test.csv')\n",
        "x_val = pd.read_csv('/content/drive/My Drive/bilstm_data/x_val.csv')\n",
        "\n",
        "\n",
        "y_train = pd.read_csv('/content/drive/My Drive/bilstm_data/y_train.csv')\n",
        "y_test = pd.read_csv('/content/drive/My Drive/bilstm_data/y_test.csv')\n",
        "y_val = pd.read_csv('/content/drive/My Drive/bilstm_data/y_val.csv')\n"
      ],
      "execution_count": 0,
      "outputs": []
    },
    {
      "cell_type": "code",
      "metadata": {
        "id": "WHI6wapl3MZt",
        "colab_type": "code",
        "colab": {}
      },
      "source": [
        "texts = x_train['article_text'].values\n",
        "texts_test = x_test['article_text'].values"
      ],
      "execution_count": 0,
      "outputs": []
    },
    {
      "cell_type": "code",
      "metadata": {
        "id": "nu3Ffwxm37xJ",
        "colab_type": "code",
        "colab": {}
      },
      "source": [
        "texts_val = x_val['article_text'].values\n",
        "labels_val = y_val['label'].values"
      ],
      "execution_count": 0,
      "outputs": []
    },
    {
      "cell_type": "code",
      "metadata": {
        "id": "oxW-NQs87j_z",
        "colab_type": "code",
        "colab": {}
      },
      "source": [
        "labels_test = y_test['label'].values\n",
        "labels = y_train['label'].values"
      ],
      "execution_count": 0,
      "outputs": []
    },
    {
      "cell_type": "code",
      "metadata": {
        "id": "MRmzS-eY93rE",
        "colab_type": "code",
        "outputId": "55a78539-9846-426b-9b5a-a6398a87eb82",
        "colab": {
          "base_uri": "https://localhost:8080/",
          "height": 34
        }
      },
      "source": [
        "print(labels.shape, labels_test.shape, labels_test.shape)"
      ],
      "execution_count": 0,
      "outputs": [
        {
          "output_type": "stream",
          "text": [
            "(5746,) (3429,) (3429,)\n"
          ],
          "name": "stdout"
        }
      ]
    },
    {
      "cell_type": "code",
      "metadata": {
        "id": "KoA8QpdF7j8a",
        "colab_type": "code",
        "outputId": "3bca075f-6b32-4923-b806-2410238c87d5",
        "colab": {
          "base_uri": "https://localhost:8080/",
          "height": 34
        }
      },
      "source": [
        "len(y_test.loc[y_test['label']==0])"
      ],
      "execution_count": 0,
      "outputs": [
        {
          "output_type": "execute_result",
          "data": {
            "text/plain": [
              "3076"
            ]
          },
          "metadata": {
            "tags": []
          },
          "execution_count": 7
        }
      ]
    },
    {
      "cell_type": "code",
      "metadata": {
        "id": "cDWY2Gns7rpm",
        "colab_type": "code",
        "outputId": "dc11f80a-8afc-46dc-89cf-dd3570ad5852",
        "colab": {
          "base_uri": "https://localhost:8080/",
          "height": 34
        }
      },
      "source": [
        "len(y_test.loc[y_test['label']==1])"
      ],
      "execution_count": 0,
      "outputs": [
        {
          "output_type": "execute_result",
          "data": {
            "text/plain": [
              "353"
            ]
          },
          "metadata": {
            "tags": []
          },
          "execution_count": 8
        }
      ]
    },
    {
      "cell_type": "code",
      "metadata": {
        "id": "5yf8klrD7uXO",
        "colab_type": "code",
        "colab": {}
      },
      "source": [
        "MAX_NUM_WORDS = 3000 # how many unique words to use (i.e num rows in embedding vector)\n",
        "MAX_SEQUENCE_LENGTH = 128 # max number of words in a review to use\n"
      ],
      "execution_count": 0,
      "outputs": []
    },
    {
      "cell_type": "code",
      "metadata": {
        "id": "mypJfroL70Fj",
        "colab_type": "code",
        "outputId": "6a8543a9-7f27-436b-a6a0-b1a3ddae1bb5",
        "colab": {
          "base_uri": "https://localhost:8080/",
          "height": 34
        }
      },
      "source": [
        "from tensorflow.keras.preprocessing.text import Tokenizer\n",
        "\n",
        "tokenizer_train = Tokenizer(num_words=MAX_NUM_WORDS) #convert word(string to int)\n",
        "tokenizer_train.fit_on_texts(texts) \n",
        "sequences = tokenizer_train.texts_to_sequences(texts) \n",
        "\n",
        "word_index = tokenizer_train.word_index #convert this to dict\n",
        "print('Found %s unique tokens.' % len(word_index))\n"
      ],
      "execution_count": 0,
      "outputs": [
        {
          "output_type": "stream",
          "text": [
            "Found 85423 unique tokens.\n"
          ],
          "name": "stdout"
        }
      ]
    },
    {
      "cell_type": "code",
      "metadata": {
        "id": "b7AXCaBa77mO",
        "colab_type": "code",
        "colab": {}
      },
      "source": [
        "sequences3 = tokenizer_train.texts_to_sequences(texts_val) \n",
        "sequences_test = tokenizer_train.texts_to_sequences(texts_test)"
      ],
      "execution_count": 0,
      "outputs": []
    },
    {
      "cell_type": "code",
      "metadata": {
        "id": "YJw3dLXv8GFf",
        "colab_type": "code",
        "outputId": "8029c623-3bb8-457c-8434-a547a0523ff1",
        "colab": {
          "base_uri": "https://localhost:8080/",
          "height": 51
        }
      },
      "source": [
        "from tensorflow.keras.preprocessing.sequence import pad_sequences\n",
        "from tensorflow.keras.utils import to_categorical\n",
        "\n",
        "data = pad_sequences(sequences, maxlen=MAX_SEQUENCE_LENGTH, padding='pre')\n",
        "labels = to_categorical(np.asarray(labels))\n",
        "print('Shape of data tensor:', data.shape)\n",
        "print('Shape of label tensor:', labels.shape)"
      ],
      "execution_count": 0,
      "outputs": [
        {
          "output_type": "stream",
          "text": [
            "Shape of data tensor: (5746, 128)\n",
            "Shape of label tensor: (5746, 2)\n"
          ],
          "name": "stdout"
        }
      ]
    },
    {
      "cell_type": "code",
      "metadata": {
        "id": "qayTi_pg8dpd",
        "colab_type": "code",
        "outputId": "b7cc4dba-ed67-4816-acc0-310d29fb3669",
        "colab": {
          "base_uri": "https://localhost:8080/",
          "height": 85
        }
      },
      "source": [
        "data2 = pad_sequences(sequences_test, maxlen=MAX_SEQUENCE_LENGTH, padding='pre')\n",
        "labels2 = to_categorical(np.asarray(labels_test))\n",
        "print('Shape of data tensor:', data2.shape)\n",
        "print('Shape of label tensor:', labels2.shape)\n",
        "\n",
        "data3 = pad_sequences(sequences3, maxlen=MAX_SEQUENCE_LENGTH, padding='pre')\n",
        "labels3 = to_categorical(np.asarray(labels_val))\n",
        "print('Shape of data tensor:', data3.shape)\n",
        "print('Shape of label tensor:', labels3.shape)\n"
      ],
      "execution_count": 0,
      "outputs": [
        {
          "output_type": "stream",
          "text": [
            "Shape of data tensor: (3429, 128)\n",
            "Shape of label tensor: (3429, 2)\n",
            "Shape of data tensor: (639, 128)\n",
            "Shape of label tensor: (639, 2)\n"
          ],
          "name": "stdout"
        }
      ]
    },
    {
      "cell_type": "code",
      "metadata": {
        "id": "lYxt4ph48joU",
        "colab_type": "code",
        "colab": {}
      },
      "source": [
        "x_train = data\n",
        "y_train = labels\n",
        "\n",
        "x_val = data3\n",
        "y_val = labels3\n",
        "\n",
        "x_test = data2\n",
        "y_test = labels2"
      ],
      "execution_count": 0,
      "outputs": []
    },
    {
      "cell_type": "code",
      "metadata": {
        "id": "-NlMg25i-XM3",
        "colab_type": "code",
        "outputId": "6e1aa446-63af-41f9-a0aa-b1fc5c6ff644",
        "colab": {
          "base_uri": "https://localhost:8080/",
          "height": 34
        }
      },
      "source": [
        "print(y_train.shape, y_val.shape, y_test.shape)"
      ],
      "execution_count": 0,
      "outputs": [
        {
          "output_type": "stream",
          "text": [
            "(5746, 2) (639, 2) (3429, 2)\n"
          ],
          "name": "stdout"
        }
      ]
    },
    {
      "cell_type": "code",
      "metadata": {
        "id": "MCj9Orni8GIm",
        "colab_type": "code",
        "outputId": "4c786829-64e0-4fd2-e34a-292011598955",
        "colab": {
          "base_uri": "https://localhost:8080/",
          "height": 34
        }
      },
      "source": [
        "GLOVE_DIR='drive/My Drive/yelp_review_polarity_csv/'\n",
        "\n",
        "import os\n",
        "embeddings_index = {}\n",
        "f = open(os.path.join(GLOVE_DIR, 'glove.42B.300d.txt'))\n",
        "for line in f:\n",
        "    values = line.split()\n",
        "    word = values[0]\n",
        "    coefs = np.asarray(values[1:], dtype='float32')\n",
        "    embeddings_index[word] = coefs\n",
        "f.close()\n",
        "\n",
        "print('Found %s word vectors.' % len(embeddings_index))\n"
      ],
      "execution_count": 0,
      "outputs": [
        {
          "output_type": "stream",
          "text": [
            "Found 1917494 word vectors.\n"
          ],
          "name": "stdout"
        }
      ]
    },
    {
      "cell_type": "code",
      "metadata": {
        "id": "I3BgH8Lq8u3b",
        "colab_type": "code",
        "colab": {}
      },
      "source": [
        "EMBEDDING_DIM = 300 # how big is each word vector\n",
        "\n",
        "embedding_matrix = np.zeros((len(word_index) + 1, EMBEDDING_DIM))\n",
        "for word, i in word_index.items():\n",
        "    embedding_vector = embeddings_index.get(word)\n",
        "    if embedding_vector is not None:\n",
        "        # words not found in embedding index will be all-zeros.\n",
        "        embedding_matrix[i] = embedding_vector"
      ],
      "execution_count": 0,
      "outputs": []
    },
    {
      "cell_type": "code",
      "metadata": {
        "id": "QK-to-cx84gn",
        "colab_type": "code",
        "colab": {}
      },
      "source": [
        "from tensorflow.keras.layers import Embedding\n",
        "\n",
        "embedding_layer = Embedding(len(word_index) + 1,\n",
        "                            EMBEDDING_DIM,\n",
        "                            weights=[embedding_matrix],\n",
        "                            input_length=MAX_SEQUENCE_LENGTH,\n",
        "                            trainable=False)"
      ],
      "execution_count": 0,
      "outputs": []
    },
    {
      "cell_type": "code",
      "metadata": {
        "id": "LgLfbTHY86Ds",
        "colab_type": "code",
        "outputId": "0e3ca347-326e-4240-fd88-b141d47909f4",
        "colab": {
          "base_uri": "https://localhost:8080/",
          "height": 578
        }
      },
      "source": [
        "from tensorflow.keras.layers import Bidirectional, GlobalMaxPool1D, Conv1D\n",
        "from tensorflow.keras.layers import Dense, Input, LSTM, Embedding, Dropout, Activation, TimeDistributed, Flatten,RepeatVector, Permute, Multiply, Lambda\n",
        "from tensorflow.keras.models import Model, Sequential\n",
        "from tensorflow.keras.callbacks import EarlyStopping, ModelCheckpoint\n",
        "from tensorflow.keras.backend import sum\n",
        "\n",
        "es = EarlyStopping(monitor='val_loss', mode='min', verbose=1, patience=6)\n",
        "#mc = ModelCheckpoint('best_model.h5', monitor='val_accuracy', mode='max', verbose=1, save_best_only=True)\n",
        "\n",
        "inp = Input(shape=(MAX_SEQUENCE_LENGTH,))\n",
        "x = embedded_sequences = embedding_layer(inp)\n",
        "activations = Bidirectional(LSTM(64, return_sequences=True))(x)\n",
        "\n",
        "attention = Dense(1, activation='tanh')(activations)\n",
        "attention = Flatten()(attention)\n",
        "attention = Activation('softmax')(attention)\n",
        "attention = RepeatVector(128)(attention)\n",
        "attention = Permute([2, 1])(attention)\n",
        "\n",
        "sent_representation = Multiply()([activations, attention])\n",
        "sent_representation = Lambda(lambda xin: sum(xin, axis=-2), output_shape=(64,))(sent_representation)\n",
        "x = Dropout(0.5)(sent_representation)\n",
        "x = Dense(2, activation='softmax')(x)\n",
        "model = Model(inputs=inp, outputs=x)\n",
        "model.compile(loss='categorical_crossentropy', optimizer='adam', metrics=['accuracy'])\n",
        "model.summary()"
      ],
      "execution_count": 0,
      "outputs": [
        {
          "output_type": "stream",
          "text": [
            "Model: \"model_2\"\n",
            "__________________________________________________________________________________________________\n",
            "Layer (type)                    Output Shape         Param #     Connected to                     \n",
            "==================================================================================================\n",
            "input_3 (InputLayer)            [(None, 128)]        0                                            \n",
            "__________________________________________________________________________________________________\n",
            "embedding (Embedding)           (None, 128, 300)     25627200    input_3[0][0]                    \n",
            "__________________________________________________________________________________________________\n",
            "bidirectional_2 (Bidirectional) (None, 128, 128)     186880      embedding[2][0]                  \n",
            "__________________________________________________________________________________________________\n",
            "dense_4 (Dense)                 (None, 128, 1)       129         bidirectional_2[0][0]            \n",
            "__________________________________________________________________________________________________\n",
            "flatten_2 (Flatten)             (None, 128)          0           dense_4[0][0]                    \n",
            "__________________________________________________________________________________________________\n",
            "activation_2 (Activation)       (None, 128)          0           flatten_2[0][0]                  \n",
            "__________________________________________________________________________________________________\n",
            "repeat_vector_2 (RepeatVector)  (None, 128, 128)     0           activation_2[0][0]               \n",
            "__________________________________________________________________________________________________\n",
            "permute_2 (Permute)             (None, 128, 128)     0           repeat_vector_2[0][0]            \n",
            "__________________________________________________________________________________________________\n",
            "multiply_2 (Multiply)           (None, 128, 128)     0           bidirectional_2[0][0]            \n",
            "                                                                 permute_2[0][0]                  \n",
            "__________________________________________________________________________________________________\n",
            "lambda_2 (Lambda)               (None, 128)          0           multiply_2[0][0]                 \n",
            "__________________________________________________________________________________________________\n",
            "dropout_2 (Dropout)             (None, 128)          0           lambda_2[0][0]                   \n",
            "__________________________________________________________________________________________________\n",
            "dense_5 (Dense)                 (None, 2)            258         dropout_2[0][0]                  \n",
            "==================================================================================================\n",
            "Total params: 25,814,467\n",
            "Trainable params: 187,267\n",
            "Non-trainable params: 25,627,200\n",
            "__________________________________________________________________________________________________\n"
          ],
          "name": "stdout"
        }
      ]
    },
    {
      "cell_type": "code",
      "metadata": {
        "colab_type": "code",
        "outputId": "c1971278-5a0e-49cb-e515-fbd5b4c11ba0",
        "id": "ZQOaBISriice",
        "colab": {
          "base_uri": "https://localhost:8080/",
          "height": 272
        }
      },
      "source": [
        "history = model.fit(x_train, y_train, validation_data=[x_val, y_val], epochs=7, callbacks=[es])"
      ],
      "execution_count": 0,
      "outputs": [
        {
          "output_type": "stream",
          "text": [
            "Train on 5746 samples, validate on 639 samples\n",
            "Epoch 1/7\n",
            "5746/5746 [==============================] - 74s 13ms/sample - loss: 0.4366 - accuracy: 0.8023 - val_loss: 0.3402 - val_accuracy: 0.8545\n",
            "Epoch 2/7\n",
            "5746/5746 [==============================] - 69s 12ms/sample - loss: 0.3256 - accuracy: 0.8620 - val_loss: 0.3025 - val_accuracy: 0.8779\n",
            "Epoch 3/7\n",
            "5746/5746 [==============================] - 68s 12ms/sample - loss: 0.2864 - accuracy: 0.8834 - val_loss: 0.2787 - val_accuracy: 0.8983\n",
            "Epoch 4/7\n",
            "5746/5746 [==============================] - 68s 12ms/sample - loss: 0.2560 - accuracy: 0.8958 - val_loss: 0.2762 - val_accuracy: 0.8920\n",
            "Epoch 5/7\n",
            "5746/5746 [==============================] - 69s 12ms/sample - loss: 0.2437 - accuracy: 0.9015 - val_loss: 0.2800 - val_accuracy: 0.8967\n",
            "Epoch 6/7\n",
            "5746/5746 [==============================] - 68s 12ms/sample - loss: 0.2195 - accuracy: 0.9145 - val_loss: 0.2776 - val_accuracy: 0.8889\n",
            "Epoch 7/7\n",
            "5746/5746 [==============================] - 68s 12ms/sample - loss: 0.1961 - accuracy: 0.9226 - val_loss: 0.2673 - val_accuracy: 0.8983\n"
          ],
          "name": "stdout"
        }
      ]
    },
    {
      "cell_type": "code",
      "metadata": {
        "id": "lml5wMcL9aTW",
        "colab_type": "code",
        "outputId": "0b4115ec-0cec-44de-e6a6-ba36443f80e0",
        "colab": {
          "base_uri": "https://localhost:8080/",
          "height": 573
        }
      },
      "source": [
        "import matplotlib.pyplot as plt\n",
        "\n",
        "def plot(history):\n",
        "  \n",
        "  acc = history.history['accuracy']\n",
        "  val_acc = history.history['val_accuracy']\n",
        "  loss = history.history['loss']\n",
        "  val_loss = history.history['val_loss']\n",
        "\n",
        "  epochs = range(len(acc))\n",
        "\n",
        "  plt.title('Training and validation accuracy')\n",
        "  plt.plot(epochs, acc, color='blue', label='Train')\n",
        "  plt.plot(epochs, val_acc, color='orange', label='Val')\n",
        "  plt.xlabel('Epoch')\n",
        "  plt.ylabel('Accuracy')\n",
        "  plt.legend()\n",
        "\n",
        "  _ = plt.figure()\n",
        "  plt.title('Training and validation loss')\n",
        "  plt.plot(epochs, loss, color='blue', label='Train')\n",
        "  plt.plot(epochs, val_loss, color='orange', label='Val')\n",
        "  plt.xlabel('Epoch')\n",
        "  plt.ylabel('Loss')\n",
        "  plt.legend()\n",
        "  \n",
        "plot(history)"
      ],
      "execution_count": 0,
      "outputs": [
        {
          "output_type": "display_data",
          "data": {
            "image/png": "[encoded data removed]",
            "text/plain": [
              "<Figure size 432x288 with 1 Axes>"
            ]
          },
          "metadata": {
            "tags": []
          }
        },
        {
          "output_type": "display_data",
          "data": {
            "image/png": "[encoded data removed]",
            "text/plain": [
              "<Figure size 432x288 with 1 Axes>"
            ]
          },
          "metadata": {
            "tags": []
          }
        }
      ]
    },
    {
      "cell_type": "code",
      "metadata": {
        "id": "bKnzZ3Eo-87Z",
        "colab_type": "code",
        "outputId": "87959497-da7f-4efc-9540-05bffda57c66",
        "colab": {
          "base_uri": "https://localhost:8080/",
          "height": 102
        }
      },
      "source": [
        "y_test_new = np.argmax(y_test, axis=1)\n",
        "y_test[0:5]"
      ],
      "execution_count": 0,
      "outputs": [
        {
          "output_type": "execute_result",
          "data": {
            "text/plain": [
              "array([[1., 0.],\n",
              "       [1., 0.],\n",
              "       [1., 0.],\n",
              "       [0., 1.],\n",
              "       [1., 0.]], dtype=float32)"
            ]
          },
          "metadata": {
            "tags": []
          },
          "execution_count": 42
        }
      ]
    },
    {
      "cell_type": "code",
      "metadata": {
        "id": "SBzHHT7N_FhV",
        "colab_type": "code",
        "outputId": "8aed60c1-382a-48a9-c7bd-f09485f6dd3e",
        "colab": {
          "base_uri": "https://localhost:8080/",
          "height": 34
        }
      },
      "source": [
        "y_test_new[0:5]"
      ],
      "execution_count": 0,
      "outputs": [
        {
          "output_type": "execute_result",
          "data": {
            "text/plain": [
              "array([0, 0, 0, 1, 0])"
            ]
          },
          "metadata": {
            "tags": []
          },
          "execution_count": 43
        }
      ]
    },
    {
      "cell_type": "code",
      "metadata": {
        "id": "cHVIpKZp_I-F",
        "colab_type": "code",
        "outputId": "eeffc197-5aa5-4bc9-f236-4e4ce92b7ef6",
        "colab": {
          "base_uri": "https://localhost:8080/",
          "height": 102
        }
      },
      "source": [
        "prediction = model.predict(x_test)\n",
        "prediction[0:5]"
      ],
      "execution_count": 0,
      "outputs": [
        {
          "output_type": "execute_result",
          "data": {
            "text/plain": [
              "array([[0.9823056 , 0.01769434],\n",
              "       [0.9772356 , 0.02276444],\n",
              "       [0.97641367, 0.0235863 ],\n",
              "       [0.00178155, 0.9982185 ],\n",
              "       [0.97545844, 0.02454151]], dtype=float32)"
            ]
          },
          "metadata": {
            "tags": []
          },
          "execution_count": 44
        }
      ]
    },
    {
      "cell_type": "code",
      "metadata": {
        "id": "fMV56lno_M8n",
        "colab_type": "code",
        "colab": {}
      },
      "source": [
        "y_pred=np.argmax(prediction, axis=1)"
      ],
      "execution_count": 0,
      "outputs": []
    },
    {
      "cell_type": "code",
      "metadata": {
        "id": "aV7UTiWV_UVQ",
        "colab_type": "code",
        "outputId": "0d953e43-cb11-4049-86dc-49fc0d34525b",
        "colab": {
          "base_uri": "https://localhost:8080/",
          "height": 34
        }
      },
      "source": [
        "np.sum(y_pred)"
      ],
      "execution_count": 0,
      "outputs": [
        {
          "output_type": "execute_result",
          "data": {
            "text/plain": [
              "642"
            ]
          },
          "metadata": {
            "tags": []
          },
          "execution_count": 46
        }
      ]
    },
    {
      "cell_type": "code",
      "metadata": {
        "id": "iLW-BOXe_VRO",
        "colab_type": "code",
        "outputId": "0fdc2684-3d08-4bf9-ae3d-843131f6eaec",
        "colab": {
          "base_uri": "https://localhost:8080/",
          "height": 34
        }
      },
      "source": [
        "np.sum(y_test_new)"
      ],
      "execution_count": 0,
      "outputs": [
        {
          "output_type": "execute_result",
          "data": {
            "text/plain": [
              "353"
            ]
          },
          "metadata": {
            "tags": []
          },
          "execution_count": 47
        }
      ]
    },
    {
      "cell_type": "code",
      "metadata": {
        "id": "-PTadiGk_VOO",
        "colab_type": "code",
        "outputId": "b2c4de06-1a8e-46e3-d531-99a9bbb5ba89",
        "colab": {
          "base_uri": "https://localhost:8080/",
          "height": 68
        }
      },
      "source": [
        "from sklearn.metrics import confusion_matrix\n",
        "cm1 = confusion_matrix(y_test_new,y_pred)\n",
        "print('Confusion Matrix : \\n', cm1)"
      ],
      "execution_count": 0,
      "outputs": [
        {
          "output_type": "stream",
          "text": [
            "Confusion Matrix : \n",
            " [[2746  330]\n",
            " [  41  312]]\n"
          ],
          "name": "stdout"
        }
      ]
    },
    {
      "cell_type": "code",
      "metadata": {
        "id": "5yddwwcW_e5N",
        "colab_type": "code",
        "outputId": "8ebe2f34-9602-4b1e-854b-5df5e4eb6d0c",
        "colab": {
          "base_uri": "https://localhost:8080/",
          "height": 51
        }
      },
      "source": [
        "from sklearn.metrics import precision_recall_fscore_support\n",
        "print(precision_recall_fscore_support(y_test_new, y_pred, average='macro'))\n",
        "print(precision_recall_fscore_support(y_test_new, y_pred, average='weighted'))"
      ],
      "execution_count": 0,
      "outputs": [
        {
          "output_type": "stream",
          "text": [
            "(0.7356350747294682, 0.8882852532813668, 0.7819287465812774, None)\n",
            "(0.9338873948474629, 0.8918051910177894, 0.9048513259570465, None)\n"
          ],
          "name": "stdout"
        }
      ]
    },
    {
      "cell_type": "code",
      "metadata": {
        "id": "DProZgQg_qC-",
        "colab_type": "code",
        "outputId": "44d4927e-4525-4ee1-f394-c43b24b62ac9",
        "colab": {
          "base_uri": "https://localhost:8080/",
          "height": 34
        }
      },
      "source": [
        "from sklearn.metrics import confusion_matrix\n",
        "tn, fp, fn, tp = confusion_matrix(y_test_new, y_pred).ravel()\n",
        "pre = tp / (tp + fp)\n",
        "rec = tp / (tp + fn)\n",
        "tnr = tn / (tn + fp)\n",
        "acc = (tp + tn)/ (tp + tn + fp + fn)\n",
        "balanced_acc = (rec + tnr) / 2\n",
        "f1 = 2 * (pre * rec)/(pre+rec)\n",
        "\n",
        "print(pre, rec, tnr, acc, balanced_acc, f1)"
      ],
      "execution_count": 0,
      "outputs": [
        {
          "output_type": "stream",
          "text": [
            "0.48598130841121495 0.8838526912181303 0.8927178153446034 0.8918051910177894 0.8882852532813668 0.6271356783919598\n"
          ],
          "name": "stdout"
        }
      ]
    },
    {
      "cell_type": "code",
      "metadata": {
        "id": "ypFj_Xg8FRWR",
        "colab_type": "code",
        "outputId": "29763699-b024-4d3c-e137-9f7a31ed0dd6",
        "colab": {
          "base_uri": "https://localhost:8080/",
          "height": 34
        }
      },
      "source": [
        "print(tp, tn, fp, fn)"
      ],
      "execution_count": 0,
      "outputs": [
        {
          "output_type": "stream",
          "text": [
            "312 2746 330 41\n"
          ],
          "name": "stdout"
        }
      ]
    },
    {
      "cell_type": "code",
      "metadata": {
        "id": "DG8niQJAF8iZ",
        "colab_type": "code",
        "outputId": "0a0a00a3-87d0-4f44-9559-45678cfa3544",
        "colab": {
          "base_uri": "https://localhost:8080/",
          "height": 51
        }
      },
      "source": [
        "import math\n",
        "num = (tp*tn - fp*fn)\n",
        "den = math.sqrt((tp+fp)*(tp+fn)*(tn+fp)*(tn+fn))\n",
        "print(num, den)\n",
        "mcc = num/den\n",
        "print(mcc)"
      ],
      "execution_count": 0,
      "outputs": [
        {
          "output_type": "stream",
          "text": [
            "843222 1393851.5316603845\n",
            "0.6049582619431043\n"
          ],
          "name": "stdout"
        }
      ]
    }
  ]
}