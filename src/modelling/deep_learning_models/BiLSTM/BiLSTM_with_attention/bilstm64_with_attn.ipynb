{
  "nbformat": 4,
  "nbformat_minor": 0,
  "metadata": {
    "colab": {
      "name": "bilstm64_with_attn.ipynb",
      "provenance": [],
      "collapsed_sections": []
    },
    "kernelspec": {
      "name": "python3",
      "display_name": "Python 3"
    },
    "accelerator": "GPU"
  },
  "cells": [
    {
      "cell_type": "code",
      "metadata": {
        "id": "NP3kwQq8zkIa",
        "colab_type": "code",
        "outputId": "b55cbc71-faf1-4d9a-c4bf-a6ec0e6c431a",
        "colab": {
          "base_uri": "https://localhost:8080/",
          "height": 71
        }
      },
      "source": [
        "import pandas as pd\n",
        "import numpy as np\n",
        "import csv\n",
        "\n",
        "%tensorflow_version 2.x\n",
        "import tensorflow as tf\n",
        "tf.__version__\n",
        "assert tf.__version__ >= \"2.0\"\n",
        "\n",
        "from google.colab import drive\n",
        "drive.mount('/content/drive')"
      ],
      "execution_count": 0,
      "outputs": [
        {
          "output_type": "stream",
          "text": [
            "TensorFlow 2.x selected.\n",
            "Drive already mounted at /content/drive; to attempt to forcibly remount, call drive.mount(\"/content/drive\", force_remount=True).\n"
          ],
          "name": "stdout"
        }
      ]
    },
    {
      "cell_type": "code",
      "metadata": {
        "id": "VTJva58j2IuX",
        "colab_type": "code",
        "colab": {}
      },
      "source": [
        "x_train = pd.read_csv('/content/drive/My Drive/bilstm_data/x_train.csv')\n",
        "x_test = pd.read_csv('/content/drive/My Drive/bilstm_data/x_test.csv')\n",
        "x_val = pd.read_csv('/content/drive/My Drive/bilstm_data/x_val.csv')\n",
        "\n",
        "\n",
        "y_train = pd.read_csv('/content/drive/My Drive/bilstm_data/y_train.csv')\n",
        "y_test = pd.read_csv('/content/drive/My Drive/bilstm_data/y_test.csv')\n",
        "y_val = pd.read_csv('/content/drive/My Drive/bilstm_data/y_val.csv')\n"
      ],
      "execution_count": 0,
      "outputs": []
    },
    {
      "cell_type": "code",
      "metadata": {
        "id": "WHI6wapl3MZt",
        "colab_type": "code",
        "colab": {}
      },
      "source": [
        "texts = x_train['article_text'].values\n",
        "texts_test = x_test['article_text'].values"
      ],
      "execution_count": 0,
      "outputs": []
    },
    {
      "cell_type": "code",
      "metadata": {
        "id": "nu3Ffwxm37xJ",
        "colab_type": "code",
        "colab": {}
      },
      "source": [
        "texts_val = x_val['article_text'].values\n",
        "labels_val = y_val['label'].values"
      ],
      "execution_count": 0,
      "outputs": []
    },
    {
      "cell_type": "code",
      "metadata": {
        "id": "oxW-NQs87j_z",
        "colab_type": "code",
        "colab": {}
      },
      "source": [
        "labels_test = y_test['label'].values\n",
        "labels = y_train['label'].values"
      ],
      "execution_count": 0,
      "outputs": []
    },
    {
      "cell_type": "code",
      "metadata": {
        "id": "MRmzS-eY93rE",
        "colab_type": "code",
        "outputId": "60710dc3-9c3b-40c2-ebe7-acdcb5a10079",
        "colab": {
          "base_uri": "https://localhost:8080/",
          "height": 34
        }
      },
      "source": [
        "print(labels.shape, labels_test.shape, labels_test.shape)"
      ],
      "execution_count": 0,
      "outputs": [
        {
          "output_type": "stream",
          "text": [
            "(5746,) (3429,) (3429,)\n"
          ],
          "name": "stdout"
        }
      ]
    },
    {
      "cell_type": "code",
      "metadata": {
        "id": "KoA8QpdF7j8a",
        "colab_type": "code",
        "outputId": "d789a0eb-38a1-4292-e537-f624351b0d91",
        "colab": {
          "base_uri": "https://localhost:8080/",
          "height": 34
        }
      },
      "source": [
        "len(y_test.loc[y_test['label']==0])"
      ],
      "execution_count": 0,
      "outputs": [
        {
          "output_type": "execute_result",
          "data": {
            "text/plain": [
              "3076"
            ]
          },
          "metadata": {
            "tags": []
          },
          "execution_count": 7
        }
      ]
    },
    {
      "cell_type": "code",
      "metadata": {
        "id": "cDWY2Gns7rpm",
        "colab_type": "code",
        "outputId": "c77803ad-74f8-46c6-cd6f-e4081f8adc52",
        "colab": {
          "base_uri": "https://localhost:8080/",
          "height": 34
        }
      },
      "source": [
        "len(y_test.loc[y_test['label']==1])"
      ],
      "execution_count": 0,
      "outputs": [
        {
          "output_type": "execute_result",
          "data": {
            "text/plain": [
              "353"
            ]
          },
          "metadata": {
            "tags": []
          },
          "execution_count": 8
        }
      ]
    },
    {
      "cell_type": "code",
      "metadata": {
        "id": "5yf8klrD7uXO",
        "colab_type": "code",
        "colab": {}
      },
      "source": [
        "MAX_NUM_WORDS = 3000 # how many unique words to use (i.e num rows in embedding vector)\n",
        "MAX_SEQUENCE_LENGTH = 64 # max number of words in a review to use\n"
      ],
      "execution_count": 0,
      "outputs": []
    },
    {
      "cell_type": "code",
      "metadata": {
        "id": "mypJfroL70Fj",
        "colab_type": "code",
        "outputId": "22594455-f21d-4e61-cedb-6ccbe929bdca",
        "colab": {
          "base_uri": "https://localhost:8080/",
          "height": 34
        }
      },
      "source": [
        "from tensorflow.keras.preprocessing.text import Tokenizer\n",
        "\n",
        "tokenizer_train = Tokenizer(num_words=MAX_NUM_WORDS) #convert word(string to int)\n",
        "tokenizer_train.fit_on_texts(texts) \n",
        "sequences = tokenizer_train.texts_to_sequences(texts) \n",
        "\n",
        "word_index = tokenizer_train.word_index #convert this to dict\n",
        "print('Found %s unique tokens.' % len(word_index))\n"
      ],
      "execution_count": 0,
      "outputs": [
        {
          "output_type": "stream",
          "text": [
            "Found 85423 unique tokens.\n"
          ],
          "name": "stdout"
        }
      ]
    },
    {
      "cell_type": "code",
      "metadata": {
        "id": "b7AXCaBa77mO",
        "colab_type": "code",
        "colab": {}
      },
      "source": [
        "sequences3 = tokenizer_train.texts_to_sequences(texts_val) \n",
        "sequences_test = tokenizer_train.texts_to_sequences(texts_test)"
      ],
      "execution_count": 0,
      "outputs": []
    },
    {
      "cell_type": "code",
      "metadata": {
        "id": "YJw3dLXv8GFf",
        "colab_type": "code",
        "outputId": "6efe38dd-3bdf-4480-8dde-65e1f80ae799",
        "colab": {
          "base_uri": "https://localhost:8080/",
          "height": 51
        }
      },
      "source": [
        "from tensorflow.keras.preprocessing.sequence import pad_sequences\n",
        "from tensorflow.keras.utils import to_categorical\n",
        "\n",
        "data = pad_sequences(sequences, maxlen=MAX_SEQUENCE_LENGTH, padding='pre')\n",
        "labels = to_categorical(np.asarray(labels))\n",
        "print('Shape of data tensor:', data.shape)\n",
        "print('Shape of label tensor:', labels.shape)"
      ],
      "execution_count": 0,
      "outputs": [
        {
          "output_type": "stream",
          "text": [
            "Shape of data tensor: (5746, 64)\n",
            "Shape of label tensor: (5746, 2)\n"
          ],
          "name": "stdout"
        }
      ]
    },
    {
      "cell_type": "code",
      "metadata": {
        "id": "qayTi_pg8dpd",
        "colab_type": "code",
        "outputId": "c015fff9-92d3-41d1-d9c3-bbabcb5d201e",
        "colab": {
          "base_uri": "https://localhost:8080/",
          "height": 85
        }
      },
      "source": [
        "data2 = pad_sequences(sequences_test, maxlen=MAX_SEQUENCE_LENGTH, padding='pre')\n",
        "labels2 = to_categorical(np.asarray(labels_test))\n",
        "print('Shape of data tensor:', data2.shape)\n",
        "print('Shape of label tensor:', labels2.shape)\n",
        "\n",
        "data3 = pad_sequences(sequences3, maxlen=MAX_SEQUENCE_LENGTH, padding='pre')\n",
        "labels3 = to_categorical(np.asarray(labels_val))\n",
        "print('Shape of data tensor:', data3.shape)\n",
        "print('Shape of label tensor:', labels3.shape)\n"
      ],
      "execution_count": 0,
      "outputs": [
        {
          "output_type": "stream",
          "text": [
            "Shape of data tensor: (3429, 64)\n",
            "Shape of label tensor: (3429, 2)\n",
            "Shape of data tensor: (639, 64)\n",
            "Shape of label tensor: (639, 2)\n"
          ],
          "name": "stdout"
        }
      ]
    },
    {
      "cell_type": "code",
      "metadata": {
        "id": "lYxt4ph48joU",
        "colab_type": "code",
        "colab": {}
      },
      "source": [
        "x_train = data\n",
        "y_train = labels\n",
        "\n",
        "x_val = data3\n",
        "y_val = labels3\n",
        "\n",
        "x_test = data2\n",
        "y_test = labels2"
      ],
      "execution_count": 0,
      "outputs": []
    },
    {
      "cell_type": "code",
      "metadata": {
        "id": "-NlMg25i-XM3",
        "colab_type": "code",
        "outputId": "d6b57bd4-9765-46ce-be59-23257e8d4bbe",
        "colab": {
          "base_uri": "https://localhost:8080/",
          "height": 34
        }
      },
      "source": [
        "print(y_train.shape, y_val.shape, y_test.shape)"
      ],
      "execution_count": 0,
      "outputs": [
        {
          "output_type": "stream",
          "text": [
            "(5746, 2) (639, 2) (3429, 2)\n"
          ],
          "name": "stdout"
        }
      ]
    },
    {
      "cell_type": "code",
      "metadata": {
        "id": "MCj9Orni8GIm",
        "colab_type": "code",
        "outputId": "c7b75c87-e72e-4a16-de73-08c6c067d0bd",
        "colab": {
          "base_uri": "https://localhost:8080/",
          "height": 34
        }
      },
      "source": [
        "GLOVE_DIR='drive/My Drive/yelp_review_polarity_csv/'\n",
        "\n",
        "import os\n",
        "embeddings_index = {}\n",
        "f = open(os.path.join(GLOVE_DIR, 'glove.42B.300d.txt'))\n",
        "for line in f:\n",
        "    values = line.split()\n",
        "    word = values[0]\n",
        "    coefs = np.asarray(values[1:], dtype='float32')\n",
        "    embeddings_index[word] = coefs\n",
        "f.close()\n",
        "\n",
        "print('Found %s word vectors.' % len(embeddings_index))\n"
      ],
      "execution_count": 0,
      "outputs": [
        {
          "output_type": "stream",
          "text": [
            "Found 1917494 word vectors.\n"
          ],
          "name": "stdout"
        }
      ]
    },
    {
      "cell_type": "code",
      "metadata": {
        "id": "I3BgH8Lq8u3b",
        "colab_type": "code",
        "colab": {}
      },
      "source": [
        "EMBEDDING_DIM = 300 # how big is each word vector\n",
        "\n",
        "embedding_matrix = np.zeros((len(word_index) + 1, EMBEDDING_DIM))\n",
        "for word, i in word_index.items():\n",
        "    embedding_vector = embeddings_index.get(word)\n",
        "    if embedding_vector is not None:\n",
        "        # words not found in embedding index will be all-zeros.\n",
        "        embedding_matrix[i] = embedding_vector"
      ],
      "execution_count": 0,
      "outputs": []
    },
    {
      "cell_type": "code",
      "metadata": {
        "id": "QK-to-cx84gn",
        "colab_type": "code",
        "colab": {}
      },
      "source": [
        "from tensorflow.keras.layers import Embedding\n",
        "\n",
        "embedding_layer = Embedding(len(word_index) + 1,\n",
        "                            EMBEDDING_DIM,\n",
        "                            weights=[embedding_matrix],\n",
        "                            input_length=MAX_SEQUENCE_LENGTH,\n",
        "                            trainable=False)"
      ],
      "execution_count": 0,
      "outputs": []
    },
    {
      "cell_type": "code",
      "metadata": {
        "id": "LgLfbTHY86Ds",
        "colab_type": "code",
        "outputId": "bf3da977-1461-441c-cb48-53a99b5f4731",
        "colab": {
          "base_uri": "https://localhost:8080/",
          "height": 578
        }
      },
      "source": [
        "from tensorflow.keras.layers import Bidirectional, GlobalMaxPool1D, Conv1D\n",
        "from tensorflow.keras.layers import Dense, Input, LSTM, Embedding, Dropout, Activation, TimeDistributed, Flatten,RepeatVector, Permute, Multiply, Lambda\n",
        "from tensorflow.keras.models import Model, Sequential\n",
        "from tensorflow.keras.callbacks import EarlyStopping, ModelCheckpoint\n",
        "from tensorflow.keras.backend import sum\n",
        "\n",
        "es = EarlyStopping(monitor='val_loss', mode='min', verbose=1, patience=6)\n",
        "#mc = ModelCheckpoint('best_model.h5', monitor='val_accuracy', mode='max', verbose=1, save_best_only=True)\n",
        "\n",
        "inp = Input(shape=(MAX_SEQUENCE_LENGTH,))\n",
        "x = embedded_sequences = embedding_layer(inp)\n",
        "activations = Bidirectional(LSTM(64, return_sequences=True))(x)\n",
        "\n",
        "attention = Dense(1, activation='tanh')(activations)\n",
        "attention = Flatten()(attention)\n",
        "attention = Activation('softmax')(attention)\n",
        "attention = RepeatVector(128)(attention)\n",
        "attention = Permute([2, 1])(attention)\n",
        "\n",
        "sent_representation = Multiply()([activations, attention])\n",
        "sent_representation = Lambda(lambda xin: sum(xin, axis=-2), output_shape=(64,))(sent_representation)\n",
        "x = Dropout(0.5)(sent_representation)\n",
        "x = Dense(2, activation='softmax')(x)\n",
        "model = Model(inputs=inp, outputs=x)\n",
        "model.compile(loss='categorical_crossentropy', optimizer='adam', metrics=['accuracy'])\n",
        "model.summary()"
      ],
      "execution_count": 0,
      "outputs": [
        {
          "output_type": "stream",
          "text": [
            "Model: \"model_5\"\n",
            "__________________________________________________________________________________________________\n",
            "Layer (type)                    Output Shape         Param #     Connected to                     \n",
            "==================================================================================================\n",
            "input_9 (InputLayer)            [(None, 64)]         0                                            \n",
            "__________________________________________________________________________________________________\n",
            "embedding (Embedding)           (None, 64, 300)      25627200    input_9[0][0]                    \n",
            "__________________________________________________________________________________________________\n",
            "bidirectional_4 (Bidirectional) (None, 64, 128)      186880      embedding[8][0]                  \n",
            "__________________________________________________________________________________________________\n",
            "dense_13 (Dense)                (None, 64, 1)        129         bidirectional_4[0][0]            \n",
            "__________________________________________________________________________________________________\n",
            "flatten_8 (Flatten)             (None, 64)           0           dense_13[0][0]                   \n",
            "__________________________________________________________________________________________________\n",
            "activation_8 (Activation)       (None, 64)           0           flatten_8[0][0]                  \n",
            "__________________________________________________________________________________________________\n",
            "repeat_vector_8 (RepeatVector)  (None, 128, 64)      0           activation_8[0][0]               \n",
            "__________________________________________________________________________________________________\n",
            "permute_8 (Permute)             (None, 64, 128)      0           repeat_vector_8[0][0]            \n",
            "__________________________________________________________________________________________________\n",
            "multiply_8 (Multiply)           (None, 64, 128)      0           bidirectional_4[0][0]            \n",
            "                                                                 permute_8[0][0]                  \n",
            "__________________________________________________________________________________________________\n",
            "lambda_5 (Lambda)               (None, 128)          0           multiply_8[0][0]                 \n",
            "__________________________________________________________________________________________________\n",
            "dropout_5 (Dropout)             (None, 128)          0           lambda_5[0][0]                   \n",
            "__________________________________________________________________________________________________\n",
            "dense_14 (Dense)                (None, 2)            258         dropout_5[0][0]                  \n",
            "==================================================================================================\n",
            "Total params: 25,814,467\n",
            "Trainable params: 187,267\n",
            "Non-trainable params: 25,627,200\n",
            "__________________________________________________________________________________________________\n"
          ],
          "name": "stdout"
        }
      ]
    },
    {
      "cell_type": "code",
      "metadata": {
        "colab_type": "code",
        "outputId": "b5e6068b-a502-45dc-8696-714fdc020b09",
        "id": "ZQOaBISriice",
        "colab": {
          "base_uri": "https://localhost:8080/",
          "height": 224
        }
      },
      "source": [
        "history = model.fit(x_train, y_train, validation_data=[x_val, y_val], epochs=5, callbacks=[es])"
      ],
      "execution_count": 0,
      "outputs": [
        {
          "output_type": "stream",
          "text": [
            "Train on 5746 samples, validate on 639 samples\n",
            "Epoch 1/5\n",
            "5746/5746 [==============================] - 17s 3ms/sample - loss: 0.4707 - accuracy: 0.7772 - val_loss: 0.3809 - val_accuracy: 0.8592\n",
            "Epoch 2/5\n",
            "5746/5746 [==============================] - 12s 2ms/sample - loss: 0.3521 - accuracy: 0.8498 - val_loss: 0.3424 - val_accuracy: 0.8670\n",
            "Epoch 3/5\n",
            "5746/5746 [==============================] - 12s 2ms/sample - loss: 0.3139 - accuracy: 0.8681 - val_loss: 0.3532 - val_accuracy: 0.8560\n",
            "Epoch 4/5\n",
            "5746/5746 [==============================] - 12s 2ms/sample - loss: 0.2821 - accuracy: 0.8829 - val_loss: 0.3456 - val_accuracy: 0.8623\n",
            "Epoch 5/5\n",
            "5746/5746 [==============================] - 12s 2ms/sample - loss: 0.2598 - accuracy: 0.8930 - val_loss: 0.3367 - val_accuracy: 0.8607\n"
          ],
          "name": "stdout"
        }
      ]
    },
    {
      "cell_type": "code",
      "metadata": {
        "id": "lml5wMcL9aTW",
        "colab_type": "code",
        "outputId": "66c58902-c58d-41b5-d686-79823eb3d436",
        "colab": {
          "base_uri": "https://localhost:8080/",
          "height": 573
        }
      },
      "source": [
        "import matplotlib.pyplot as plt\n",
        "\n",
        "def plot(history):\n",
        "  \n",
        "  acc = history.history['accuracy']\n",
        "  val_acc = history.history['val_accuracy']\n",
        "  loss = history.history['loss']\n",
        "  val_loss = history.history['val_loss']\n",
        "\n",
        "  epochs = range(len(acc))\n",
        "\n",
        "  plt.title('Training and validation accuracy')\n",
        "  plt.plot(epochs, acc, color='blue', label='Train')\n",
        "  plt.plot(epochs, val_acc, color='orange', label='Val')\n",
        "  plt.xlabel('Epoch')\n",
        "  plt.ylabel('Accuracy')\n",
        "  plt.legend()\n",
        "\n",
        "  _ = plt.figure()\n",
        "  plt.title('Training and validation loss')\n",
        "  plt.plot(epochs, loss, color='blue', label='Train')\n",
        "  plt.plot(epochs, val_loss, color='orange', label='Val')\n",
        "  plt.xlabel('Epoch')\n",
        "  plt.ylabel('Loss')\n",
        "  plt.legend()\n",
        "  \n",
        "plot(history)"
      ],
      "execution_count": 0,
      "outputs": [
        {
          "output_type": "display_data",
          "data": {
            "image/png": "[encoded data removed]",
            "text/plain": [
              "<Figure size 432x288 with 1 Axes>"
            ]
          },
          "metadata": {
            "tags": []
          }
        },
        {
          "output_type": "display_data",
          "data": {
            "image/png": "[encoded data removed]",
            "text/plain": [
              "<Figure size 432x288 with 1 Axes>"
            ]
          },
          "metadata": {
            "tags": []
          }
        }
      ]
    },
    {
      "cell_type": "code",
      "metadata": {
        "id": "bKnzZ3Eo-87Z",
        "colab_type": "code",
        "outputId": "e0a43f45-9b26-436f-e348-5a69c0aba387",
        "colab": {
          "base_uri": "https://localhost:8080/",
          "height": 102
        }
      },
      "source": [
        "y_test_new = np.argmax(y_test, axis=1)\n",
        "y_test[0:5]"
      ],
      "execution_count": 0,
      "outputs": [
        {
          "output_type": "execute_result",
          "data": {
            "text/plain": [
              "array([[1., 0.],\n",
              "       [1., 0.],\n",
              "       [1., 0.],\n",
              "       [0., 1.],\n",
              "       [1., 0.]], dtype=float32)"
            ]
          },
          "metadata": {
            "tags": []
          },
          "execution_count": 59
        }
      ]
    },
    {
      "cell_type": "code",
      "metadata": {
        "id": "SBzHHT7N_FhV",
        "colab_type": "code",
        "outputId": "3817fdb6-9c78-4020-8599-389051b7985b",
        "colab": {
          "base_uri": "https://localhost:8080/",
          "height": 34
        }
      },
      "source": [
        "y_test_new[0:5]"
      ],
      "execution_count": 0,
      "outputs": [
        {
          "output_type": "execute_result",
          "data": {
            "text/plain": [
              "array([0, 0, 0, 1, 0])"
            ]
          },
          "metadata": {
            "tags": []
          },
          "execution_count": 60
        }
      ]
    },
    {
      "cell_type": "code",
      "metadata": {
        "id": "cHVIpKZp_I-F",
        "colab_type": "code",
        "outputId": "e9439d11-58ca-48a4-e077-d0b689c0b009",
        "colab": {
          "base_uri": "https://localhost:8080/",
          "height": 102
        }
      },
      "source": [
        "prediction = model.predict(x_test)\n",
        "prediction[0:5]"
      ],
      "execution_count": 0,
      "outputs": [
        {
          "output_type": "execute_result",
          "data": {
            "text/plain": [
              "array([[0.96895164, 0.03104828],\n",
              "       [0.97086877, 0.02913127],\n",
              "       [0.9772978 , 0.02270222],\n",
              "       [0.00681095, 0.9931891 ],\n",
              "       [0.9519821 , 0.0480179 ]], dtype=float32)"
            ]
          },
          "metadata": {
            "tags": []
          },
          "execution_count": 61
        }
      ]
    },
    {
      "cell_type": "code",
      "metadata": {
        "id": "fMV56lno_M8n",
        "colab_type": "code",
        "colab": {}
      },
      "source": [
        "y_pred=np.argmax(prediction, axis=1)"
      ],
      "execution_count": 0,
      "outputs": []
    },
    {
      "cell_type": "code",
      "metadata": {
        "id": "aV7UTiWV_UVQ",
        "colab_type": "code",
        "outputId": "0a3195b5-4ce2-4cc6-e707-5b6258ec228c",
        "colab": {
          "base_uri": "https://localhost:8080/",
          "height": 34
        }
      },
      "source": [
        "np.sum(y_pred)"
      ],
      "execution_count": 0,
      "outputs": [
        {
          "output_type": "execute_result",
          "data": {
            "text/plain": [
              "813"
            ]
          },
          "metadata": {
            "tags": []
          },
          "execution_count": 63
        }
      ]
    },
    {
      "cell_type": "code",
      "metadata": {
        "id": "iLW-BOXe_VRO",
        "colab_type": "code",
        "outputId": "e23153d8-7d71-49de-f606-4f1bd9ba7d71",
        "colab": {
          "base_uri": "https://localhost:8080/",
          "height": 34
        }
      },
      "source": [
        "np.sum(y_test_new)"
      ],
      "execution_count": 0,
      "outputs": [
        {
          "output_type": "execute_result",
          "data": {
            "text/plain": [
              "353"
            ]
          },
          "metadata": {
            "tags": []
          },
          "execution_count": 64
        }
      ]
    },
    {
      "cell_type": "code",
      "metadata": {
        "id": "-PTadiGk_VOO",
        "colab_type": "code",
        "outputId": "e73e2b13-c8d4-4eca-f83f-261f02ffe85f",
        "colab": {
          "base_uri": "https://localhost:8080/",
          "height": 68
        }
      },
      "source": [
        "from sklearn.metrics import confusion_matrix\n",
        "cm1 = confusion_matrix(y_test_new,y_pred)\n",
        "print('Confusion Matrix : \\n', cm1)"
      ],
      "execution_count": 0,
      "outputs": [
        {
          "output_type": "stream",
          "text": [
            "Confusion Matrix : \n",
            " [[2579  497]\n",
            " [  37  316]]\n"
          ],
          "name": "stdout"
        }
      ]
    },
    {
      "cell_type": "code",
      "metadata": {
        "id": "5yddwwcW_e5N",
        "colab_type": "code",
        "outputId": "54a99440-1bcc-4649-f572-ccbc469ff93d",
        "colab": {
          "base_uri": "https://localhost:8080/",
          "height": 51
        }
      },
      "source": [
        "from sklearn.metrics import precision_recall_fscore_support\n",
        "print(precision_recall_fscore_support(y_test_new, y_pred, average='macro'))\n",
        "print(precision_recall_fscore_support(y_test_new, y_pred, average='weighted'))"
      ],
      "execution_count": 0,
      "outputs": [
        {
          "output_type": "stream",
          "text": [
            "(0.6872700779760091, 0.8668053319678624, 0.7241040658912812, None)\n",
            "(0.9243800804450771, 0.8442694663167104, 0.8686954867301868, None)\n"
          ],
          "name": "stdout"
        }
      ]
    },
    {
      "cell_type": "code",
      "metadata": {
        "id": "DProZgQg_qC-",
        "colab_type": "code",
        "outputId": "30192276-8248-437b-efa0-0aa00a7c24f7",
        "colab": {
          "base_uri": "https://localhost:8080/",
          "height": 34
        }
      },
      "source": [
        "from sklearn.metrics import confusion_matrix\n",
        "tn, fp, fn, tp = confusion_matrix(y_test_new, y_pred).ravel()\n",
        "pre = tp / (tp + fp)\n",
        "rec = tp / (tp + fn)\n",
        "tnr = tn / (tn + fp)\n",
        "acc = (tp + tn)/ (tp + tn + fp + fn)\n",
        "balanced_acc = (rec + tnr) / 2\n",
        "f1 = 2 * (pre * rec)/(pre+rec)\n",
        "\n",
        "print(pre, rec, tnr, acc, balanced_acc, f1)"
      ],
      "execution_count": 0,
      "outputs": [
        {
          "output_type": "stream",
          "text": [
            "0.3886838868388684 0.8951841359773371 0.8384265279583876 0.8442694663167104 0.8668053319678624 0.5420240137221268\n"
          ],
          "name": "stdout"
        }
      ]
    },
    {
      "cell_type": "code",
      "metadata": {
        "id": "ypFj_Xg8FRWR",
        "colab_type": "code",
        "outputId": "bf8f96a1-5bd0-412f-9a0d-7e49b845f4a8",
        "colab": {
          "base_uri": "https://localhost:8080/",
          "height": 34
        }
      },
      "source": [
        "print(tp, tn, fp, fn)"
      ],
      "execution_count": 0,
      "outputs": [
        {
          "output_type": "stream",
          "text": [
            "316 2579 497 37\n"
          ],
          "name": "stdout"
        }
      ]
    },
    {
      "cell_type": "code",
      "metadata": {
        "id": "DG8niQJAF8iZ",
        "colab_type": "code",
        "outputId": "9361ced5-7615-4f30-c073-1ac4d6ed9012",
        "colab": {
          "base_uri": "https://localhost:8080/",
          "height": 51
        }
      },
      "source": [
        "import math\n",
        "num = (tp*tn - fp*fn)\n",
        "den = math.sqrt((tp+fp)*(tp+fn)*(tn+fp)*(tn+fn))\n",
        "print(num, den)\n",
        "mcc = num/den\n",
        "print(mcc)"
      ],
      "execution_count": 0,
      "outputs": [
        {
          "output_type": "stream",
          "text": [
            "796575 1519653.8017009005\n",
            "0.524181888735723\n"
          ],
          "name": "stdout"
        }
      ]
    }
  ]
}