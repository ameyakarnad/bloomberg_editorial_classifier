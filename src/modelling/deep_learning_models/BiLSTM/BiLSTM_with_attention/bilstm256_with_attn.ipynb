{
  "nbformat": 4,
  "nbformat_minor": 0,
  "metadata": {
    "colab": {
      "name": "bilstm256_with_attn.ipynb",
      "provenance": [],
      "collapsed_sections": []
    },
    "kernelspec": {
      "name": "python3",
      "display_name": "Python 3"
    },
    "accelerator": "GPU"
  },
  "cells": [
    {
      "cell_type": "code",
      "metadata": {
        "id": "NP3kwQq8zkIa",
        "colab_type": "code",
        "outputId": "c843a8f6-903c-44b8-bc0f-cf3d1cf9034b",
        "colab": {
          "base_uri": "https://localhost:8080/",
          "height": 139
        }
      },
      "source": [
        "import pandas as pd\n",
        "import numpy as np\n",
        "import csv\n",
        "\n",
        "%tensorflow_version 2.x\n",
        "import tensorflow as tf\n",
        "tf.__version__\n",
        "assert tf.__version__ >= \"2.0\"\n",
        "\n",
        "from google.colab import drive\n",
        "drive.mount('/content/drive')"
      ],
      "execution_count": 1,
      "outputs": [
        {
          "output_type": "stream",
          "text": [
            "TensorFlow 2.x selected.\n",
            "Go to this URL in a browser: https://accounts.google.com/o/oauth2/auth?client_id=947318989803-6bn6qk8qdgf4n4g3pfee6491hc0brc4i.apps.googleusercontent.com&redirect_uri=urn%3aietf%3awg%3aoauth%3a2.0%3aoob&response_type=code&scope=email%20https%3a%2f%2fwww.googleapis.com%2fauth%2fdocs.test%20https%3a%2f%2fwww.googleapis.com%2fauth%2fdrive%20https%3a%2f%2fwww.googleapis.com%2fauth%2fdrive.photos.readonly%20https%3a%2f%2fwww.googleapis.com%2fauth%2fpeopleapi.readonly\n",
            "\n",
            "Enter your authorization code:\n",
            "··········\n",
            "Mounted at /content/drive\n"
          ],
          "name": "stdout"
        }
      ]
    },
    {
      "cell_type": "code",
      "metadata": {
        "id": "VTJva58j2IuX",
        "colab_type": "code",
        "colab": {}
      },
      "source": [
        "x_train = pd.read_csv('/content/drive/My Drive/bilstm_data/x_train.csv')\n",
        "x_test = pd.read_csv('/content/drive/My Drive/bilstm_data/x_test.csv')\n",
        "x_val = pd.read_csv('/content/drive/My Drive/bilstm_data/x_val.csv')\n",
        "\n",
        "\n",
        "y_train = pd.read_csv('/content/drive/My Drive/bilstm_data/y_train.csv')\n",
        "y_test = pd.read_csv('/content/drive/My Drive/bilstm_data/y_test.csv')\n",
        "y_val = pd.read_csv('/content/drive/My Drive/bilstm_data/y_val.csv')\n"
      ],
      "execution_count": 0,
      "outputs": []
    },
    {
      "cell_type": "code",
      "metadata": {
        "id": "WHI6wapl3MZt",
        "colab_type": "code",
        "colab": {}
      },
      "source": [
        "texts = x_train['article_text'].values\n",
        "texts_test = x_test['article_text'].values"
      ],
      "execution_count": 0,
      "outputs": []
    },
    {
      "cell_type": "code",
      "metadata": {
        "id": "nu3Ffwxm37xJ",
        "colab_type": "code",
        "colab": {}
      },
      "source": [
        "texts_val = x_val['article_text'].values\n",
        "labels_val = y_val['label'].values"
      ],
      "execution_count": 0,
      "outputs": []
    },
    {
      "cell_type": "code",
      "metadata": {
        "id": "oxW-NQs87j_z",
        "colab_type": "code",
        "colab": {}
      },
      "source": [
        "labels_test = y_test['label'].values\n",
        "labels = y_train['label'].values"
      ],
      "execution_count": 0,
      "outputs": []
    },
    {
      "cell_type": "code",
      "metadata": {
        "id": "MRmzS-eY93rE",
        "colab_type": "code",
        "outputId": "90cb1b68-fbe5-42d8-ad58-db7d5669b412",
        "colab": {
          "base_uri": "https://localhost:8080/",
          "height": 34
        }
      },
      "source": [
        "print(labels.shape, labels_test.shape, labels_test.shape)"
      ],
      "execution_count": 6,
      "outputs": [
        {
          "output_type": "stream",
          "text": [
            "(5746,) (3429,) (3429,)\n"
          ],
          "name": "stdout"
        }
      ]
    },
    {
      "cell_type": "code",
      "metadata": {
        "id": "KoA8QpdF7j8a",
        "colab_type": "code",
        "outputId": "580e0493-271e-41f6-a5c3-25ab32289acf",
        "colab": {
          "base_uri": "https://localhost:8080/",
          "height": 34
        }
      },
      "source": [
        "len(y_test.loc[y_test['label']==0])"
      ],
      "execution_count": 7,
      "outputs": [
        {
          "output_type": "execute_result",
          "data": {
            "text/plain": [
              "3076"
            ]
          },
          "metadata": {
            "tags": []
          },
          "execution_count": 7
        }
      ]
    },
    {
      "cell_type": "code",
      "metadata": {
        "id": "cDWY2Gns7rpm",
        "colab_type": "code",
        "outputId": "8a259665-c51a-48c6-f970-c4c814b8b659",
        "colab": {
          "base_uri": "https://localhost:8080/",
          "height": 34
        }
      },
      "source": [
        "len(y_test.loc[y_test['label']==1])"
      ],
      "execution_count": 8,
      "outputs": [
        {
          "output_type": "execute_result",
          "data": {
            "text/plain": [
              "353"
            ]
          },
          "metadata": {
            "tags": []
          },
          "execution_count": 8
        }
      ]
    },
    {
      "cell_type": "code",
      "metadata": {
        "id": "5yf8klrD7uXO",
        "colab_type": "code",
        "colab": {}
      },
      "source": [
        "MAX_NUM_WORDS = 3000 # how many unique words to use (i.e num rows in embedding vector)\n",
        "MAX_SEQUENCE_LENGTH = 256 # max number of words in a review to use\n"
      ],
      "execution_count": 0,
      "outputs": []
    },
    {
      "cell_type": "code",
      "metadata": {
        "id": "mypJfroL70Fj",
        "colab_type": "code",
        "outputId": "195888f6-f913-4d04-fe7e-9bb12f1fe443",
        "colab": {
          "base_uri": "https://localhost:8080/",
          "height": 34
        }
      },
      "source": [
        "from tensorflow.keras.preprocessing.text import Tokenizer\n",
        "\n",
        "tokenizer_train = Tokenizer(num_words=MAX_NUM_WORDS) #convert word(string to int)\n",
        "tokenizer_train.fit_on_texts(texts) \n",
        "sequences = tokenizer_train.texts_to_sequences(texts) \n",
        "\n",
        "word_index = tokenizer_train.word_index #convert this to dict\n",
        "print('Found %s unique tokens.' % len(word_index))\n"
      ],
      "execution_count": 10,
      "outputs": [
        {
          "output_type": "stream",
          "text": [
            "Found 85423 unique tokens.\n"
          ],
          "name": "stdout"
        }
      ]
    },
    {
      "cell_type": "code",
      "metadata": {
        "id": "b7AXCaBa77mO",
        "colab_type": "code",
        "colab": {}
      },
      "source": [
        "sequences3 = tokenizer_train.texts_to_sequences(texts_val) \n",
        "sequences_test = tokenizer_train.texts_to_sequences(texts_test)"
      ],
      "execution_count": 0,
      "outputs": []
    },
    {
      "cell_type": "code",
      "metadata": {
        "id": "YJw3dLXv8GFf",
        "colab_type": "code",
        "outputId": "d3419199-bf3a-44d8-a611-1dd525d0e801",
        "colab": {
          "base_uri": "https://localhost:8080/",
          "height": 51
        }
      },
      "source": [
        "from tensorflow.keras.preprocessing.sequence import pad_sequences\n",
        "from tensorflow.keras.utils import to_categorical\n",
        "\n",
        "data = pad_sequences(sequences, maxlen=MAX_SEQUENCE_LENGTH, padding='pre')\n",
        "labels = to_categorical(np.asarray(labels))\n",
        "print('Shape of data tensor:', data.shape)\n",
        "print('Shape of label tensor:', labels.shape)"
      ],
      "execution_count": 12,
      "outputs": [
        {
          "output_type": "stream",
          "text": [
            "Shape of data tensor: (5746, 256)\n",
            "Shape of label tensor: (5746, 2)\n"
          ],
          "name": "stdout"
        }
      ]
    },
    {
      "cell_type": "code",
      "metadata": {
        "id": "qayTi_pg8dpd",
        "colab_type": "code",
        "outputId": "37bfe88a-ac27-40e7-8ae1-193994d8e515",
        "colab": {
          "base_uri": "https://localhost:8080/",
          "height": 85
        }
      },
      "source": [
        "data2 = pad_sequences(sequences_test, maxlen=MAX_SEQUENCE_LENGTH, padding='pre')\n",
        "labels2 = to_categorical(np.asarray(labels_test))\n",
        "print('Shape of data tensor:', data2.shape)\n",
        "print('Shape of label tensor:', labels2.shape)\n",
        "\n",
        "data3 = pad_sequences(sequences3, maxlen=MAX_SEQUENCE_LENGTH, padding='pre')\n",
        "labels3 = to_categorical(np.asarray(labels_val))\n",
        "print('Shape of data tensor:', data3.shape)\n",
        "print('Shape of label tensor:', labels3.shape)\n"
      ],
      "execution_count": 13,
      "outputs": [
        {
          "output_type": "stream",
          "text": [
            "Shape of data tensor: (3429, 256)\n",
            "Shape of label tensor: (3429, 2)\n",
            "Shape of data tensor: (639, 256)\n",
            "Shape of label tensor: (639, 2)\n"
          ],
          "name": "stdout"
        }
      ]
    },
    {
      "cell_type": "code",
      "metadata": {
        "id": "lYxt4ph48joU",
        "colab_type": "code",
        "colab": {}
      },
      "source": [
        "x_train = data\n",
        "y_train = labels\n",
        "\n",
        "x_val = data3\n",
        "y_val = labels3\n",
        "\n",
        "x_test = data2\n",
        "y_test = labels2"
      ],
      "execution_count": 0,
      "outputs": []
    },
    {
      "cell_type": "code",
      "metadata": {
        "id": "-NlMg25i-XM3",
        "colab_type": "code",
        "outputId": "9a763b34-878e-4dc5-8d3a-7e870012dd51",
        "colab": {
          "base_uri": "https://localhost:8080/",
          "height": 34
        }
      },
      "source": [
        "print(y_train.shape, y_val.shape, y_test.shape)"
      ],
      "execution_count": 15,
      "outputs": [
        {
          "output_type": "stream",
          "text": [
            "(5746, 2) (639, 2) (3429, 2)\n"
          ],
          "name": "stdout"
        }
      ]
    },
    {
      "cell_type": "code",
      "metadata": {
        "id": "MCj9Orni8GIm",
        "colab_type": "code",
        "outputId": "33757cca-f150-4f52-c025-a66ebbd83ddc",
        "colab": {
          "base_uri": "https://localhost:8080/",
          "height": 34
        }
      },
      "source": [
        "GLOVE_DIR='drive/My Drive/yelp_review_polarity_csv/'\n",
        "\n",
        "import os\n",
        "embeddings_index = {}\n",
        "f = open(os.path.join(GLOVE_DIR, 'glove.42B.300d.txt'))\n",
        "for line in f:\n",
        "    values = line.split()\n",
        "    word = values[0]\n",
        "    coefs = np.asarray(values[1:], dtype='float32')\n",
        "    embeddings_index[word] = coefs\n",
        "f.close()\n",
        "\n",
        "print('Found %s word vectors.' % len(embeddings_index))\n"
      ],
      "execution_count": 16,
      "outputs": [
        {
          "output_type": "stream",
          "text": [
            "Found 1917494 word vectors.\n"
          ],
          "name": "stdout"
        }
      ]
    },
    {
      "cell_type": "code",
      "metadata": {
        "id": "I3BgH8Lq8u3b",
        "colab_type": "code",
        "colab": {}
      },
      "source": [
        "EMBEDDING_DIM = 300 # how big is each word vector\n",
        "\n",
        "embedding_matrix = np.zeros((len(word_index) + 1, EMBEDDING_DIM))\n",
        "for word, i in word_index.items():\n",
        "    embedding_vector = embeddings_index.get(word)\n",
        "    if embedding_vector is not None:\n",
        "        # words not found in embedding index will be all-zeros.\n",
        "        embedding_matrix[i] = embedding_vector"
      ],
      "execution_count": 0,
      "outputs": []
    },
    {
      "cell_type": "code",
      "metadata": {
        "id": "QK-to-cx84gn",
        "colab_type": "code",
        "colab": {}
      },
      "source": [
        "from tensorflow.keras.layers import Embedding\n",
        "\n",
        "embedding_layer = Embedding(len(word_index) + 1,\n",
        "                            EMBEDDING_DIM,\n",
        "                            weights=[embedding_matrix],\n",
        "                            input_length=MAX_SEQUENCE_LENGTH,\n",
        "                            trainable=False)"
      ],
      "execution_count": 0,
      "outputs": []
    },
    {
      "cell_type": "code",
      "metadata": {
        "id": "LgLfbTHY86Ds",
        "colab_type": "code",
        "outputId": "7d2fc494-2a50-4f37-b3b9-f0320e310bc5",
        "colab": {
          "base_uri": "https://localhost:8080/",
          "height": 578
        }
      },
      "source": [
        "from tensorflow.keras.layers import Bidirectional, GlobalMaxPool1D, Conv1D\n",
        "from tensorflow.keras.layers import Dense, Input, LSTM, Embedding, Dropout, Activation, TimeDistributed, Flatten,RepeatVector, Permute, Multiply, Lambda\n",
        "from tensorflow.keras.models import Model, Sequential\n",
        "from tensorflow.keras.callbacks import EarlyStopping, ModelCheckpoint\n",
        "from tensorflow.keras.backend import sum\n",
        "\n",
        "es = EarlyStopping(monitor='val_loss', mode='min', verbose=1, patience=6)\n",
        "#mc = ModelCheckpoint('best_model.h5', monitor='val_accuracy', mode='max', verbose=1, save_best_only=True)\n",
        "\n",
        "inp = Input(shape=(MAX_SEQUENCE_LENGTH,))\n",
        "x = embedded_sequences = embedding_layer(inp)\n",
        "activations = Bidirectional(LSTM(64, return_sequences=True))(x)\n",
        "\n",
        "attention = Dense(1, activation='tanh')(activations)\n",
        "attention = Flatten()(attention)\n",
        "attention = Activation('softmax', name='attention_vec')(attention)\n",
        "attention = RepeatVector(128)(attention)\n",
        "attention = Permute([2, 1])(attention)\n",
        "\n",
        "sent_representation = Multiply()([activations, attention])\n",
        "sent_representation = Lambda(lambda xin: sum(xin, axis=-2), output_shape=(64,))(sent_representation)\n",
        "x = Dropout(0.5)(sent_representation)\n",
        "x = Dense(2, activation='softmax')(x)\n",
        "model = Model(inputs=inp, outputs=x)\n",
        "model.compile(loss='categorical_crossentropy', optimizer='adam', metrics=['accuracy'])\n",
        "model.summary()"
      ],
      "execution_count": 19,
      "outputs": [
        {
          "output_type": "stream",
          "text": [
            "Model: \"model\"\n",
            "__________________________________________________________________________________________________\n",
            "Layer (type)                    Output Shape         Param #     Connected to                     \n",
            "==================================================================================================\n",
            "input_1 (InputLayer)            [(None, 256)]        0                                            \n",
            "__________________________________________________________________________________________________\n",
            "embedding (Embedding)           (None, 256, 300)     25627200    input_1[0][0]                    \n",
            "__________________________________________________________________________________________________\n",
            "bidirectional (Bidirectional)   (None, 256, 128)     186880      embedding[0][0]                  \n",
            "__________________________________________________________________________________________________\n",
            "dense (Dense)                   (None, 256, 1)       129         bidirectional[0][0]              \n",
            "__________________________________________________________________________________________________\n",
            "flatten (Flatten)               (None, 256)          0           dense[0][0]                      \n",
            "__________________________________________________________________________________________________\n",
            "attention_vec (Activation)      (None, 256)          0           flatten[0][0]                    \n",
            "__________________________________________________________________________________________________\n",
            "repeat_vector (RepeatVector)    (None, 128, 256)     0           attention_vec[0][0]              \n",
            "__________________________________________________________________________________________________\n",
            "permute (Permute)               (None, 256, 128)     0           repeat_vector[0][0]              \n",
            "__________________________________________________________________________________________________\n",
            "multiply (Multiply)             (None, 256, 128)     0           bidirectional[0][0]              \n",
            "                                                                 permute[0][0]                    \n",
            "__________________________________________________________________________________________________\n",
            "lambda (Lambda)                 (None, 128)          0           multiply[0][0]                   \n",
            "__________________________________________________________________________________________________\n",
            "dropout (Dropout)               (None, 128)          0           lambda[0][0]                     \n",
            "__________________________________________________________________________________________________\n",
            "dense_1 (Dense)                 (None, 2)            258         dropout[0][0]                    \n",
            "==================================================================================================\n",
            "Total params: 25,814,467\n",
            "Trainable params: 187,267\n",
            "Non-trainable params: 25,627,200\n",
            "__________________________________________________________________________________________________\n"
          ],
          "name": "stdout"
        }
      ]
    },
    {
      "cell_type": "code",
      "metadata": {
        "colab_type": "code",
        "outputId": "2d394cb3-9627-48b1-f285-74d9202a9053",
        "id": "ZQOaBISriice",
        "colab": {
          "base_uri": "https://localhost:8080/",
          "height": 204
        }
      },
      "source": [
        "history = model.fit(x_train, y_train, validation_data=[x_val, y_val], epochs=5, callbacks=[es])"
      ],
      "execution_count": 20,
      "outputs": [
        {
          "output_type": "stream",
          "text": [
            "Train on 5746 samples, validate on 639 samples\n",
            "Epoch 1/5\n",
            "5746/5746 [==============================] - 20s 4ms/sample - loss: 0.4595 - accuracy: 0.7892 - val_loss: 0.3721 - val_accuracy: 0.8419\n",
            "Epoch 2/5\n",
            "5746/5746 [==============================] - 13s 2ms/sample - loss: 0.3366 - accuracy: 0.8618 - val_loss: 0.2792 - val_accuracy: 0.8936\n",
            "Epoch 3/5\n",
            "5746/5746 [==============================] - 13s 2ms/sample - loss: 0.2993 - accuracy: 0.8771 - val_loss: 0.2606 - val_accuracy: 0.8951\n",
            "Epoch 4/5\n",
            "5746/5746 [==============================] - 13s 2ms/sample - loss: 0.2655 - accuracy: 0.8912 - val_loss: 0.2532 - val_accuracy: 0.9014\n",
            "Epoch 5/5\n",
            "5746/5746 [==============================] - 13s 2ms/sample - loss: 0.2428 - accuracy: 0.9046 - val_loss: 0.2527 - val_accuracy: 0.8967\n"
          ],
          "name": "stdout"
        }
      ]
    },
    {
      "cell_type": "code",
      "metadata": {
        "id": "lml5wMcL9aTW",
        "colab_type": "code",
        "outputId": "914b2d0d-2638-4e80-ffee-ab4e9f862ec5",
        "colab": {
          "base_uri": "https://localhost:8080/",
          "height": 573
        }
      },
      "source": [
        "import matplotlib.pyplot as plt\n",
        "\n",
        "def plot(history):\n",
        "  \n",
        "  acc = history.history['accuracy']\n",
        "  val_acc = history.history['val_accuracy']\n",
        "  loss = history.history['loss']\n",
        "  val_loss = history.history['val_loss']\n",
        "\n",
        "  epochs = range(len(acc))\n",
        "\n",
        "  plt.title('Training and validation accuracy')\n",
        "  plt.plot(epochs, acc, color='blue', label='Train')\n",
        "  plt.plot(epochs, val_acc, color='orange', label='Val')\n",
        "  plt.xlabel('Epoch')\n",
        "  plt.ylabel('Accuracy')\n",
        "  plt.legend()\n",
        "\n",
        "  _ = plt.figure()\n",
        "  plt.title('Training and validation loss')\n",
        "  plt.plot(epochs, loss, color='blue', label='Train')\n",
        "  plt.plot(epochs, val_loss, color='orange', label='Val')\n",
        "  plt.xlabel('Epoch')\n",
        "  plt.ylabel('Loss')\n",
        "  plt.legend()\n",
        "  \n",
        "plot(history)"
      ],
      "execution_count": 21,
      "outputs": [
        {
          "output_type": "display_data",
          "data": {
            "image/png": "[encoded data removed]",
            "text/plain": [
              "<Figure size 432x288 with 1 Axes>"
            ]
          },
          "metadata": {
            "tags": []
          }
        },
        {
          "output_type": "display_data",
          "data": {
            "image/png": "[encoded data removed]",
            "text/plain": [
              "<Figure size 432x288 with 1 Axes>"
            ]
          },
          "metadata": {
            "tags": []
          }
        }
      ]
    },
    {
      "cell_type": "code",
      "metadata": {
        "id": "bKnzZ3Eo-87Z",
        "colab_type": "code",
        "outputId": "f7f90d06-8072-4095-e0a0-723a0cc68326",
        "colab": {
          "base_uri": "https://localhost:8080/",
          "height": 102
        }
      },
      "source": [
        "y_test_new = np.argmax(y_test, axis=1)\n",
        "y_test[0:5]"
      ],
      "execution_count": 22,
      "outputs": [
        {
          "output_type": "execute_result",
          "data": {
            "text/plain": [
              "array([[1., 0.],\n",
              "       [1., 0.],\n",
              "       [1., 0.],\n",
              "       [0., 1.],\n",
              "       [1., 0.]], dtype=float32)"
            ]
          },
          "metadata": {
            "tags": []
          },
          "execution_count": 22
        }
      ]
    },
    {
      "cell_type": "code",
      "metadata": {
        "id": "SBzHHT7N_FhV",
        "colab_type": "code",
        "outputId": "59eb66b0-6b9a-403a-825a-b00c1b165a71",
        "colab": {
          "base_uri": "https://localhost:8080/",
          "height": 34
        }
      },
      "source": [
        "y_test_new[0:5]"
      ],
      "execution_count": 23,
      "outputs": [
        {
          "output_type": "execute_result",
          "data": {
            "text/plain": [
              "array([0, 0, 0, 1, 0])"
            ]
          },
          "metadata": {
            "tags": []
          },
          "execution_count": 23
        }
      ]
    },
    {
      "cell_type": "code",
      "metadata": {
        "id": "LZDRv5FPlA5x",
        "colab_type": "code",
        "colab": {}
      },
      "source": [
        "model = Model(inputs=model.input,\n",
        "              outputs=[model.output, model.get_layer('attention_vec').output])"
      ],
      "execution_count": 0,
      "outputs": []
    },
    {
      "cell_type": "code",
      "metadata": {
        "id": "lmAqIJ0nlIpU",
        "colab_type": "code",
        "colab": {}
      },
      "source": [
        "outputs = model.predict(x_test)\n",
        "model_outputs = outputs[0]\n",
        "attention_outputs = outputs[1]"
      ],
      "execution_count": 0,
      "outputs": []
    },
    {
      "cell_type": "code",
      "metadata": {
        "colab_type": "code",
        "outputId": "fcc9d1eb-daee-4621-8396-7c46aac31b70",
        "id": "5LkbZJEYIKN0",
        "colab": {
          "base_uri": "https://localhost:8080/",
          "height": 34
        }
      },
      "source": [
        "model_outputs[45]"
      ],
      "execution_count": 26,
      "outputs": [
        {
          "output_type": "execute_result",
          "data": {
            "text/plain": [
              "array([0.00978749, 0.9902125 ], dtype=float32)"
            ]
          },
          "metadata": {
            "tags": []
          },
          "execution_count": 26
        }
      ]
    },
    {
      "cell_type": "code",
      "metadata": {
        "id": "kqLhmj1zlTZZ",
        "colab_type": "code",
        "outputId": "4bda9f53-5546-443c-a47a-94a19c9d07e5",
        "colab": {
          "base_uri": "https://localhost:8080/",
          "height": 34
        }
      },
      "source": [
        "attention_outputs.shape"
      ],
      "execution_count": 27,
      "outputs": [
        {
          "output_type": "execute_result",
          "data": {
            "text/plain": [
              "(3429, 256)"
            ]
          },
          "metadata": {
            "tags": []
          },
          "execution_count": 27
        }
      ]
    },
    {
      "cell_type": "code",
      "metadata": {
        "id": "tFb9wq5z5jXZ",
        "colab_type": "code",
        "outputId": "ef438755-f657-4a49-e7ba-c322b497296d",
        "colab": {
          "base_uri": "https://localhost:8080/",
          "height": 34
        }
      },
      "source": [
        "len(attention_outputs[45])"
      ],
      "execution_count": 28,
      "outputs": [
        {
          "output_type": "execute_result",
          "data": {
            "text/plain": [
              "256"
            ]
          },
          "metadata": {
            "tags": []
          },
          "execution_count": 28
        }
      ]
    },
    {
      "cell_type": "code",
      "metadata": {
        "id": "8B4EtvkE7zPZ",
        "colab_type": "code",
        "outputId": "a79dbcb2-5088-47c0-df3e-973f87565fe2",
        "colab": {
          "base_uri": "https://localhost:8080/",
          "height": 34
        }
      },
      "source": [
        "len(x_test[45])"
      ],
      "execution_count": 29,
      "outputs": [
        {
          "output_type": "execute_result",
          "data": {
            "text/plain": [
              "256"
            ]
          },
          "metadata": {
            "tags": []
          },
          "execution_count": 29
        }
      ]
    },
    {
      "cell_type": "code",
      "metadata": {
        "id": "nQlpZfuu6k3t",
        "colab_type": "code",
        "outputId": "458290a5-4637-4791-c43f-e3b799c28039",
        "colab": {
          "base_uri": "https://localhost:8080/",
          "height": 34
        }
      },
      "source": [
        "row1 = (np.array(attention_outputs[45][-216:]).reshape(1,-1))\n",
        "row1.shape"
      ],
      "execution_count": 30,
      "outputs": [
        {
          "output_type": "execute_result",
          "data": {
            "text/plain": [
              "(1, 216)"
            ]
          },
          "metadata": {
            "tags": []
          },
          "execution_count": 30
        }
      ]
    },
    {
      "cell_type": "code",
      "metadata": {
        "id": "RtqX2dx6Mkes",
        "colab_type": "code",
        "outputId": "e6ccc30d-0d55-4d99-8af8-0c53ab738194",
        "colab": {
          "base_uri": "https://localhost:8080/",
          "height": 34
        }
      },
      "source": [
        "len(list(row1)[0])"
      ],
      "execution_count": 31,
      "outputs": [
        {
          "output_type": "execute_result",
          "data": {
            "text/plain": [
              "216"
            ]
          },
          "metadata": {
            "tags": []
          },
          "execution_count": 31
        }
      ]
    },
    {
      "cell_type": "code",
      "metadata": {
        "id": "w4lh2CgW56ai",
        "colab_type": "code",
        "outputId": "1d27fc08-9c8c-4c5b-ad85-654e8de2405a",
        "colab": {
          "base_uri": "https://localhost:8080/",
          "height": 34
        }
      },
      "source": [
        "col1 = list(x_test[45].reshape(1, -1)[0])\n",
        "col1 = list(np.array(col1[-216:]).reshape(1, -1))[0]\n",
        "len(col1)"
      ],
      "execution_count": 32,
      "outputs": [
        {
          "output_type": "execute_result",
          "data": {
            "text/plain": [
              "216"
            ]
          },
          "metadata": {
            "tags": []
          },
          "execution_count": 32
        }
      ]
    },
    {
      "cell_type": "code",
      "metadata": {
        "id": "MjNGVOBZ8Mrh",
        "colab_type": "code",
        "outputId": "0a0cbcbb-fe0c-4d5b-f8d7-eb0f4e73d928",
        "colab": {
          "base_uri": "https://localhost:8080/",
          "height": 34
        }
      },
      "source": [
        "ty = tokenizer_train.sequences_to_texts([x_test[45]])[0].split()\n",
        "ty = list(ty)\n",
        "ty = list(np.array(ty[-216:]).reshape(1, -1))[0]\n",
        "len(ty)"
      ],
      "execution_count": 33,
      "outputs": [
        {
          "output_type": "execute_result",
          "data": {
            "text/plain": [
              "216"
            ]
          },
          "metadata": {
            "tags": []
          },
          "execution_count": 33
        }
      ]
    },
    {
      "cell_type": "code",
      "metadata": {
        "id": "U9erBn7y5Zp3",
        "colab_type": "code",
        "colab": {}
      },
      "source": [
        "my_df = pd.DataFrame(row1, columns=ty)"
      ],
      "execution_count": 0,
      "outputs": []
    },
    {
      "cell_type": "code",
      "metadata": {
        "id": "dS0mXJyiNG7_",
        "colab_type": "code",
        "outputId": "0cb6f45d-73b4-406a-babf-96f3533f3876",
        "colab": {
          "base_uri": "https://localhost:8080/",
          "height": 54
        }
      },
      "source": [
        "my_dummy = list(row1)[0]\n",
        "smallest = min(my_dummy)\n",
        "my_dummy = [(i-smallest) for i in my_dummy]\n",
        "biggest = max(my_dummy)\n",
        "my_dummy = [(i/biggest) for i in my_dummy]\n",
        "print(my_dummy)"
      ],
      "execution_count": 35,
      "outputs": [
        {
          "output_type": "stream",
          "text": [
            "[0.025975293, 0.037643503, 0.0064367983, 0.010226449, 0.05435582, 0.109504476, 0.07949467, 0.06517276, 0.009178972, 0.019618465, 0.14585406, 0.32947093, 0.64313036, 0.22098058, 0.3894007, 0.17068976, 0.09997297, 0.049225103, 0.40574947, 0.15326871, 0.31549907, 0.08117431, 0.08749422, 0.26921377, 0.38784137, 0.42597383, 0.6401908, 0.56918514, 0.50130725, 0.38457185, 0.66475195, 0.4766007, 0.35836974, 0.29127535, 0.31934154, 0.23783411, 0.10473588, 0.28107598, 0.5018697, 0.5643161, 0.24092053, 0.18709554, 0.113178596, 0.07750181, 0.015866648, 0.012200947, 0.03541291, 0.05537192, 0.021327786, 0.06877938, 0.052477688, 0.10013402, 0.030953862, 0.3330084, 0.05455609, 0.04703277, 0.0007077031, 0.23522902, 0.04812665, 0.23372908, 0.26273468, 0.14370629, 0.30831093, 0.25099632, 0.09387522, 0.49945825, 0.15644062, 0.09708043, 0.048879612, 0.1775737, 0.26281664, 0.13976002, 0.19561514, 0.060578432, 0.5002376, 0.11529385, 0.14759274, 0.12357012, 0.07192312, 0.49497104, 0.207909, 0.11610492, 0.31545275, 0.2457229, 0.41150752, 0.5704833, 0.17048723, 0.18965507, 0.7952751, 0.7338093, 0.84738874, 0.6705679, 0.56840694, 0.7935051, 0.89725256, 0.85594165, 0.58632994, 0.8488682, 0.5688654, 0.5561818, 0.21960297, 0.7923536, 0.57206255, 0.8081892, 0.16412404, 0.13213196, 0.04941899, 0.021449441, 0.050676577, 0.10939967, 0.056925345, 0.368617, 0.3847672, 0.22520746, 0.2295324, 0.13178565, 0.7366624, 0.6507732, 0.108414516, 0.52468735, 0.57440406, 0.083178885, 0.06161915, 0.07826712, 0.20450987, 0.2092461, 0.024495723, 0.042491067, 0.11003825, 0.012592867, 0.033825543, 0.16480011, 0.39632377, 0.1761346, 0.03777836, 0.1974176, 0.016998375, 0.03360929, 0.032931667, 0.05842487, 0.34061518, 0.37748668, 0.41622165, 0.23110938, 0.0596904, 0.05193456, 0.059254587, 0.016046265, 0.013518177, 0.0, 0.011403949, 0.07128905, 0.13641849, 0.2838846, 0.11053821, 0.040816586, 0.07936124, 0.3834882, 0.38466296, 0.254239, 0.17863965, 0.45094463, 0.4456928, 0.7396378, 0.70168656, 0.24571909, 0.8524194, 0.879382, 0.38907537, 0.7426257, 0.80133647, 0.52431357, 0.2929415, 0.6326854, 0.7868125, 0.8617176, 0.7669972, 0.96834636, 0.9976394, 1.0, 0.9886144, 0.9895263, 0.96989197, 0.96557057, 0.8760307, 0.88635147, 0.97114724, 0.9438574, 0.9623137, 0.9173558, 0.9490095, 0.9415771, 0.90651995, 0.9934881, 0.9741824, 0.90429866, 0.6754695, 0.62058574, 0.37919545, 0.46745157, 0.32899612, 0.40348113, 0.07827621, 0.7024114, 0.32531485, 0.23422621, 0.1750389, 0.1382002, 0.07092876, 0.050721224, 0.030030746, 0.042966496, 0.09666458, 0.08980488, 0.3327509, 0.27354965]\n"
          ],
          "name": "stdout"
        }
      ]
    },
    {
      "cell_type": "code",
      "metadata": {
        "id": "-gqV4mIUMGLS",
        "colab_type": "code",
        "colab": {
          "base_uri": "https://localhost:8080/",
          "height": 34
        },
        "outputId": "f3f44b8c-2ee0-427e-f699-d4d67074d70f"
      },
      "source": [
        "import numpy as np\n",
        "import matplotlib\n",
        "import matplotlib.pyplot as plt\n",
        "\n",
        "def colorize(words, color_array):\n",
        "    # words is a list of words\n",
        "    # color_array is an array of numbers between 0 and 1 of length equal to words\n",
        "    cmap = matplotlib.cm.get_cmap('RdBu')\n",
        "    template = '<span class=\"barcode\"; style=\"color: black; background-color: {}\">{}</span>'\n",
        "    colored_string = ''\n",
        "    for word, color in zip(words, color_array):\n",
        "      color = matplotlib.colors.rgb2hex(cmap(color)[:3])\n",
        "      colored_string += template.format(color, '&nbsp' + word + '&nbsp')\n",
        "      \n",
        "    return colored_string\n",
        "    \n",
        "words = tokenizer_train.sequences_to_texts([x_test[45]])[0].split()\n",
        "color_array = my_dummy#np.random.rand(len(words))\n",
        "s = colorize(words[0:16], color_array)\n",
        "\n",
        "# to display in ipython notebook\n",
        "from IPython.display import display, HTML\n",
        "display(HTML(s))"
      ],
      "execution_count": 36,
      "outputs": [
        {
          "output_type": "display_data",
          "data": {
            "text/html": [
              "<span class=\"barcode\"; style=\"color: black; background-color: #790622\">&nbspon&nbsp</span><span class=\"barcode\"; style=\"color: black; background-color: #810823\">&nbspi&nbsp</span><span class=\"barcode\"; style=\"color: black; background-color: #6a011f\">&nbsphave&nbsp</span><span class=\"barcode\"; style=\"color: black; background-color: #6d0220\">&nbspthe&nbsp</span><span class=\"barcode\"; style=\"color: black; background-color: #8d0c25\">&nbspof&nbsp</span><span class=\"barcode\"; style=\"color: black; background-color: #b61f2e\">&nbspin&nbsp</span><span class=\"barcode\"; style=\"color: black; background-color: #a21328\">&nbspwith&nbsp</span><span class=\"barcode\"; style=\"color: black; background-color: #960f27\">&nbspin&nbsp</span><span class=\"barcode\"; style=\"color: black; background-color: #6d0220\">&nbspthe&nbsp</span><span class=\"barcode\"; style=\"color: black; background-color: #760521\">&nbspwho&nbsp</span><span class=\"barcode\"; style=\"color: black; background-color: #c2383a\">&nbspare&nbsp</span><span class=\"barcode\"; style=\"color: black; background-color: #f7b596\">&nbsppro&nbsp</span><span class=\"barcode\"; style=\"color: black; background-color: #b6d7e8\">&nbsptrump&nbsp</span><span class=\"barcode\"; style=\"color: black; background-color: #dc6e57\">&nbspthey&nbsp</span><span class=\"barcode\"; style=\"color: black; background-color: #fcd5bf\">&nbsprespond&nbsp</span><span class=\"barcode\"; style=\"color: black; background-color: #cb4942\">&nbspto&nbsp</span>"
            ],
            "text/plain": [
              "<IPython.core.display.HTML object>"
            ]
          },
          "metadata": {
            "tags": []
          }
        }
      ]
    },
    {
      "cell_type": "code",
      "metadata": {
        "id": "xmEtAY8k3Cr-",
        "colab_type": "code",
        "outputId": "a278810b-bc74-4971-d3c8-e47ba1e0cb80",
        "colab": {
          "base_uri": "https://localhost:8080/",
          "height": 34
        }
      },
      "source": [
        "s = colorize(words[0:16], color_array)\n",
        "display(HTML(s))"
      ],
      "execution_count": 37,
      "outputs": [
        {
          "output_type": "display_data",
          "data": {
            "text/html": [
              "<span class=\"barcode\"; style=\"color: black; background-color: #790622\">&nbspon&nbsp</span><span class=\"barcode\"; style=\"color: black; background-color: #810823\">&nbspi&nbsp</span><span class=\"barcode\"; style=\"color: black; background-color: #6a011f\">&nbsphave&nbsp</span><span class=\"barcode\"; style=\"color: black; background-color: #6d0220\">&nbspthe&nbsp</span><span class=\"barcode\"; style=\"color: black; background-color: #8d0c25\">&nbspof&nbsp</span><span class=\"barcode\"; style=\"color: black; background-color: #b61f2e\">&nbspin&nbsp</span><span class=\"barcode\"; style=\"color: black; background-color: #a21328\">&nbspwith&nbsp</span><span class=\"barcode\"; style=\"color: black; background-color: #960f27\">&nbspin&nbsp</span><span class=\"barcode\"; style=\"color: black; background-color: #6d0220\">&nbspthe&nbsp</span><span class=\"barcode\"; style=\"color: black; background-color: #760521\">&nbspwho&nbsp</span><span class=\"barcode\"; style=\"color: black; background-color: #c2383a\">&nbspare&nbsp</span><span class=\"barcode\"; style=\"color: black; background-color: #f7b596\">&nbsppro&nbsp</span><span class=\"barcode\"; style=\"color: black; background-color: #b6d7e8\">&nbsptrump&nbsp</span><span class=\"barcode\"; style=\"color: black; background-color: #dc6e57\">&nbspthey&nbsp</span><span class=\"barcode\"; style=\"color: black; background-color: #fcd5bf\">&nbsprespond&nbsp</span><span class=\"barcode\"; style=\"color: black; background-color: #cb4942\">&nbspto&nbsp</span>"
            ],
            "text/plain": [
              "<IPython.core.display.HTML object>"
            ]
          },
          "metadata": {
            "tags": []
          }
        }
      ]
    },
    {
      "cell_type": "code",
      "metadata": {
        "id": "aP63D-mZ3XpH",
        "colab_type": "code",
        "outputId": "82f1f287-7de7-4d00-a3f2-9b23ac8dc89f",
        "colab": {
          "base_uri": "https://localhost:8080/",
          "height": 34
        }
      },
      "source": [
        "s = colorize(words[37:53], color_array[37:53])\n",
        "display(HTML(s))\n",
        "\n",
        "with open('colorize.html', 'w') as f:\n",
        "    f.write(s)"
      ],
      "execution_count": 38,
      "outputs": [
        {
          "output_type": "display_data",
          "data": {
            "text/html": [
              "<span class=\"barcode\"; style=\"color: black; background-color: #ee9677\">&nbspdon’t&nbsp</span><span class=\"barcode\"; style=\"color: black; background-color: #f6f7f7\">&nbspall&nbsp</span><span class=\"barcode\"; style=\"color: black; background-color: #deebf2\">&nbsppoliticians&nbsp</span><span class=\"barcode\"; style=\"color: black; background-color: #e27b62\">&nbsplie&nbsp</span><span class=\"barcode\"; style=\"color: black; background-color: #d05548\">&nbspwhy&nbsp</span><span class=\"barcode\"; style=\"color: black; background-color: #b61f2e\">&nbspdoes&nbsp</span><span class=\"barcode\"; style=\"color: black; background-color: #9f1228\">&nbsptrump&nbsp</span><span class=\"barcode\"; style=\"color: black; background-color: #730421\">&nbspfire&nbsp</span><span class=\"barcode\"; style=\"color: black; background-color: #700320\">&nbspso&nbsp</span><span class=\"barcode\"; style=\"color: black; background-color: #810823\">&nbspmany&nbsp</span><span class=\"barcode\"; style=\"color: black; background-color: #900d26\">&nbsppeople&nbsp</span><span class=\"barcode\"; style=\"color: black; background-color: #760521\">&nbspbecause&nbsp</span><span class=\"barcode\"; style=\"color: black; background-color: #991027\">&nbspthey&nbsp</span><span class=\"barcode\"; style=\"color: black; background-color: #8d0c25\">&nbspare&nbsp</span><span class=\"barcode\"; style=\"color: black; background-color: #b1182b\">&nbspbad&nbsp</span><span class=\"barcode\"; style=\"color: black; background-color: #7c0722\">&nbspguys&nbsp</span>"
            ],
            "text/plain": [
              "<IPython.core.display.HTML object>"
            ]
          },
          "metadata": {
            "tags": []
          }
        }
      ]
    },
    {
      "cell_type": "code",
      "metadata": {
        "id": "shU72ZJE4aKR",
        "colab_type": "code",
        "outputId": "a9c3c038-cd1c-439e-f634-45ddc783d8b6",
        "colab": {
          "base_uri": "https://localhost:8080/",
          "height": 34
        }
      },
      "source": [
        "s = colorize(words[200:209], color_array[200:209])\n",
        "display(HTML(s))\n",
        "\n",
        "with open('colorize.html', 'w') as f:\n",
        "    f.write(s)\n"
      ],
      "execution_count": 39,
      "outputs": [
        {
          "output_type": "display_data",
          "data": {
            "text/html": [
              "<span class=\"barcode\"; style=\"color: black; background-color: #f7b596\">&nbspnecessary&nbsp</span><span class=\"barcode\"; style=\"color: black; background-color: #fddcc9\">&nbspfor&nbsp</span><span class=\"barcode\"; style=\"color: black; background-color: #a21328\">&nbspthe&nbsp</span><span class=\"barcode\"; style=\"color: black; background-color: #90c4dd\">&nbspsecond&nbsp</span><span class=\"barcode\"; style=\"color: black; background-color: #f6b394\">&nbspwithout&nbsp</span><span class=\"barcode\"; style=\"color: black; background-color: #df765e\">&nbspboth&nbsp</span><span class=\"barcode\"; style=\"color: black; background-color: #cc4c44\">&nbspdemocracy&nbsp</span><span class=\"barcode\"; style=\"color: black; background-color: #bf3338\">&nbspwill&nbsp</span><span class=\"barcode\"; style=\"color: black; background-color: #9c1127\">&nbspdie&nbsp</span>"
            ],
            "text/plain": [
              "<IPython.core.display.HTML object>"
            ]
          },
          "metadata": {
            "tags": []
          }
        }
      ]
    },
    {
      "cell_type": "code",
      "metadata": {
        "id": "AVx2ghSiz_l1",
        "colab_type": "code",
        "outputId": "d4d2bb20-55ab-4e42-a485-b9e6a942830a",
        "colab": {
          "base_uri": "https://localhost:8080/",
          "height": 54
        }
      },
      "source": [
        "tokenizer_train.sequences_to_texts([x_test[45]])"
      ],
      "execution_count": 40,
      "outputs": [
        {
          "output_type": "execute_result",
          "data": {
            "text/plain": [
              "['on i have the of in with in the who are pro trump they respond to my here is a why do you support donald trump because god sent him to us does god of his lies don’t all politicians lie why does trump fire so many people because they are bad guys but you know it was he who appointed them without proper all of us have why did trump the meeting at the g 7 about global probably because there is no such thing as global do you know that trump appointed who is a climate change to head our environmental agency because climate changing is a do your children go to public school yes did you know that the secretary of education is not a of public schools i trust trump to do the right thing did you listen to the democrat debate it was terrible do you think the president should be why do they want to him do you research your by reading to the news no because it is fake news all of us need to be informed and to critical thinking skills a free press is necessary for the first and an is necessary for the second without both democracy will die many think that can never happen to america people in other countries have thought that too — germany for one']"
            ]
          },
          "metadata": {
            "tags": []
          },
          "execution_count": 40
        }
      ]
    },
    {
      "cell_type": "code",
      "metadata": {
        "id": "Zk5Q6oexPacG",
        "colab_type": "code",
        "colab": {}
      },
      "source": [
        "with open('colorize.html', 'w') as f:\n",
        "    f.write(s)"
      ],
      "execution_count": 0,
      "outputs": []
    },
    {
      "cell_type": "code",
      "metadata": {
        "id": "WvwJhn8e4gjn",
        "colab_type": "code",
        "outputId": "ba66b79e-840d-4351-b77c-25ae36ef483a",
        "colab": {
          "base_uri": "https://localhost:8080/",
          "height": 180
        }
      },
      "source": [
        "import seaborn as sns\n",
        "plt.figure(figsize=(40, 1))\n",
        "sns.heatmap(my_df)"
      ],
      "execution_count": 42,
      "outputs": [
        {
          "output_type": "execute_result",
          "data": {
            "text/plain": [
              "<matplotlib.axes._subplots.AxesSubplot at 0x7f512d011ac8>"
            ]
          },
          "metadata": {
            "tags": []
          },
          "execution_count": 42
        },
        {
          "output_type": "display_data",
          "data": {
            "image/png": "[encoded data removed]",
            "text/plain": [
              "<Figure size 2880x72 with 2 Axes>"
            ]
          },
          "metadata": {
            "tags": []
          }
        }
      ]
    },
    {
      "cell_type": "code",
      "metadata": {
        "id": "cHVIpKZp_I-F",
        "colab_type": "code",
        "colab": {
          "base_uri": "https://localhost:8080/",
          "height": 102
        },
        "outputId": "50ff8a99-1f19-4bdc-9775-d88939426008"
      },
      "source": [
        "op = model.predict(x_test)\n",
        "prediction = op[0]\n",
        "attention_wts = op[1]\n",
        "prediction[0:5]"
      ],
      "execution_count": 43,
      "outputs": [
        {
          "output_type": "execute_result",
          "data": {
            "text/plain": [
              "array([[0.9886381 , 0.01136188],\n",
              "       [0.9396821 , 0.06031794],\n",
              "       [0.9766609 , 0.02333909],\n",
              "       [0.01932502, 0.9806749 ],\n",
              "       [0.98609805, 0.01390197]], dtype=float32)"
            ]
          },
          "metadata": {
            "tags": []
          },
          "execution_count": 43
        }
      ]
    },
    {
      "cell_type": "code",
      "metadata": {
        "id": "fMV56lno_M8n",
        "colab_type": "code",
        "colab": {}
      },
      "source": [
        "y_pred=np.argmax(prediction, axis=1)"
      ],
      "execution_count": 0,
      "outputs": []
    },
    {
      "cell_type": "code",
      "metadata": {
        "id": "aV7UTiWV_UVQ",
        "colab_type": "code",
        "colab": {
          "base_uri": "https://localhost:8080/",
          "height": 34
        },
        "outputId": "996b7ab9-cfa7-4625-928b-575375dab6b7"
      },
      "source": [
        "np.sum(y_pred)"
      ],
      "execution_count": 45,
      "outputs": [
        {
          "output_type": "execute_result",
          "data": {
            "text/plain": [
              "622"
            ]
          },
          "metadata": {
            "tags": []
          },
          "execution_count": 45
        }
      ]
    },
    {
      "cell_type": "code",
      "metadata": {
        "id": "iLW-BOXe_VRO",
        "colab_type": "code",
        "colab": {
          "base_uri": "https://localhost:8080/",
          "height": 34
        },
        "outputId": "2391645d-368f-4491-86eb-ad6ecdb56476"
      },
      "source": [
        "np.sum(y_test_new)"
      ],
      "execution_count": 46,
      "outputs": [
        {
          "output_type": "execute_result",
          "data": {
            "text/plain": [
              "353"
            ]
          },
          "metadata": {
            "tags": []
          },
          "execution_count": 46
        }
      ]
    },
    {
      "cell_type": "code",
      "metadata": {
        "id": "-PTadiGk_VOO",
        "colab_type": "code",
        "colab": {
          "base_uri": "https://localhost:8080/",
          "height": 68
        },
        "outputId": "9e8025b2-042d-4f66-9b4a-7f620420db0e"
      },
      "source": [
        "from sklearn.metrics import confusion_matrix\n",
        "cm1 = confusion_matrix(y_test_new,y_pred)\n",
        "print('Confusion Matrix : \\n', cm1)"
      ],
      "execution_count": 47,
      "outputs": [
        {
          "output_type": "stream",
          "text": [
            "Confusion Matrix : \n",
            " [[2769  307]\n",
            " [  38  315]]\n"
          ],
          "name": "stdout"
        }
      ]
    },
    {
      "cell_type": "code",
      "metadata": {
        "id": "5yddwwcW_e5N",
        "colab_type": "code",
        "colab": {
          "base_uri": "https://localhost:8080/",
          "height": 51
        },
        "outputId": "8adb1746-b24c-43bc-e5bc-4e0987ad6948"
      },
      "source": [
        "from sklearn.metrics import precision_recall_fscore_support\n",
        "print(precision_recall_fscore_support(y_test_new, y_pred, average='macro'))\n",
        "print(precision_recall_fscore_support(y_test_new, y_pred, average='weighted'))"
      ],
      "execution_count": 48,
      "outputs": [
        {
          "output_type": "stream",
          "text": [
            "(0.7464466417786494, 0.8962731666525453, 0.7937551484721297, None)\n",
            "(0.9370453444744702, 0.8993875765529309, 0.9109666813425542, None)\n"
          ],
          "name": "stdout"
        }
      ]
    },
    {
      "cell_type": "code",
      "metadata": {
        "id": "DProZgQg_qC-",
        "colab_type": "code",
        "colab": {
          "base_uri": "https://localhost:8080/",
          "height": 34
        },
        "outputId": "f1e6b5d6-f78e-47c9-95e8-228a5c7b9be1"
      },
      "source": [
        "from sklearn.metrics import confusion_matrix\n",
        "tn, fp, fn, tp = confusion_matrix(y_test_new, y_pred).ravel()\n",
        "pre = tp / (tp + fp)\n",
        "rec = tp / (tp + fn)\n",
        "tnr = tn / (tn + fp)\n",
        "acc = (tp + tn)/ (tp + tn + fp + fn)\n",
        "balanced_acc = (rec + tnr) / 2\n",
        "f1 = 2 * (pre * rec)/(pre+rec)\n",
        "\n",
        "print(pre, rec, tnr, acc, balanced_acc, f1)"
      ],
      "execution_count": 52,
      "outputs": [
        {
          "output_type": "stream",
          "text": [
            "0.5064308681672026 0.8923512747875354 0.9001950585175552 0.8993875765529309 0.8962731666525453 0.6461538461538462\n"
          ],
          "name": "stdout"
        }
      ]
    },
    {
      "cell_type": "code",
      "metadata": {
        "id": "ypFj_Xg8FRWR",
        "colab_type": "code",
        "colab": {
          "base_uri": "https://localhost:8080/",
          "height": 34
        },
        "outputId": "bbaf7db9-60c5-4874-dc6b-0100e1dce3e3"
      },
      "source": [
        "print(tp, tn, fp, fn)"
      ],
      "execution_count": 53,
      "outputs": [
        {
          "output_type": "stream",
          "text": [
            "315 2769 307 38\n"
          ],
          "name": "stdout"
        }
      ]
    },
    {
      "cell_type": "code",
      "metadata": {
        "id": "DG8niQJAF8iZ",
        "colab_type": "code",
        "colab": {
          "base_uri": "https://localhost:8080/",
          "height": 51
        },
        "outputId": "29e13832-bfff-48bf-e1ff-0dae73b2ee61"
      },
      "source": [
        "import math\n",
        "num = (tp*tn - fp*fn)\n",
        "den = math.sqrt((tp+fp)*(tp+fn)*(tn+fp)*(tn+fn))\n",
        "print(num, den)\n",
        "mcc = num/den\n",
        "print(mcc)"
      ],
      "execution_count": 54,
      "outputs": [
        {
          "output_type": "stream",
          "text": [
            "860569 1376882.616606078\n",
            "0.6250126115479938\n"
          ],
          "name": "stdout"
        }
      ]
    }
  ]
}