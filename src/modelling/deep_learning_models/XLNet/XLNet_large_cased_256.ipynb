{
  "nbformat": 4,
  "nbformat_minor": 0,
  "metadata": {
    "colab": {
      "name": "XLNet_large_cased_256.ipynb",
      "provenance": [],
      "collapsed_sections": []
    },
    "kernelspec": {
      "name": "python3",
      "display_name": "Python 3"
    },
    "accelerator": "GPU"
  },
  "cells": [
    {
      "cell_type": "code",
      "metadata": {
        "id": "oM18kfUnO4fV",
        "colab_type": "code",
        "outputId": "bc7564da-e09a-491c-a108-c34cea7be045",
        "colab": {
          "base_uri": "https://localhost:8080/",
          "height": 34
        }
      },
      "source": [
        "from google.colab import drive\n",
        "drive.mount('/content/drive')"
      ],
      "execution_count": 0,
      "outputs": [
        {
          "output_type": "stream",
          "text": [
            "Drive already mounted at /content/drive; to attempt to forcibly remount, call drive.mount(\"/content/drive\", force_remount=True).\n"
          ],
          "name": "stdout"
        }
      ]
    },
    {
      "cell_type": "code",
      "metadata": {
        "id": "RlhtRpcjO-Sw",
        "colab_type": "code",
        "outputId": "d878a57f-1953-49fe-d647-30b932c4f0bb",
        "colab": {
          "base_uri": "https://localhost:8080/",
          "height": 80
        }
      },
      "source": [
        "# ensuring gpu is connected\n",
        "import tensorflow as tf\n",
        "\n",
        "device_name = tf.test.gpu_device_name()\n",
        "if device_name != '/device:GPU:0':\n",
        "  raise SystemError('GPU device not found')\n",
        "print('Found GPU at: {}'.format(device_name))"
      ],
      "execution_count": 0,
      "outputs": [
        {
          "output_type": "display_data",
          "data": {
            "text/html": [
              "<p style=\"color: red;\">\n",
              "The default version of TensorFlow in Colab will soon switch to TensorFlow 2.x.<br>\n",
              "We recommend you <a href=\"https://www.tensorflow.org/guide/migrate\" target=\"_blank\">upgrade</a> now \n",
              "or ensure your notebook will continue to use TensorFlow 1.x via the <code>%tensorflow_version 1.x</code> magic:\n",
              "<a href=\"https://colab.research.google.com/notebooks/tensorflow_version.ipynb\" target=\"_blank\">more info</a>.</p>\n"
            ],
            "text/plain": [
              "<IPython.core.display.HTML object>"
            ]
          },
          "metadata": {
            "tags": []
          }
        },
        {
          "output_type": "stream",
          "text": [
            "Found GPU at: /device:GPU:0\n"
          ],
          "name": "stdout"
        }
      ]
    },
    {
      "cell_type": "code",
      "metadata": {
        "id": "D85nY_HUPEyn",
        "colab_type": "code",
        "outputId": "83b21587-6d08-457c-a0b4-52dbb38dd645",
        "colab": {
          "base_uri": "https://localhost:8080/",
          "height": 510
        }
      },
      "source": [
        "!pip install pytorch-transformers\n",
        "!pip install matplotlib==3.1.0"
      ],
      "execution_count": 0,
      "outputs": [
        {
          "output_type": "stream",
          "text": [
            "Requirement already satisfied: pytorch-transformers in /usr/local/lib/python3.6/dist-packages (1.2.0)\n",
            "Requirement already satisfied: torch>=1.0.0 in /usr/local/lib/python3.6/dist-packages (from pytorch-transformers) (1.3.1)\n",
            "Requirement already satisfied: regex in /usr/local/lib/python3.6/dist-packages (from pytorch-transformers) (2019.11.1)\n",
            "Requirement already satisfied: boto3 in /usr/local/lib/python3.6/dist-packages (from pytorch-transformers) (1.10.18)\n",
            "Requirement already satisfied: tqdm in /usr/local/lib/python3.6/dist-packages (from pytorch-transformers) (4.28.1)\n",
            "Requirement already satisfied: numpy in /usr/local/lib/python3.6/dist-packages (from pytorch-transformers) (1.17.4)\n",
            "Requirement already satisfied: requests in /usr/local/lib/python3.6/dist-packages (from pytorch-transformers) (2.21.0)\n",
            "Requirement already satisfied: sentencepiece in /usr/local/lib/python3.6/dist-packages (from pytorch-transformers) (0.1.83)\n",
            "Requirement already satisfied: sacremoses in /usr/local/lib/python3.6/dist-packages (from pytorch-transformers) (0.0.35)\n",
            "Requirement already satisfied: s3transfer<0.3.0,>=0.2.0 in /usr/local/lib/python3.6/dist-packages (from boto3->pytorch-transformers) (0.2.1)\n",
            "Requirement already satisfied: jmespath<1.0.0,>=0.7.1 in /usr/local/lib/python3.6/dist-packages (from boto3->pytorch-transformers) (0.9.4)\n",
            "Requirement already satisfied: botocore<1.14.0,>=1.13.18 in /usr/local/lib/python3.6/dist-packages (from boto3->pytorch-transformers) (1.13.18)\n",
            "Requirement already satisfied: idna<2.9,>=2.5 in /usr/local/lib/python3.6/dist-packages (from requests->pytorch-transformers) (2.8)\n",
            "Requirement already satisfied: urllib3<1.25,>=1.21.1 in /usr/local/lib/python3.6/dist-packages (from requests->pytorch-transformers) (1.24.3)\n",
            "Requirement already satisfied: chardet<3.1.0,>=3.0.2 in /usr/local/lib/python3.6/dist-packages (from requests->pytorch-transformers) (3.0.4)\n",
            "Requirement already satisfied: certifi>=2017.4.17 in /usr/local/lib/python3.6/dist-packages (from requests->pytorch-transformers) (2019.9.11)\n",
            "Requirement already satisfied: click in /usr/local/lib/python3.6/dist-packages (from sacremoses->pytorch-transformers) (7.0)\n",
            "Requirement already satisfied: six in /usr/local/lib/python3.6/dist-packages (from sacremoses->pytorch-transformers) (1.12.0)\n",
            "Requirement already satisfied: joblib in /usr/local/lib/python3.6/dist-packages (from sacremoses->pytorch-transformers) (0.14.0)\n",
            "Requirement already satisfied: docutils<0.16,>=0.10 in /usr/local/lib/python3.6/dist-packages (from botocore<1.14.0,>=1.13.18->boto3->pytorch-transformers) (0.15.2)\n",
            "Requirement already satisfied: python-dateutil<2.8.1,>=2.1; python_version >= \"2.7\" in /usr/local/lib/python3.6/dist-packages (from botocore<1.14.0,>=1.13.18->boto3->pytorch-transformers) (2.6.1)\n",
            "Requirement already satisfied: matplotlib==3.1.0 in /usr/local/lib/python3.6/dist-packages (3.1.0)\n",
            "Requirement already satisfied: cycler>=0.10 in /usr/local/lib/python3.6/dist-packages (from matplotlib==3.1.0) (0.10.0)\n",
            "Requirement already satisfied: numpy>=1.11 in /usr/local/lib/python3.6/dist-packages (from matplotlib==3.1.0) (1.17.4)\n",
            "Requirement already satisfied: python-dateutil>=2.1 in /usr/local/lib/python3.6/dist-packages (from matplotlib==3.1.0) (2.6.1)\n",
            "Requirement already satisfied: pyparsing!=2.0.4,!=2.1.2,!=2.1.6,>=2.0.1 in /usr/local/lib/python3.6/dist-packages (from matplotlib==3.1.0) (2.4.5)\n",
            "Requirement already satisfied: kiwisolver>=1.0.1 in /usr/local/lib/python3.6/dist-packages (from matplotlib==3.1.0) (1.1.0)\n",
            "Requirement already satisfied: six in /usr/local/lib/python3.6/dist-packages (from cycler>=0.10->matplotlib==3.1.0) (1.12.0)\n",
            "Requirement already satisfied: setuptools in /usr/local/lib/python3.6/dist-packages (from kiwisolver>=1.0.1->matplotlib==3.1.0) (41.6.0)\n"
          ],
          "name": "stdout"
        }
      ]
    },
    {
      "cell_type": "code",
      "metadata": {
        "id": "TBTwLoBIPE1L",
        "colab_type": "code",
        "outputId": "10eeac6f-71a3-4c30-9561-eed676ea895b",
        "colab": {
          "base_uri": "https://localhost:8080/",
          "height": 34
        }
      },
      "source": [
        "import torch\n",
        "from torch.utils.data import TensorDataset, DataLoader, RandomSampler, SequentialSampler\n",
        "from keras.preprocessing.sequence import pad_sequences\n",
        "from sklearn.model_selection import train_test_split\n",
        "\n",
        "\n",
        "from pytorch_transformers import XLNetModel, XLNetTokenizer, XLNetForSequenceClassification\n",
        "from pytorch_transformers import AdamW\n",
        "\n",
        "from tqdm import tqdm, trange\n",
        "import pandas as pd\n",
        "import io\n",
        "import numpy as np\n",
        "import matplotlib.pyplot as plt\n",
        "% matplotlib inline"
      ],
      "execution_count": 0,
      "outputs": [
        {
          "output_type": "stream",
          "text": [
            "Using TensorFlow backend.\n"
          ],
          "name": "stderr"
        }
      ]
    },
    {
      "cell_type": "code",
      "metadata": {
        "id": "4YITceAKPE4n",
        "colab_type": "code",
        "outputId": "fafc60ed-3239-4378-9c91-ac5f0f80f564",
        "colab": {
          "base_uri": "https://localhost:8080/",
          "height": 34
        }
      },
      "source": [
        "device = torch.device(\"cuda\" if torch.cuda.is_available() else \"cpu\")\n",
        "n_gpu = torch.cuda.device_count()\n",
        "torch.cuda.get_device_name(0)"
      ],
      "execution_count": 0,
      "outputs": [
        {
          "output_type": "execute_result",
          "data": {
            "text/plain": [
              "'Tesla P100-PCIE-16GB'"
            ]
          },
          "metadata": {
            "tags": []
          },
          "execution_count": 5
        }
      ]
    },
    {
      "cell_type": "code",
      "metadata": {
        "id": "5Z2RozmwPE7q",
        "colab_type": "code",
        "colab": {}
      },
      "source": [
        "# read data\n",
        "X_train = pd.read_pickle('/content/drive/My Drive/train_test_v2/X_train.pkl')\n",
        "X_test = pd.read_pickle('/content/drive/My Drive/train_test_v2/X_test.pkl')\n",
        "y_train = pd.read_pickle('/content/drive/My Drive/train_test_v1/y_train.pkl')\n",
        "y_test = pd.read_pickle('/content/drive/My Drive/train_test_v1/y_test.pkl')\n",
        "\n",
        "# remove problematic points\n",
        "X_train = X_train.drop([5983])\n",
        "y_train = y_train.drop([5983])\n",
        "\n",
        "X_test = X_test.drop([2878, 3113, 3350, 3395, 3476, 3494])\n",
        "y_test = y_test.drop([2878, 3113, 3350, 3395, 3476, 3494])\n",
        "\n",
        "# convert into tabspaced tsvs\n",
        "train_df = pd.DataFrame({\n",
        "    'id':X_train.index,\n",
        "    'label':y_train['label'].values,\n",
        "    'alpha':['a']*X_train.shape[0],\n",
        "    'text':X_train['article_text']\n",
        "})\n",
        "train_df['text'] = train_df['text'].apply(lambda x: ' '.join(x.split()))\n",
        "# train_df.head()\n",
        "\n",
        "test_df=pd.DataFrame({\n",
        "    'id':X_test.index,\n",
        "    'label':y_test['label'].values,\n",
        "    'alpha':['a']*X_test.shape[0],\n",
        "    'text':X_test['article_text']\n",
        "})\n",
        "test_df['text'] = test_df['text'].apply(lambda x: ' '.join(x.split()))\n",
        "# test_df.head()\n",
        "\n",
        "train_df.to_csv('./train.tsv', sep='\\t', index=False, header=False)\n",
        "test_df.to_csv('./dev.tsv', sep='\\t', index=False, header=False)"
      ],
      "execution_count": 0,
      "outputs": []
    },
    {
      "cell_type": "code",
      "metadata": {
        "id": "GBfK3VR_PFBW",
        "colab_type": "code",
        "colab": {}
      },
      "source": [
        "train_df = pd.read_csv(\"./train.tsv\", delimiter='\\t', header=None, names=['sentence_source', 'label', 'label_notes', 'sentence'])\n",
        "test_df = pd.read_csv(\"./dev.tsv\", delimiter='\\t', header=None, names=['sentence_source', 'label', 'label_notes', 'sentence'])"
      ],
      "execution_count": 0,
      "outputs": []
    },
    {
      "cell_type": "code",
      "metadata": {
        "id": "Iua9onZbPFT1",
        "colab_type": "code",
        "colab": {}
      },
      "source": [
        "train_sentences = train_df.sentence.values\n",
        "train_sentences = np.array([y.replace('.', '.[SEP]') + '[CLS]' for y in train_sentences])\n",
        "train_labels = train_df.label.values\n",
        "\n",
        "# for test\n",
        "test_sentences = test_df.sentence.values\n",
        "test_sentences = np.array([y.replace('.', '.[SEP]') + '[CLS]' for y in test_sentences])\n",
        "test_labels = test_df.label.values"
      ],
      "execution_count": 0,
      "outputs": []
    },
    {
      "cell_type": "code",
      "metadata": {
        "id": "E2Z0HbZ0RViq",
        "colab_type": "code",
        "outputId": "2691bda4-ad81-49d9-d9ed-6004b204fd7b",
        "colab": {
          "base_uri": "https://localhost:8080/",
          "height": 88
        }
      },
      "source": [
        "tokenizer = XLNetTokenizer.from_pretrained('xlnet-large-cased', do_lower_case=False)\n",
        "\n",
        "tokenized_train_texts = [tokenizer.tokenize(sent) for sent in train_sentences]\n",
        "tokenized_test_texts = [tokenizer.tokenize(sent) for sent in test_sentences]\n",
        "\n",
        "print (\"Tokenize the first sentence:\")\n",
        "print (tokenized_train_texts[0])"
      ],
      "execution_count": 0,
      "outputs": [
        {
          "output_type": "stream",
          "text": [
            "100%|██████████| 798011/798011 [00:00<00:00, 1950661.31B/s]\n"
          ],
          "name": "stderr"
        },
        {
          "output_type": "stream",
          "text": [
            "Tokenize the first sentence:\n",
            "['▁News', '▁flash', ':', '▁There', \"'\", 's', '▁a', '▁crisis', '▁at', '▁the', '▁border', '.', '[', 'S', 'EP', ']', '▁This', '▁was', '▁discovered', '▁again', '▁over', '▁the', '▁past', '▁few', '▁days', '▁when', '▁immigration', '▁attorneys', '▁talked', '▁to', '▁reporters', '▁about', '▁appalling', '▁conditions', '▁at', '▁a', '▁Border', '▁Patrol', '▁facility', '▁detain', 'ing', '▁migrant', '▁minor', 's', '▁in', '▁Clint', ',', '▁Texas', '.', '[', 'S', 'EP', ']', '▁According', '▁to', '▁the', '▁lawyers', ',', '▁many', '▁of', '▁the', '▁kids', '▁had', '▁to', '▁sleep', '▁on', '▁the', '▁concrete', '▁floor', ',', '▁failed', '▁to', '▁get', '▁proper', '▁adult', '▁supervision', '▁and', '▁didn', \"'\", 't', '▁routinely', '▁take', '▁showers', '▁or', '▁brush', '▁their', '▁teeth', '.', '[', 'S', 'EP', ']', '▁The', '▁details', '▁were', '▁hard', '▁to', '▁read', '.', '[', 'S', 'EP', ']', '▁Assuming', '▁the', '▁account', '▁was', '▁accurate', ',', '▁one', '▁wonders', '▁how', '▁we', '▁could', '▁treat', '▁anyone', '▁this', '▁way', ',', '▁let', '▁alone', '▁children', '?', '▁But', '▁a', '▁lawyer', '▁who', '▁talked', '▁to', '▁The', '▁New', '▁York', 'er', '▁mentioned', '▁a', '▁telling', '▁fact', ':', '▁The', '▁facility', '▁previously', '▁had', '▁a', '▁capacity', '▁of', '▁104', '▁and', '▁had', '▁never', '▁held', '▁children', '▁before', '.', '[', 'S', 'EP', ']', '▁Yet', '▁it', '▁held', '▁roughly', '▁350', '▁children', ',', '▁apparently', '▁accommodate', 'd', '▁by', '▁placement', '▁of', '▁a', '▁new', '▁warehouse', '▁at', '▁the', '▁site', '.', '[', 'S', 'EP', ']', '▁All', '▁this', '▁is', '▁consistent', '▁with', '▁vast', '▁numbers', '▁of', '▁migrants', ',', '▁many', '▁of', '▁them', '▁families', '▁and', '▁children', ',', '▁flooding', '▁the', '▁border', '▁and', '▁over', 'tax', 'ing', '▁facilities', '▁never', '▁meant', '▁for', '▁these', '▁kinds', '▁of', '▁numbers', '▁or', '▁this', '▁demographic', '▁of', '▁migrant', '.', '[', 'S', 'EP', ']', '▁Indeed', ',', '▁the', '▁immigration', '▁lawyer', '▁mentioned', '▁to', '▁The', '▁New', '▁York', 'er', '▁that', '▁the', '▁personnel', '▁at', '▁the', '▁Border', '▁Patrol', '▁facility', '▁were', '▁constantly', '▁receiving', '▁children', '▁and', '▁constantly', '▁transferring', '▁them', '▁over', '▁to', '▁a', '▁Health', '▁and', '▁Human', '▁Services', '▁site', ',', '▁and', '▁stipulated', '▁that', '▁the', '▁guards', '▁believed', '▁the', '▁children', '▁don', \"'\", 't', '▁belong', '▁there', '▁and', '▁should', '▁go', '▁some', 'place', '▁more', '▁appropriate', '.', '[', 'S', 'EP', ']', '▁', '(', 'Under', '▁the', '▁glare', '▁of', '▁publicity', ',', '▁they', '▁did', '.', '[', 'S', 'EP', ']', ')', '▁The', '▁broader', '▁problem', '▁is', '▁that', '▁H', 'HS', ',', '▁which', '▁is', '▁supposed', '▁to', '▁get', '▁custody', '▁of', '▁migrant', '▁children', '▁from', '▁Border', '▁Patrol', '▁in', '▁short', '▁order', ',', '▁is', '▁itself', '▁over', 'bur', 'den', 'ed', '▁and', '▁backed', '▁up', '.', '[', 'S', 'EP', ']', '▁Since', '▁it', \"'\", 's', '▁2019', ',', '▁what', '▁should', '▁be', '▁properly', '▁attributed', '▁to', '▁dire', '▁circumstances', '▁and', '▁limited', '▁capacity', '▁is', '▁instead', '▁taken', '▁as', '▁evidence', '▁of', '▁President', '▁Donald', '▁Trump', \"'\", 's', '▁', 'mal', 'ice', '.', '[', 'S', 'EP', ']', '▁If', '▁what', \"'\", 's', '▁happening', '▁at', '▁the', '▁border', '▁is', '▁a', '▁product', '▁of', '▁Trump', '▁policy', ',', '▁it', '▁would', '▁have', '▁to', '▁involve', '▁an', '▁intricate', '▁and', '▁well', '-', 'exec', 'uted', '▁plan', '.', '[', 'S', 'EP', ']', '▁The', '▁White', '▁House', '▁would', '▁have', '▁to', '▁convince', '▁the', '▁acting', '▁head', '▁of', '▁the', '▁Department', '▁of', '▁Homeland', '▁Security', ',', '▁Kevin', '▁McA', 'lee', 'nan', '▁', '-', '-', '▁who', '▁served', '▁as', '▁deputy', '▁commissioner', '▁of', '▁Customs', '▁and', '▁Border', '▁Protection', '▁under', '▁President', '▁Barack', '▁Obama', '▁', '-', '-', '▁to', '▁send', '▁word', '▁down', '▁through', '▁the', '▁bureaucracy', '▁to', '▁treat', '▁children', '▁as', '▁call', 'ously', '▁as', '▁possible', '▁and', '▁not', '▁to', '▁leak', '▁word', '▁of', '▁this', '▁explosive', '▁guidance', '.', '[', 'S', 'EP', ']', '▁In', '▁the', '▁real', '▁world', ',', '▁a', '▁migrant', '▁influx', '▁will', '▁test', '▁even', '▁an', '▁administration', '▁more', '▁favorably', '▁inclined', '▁toward', '▁immigration', '.', '[', 'S', 'EP', ']', '▁The', '▁reason', '▁that', '▁the', '▁left', '▁can', \"'\", 't', '▁keep', '▁their', '▁viral', '▁images', '▁straight', '▁', '-', '-', '▁often', '▁mis', 'at', 'tributing', '▁to', '▁Trump', '▁photos', '▁of', '▁kids', '▁in', '▁steel', '-', 'c', 'age', '▁holding', '▁', 'pens', '▁during', '▁the', '▁Obama', '▁years', '▁', '-', '-', '▁is', '▁that', '▁this', '▁is', '▁a', '▁similar', '▁crisis', '▁to', '▁the', '▁one', '▁Obama', '▁faced', '▁in', '▁his', '▁second', '▁term', ',', '▁with', '▁similar', '▁challenges', '.', '[', 'S', 'EP', ']', '▁A', '▁viral', '▁video', '▁of', '▁a', '▁Justice', '▁Department', '▁lawyer', '▁arguing', '▁before', '▁a', '▁panel', '▁of', '▁judges', '▁last', '▁week', '▁that', '▁kids', '▁don', \"'\", 't', '▁need', '▁tooth', 'brush', 'es', '▁and', '▁soap', '▁to', '▁meet', '▁the', '▁standard', '▁for', '▁', '\"', 'safe', '▁and', '▁sanitary', '\"', '▁detention', '▁under', '▁the', '▁so', '-', 'called', '▁Flores', '▁settlement', '▁has', '▁caused', '▁outrage', '.', '[', 'S', 'EP', ']', '▁But', '▁few', '▁have', '▁stopped', '▁to', '▁note', '▁that', '▁the', '▁underlying', '▁case', '▁had', '▁to', '▁do', '▁with', '▁a', '▁district', '▁court', '▁finding', '▁that', '▁the', '▁Obama', '▁administration', '▁in', '▁2015', '▁was', '▁in', '▁material', '▁breach', '▁of', '▁the', '▁Flores', '▁standard', '▁', '(', 'or', '▁that', '▁the', '▁DO', 'J', '▁lawyer', '▁was', '▁offering', '▁a', '▁technical', '▁legal', '▁argument', '▁', '-', '-', '▁not', '▁a', '▁defense', '▁of', '▁mist', 're', 'ating', '▁kids', ')', '.', '[', 'S', 'EP', ']', '▁All', '▁that', '▁said', ',', '▁once', '▁these', '▁migrants', '▁are', '▁under', '▁our', '▁care', ',', '▁it', '▁is', '▁our', '▁responsibility', '▁to', '▁make', '▁sure', '▁they', '▁are', '▁treated', '▁as', '▁human', 'e', 'ly', '▁as', '▁possible', '.', '[', 'S', 'EP', ']', '▁The', '▁border', '▁needs', '▁more', '▁resources', '.', '[', 'S', 'EP', ']', '▁The', '▁Trump', '▁administration', '▁has', '▁been', '▁asking', '▁Congress', '▁to', '▁pass', '▁a', '▁funding', '▁package', ',', '▁and', '▁it', '▁should', '▁do', '▁so', '▁forth', 'with', '.', '[', 'S', 'EP', ']', '▁To', '▁address', '▁the', '▁root', '▁cause', '▁of', '▁the', '▁crisis', ',', '▁it', '▁should', '▁also', '▁change', '▁the', '▁bizarre', '▁asylum', '▁rules', '▁that', '▁have', '▁forced', '▁us', '▁to', '▁release', '▁family', '▁units', '▁from', '▁Central', '▁America', '▁into', '▁the', '▁country', ',', '▁creating', '▁an', '▁incentive', '▁for', '▁more', '▁to', '▁come', '.', '[', 'S', 'EP', ']', '▁As', '▁long', '▁as', '▁that', \"'\", 's', '▁the', '▁case', ',', '▁we', '▁aren', \"'\", 't', '▁going', '▁to', '▁be', '▁able', '▁to', '▁control', '▁the', '▁border', '▁or', '▁process', '▁people', '▁coming', '▁across', '▁it', '▁in', '▁an', '▁order', 'ly', '▁fashion', '.', '[', 'S', 'EP', ']', '▁What', '▁we', \"'\", 're', '▁seeing', '▁is', '▁what', '▁a', '▁border', '▁crisis', '▁looks', '▁like', '.', '[', 'S', 'EP', ']', '▁If', '▁we', '▁don', \"'\", 't', '▁like', '▁it', '▁', '-', '-', '▁and', '▁we', '▁shouldn', \"'\", 't', '▁', '-', '-', '▁it', \"'\", 's', '▁time', '▁for', '▁Congress', '▁to', '▁act', '▁to', '▁begin', '▁to', '▁bring', '▁it', '▁to', '▁an', '▁end', '.', '[', 'S', 'EP', ']', '▁Rich', '▁Low', 'ry', '▁can', '▁be', '▁reached', '▁at', '▁comments', '.', '[', 'S', 'EP', ']', 'low', 'ry', '@', 'national', 're', 'view', '.', '[', 'S', 'EP', ']', 'com', '.', '[', 'S', 'EP', ']', '[', 'CL', 'S', ']']\n"
          ],
          "name": "stdout"
        }
      ]
    },
    {
      "cell_type": "code",
      "metadata": {
        "id": "6DNsoc7ZS7QQ",
        "colab_type": "code",
        "colab": {}
      },
      "source": [
        "# Set the maximum sequence length. The longest sequence in our training set is 47, but we'll leave room on the end anyway. \n",
        "MAX_LEN = 256"
      ],
      "execution_count": 0,
      "outputs": []
    },
    {
      "cell_type": "code",
      "metadata": {
        "id": "Ws63QOO2S7UB",
        "colab_type": "code",
        "colab": {}
      },
      "source": [
        "# Use the XLNet tokenizer to convert the tokens to their index numbers in the XLNet vocabulary\n",
        "train_inputs_1 = [tokenizer.convert_tokens_to_ids(x) for x in tokenized_train_texts]\n",
        "test_inputs = [tokenizer.convert_tokens_to_ids(x) for x in tokenized_test_texts]"
      ],
      "execution_count": 0,
      "outputs": []
    },
    {
      "cell_type": "code",
      "metadata": {
        "id": "rRbXHI01S7Zt",
        "colab_type": "code",
        "colab": {}
      },
      "source": [
        "# Pad our input tokens\n",
        "train_inputs_1 = pad_sequences(train_inputs_1, maxlen=MAX_LEN, dtype=\"long\", truncating=\"post\", padding=\"post\")\n",
        "test_inputs = pad_sequences(test_inputs, maxlen=MAX_LEN, dtype=\"long\", truncating=\"post\", padding=\"post\")"
      ],
      "execution_count": 0,
      "outputs": []
    },
    {
      "cell_type": "code",
      "metadata": {
        "id": "t7CPuUPaS7e8",
        "colab_type": "code",
        "colab": {}
      },
      "source": [
        "# Create attention masks\n",
        "train_attention_masks = []\n",
        "\n",
        "# Create a mask of 1s for each token followed by 0s for padding\n",
        "for seq in train_inputs_1:\n",
        "  seq_mask = [float(i>0) for i in seq]\n",
        "  train_attention_masks.append(seq_mask)\n",
        "\n",
        "# Create attention masks\n",
        "test_attention_masks = []\n",
        "\n",
        "# Create a mask of 1s for each token followed by 0s for padding\n",
        "for seq in test_inputs:\n",
        "  seq_mask = [float(i>0) for i in seq]\n",
        "  test_attention_masks.append(seq_mask)"
      ],
      "execution_count": 0,
      "outputs": []
    },
    {
      "cell_type": "code",
      "metadata": {
        "id": "QeR5tXvlS7Xy",
        "colab_type": "code",
        "colab": {}
      },
      "source": [
        "# Use train_test_split to split our data into train and validation sets for training\n",
        "\n",
        "train_inputs, validation_inputs, train_labels, validation_labels = train_test_split(train_inputs_1, train_labels, \n",
        "                                                            random_state=2018, test_size=0.2)\n",
        "train_masks, validation_masks, _, _ = train_test_split(train_attention_masks, train_inputs_1,\n",
        "                                             random_state=2018, test_size=0.2)"
      ],
      "execution_count": 0,
      "outputs": []
    },
    {
      "cell_type": "code",
      "metadata": {
        "id": "kN24sheyPFSC",
        "colab_type": "code",
        "colab": {}
      },
      "source": [
        "# Convert all of our data into torch tensors, the required datatype for our model\n",
        "train_inputs = torch.tensor(train_inputs)\n",
        "validation_inputs = torch.tensor(validation_inputs)\n",
        "train_labels = torch.tensor(train_labels)\n",
        "validation_labels = torch.tensor(validation_labels)\n",
        "train_masks = torch.tensor(train_masks)\n",
        "validation_masks = torch.tensor(validation_masks)"
      ],
      "execution_count": 0,
      "outputs": []
    },
    {
      "cell_type": "code",
      "metadata": {
        "id": "n1HGqpuuPFQ8",
        "colab_type": "code",
        "colab": {}
      },
      "source": [
        "# Select a batch size for training. For fine-tuning with XLNet, the authors recommend a batch size of 32, 48, or 128. We will use 32 here to avoid memory issues.\n",
        "batch_size = 8\n",
        "\n",
        "# Create an iterator of our data with torch DataLoader. This helps save on memory during training because, unlike a for loop, \n",
        "# with an iterator the entire dataset does not need to be loaded into memory\n",
        "\n",
        "train_data = TensorDataset(train_inputs, train_masks, train_labels)\n",
        "train_sampler = RandomSampler(train_data)\n",
        "train_dataloader = DataLoader(train_data, sampler=train_sampler, batch_size=batch_size)\n",
        "\n",
        "validation_data = TensorDataset(validation_inputs, validation_masks, validation_labels)\n",
        "validation_sampler = SequentialSampler(validation_data)\n",
        "validation_dataloader = DataLoader(validation_data, sampler=validation_sampler, batch_size=batch_size)"
      ],
      "execution_count": 0,
      "outputs": []
    },
    {
      "cell_type": "code",
      "metadata": {
        "id": "f_5CC7vaPFOa",
        "colab_type": "code",
        "outputId": "8f6114ca-82ac-41d1-ad7a-024534750c03",
        "colab": {
          "base_uri": "https://localhost:8080/",
          "height": 1000
        }
      },
      "source": [
        "# Load XLNEtForSequenceClassification, the pretrained XLNet model with a single linear classification layer on top. \n",
        "\n",
        "model = XLNetForSequenceClassification.from_pretrained(\"xlnet-large-cased\", num_labels=2)\n",
        "model.cuda()"
      ],
      "execution_count": 0,
      "outputs": [
        {
          "output_type": "stream",
          "text": [
            "100%|██████████| 699/699 [00:00<00:00, 174419.57B/s]\n",
            "100%|██████████| 1441285815/1441285815 [00:47<00:00, 30084264.63B/s]\n"
          ],
          "name": "stderr"
        },
        {
          "output_type": "execute_result",
          "data": {
            "text/plain": [
              "XLNetForSequenceClassification(\n",
              "  (transformer): XLNetModel(\n",
              "    (word_embedding): Embedding(32000, 1024)\n",
              "    (layer): ModuleList(\n",
              "      (0): XLNetLayer(\n",
              "        (rel_attn): XLNetRelativeAttention(\n",
              "          (layer_norm): LayerNorm((1024,), eps=1e-12, elementwise_affine=True)\n",
              "          (dropout): Dropout(p=0.1, inplace=False)\n",
              "        )\n",
              "        (ff): XLNetFeedForward(\n",
              "          (layer_norm): LayerNorm((1024,), eps=1e-12, elementwise_affine=True)\n",
              "          (layer_1): Linear(in_features=1024, out_features=4096, bias=True)\n",
              "          (layer_2): Linear(in_features=4096, out_features=1024, bias=True)\n",
              "          (dropout): Dropout(p=0.1, inplace=False)\n",
              "        )\n",
              "        (dropout): Dropout(p=0.1, inplace=False)\n",
              "      )\n",
              "      (1): XLNetLayer(\n",
              "        (rel_attn): XLNetRelativeAttention(\n",
              "          (layer_norm): LayerNorm((1024,), eps=1e-12, elementwise_affine=True)\n",
              "          (dropout): Dropout(p=0.1, inplace=False)\n",
              "        )\n",
              "        (ff): XLNetFeedForward(\n",
              "          (layer_norm): LayerNorm((1024,), eps=1e-12, elementwise_affine=True)\n",
              "          (layer_1): Linear(in_features=1024, out_features=4096, bias=True)\n",
              "          (layer_2): Linear(in_features=4096, out_features=1024, bias=True)\n",
              "          (dropout): Dropout(p=0.1, inplace=False)\n",
              "        )\n",
              "        (dropout): Dropout(p=0.1, inplace=False)\n",
              "      )\n",
              "      (2): XLNetLayer(\n",
              "        (rel_attn): XLNetRelativeAttention(\n",
              "          (layer_norm): LayerNorm((1024,), eps=1e-12, elementwise_affine=True)\n",
              "          (dropout): Dropout(p=0.1, inplace=False)\n",
              "        )\n",
              "        (ff): XLNetFeedForward(\n",
              "          (layer_norm): LayerNorm((1024,), eps=1e-12, elementwise_affine=True)\n",
              "          (layer_1): Linear(in_features=1024, out_features=4096, bias=True)\n",
              "          (layer_2): Linear(in_features=4096, out_features=1024, bias=True)\n",
              "          (dropout): Dropout(p=0.1, inplace=False)\n",
              "        )\n",
              "        (dropout): Dropout(p=0.1, inplace=False)\n",
              "      )\n",
              "      (3): XLNetLayer(\n",
              "        (rel_attn): XLNetRelativeAttention(\n",
              "          (layer_norm): LayerNorm((1024,), eps=1e-12, elementwise_affine=True)\n",
              "          (dropout): Dropout(p=0.1, inplace=False)\n",
              "        )\n",
              "        (ff): XLNetFeedForward(\n",
              "          (layer_norm): LayerNorm((1024,), eps=1e-12, elementwise_affine=True)\n",
              "          (layer_1): Linear(in_features=1024, out_features=4096, bias=True)\n",
              "          (layer_2): Linear(in_features=4096, out_features=1024, bias=True)\n",
              "          (dropout): Dropout(p=0.1, inplace=False)\n",
              "        )\n",
              "        (dropout): Dropout(p=0.1, inplace=False)\n",
              "      )\n",
              "      (4): XLNetLayer(\n",
              "        (rel_attn): XLNetRelativeAttention(\n",
              "          (layer_norm): LayerNorm((1024,), eps=1e-12, elementwise_affine=True)\n",
              "          (dropout): Dropout(p=0.1, inplace=False)\n",
              "        )\n",
              "        (ff): XLNetFeedForward(\n",
              "          (layer_norm): LayerNorm((1024,), eps=1e-12, elementwise_affine=True)\n",
              "          (layer_1): Linear(in_features=1024, out_features=4096, bias=True)\n",
              "          (layer_2): Linear(in_features=4096, out_features=1024, bias=True)\n",
              "          (dropout): Dropout(p=0.1, inplace=False)\n",
              "        )\n",
              "        (dropout): Dropout(p=0.1, inplace=False)\n",
              "      )\n",
              "      (5): XLNetLayer(\n",
              "        (rel_attn): XLNetRelativeAttention(\n",
              "          (layer_norm): LayerNorm((1024,), eps=1e-12, elementwise_affine=True)\n",
              "          (dropout): Dropout(p=0.1, inplace=False)\n",
              "        )\n",
              "        (ff): XLNetFeedForward(\n",
              "          (layer_norm): LayerNorm((1024,), eps=1e-12, elementwise_affine=True)\n",
              "          (layer_1): Linear(in_features=1024, out_features=4096, bias=True)\n",
              "          (layer_2): Linear(in_features=4096, out_features=1024, bias=True)\n",
              "          (dropout): Dropout(p=0.1, inplace=False)\n",
              "        )\n",
              "        (dropout): Dropout(p=0.1, inplace=False)\n",
              "      )\n",
              "      (6): XLNetLayer(\n",
              "        (rel_attn): XLNetRelativeAttention(\n",
              "          (layer_norm): LayerNorm((1024,), eps=1e-12, elementwise_affine=True)\n",
              "          (dropout): Dropout(p=0.1, inplace=False)\n",
              "        )\n",
              "        (ff): XLNetFeedForward(\n",
              "          (layer_norm): LayerNorm((1024,), eps=1e-12, elementwise_affine=True)\n",
              "          (layer_1): Linear(in_features=1024, out_features=4096, bias=True)\n",
              "          (layer_2): Linear(in_features=4096, out_features=1024, bias=True)\n",
              "          (dropout): Dropout(p=0.1, inplace=False)\n",
              "        )\n",
              "        (dropout): Dropout(p=0.1, inplace=False)\n",
              "      )\n",
              "      (7): XLNetLayer(\n",
              "        (rel_attn): XLNetRelativeAttention(\n",
              "          (layer_norm): LayerNorm((1024,), eps=1e-12, elementwise_affine=True)\n",
              "          (dropout): Dropout(p=0.1, inplace=False)\n",
              "        )\n",
              "        (ff): XLNetFeedForward(\n",
              "          (layer_norm): LayerNorm((1024,), eps=1e-12, elementwise_affine=True)\n",
              "          (layer_1): Linear(in_features=1024, out_features=4096, bias=True)\n",
              "          (layer_2): Linear(in_features=4096, out_features=1024, bias=True)\n",
              "          (dropout): Dropout(p=0.1, inplace=False)\n",
              "        )\n",
              "        (dropout): Dropout(p=0.1, inplace=False)\n",
              "      )\n",
              "      (8): XLNetLayer(\n",
              "        (rel_attn): XLNetRelativeAttention(\n",
              "          (layer_norm): LayerNorm((1024,), eps=1e-12, elementwise_affine=True)\n",
              "          (dropout): Dropout(p=0.1, inplace=False)\n",
              "        )\n",
              "        (ff): XLNetFeedForward(\n",
              "          (layer_norm): LayerNorm((1024,), eps=1e-12, elementwise_affine=True)\n",
              "          (layer_1): Linear(in_features=1024, out_features=4096, bias=True)\n",
              "          (layer_2): Linear(in_features=4096, out_features=1024, bias=True)\n",
              "          (dropout): Dropout(p=0.1, inplace=False)\n",
              "        )\n",
              "        (dropout): Dropout(p=0.1, inplace=False)\n",
              "      )\n",
              "      (9): XLNetLayer(\n",
              "        (rel_attn): XLNetRelativeAttention(\n",
              "          (layer_norm): LayerNorm((1024,), eps=1e-12, elementwise_affine=True)\n",
              "          (dropout): Dropout(p=0.1, inplace=False)\n",
              "        )\n",
              "        (ff): XLNetFeedForward(\n",
              "          (layer_norm): LayerNorm((1024,), eps=1e-12, elementwise_affine=True)\n",
              "          (layer_1): Linear(in_features=1024, out_features=4096, bias=True)\n",
              "          (layer_2): Linear(in_features=4096, out_features=1024, bias=True)\n",
              "          (dropout): Dropout(p=0.1, inplace=False)\n",
              "        )\n",
              "        (dropout): Dropout(p=0.1, inplace=False)\n",
              "      )\n",
              "      (10): XLNetLayer(\n",
              "        (rel_attn): XLNetRelativeAttention(\n",
              "          (layer_norm): LayerNorm((1024,), eps=1e-12, elementwise_affine=True)\n",
              "          (dropout): Dropout(p=0.1, inplace=False)\n",
              "        )\n",
              "        (ff): XLNetFeedForward(\n",
              "          (layer_norm): LayerNorm((1024,), eps=1e-12, elementwise_affine=True)\n",
              "          (layer_1): Linear(in_features=1024, out_features=4096, bias=True)\n",
              "          (layer_2): Linear(in_features=4096, out_features=1024, bias=True)\n",
              "          (dropout): Dropout(p=0.1, inplace=False)\n",
              "        )\n",
              "        (dropout): Dropout(p=0.1, inplace=False)\n",
              "      )\n",
              "      (11): XLNetLayer(\n",
              "        (rel_attn): XLNetRelativeAttention(\n",
              "          (layer_norm): LayerNorm((1024,), eps=1e-12, elementwise_affine=True)\n",
              "          (dropout): Dropout(p=0.1, inplace=False)\n",
              "        )\n",
              "        (ff): XLNetFeedForward(\n",
              "          (layer_norm): LayerNorm((1024,), eps=1e-12, elementwise_affine=True)\n",
              "          (layer_1): Linear(in_features=1024, out_features=4096, bias=True)\n",
              "          (layer_2): Linear(in_features=4096, out_features=1024, bias=True)\n",
              "          (dropout): Dropout(p=0.1, inplace=False)\n",
              "        )\n",
              "        (dropout): Dropout(p=0.1, inplace=False)\n",
              "      )\n",
              "      (12): XLNetLayer(\n",
              "        (rel_attn): XLNetRelativeAttention(\n",
              "          (layer_norm): LayerNorm((1024,), eps=1e-12, elementwise_affine=True)\n",
              "          (dropout): Dropout(p=0.1, inplace=False)\n",
              "        )\n",
              "        (ff): XLNetFeedForward(\n",
              "          (layer_norm): LayerNorm((1024,), eps=1e-12, elementwise_affine=True)\n",
              "          (layer_1): Linear(in_features=1024, out_features=4096, bias=True)\n",
              "          (layer_2): Linear(in_features=4096, out_features=1024, bias=True)\n",
              "          (dropout): Dropout(p=0.1, inplace=False)\n",
              "        )\n",
              "        (dropout): Dropout(p=0.1, inplace=False)\n",
              "      )\n",
              "      (13): XLNetLayer(\n",
              "        (rel_attn): XLNetRelativeAttention(\n",
              "          (layer_norm): LayerNorm((1024,), eps=1e-12, elementwise_affine=True)\n",
              "          (dropout): Dropout(p=0.1, inplace=False)\n",
              "        )\n",
              "        (ff): XLNetFeedForward(\n",
              "          (layer_norm): LayerNorm((1024,), eps=1e-12, elementwise_affine=True)\n",
              "          (layer_1): Linear(in_features=1024, out_features=4096, bias=True)\n",
              "          (layer_2): Linear(in_features=4096, out_features=1024, bias=True)\n",
              "          (dropout): Dropout(p=0.1, inplace=False)\n",
              "        )\n",
              "        (dropout): Dropout(p=0.1, inplace=False)\n",
              "      )\n",
              "      (14): XLNetLayer(\n",
              "        (rel_attn): XLNetRelativeAttention(\n",
              "          (layer_norm): LayerNorm((1024,), eps=1e-12, elementwise_affine=True)\n",
              "          (dropout): Dropout(p=0.1, inplace=False)\n",
              "        )\n",
              "        (ff): XLNetFeedForward(\n",
              "          (layer_norm): LayerNorm((1024,), eps=1e-12, elementwise_affine=True)\n",
              "          (layer_1): Linear(in_features=1024, out_features=4096, bias=True)\n",
              "          (layer_2): Linear(in_features=4096, out_features=1024, bias=True)\n",
              "          (dropout): Dropout(p=0.1, inplace=False)\n",
              "        )\n",
              "        (dropout): Dropout(p=0.1, inplace=False)\n",
              "      )\n",
              "      (15): XLNetLayer(\n",
              "        (rel_attn): XLNetRelativeAttention(\n",
              "          (layer_norm): LayerNorm((1024,), eps=1e-12, elementwise_affine=True)\n",
              "          (dropout): Dropout(p=0.1, inplace=False)\n",
              "        )\n",
              "        (ff): XLNetFeedForward(\n",
              "          (layer_norm): LayerNorm((1024,), eps=1e-12, elementwise_affine=True)\n",
              "          (layer_1): Linear(in_features=1024, out_features=4096, bias=True)\n",
              "          (layer_2): Linear(in_features=4096, out_features=1024, bias=True)\n",
              "          (dropout): Dropout(p=0.1, inplace=False)\n",
              "        )\n",
              "        (dropout): Dropout(p=0.1, inplace=False)\n",
              "      )\n",
              "      (16): XLNetLayer(\n",
              "        (rel_attn): XLNetRelativeAttention(\n",
              "          (layer_norm): LayerNorm((1024,), eps=1e-12, elementwise_affine=True)\n",
              "          (dropout): Dropout(p=0.1, inplace=False)\n",
              "        )\n",
              "        (ff): XLNetFeedForward(\n",
              "          (layer_norm): LayerNorm((1024,), eps=1e-12, elementwise_affine=True)\n",
              "          (layer_1): Linear(in_features=1024, out_features=4096, bias=True)\n",
              "          (layer_2): Linear(in_features=4096, out_features=1024, bias=True)\n",
              "          (dropout): Dropout(p=0.1, inplace=False)\n",
              "        )\n",
              "        (dropout): Dropout(p=0.1, inplace=False)\n",
              "      )\n",
              "      (17): XLNetLayer(\n",
              "        (rel_attn): XLNetRelativeAttention(\n",
              "          (layer_norm): LayerNorm((1024,), eps=1e-12, elementwise_affine=True)\n",
              "          (dropout): Dropout(p=0.1, inplace=False)\n",
              "        )\n",
              "        (ff): XLNetFeedForward(\n",
              "          (layer_norm): LayerNorm((1024,), eps=1e-12, elementwise_affine=True)\n",
              "          (layer_1): Linear(in_features=1024, out_features=4096, bias=True)\n",
              "          (layer_2): Linear(in_features=4096, out_features=1024, bias=True)\n",
              "          (dropout): Dropout(p=0.1, inplace=False)\n",
              "        )\n",
              "        (dropout): Dropout(p=0.1, inplace=False)\n",
              "      )\n",
              "      (18): XLNetLayer(\n",
              "        (rel_attn): XLNetRelativeAttention(\n",
              "          (layer_norm): LayerNorm((1024,), eps=1e-12, elementwise_affine=True)\n",
              "          (dropout): Dropout(p=0.1, inplace=False)\n",
              "        )\n",
              "        (ff): XLNetFeedForward(\n",
              "          (layer_norm): LayerNorm((1024,), eps=1e-12, elementwise_affine=True)\n",
              "          (layer_1): Linear(in_features=1024, out_features=4096, bias=True)\n",
              "          (layer_2): Linear(in_features=4096, out_features=1024, bias=True)\n",
              "          (dropout): Dropout(p=0.1, inplace=False)\n",
              "        )\n",
              "        (dropout): Dropout(p=0.1, inplace=False)\n",
              "      )\n",
              "      (19): XLNetLayer(\n",
              "        (rel_attn): XLNetRelativeAttention(\n",
              "          (layer_norm): LayerNorm((1024,), eps=1e-12, elementwise_affine=True)\n",
              "          (dropout): Dropout(p=0.1, inplace=False)\n",
              "        )\n",
              "        (ff): XLNetFeedForward(\n",
              "          (layer_norm): LayerNorm((1024,), eps=1e-12, elementwise_affine=True)\n",
              "          (layer_1): Linear(in_features=1024, out_features=4096, bias=True)\n",
              "          (layer_2): Linear(in_features=4096, out_features=1024, bias=True)\n",
              "          (dropout): Dropout(p=0.1, inplace=False)\n",
              "        )\n",
              "        (dropout): Dropout(p=0.1, inplace=False)\n",
              "      )\n",
              "      (20): XLNetLayer(\n",
              "        (rel_attn): XLNetRelativeAttention(\n",
              "          (layer_norm): LayerNorm((1024,), eps=1e-12, elementwise_affine=True)\n",
              "          (dropout): Dropout(p=0.1, inplace=False)\n",
              "        )\n",
              "        (ff): XLNetFeedForward(\n",
              "          (layer_norm): LayerNorm((1024,), eps=1e-12, elementwise_affine=True)\n",
              "          (layer_1): Linear(in_features=1024, out_features=4096, bias=True)\n",
              "          (layer_2): Linear(in_features=4096, out_features=1024, bias=True)\n",
              "          (dropout): Dropout(p=0.1, inplace=False)\n",
              "        )\n",
              "        (dropout): Dropout(p=0.1, inplace=False)\n",
              "      )\n",
              "      (21): XLNetLayer(\n",
              "        (rel_attn): XLNetRelativeAttention(\n",
              "          (layer_norm): LayerNorm((1024,), eps=1e-12, elementwise_affine=True)\n",
              "          (dropout): Dropout(p=0.1, inplace=False)\n",
              "        )\n",
              "        (ff): XLNetFeedForward(\n",
              "          (layer_norm): LayerNorm((1024,), eps=1e-12, elementwise_affine=True)\n",
              "          (layer_1): Linear(in_features=1024, out_features=4096, bias=True)\n",
              "          (layer_2): Linear(in_features=4096, out_features=1024, bias=True)\n",
              "          (dropout): Dropout(p=0.1, inplace=False)\n",
              "        )\n",
              "        (dropout): Dropout(p=0.1, inplace=False)\n",
              "      )\n",
              "      (22): XLNetLayer(\n",
              "        (rel_attn): XLNetRelativeAttention(\n",
              "          (layer_norm): LayerNorm((1024,), eps=1e-12, elementwise_affine=True)\n",
              "          (dropout): Dropout(p=0.1, inplace=False)\n",
              "        )\n",
              "        (ff): XLNetFeedForward(\n",
              "          (layer_norm): LayerNorm((1024,), eps=1e-12, elementwise_affine=True)\n",
              "          (layer_1): Linear(in_features=1024, out_features=4096, bias=True)\n",
              "          (layer_2): Linear(in_features=4096, out_features=1024, bias=True)\n",
              "          (dropout): Dropout(p=0.1, inplace=False)\n",
              "        )\n",
              "        (dropout): Dropout(p=0.1, inplace=False)\n",
              "      )\n",
              "      (23): XLNetLayer(\n",
              "        (rel_attn): XLNetRelativeAttention(\n",
              "          (layer_norm): LayerNorm((1024,), eps=1e-12, elementwise_affine=True)\n",
              "          (dropout): Dropout(p=0.1, inplace=False)\n",
              "        )\n",
              "        (ff): XLNetFeedForward(\n",
              "          (layer_norm): LayerNorm((1024,), eps=1e-12, elementwise_affine=True)\n",
              "          (layer_1): Linear(in_features=1024, out_features=4096, bias=True)\n",
              "          (layer_2): Linear(in_features=4096, out_features=1024, bias=True)\n",
              "          (dropout): Dropout(p=0.1, inplace=False)\n",
              "        )\n",
              "        (dropout): Dropout(p=0.1, inplace=False)\n",
              "      )\n",
              "    )\n",
              "    (dropout): Dropout(p=0.1, inplace=False)\n",
              "  )\n",
              "  (sequence_summary): SequenceSummary(\n",
              "    (summary): Linear(in_features=1024, out_features=1024, bias=True)\n",
              "    (activation): Tanh()\n",
              "    (first_dropout): Identity()\n",
              "    (last_dropout): Dropout(p=0.1, inplace=False)\n",
              "  )\n",
              "  (logits_proj): Linear(in_features=1024, out_features=2, bias=True)\n",
              ")"
            ]
          },
          "metadata": {
            "tags": []
          },
          "execution_count": 17
        }
      ]
    },
    {
      "cell_type": "code",
      "metadata": {
        "id": "BngJZh24TYJs",
        "colab_type": "code",
        "colab": {}
      },
      "source": [
        "param_optimizer = list(model.named_parameters())\n",
        "no_decay = ['bias', 'gamma', 'beta']\n",
        "optimizer_grouped_parameters = [\n",
        "    {'params': [p for n, p in param_optimizer if not any(nd in n for nd in no_decay)],\n",
        "     'weight_decay_rate': 0.01},\n",
        "    {'params': [p for n, p in param_optimizer if any(nd in n for nd in no_decay)],\n",
        "     'weight_decay_rate': 0.0}\n",
        "]"
      ],
      "execution_count": 0,
      "outputs": []
    },
    {
      "cell_type": "code",
      "metadata": {
        "id": "POw31AmQTYNA",
        "colab_type": "code",
        "colab": {}
      },
      "source": [
        "# This variable contains all of the hyperparemeter information our training loop needs\n",
        "optimizer = AdamW(optimizer_grouped_parameters,\n",
        "                     lr=2e-5)"
      ],
      "execution_count": 0,
      "outputs": []
    },
    {
      "cell_type": "code",
      "metadata": {
        "id": "mj8uNpvTTYRh",
        "colab_type": "code",
        "colab": {}
      },
      "source": [
        "# Function to calculate the accuracy of our predictions vs labels\n",
        "def flat_accuracy(preds, labels):\n",
        "    pred_flat = np.argmax(preds, axis=1).flatten()\n",
        "    labels_flat = labels.flatten()\n",
        "    return np.sum(pred_flat == labels_flat) / len(labels_flat)"
      ],
      "execution_count": 0,
      "outputs": []
    },
    {
      "cell_type": "code",
      "metadata": {
        "id": "o9_j0zBbTYU5",
        "colab_type": "code",
        "outputId": "9920e5b7-f4f1-492d-e2e9-00ab4021e70c",
        "colab": {
          "base_uri": "https://localhost:8080/",
          "height": 170
        }
      },
      "source": [
        "# Store our loss and accuracy for plotting\n",
        "train_loss_set = []\n",
        "\n",
        "# Number of training epochs (authors recommend between 2 and 4)\n",
        "epochs = 4\n",
        "\n",
        "# trange is a tqdm wrapper around the normal python range\n",
        "for _ in trange(epochs, desc=\"Epoch\"):\n",
        "  \n",
        "  \n",
        "  # Training\n",
        "  \n",
        "  # Set our model to training mode (as opposed to evaluation mode)\n",
        "  model.train()\n",
        "  \n",
        "  # Tracking variables\n",
        "  tr_loss = 0\n",
        "  nb_tr_examples, nb_tr_steps = 0, 0\n",
        "  \n",
        "  # Train the data for one epoch\n",
        "  for step, batch in enumerate(train_dataloader):\n",
        "    # Add batch to GPU\n",
        "    batch = tuple(t.to(device) for t in batch)\n",
        "    # Unpack the inputs from our dataloader\n",
        "    b_input_ids, b_input_mask, b_labels = batch\n",
        "    # Clear out the gradients (by default they accumulate)\n",
        "    optimizer.zero_grad()\n",
        "    # Forward pass\n",
        "    outputs = model(b_input_ids, token_type_ids=None, attention_mask=b_input_mask, labels=b_labels)\n",
        "    loss = outputs[0]\n",
        "    logits = outputs[1]\n",
        "    train_loss_set.append(loss.item())    \n",
        "    # Backward pass\n",
        "    loss.backward()\n",
        "    # Update parameters and take a step using the computed gradient\n",
        "    optimizer.step()\n",
        "    \n",
        "    \n",
        "    # Update tracking variables\n",
        "    tr_loss += loss.item()\n",
        "    nb_tr_examples += b_input_ids.size(0)\n",
        "    nb_tr_steps += 1\n",
        "\n",
        "  print(\"Train loss: {}\".format(tr_loss/nb_tr_steps))\n",
        "    \n",
        "    \n",
        "  # Validation\n",
        "\n",
        "  # Put model in evaluation mode to evaluate loss on the validation set\n",
        "  model.eval()\n",
        "\n",
        "  # Tracking variables \n",
        "  eval_loss, eval_accuracy = 0, 0\n",
        "  nb_eval_steps, nb_eval_examples = 0, 0\n",
        "\n",
        "  # Evaluate data for one epoch\n",
        "  for batch in validation_dataloader:\n",
        "    # Add batch to GPU\n",
        "    batch = tuple(t.to(device) for t in batch)\n",
        "    # Unpack the inputs from our dataloader\n",
        "    b_input_ids, b_input_mask, b_labels = batch\n",
        "    # Telling the model not to compute or store gradients, saving memory and speeding up validation\n",
        "    with torch.no_grad():\n",
        "      # Forward pass, calculate logit predictions\n",
        "      output = model(b_input_ids, token_type_ids=None, attention_mask=b_input_mask)\n",
        "      logits = output[0]\n",
        "    \n",
        "    # Move logits and labels to CPU\n",
        "    logits = logits.detach().cpu().numpy()\n",
        "    label_ids = b_labels.to('cpu').numpy()\n",
        "\n",
        "    tmp_eval_accuracy = flat_accuracy(logits, label_ids)\n",
        "    \n",
        "    eval_accuracy += tmp_eval_accuracy\n",
        "    nb_eval_steps += 1\n",
        "\n",
        "  print(\"Validation Accuracy: {}\".format(eval_accuracy/nb_eval_steps))"
      ],
      "execution_count": 0,
      "outputs": [
        {
          "output_type": "stream",
          "text": [
            "\rEpoch:   0%|          | 0/4 [00:00<?, ?it/s]"
          ],
          "name": "stderr"
        },
        {
          "output_type": "stream",
          "text": [
            "Train loss: 0.3999779659362746\n"
          ],
          "name": "stdout"
        },
        {
          "output_type": "stream",
          "text": [
            "\rEpoch:  25%|██▌       | 1/4 [14:21<43:04, 861.65s/it]"
          ],
          "name": "stderr"
        },
        {
          "output_type": "stream",
          "text": [
            "Validation Accuracy: 0.9096875000000001\n",
            "Train loss: 0.233403521885801\n"
          ],
          "name": "stdout"
        },
        {
          "output_type": "stream",
          "text": [
            "\rEpoch:  50%|█████     | 2/4 [28:42<28:42, 861.39s/it]"
          ],
          "name": "stderr"
        },
        {
          "output_type": "stream",
          "text": [
            "Validation Accuracy: 0.81953125\n",
            "Train loss: 0.17159968688617663\n"
          ],
          "name": "stdout"
        },
        {
          "output_type": "stream",
          "text": [
            "\rEpoch:  75%|███████▌  | 3/4 [43:03<14:21, 861.27s/it]"
          ],
          "name": "stderr"
        },
        {
          "output_type": "stream",
          "text": [
            "Validation Accuracy: 0.90890625\n",
            "Train loss: 0.11805544861815345\n"
          ],
          "name": "stdout"
        },
        {
          "output_type": "stream",
          "text": [
            "\rEpoch: 100%|██████████| 4/4 [57:22<00:00, 860.63s/it]"
          ],
          "name": "stderr"
        },
        {
          "output_type": "stream",
          "text": [
            "Validation Accuracy: 0.9307812500000001\n"
          ],
          "name": "stdout"
        },
        {
          "output_type": "stream",
          "text": [
            "\n"
          ],
          "name": "stderr"
        }
      ]
    },
    {
      "cell_type": "code",
      "metadata": {
        "id": "_rYK23WDTYP7",
        "colab_type": "code",
        "outputId": "6e6f2f86-9fdc-49ee-e177-18e2c9a5ec7e",
        "colab": {
          "base_uri": "https://localhost:8080/",
          "height": 513
        }
      },
      "source": [
        "plt.figure(figsize=(15,8))\n",
        "plt.title(\"Training loss\")\n",
        "plt.xlabel(\"Batch\")\n",
        "plt.ylabel(\"Loss\")\n",
        "plt.plot(train_loss_set)\n",
        "plt.show()"
      ],
      "execution_count": 0,
      "outputs": [
        {
          "output_type": "display_data",
          "data": {
            "image/png": "[encoded data removed]",
            "text/plain": [
              "<Figure size 1080x576 with 1 Axes>"
            ]
          },
          "metadata": {
            "tags": []
          }
        }
      ]
    },
    {
      "cell_type": "code",
      "metadata": {
        "id": "6teP-VfOPFNA",
        "colab_type": "code",
        "colab": {}
      },
      "source": [
        "prediction_inputs = torch.tensor(test_inputs)\n",
        "prediction_masks = torch.tensor(test_attention_masks)\n",
        "prediction_labels = torch.tensor(test_labels)\n",
        "  \n",
        "batch_size = 8  \n",
        "\n",
        "\n",
        "prediction_data = TensorDataset(prediction_inputs, prediction_masks, prediction_labels)\n",
        "prediction_sampler = SequentialSampler(prediction_data)\n",
        "prediction_dataloader = DataLoader(prediction_data, sampler=prediction_sampler, batch_size=batch_size)"
      ],
      "execution_count": 0,
      "outputs": []
    },
    {
      "cell_type": "code",
      "metadata": {
        "id": "09QHokVHPFHp",
        "colab_type": "code",
        "colab": {}
      },
      "source": [
        "# Prediction on test set\n",
        "\n",
        "# Put model in evaluation mode\n",
        "model.eval()\n",
        "\n",
        "# Tracking variables \n",
        "predictions , true_labels, probabilities = [], [], []\n",
        "\n",
        "# Predict \n",
        "for batch in prediction_dataloader:\n",
        "  # Add batch to GPU\n",
        "  batch = tuple(t.to(device) for t in batch)\n",
        "  # Unpack the inputs from our dataloader\n",
        "  b_input_ids, b_input_mask, b_labels = batch\n",
        "  # Telling the model not to compute or store gradients, saving memory and speeding up prediction\n",
        "  with torch.no_grad():\n",
        "    # Forward pass, calculate logit predictions\n",
        "    outputs = model(b_input_ids, token_type_ids=None, attention_mask=b_input_mask)\n",
        "    logits = outputs[0]\n",
        "\n",
        "  # Move logits and labels to CPU\n",
        "  logits = logits.detach().cpu().numpy()\n",
        "  label_ids = b_labels.to('cpu').numpy()\n",
        "  \n",
        "  # Store predictions and true labels\n",
        "  predictions.append(logits)\n",
        "  probabilities.append(np.divide(np.exp(logits), np.sum(np.exp(logits), axis=1)[:, None]))\n",
        "  true_labels.append(label_ids)"
      ],
      "execution_count": 0,
      "outputs": []
    },
    {
      "cell_type": "code",
      "metadata": {
        "id": "wabNWC57Zsd_",
        "colab_type": "code",
        "colab": {}
      },
      "source": [
        "# model testing\n",
        "from sklearn.metrics import roc_curve, auc, precision_recall_curve, average_precision_score, confusion_matrix \n",
        "from sklearn.metrics import classification_report, accuracy_score, f1_score, roc_auc_score, brier_score_loss, recall_score, precision_score\n",
        "# from sklearn.utils.fixes import signature\n",
        "from inspect import signature\n",
        "# plotting\n",
        "import matplotlib.pyplot as plt\n",
        "import seaborn as sns\n",
        "sns.set_style(\"whitegrid\")\n",
        "%matplotlib inline\n",
        "# ignore warnings\n",
        "import warnings\n",
        "warnings.filterwarnings(\"ignore\")"
      ],
      "execution_count": 0,
      "outputs": []
    },
    {
      "cell_type": "code",
      "metadata": {
        "id": "CMlz1z_akrLP",
        "colab_type": "code",
        "colab": {}
      },
      "source": [
        "def find_cutoff(ground_truth, predictions, metric):\n",
        "    best_score = 0\n",
        "    best_cutoff = 0\n",
        "    for i in np.linspace(0, 1, 101):\n",
        "        y_pred = (predictions>=i).astype(int)\n",
        "        score = metric(y_true = ground_truth, y_pred = y_pred)\n",
        "        if score >= best_score:\n",
        "            best_cutoff = i\n",
        "            best_score = score\n",
        "    return best_cutoff"
      ],
      "execution_count": 0,
      "outputs": []
    },
    {
      "cell_type": "code",
      "metadata": {
        "id": "iIJyNPenkudI",
        "colab_type": "code",
        "colab": {}
      },
      "source": [
        "preds = np.concatenate([i[:,1] for i in probabilities]).ravel()\n",
        "y_true = np.concatenate([i.flatten() for i in true_labels]).ravel()\n",
        "\n",
        "best_cutoff = find_cutoff(ground_truth=y_true, predictions= preds, metric = f1_score)\n",
        "y_pred = (preds>=best_cutoff).astype(int)"
      ],
      "execution_count": 0,
      "outputs": []
    },
    {
      "cell_type": "code",
      "metadata": {
        "id": "QCpiRSyFZ0uu",
        "colab_type": "code",
        "colab": {}
      },
      "source": [
        "def ml_report(model, y_true, predictions, cutoff = 0.5, top_feats = 10):\n",
        "    y_pred = (preds>=cutoff).astype(int)\n",
        "    print(\"Classification report:\\n%s\\n\"\n",
        "          % classification_report(y_true, y_pred, digits = 3))\n",
        "    \n",
        "    fig, ax = plt.subplots(1, 3, figsize=(20, 4))\n",
        "    \n",
        "    # print model performance\n",
        "    print(\"F1 Score: %.3f\" %f1_score(y_true, y_pred))\n",
        "    print(\"Recall: %.3f\" %recall_score(y_true, y_pred))\n",
        "    print(\"Precision: %.3f\" %precision_score(y_true, y_pred))\n",
        "    print(\"Accuracy: %.3f\" %accuracy_score(y_true, y_pred))\n",
        "    print(\"Brier Score: %.4f\" %brier_score_loss(y_true, y_pred))\n",
        "    \n",
        "    # confusion matrix\n",
        "    plt.subplot(1, 4, 1)\n",
        "    df_cm = pd.DataFrame(\n",
        "        confusion_matrix(y_test, y_pred), \n",
        "        index=[0, 1], \n",
        "        columns=[0, 1], \n",
        "    )\n",
        "    try:\n",
        "        heatmap = sns.heatmap(df_cm, annot=True, fmt=\"d\")\n",
        "    except ValueError:\n",
        "        raise ValueError(\"Confusion matrix values must be integers.\")\n",
        "    heatmap.yaxis.set_ticklabels(heatmap.yaxis.get_ticklabels(), rotation=0, ha='right', fontsize=14)\n",
        "    heatmap.xaxis.set_ticklabels(heatmap.xaxis.get_ticklabels(), rotation=45, ha='right', fontsize=14)\n",
        "    plt.ylabel('True label')\n",
        "    plt.xlabel('Predicted label')\n",
        "\n",
        "    # roc curve\n",
        "    plt.subplot(1, 4, 2)\n",
        "    fpr, tpr, threshold = roc_curve(y_true, preds)\n",
        "    roc_auc = auc(fpr, tpr)\n",
        "    plt.title('Receiver Operating Characteristic')\n",
        "    plt.plot(fpr, tpr, '#e74c3c', label = 'AUC = %0.4f' % roc_auc)\n",
        "    plt.legend(loc = 'lower right')\n",
        "    plt.plot([0, 1], [0, 1],'r--', color = '#34495e')\n",
        "    plt.xlim([0, 1])\n",
        "    plt.ylim([0, 1])\n",
        "    plt.ylabel('True Positive Rate')\n",
        "    plt.xlabel('False Positive Rate')\n",
        "    \n",
        "    # p-r curve\n",
        "    plt.subplot(1, 4, 3)\n",
        "    average_precision = average_precision_score(y_true, preds)\n",
        "    precision, recall, _ = precision_recall_curve(y_true, preds)\n",
        "\n",
        "    # In matplotlib < 1.5, plt.fill_between does not have a 'step' argument\n",
        "    step_kwargs = ({'step': 'post'}\n",
        "                   if 'step' in signature(plt.fill_between).parameters\n",
        "                   else {})\n",
        "    plt.step(recall, precision, color='#e74c3c', alpha=0.2,\n",
        "             where='post')\n",
        "    plt.fill_between(recall, precision, alpha=0.2, color='#e74c3c', **step_kwargs)\n",
        "\n",
        "    plt.xlabel('Recall')\n",
        "    plt.ylabel('Precision')\n",
        "    plt.ylim([0.0, 1.05])\n",
        "    plt.xlim([0.0, 1.0])\n",
        "    plt.title('Precision-Recall curve: AP={0:0.4f}'.format(\n",
        "              average_precision))\n",
        "    plt.show()"
      ],
      "execution_count": 0,
      "outputs": []
    },
    {
      "cell_type": "code",
      "metadata": {
        "id": "ddFnNqNPZ0zH",
        "colab_type": "code",
        "outputId": "c61bd734-e1ac-489b-e439-261575fa2afe",
        "colab": {
          "base_uri": "https://localhost:8080/",
          "height": 574
        }
      },
      "source": [
        "ml_report(model = model, y_true=y_test.values, predictions=preds, cutoff = best_cutoff)"
      ],
      "execution_count": 0,
      "outputs": [
        {
          "output_type": "stream",
          "text": [
            "Classification report:\n",
            "              precision    recall  f1-score   support\n",
            "\n",
            "           0      0.980     0.965     0.972      3077\n",
            "           1      0.730     0.827     0.776       353\n",
            "\n",
            "    accuracy                          0.951      3430\n",
            "   macro avg      0.855     0.896     0.874      3430\n",
            "weighted avg      0.954     0.951     0.952      3430\n",
            "\n",
            "\n",
            "F1 Score: 0.776\n",
            "Recall: 0.827\n",
            "Precision: 0.730\n",
            "Accuracy: 0.951\n",
            "Brier Score: 0.0493\n"
          ],
          "name": "stdout"
        },
        {
          "output_type": "display_data",
          "data": {
            "image/png": "[encoded data removed]",
            "text/plain": [
              "<Figure size 1440x288 with 4 Axes>"
            ]
          },
          "metadata": {
            "tags": []
          }
        }
      ]
    },
    {
      "cell_type": "code",
      "metadata": {
        "id": "5T0dQHeDZzPL",
        "colab_type": "code",
        "colab": {}
      },
      "source": [
        ""
      ],
      "execution_count": 0,
      "outputs": []
    }
  ]
}