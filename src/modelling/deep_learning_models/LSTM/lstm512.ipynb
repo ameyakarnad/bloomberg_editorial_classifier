{
 "cells": [
  {
   "cell_type": "code",
   "execution_count": 0,
   "metadata": {
    "colab": {
     "base_uri": "https://localhost:8080/",
     "height": 139
    },
    "colab_type": "code",
    "id": "NP3kwQq8zkIa",
    "outputId": "34f272c0-3b99-46d0-8ea8-7423e4ebd0f0"
   },
   "outputs": [
    {
     "name": "stdout",
     "output_type": "stream",
     "text": [
      "TensorFlow 2.x selected.\n",
      "Go to this URL in a browser: https://accounts.google.com/o/oauth2/auth?client_id=947318989803-6bn6qk8qdgf4n4g3pfee6491hc0brc4i.apps.googleusercontent.com&redirect_uri=urn%3aietf%3awg%3aoauth%3a2.0%3aoob&response_type=code&scope=email%20https%3a%2f%2fwww.googleapis.com%2fauth%2fdocs.test%20https%3a%2f%2fwww.googleapis.com%2fauth%2fdrive%20https%3a%2f%2fwww.googleapis.com%2fauth%2fdrive.photos.readonly%20https%3a%2f%2fwww.googleapis.com%2fauth%2fpeopleapi.readonly\n",
      "\n",
      "Enter your authorization code:\n",
      "··········\n",
      "Mounted at /content/drive\n"
     ]
    }
   ],
   "source": [
    "import pandas as pd\n",
    "import numpy as np\n",
    "import csv\n",
    "\n",
    "%tensorflow_version 2.x\n",
    "import tensorflow as tf\n",
    "tf.__version__\n",
    "assert tf.__version__ >= \"2.0\"\n",
    "\n",
    "from google.colab import drive\n",
    "drive.mount('/content/drive')"
   ]
  },
  {
   "cell_type": "code",
   "execution_count": 0,
   "metadata": {
    "colab": {},
    "colab_type": "code",
    "id": "VTJva58j2IuX"
   },
   "outputs": [],
   "source": [
    "x_train = pd.read_csv('/content/drive/My Drive/bilstm_data/x_train.csv')\n",
    "x_test = pd.read_csv('/content/drive/My Drive/bilstm_data/x_test.csv')\n",
    "x_val = pd.read_csv('/content/drive/My Drive/bilstm_data/x_val.csv')\n",
    "\n",
    "\n",
    "y_train = pd.read_csv('/content/drive/My Drive/bilstm_data/y_train.csv')\n",
    "y_test = pd.read_csv('/content/drive/My Drive/bilstm_data/y_test.csv')\n",
    "y_val = pd.read_csv('/content/drive/My Drive/bilstm_data/y_val.csv')\n"
   ]
  },
  {
   "cell_type": "code",
   "execution_count": 0,
   "metadata": {
    "colab": {},
    "colab_type": "code",
    "id": "WHI6wapl3MZt"
   },
   "outputs": [],
   "source": [
    "texts = x_train['article_text'].values\n",
    "texts_test = x_test['article_text'].values"
   ]
  },
  {
   "cell_type": "code",
   "execution_count": 0,
   "metadata": {
    "colab": {},
    "colab_type": "code",
    "id": "nu3Ffwxm37xJ"
   },
   "outputs": [],
   "source": [
    "texts_val = x_val['article_text'].values\n",
    "labels_val = y_val['label'].values"
   ]
  },
  {
   "cell_type": "code",
   "execution_count": 0,
   "metadata": {
    "colab": {},
    "colab_type": "code",
    "id": "oxW-NQs87j_z"
   },
   "outputs": [],
   "source": [
    "labels_test = y_test['label'].values\n",
    "labels = y_train['label'].values"
   ]
  },
  {
   "cell_type": "code",
   "execution_count": 0,
   "metadata": {
    "colab": {
     "base_uri": "https://localhost:8080/",
     "height": 34
    },
    "colab_type": "code",
    "id": "MRmzS-eY93rE",
    "outputId": "b6187126-d2d5-4cec-c726-25b4dd7c565c"
   },
   "outputs": [
    {
     "name": "stdout",
     "output_type": "stream",
     "text": [
      "(5746,) (3429,) (3429,)\n"
     ]
    }
   ],
   "source": [
    "print(labels.shape, labels_test.shape, labels_test.shape)"
   ]
  },
  {
   "cell_type": "code",
   "execution_count": 0,
   "metadata": {
    "colab": {
     "base_uri": "https://localhost:8080/",
     "height": 34
    },
    "colab_type": "code",
    "id": "KoA8QpdF7j8a",
    "outputId": "1cae969c-e72f-44ec-8e32-25d718886dca"
   },
   "outputs": [
    {
     "data": {
      "text/plain": [
       "3076"
      ]
     },
     "execution_count": 7,
     "metadata": {
      "tags": []
     },
     "output_type": "execute_result"
    }
   ],
   "source": [
    "len(y_test.loc[y_test['label']==0])"
   ]
  },
  {
   "cell_type": "code",
   "execution_count": 0,
   "metadata": {
    "colab": {
     "base_uri": "https://localhost:8080/",
     "height": 34
    },
    "colab_type": "code",
    "id": "cDWY2Gns7rpm",
    "outputId": "bd2dc425-91ff-4a7a-91eb-68ed07f78850"
   },
   "outputs": [
    {
     "data": {
      "text/plain": [
       "353"
      ]
     },
     "execution_count": 8,
     "metadata": {
      "tags": []
     },
     "output_type": "execute_result"
    }
   ],
   "source": [
    "len(y_test.loc[y_test['label']==1])"
   ]
  },
  {
   "cell_type": "code",
   "execution_count": 0,
   "metadata": {
    "colab": {},
    "colab_type": "code",
    "id": "5yf8klrD7uXO"
   },
   "outputs": [],
   "source": [
    "MAX_NUM_WORDS = 3000 # how many unique words to use (i.e num rows in embedding vector)\n",
    "MAX_SEQUENCE_LENGTH = 512 # max number of words in a review to use\n",
    "# done for word length 64, 128, 256 and 512"
   ]
  },
  {
   "cell_type": "code",
   "execution_count": 0,
   "metadata": {
    "colab": {
     "base_uri": "https://localhost:8080/",
     "height": 34
    },
    "colab_type": "code",
    "id": "mypJfroL70Fj",
    "outputId": "7f7556c9-dc60-4711-b1c4-a282bfbedbfa"
   },
   "outputs": [
    {
     "name": "stdout",
     "output_type": "stream",
     "text": [
      "Found 85423 unique tokens.\n"
     ]
    }
   ],
   "source": [
    "from tensorflow.keras.preprocessing.text import Tokenizer\n",
    "\n",
    "tokenizer_train = Tokenizer(num_words=MAX_NUM_WORDS) #convert word(string to int)\n",
    "tokenizer_train.fit_on_texts(texts) \n",
    "sequences = tokenizer_train.texts_to_sequences(texts) \n",
    "\n",
    "word_index = tokenizer_train.word_index #convert this to dict\n",
    "print('Found %s unique tokens.' % len(word_index))\n"
   ]
  },
  {
   "cell_type": "code",
   "execution_count": 0,
   "metadata": {
    "colab": {},
    "colab_type": "code",
    "id": "b7AXCaBa77mO"
   },
   "outputs": [],
   "source": [
    "sequences3 = tokenizer_train.texts_to_sequences(texts_val) \n",
    "sequences_test = tokenizer_train.texts_to_sequences(texts_test)"
   ]
  },
  {
   "cell_type": "code",
   "execution_count": 0,
   "metadata": {
    "colab": {
     "base_uri": "https://localhost:8080/",
     "height": 51
    },
    "colab_type": "code",
    "id": "YJw3dLXv8GFf",
    "outputId": "81082664-ff85-4112-93da-87cb6894b193"
   },
   "outputs": [
    {
     "name": "stdout",
     "output_type": "stream",
     "text": [
      "Shape of data tensor: (5746, 512)\n",
      "Shape of label tensor: (5746, 2)\n"
     ]
    }
   ],
   "source": [
    "from tensorflow.keras.preprocessing.sequence import pad_sequences\n",
    "from tensorflow.keras.utils import to_categorical\n",
    "\n",
    "data = pad_sequences(sequences, maxlen=MAX_SEQUENCE_LENGTH, padding='pre')\n",
    "labels = to_categorical(np.asarray(labels))\n",
    "print('Shape of data tensor:', data.shape)\n",
    "print('Shape of label tensor:', labels.shape)"
   ]
  },
  {
   "cell_type": "code",
   "execution_count": 0,
   "metadata": {
    "colab": {
     "base_uri": "https://localhost:8080/",
     "height": 85
    },
    "colab_type": "code",
    "id": "qayTi_pg8dpd",
    "outputId": "f5c17c02-62c4-43a8-f038-32452e4c3e11"
   },
   "outputs": [
    {
     "name": "stdout",
     "output_type": "stream",
     "text": [
      "Shape of data tensor: (3429, 512)\n",
      "Shape of label tensor: (3429, 2)\n",
      "Shape of data tensor: (639, 512)\n",
      "Shape of label tensor: (639, 2)\n"
     ]
    }
   ],
   "source": [
    "data2 = pad_sequences(sequences_test, maxlen=MAX_SEQUENCE_LENGTH, padding='pre')\n",
    "labels2 = to_categorical(np.asarray(labels_test))\n",
    "print('Shape of data tensor:', data2.shape)\n",
    "print('Shape of label tensor:', labels2.shape)\n",
    "\n",
    "data3 = pad_sequences(sequences3, maxlen=MAX_SEQUENCE_LENGTH, padding='pre')\n",
    "labels3 = to_categorical(np.asarray(labels_val))\n",
    "print('Shape of data tensor:', data3.shape)\n",
    "print('Shape of label tensor:', labels3.shape)\n"
   ]
  },
  {
   "cell_type": "code",
   "execution_count": 0,
   "metadata": {
    "colab": {},
    "colab_type": "code",
    "id": "lYxt4ph48joU"
   },
   "outputs": [],
   "source": [
    "x_train = data\n",
    "y_train = labels\n",
    "\n",
    "x_val = data3\n",
    "y_val = labels3\n",
    "\n",
    "x_test = data2\n",
    "y_test = labels2"
   ]
  },
  {
   "cell_type": "code",
   "execution_count": 0,
   "metadata": {
    "colab": {
     "base_uri": "https://localhost:8080/",
     "height": 34
    },
    "colab_type": "code",
    "id": "-NlMg25i-XM3",
    "outputId": "b0775853-3539-434f-d2b2-ceca82ee082f"
   },
   "outputs": [
    {
     "name": "stdout",
     "output_type": "stream",
     "text": [
      "(5746, 2) (639, 2) (3429, 2)\n"
     ]
    }
   ],
   "source": [
    "print(y_train.shape, y_val.shape, y_test.shape)"
   ]
  },
  {
   "cell_type": "code",
   "execution_count": 0,
   "metadata": {
    "colab": {
     "base_uri": "https://localhost:8080/",
     "height": 34
    },
    "colab_type": "code",
    "id": "MCj9Orni8GIm",
    "outputId": "72d72ee1-c40b-41e6-885f-89becacc6975"
   },
   "outputs": [
    {
     "name": "stdout",
     "output_type": "stream",
     "text": [
      "Found 1917494 word vectors.\n"
     ]
    }
   ],
   "source": [
    "GLOVE_DIR='drive/My Drive/yelp_review_polarity_csv/'\n",
    "\n",
    "import os\n",
    "embeddings_index = {}\n",
    "f = open(os.path.join(GLOVE_DIR, 'glove.42B.300d.txt'))\n",
    "for line in f:\n",
    "    values = line.split()\n",
    "    word = values[0]\n",
    "    coefs = np.asarray(values[1:], dtype='float32')\n",
    "    embeddings_index[word] = coefs\n",
    "f.close()\n",
    "\n",
    "print('Found %s word vectors.' % len(embeddings_index))\n"
   ]
  },
  {
   "cell_type": "code",
   "execution_count": 0,
   "metadata": {
    "colab": {},
    "colab_type": "code",
    "id": "I3BgH8Lq8u3b"
   },
   "outputs": [],
   "source": [
    "EMBEDDING_DIM = 300 # how big is each word vector\n",
    "\n",
    "embedding_matrix = np.zeros((len(word_index) + 1, EMBEDDING_DIM))\n",
    "for word, i in word_index.items():\n",
    "    embedding_vector = embeddings_index.get(word)\n",
    "    if embedding_vector is not None:\n",
    "        # words not found in embedding index will be all-zeros.\n",
    "        embedding_matrix[i] = embedding_vector"
   ]
  },
  {
   "cell_type": "code",
   "execution_count": 0,
   "metadata": {
    "colab": {},
    "colab_type": "code",
    "id": "QK-to-cx84gn"
   },
   "outputs": [],
   "source": [
    "from tensorflow.keras.layers import Embedding\n",
    "\n",
    "embedding_layer = Embedding(len(word_index) + 1,\n",
    "                            EMBEDDING_DIM,\n",
    "                            weights=[embedding_matrix],\n",
    "                            input_length=MAX_SEQUENCE_LENGTH,\n",
    "                            trainable=False)"
   ]
  },
  {
   "cell_type": "code",
   "execution_count": 0,
   "metadata": {
    "colab": {},
    "colab_type": "code",
    "id": "LgLfbTHY86Ds"
   },
   "outputs": [],
   "source": [
    "from tensorflow.keras.layers import Bidirectional, GlobalMaxPool1D, Conv1D\n",
    "from tensorflow.keras.layers import Dense, Input, LSTM, Embedding, Dropout, Activation, TimeDistributed, Flatten\n",
    "from tensorflow.keras.models import Model, Sequential\n",
    "from tensorflow.keras.callbacks import EarlyStopping, ModelCheckpoint\n",
    "\n",
    "es = EarlyStopping(monitor='val_loss', mode='min', verbose=1, patience=6)\n",
    "mc = ModelCheckpoint('lstm256.h5', monitor='val_accuracy', mode='max', verbose=1, save_best_only=True)\n",
    "\n",
    "inp = Input(shape=(MAX_SEQUENCE_LENGTH,))\n",
    "x = embedded_sequences = embedding_layer(inp)\n",
    "\n",
    "x = (LSTM(64, return_sequences=True, dropout=0.2, recurrent_dropout=0.1))(x)\n",
    "x = GlobalMaxPool1D()(x)\n",
    "x = Dense(64, activation=\"relu\")(x)\n",
    "x = Dropout(0.5)(x)\n",
    "x = Dense(2, activation=\"softmax\")(x)\n",
    "model = Model(inputs=inp, outputs=x)\n"
   ]
  },
  {
   "cell_type": "code",
   "execution_count": 0,
   "metadata": {
    "colab": {
     "base_uri": "https://localhost:8080/",
     "height": 391
    },
    "colab_type": "code",
    "id": "yI0je1R29DI1",
    "outputId": "828142ad-aaee-4db8-d529-fc1cbdf505f6"
   },
   "outputs": [
    {
     "name": "stdout",
     "output_type": "stream",
     "text": [
      "Model: \"model\"\n",
      "_________________________________________________________________\n",
      "Layer (type)                 Output Shape              Param #   \n",
      "=================================================================\n",
      "input_1 (InputLayer)         [(None, 512)]             0         \n",
      "_________________________________________________________________\n",
      "embedding (Embedding)        (None, 512, 300)          25627200  \n",
      "_________________________________________________________________\n",
      "lstm (LSTM)                  (None, 512, 64)           93440     \n",
      "_________________________________________________________________\n",
      "global_max_pooling1d (Global (None, 64)                0         \n",
      "_________________________________________________________________\n",
      "dense (Dense)                (None, 64)                4160      \n",
      "_________________________________________________________________\n",
      "dropout (Dropout)            (None, 64)                0         \n",
      "_________________________________________________________________\n",
      "dense_1 (Dense)              (None, 2)                 130       \n",
      "=================================================================\n",
      "Total params: 25,724,930\n",
      "Trainable params: 97,730\n",
      "Non-trainable params: 25,627,200\n",
      "_________________________________________________________________\n"
     ]
    }
   ],
   "source": [
    "model.compile('adam', 'categorical_crossentropy', metrics=['accuracy'])\n",
    "model.summary()"
   ]
  },
  {
   "cell_type": "code",
   "execution_count": 0,
   "metadata": {
    "colab": {
     "base_uri": "https://localhost:8080/",
     "height": 734
    },
    "colab_type": "code",
    "id": "7RpFUJsZ9I0R",
    "outputId": "6c5117b9-8b6c-47fb-b637-8e3ebd5794f9"
   },
   "outputs": [
    {
     "name": "stdout",
     "output_type": "stream",
     "text": [
      "Train on 5746 samples, validate on 639 samples\n",
      "Epoch 1/10\n",
      "5728/5746 [============================>.] - ETA: 0s - loss: 0.5028 - accuracy: 0.7495\n",
      "Epoch 00001: val_accuracy improved from -inf to 0.87950, saving model to lstm256.h5\n",
      "5746/5746 [==============================] - 126s 22ms/sample - loss: 0.5022 - accuracy: 0.7499 - val_loss: 0.3211 - val_accuracy: 0.8795\n",
      "Epoch 2/10\n",
      "5728/5746 [============================>.] - ETA: 0s - loss: 0.3456 - accuracy: 0.8609\n",
      "Epoch 00002: val_accuracy did not improve from 0.87950\n",
      "5746/5746 [==============================] - 120s 21ms/sample - loss: 0.3452 - accuracy: 0.8611 - val_loss: 0.3446 - val_accuracy: 0.8388\n",
      "Epoch 3/10\n",
      "5728/5746 [============================>.] - ETA: 0s - loss: 0.2862 - accuracy: 0.8856\n",
      "Epoch 00003: val_accuracy improved from 0.87950 to 0.90141, saving model to lstm256.h5\n",
      "5746/5746 [==============================] - 123s 21ms/sample - loss: 0.2858 - accuracy: 0.8858 - val_loss: 0.2447 - val_accuracy: 0.9014\n",
      "Epoch 4/10\n",
      "5728/5746 [============================>.] - ETA: 0s - loss: 0.2501 - accuracy: 0.9049\n",
      "Epoch 00004: val_accuracy improved from 0.90141 to 0.90454, saving model to lstm256.h5\n",
      "5746/5746 [==============================] - 121s 21ms/sample - loss: 0.2500 - accuracy: 0.9050 - val_loss: 0.2341 - val_accuracy: 0.9045\n",
      "Epoch 5/10\n",
      "5728/5746 [============================>.] - ETA: 0s - loss: 0.2177 - accuracy: 0.9197\n",
      "Epoch 00005: val_accuracy improved from 0.90454 to 0.91236, saving model to lstm256.h5\n",
      "5746/5746 [==============================] - 122s 21ms/sample - loss: 0.2174 - accuracy: 0.9198 - val_loss: 0.2209 - val_accuracy: 0.9124\n",
      "Epoch 6/10\n",
      "5728/5746 [============================>.] - ETA: 0s - loss: 0.1928 - accuracy: 0.9270\n",
      "Epoch 00006: val_accuracy did not improve from 0.91236\n",
      "5746/5746 [==============================] - 122s 21ms/sample - loss: 0.1924 - accuracy: 0.9273 - val_loss: 0.2264 - val_accuracy: 0.9077\n",
      "Epoch 7/10\n",
      "5728/5746 [============================>.] - ETA: 0s - loss: 0.1703 - accuracy: 0.9361\n",
      "Epoch 00007: val_accuracy did not improve from 0.91236\n",
      "5746/5746 [==============================] - 123s 21ms/sample - loss: 0.1702 - accuracy: 0.9361 - val_loss: 0.2262 - val_accuracy: 0.9030\n",
      "Epoch 8/10\n",
      "5728/5746 [============================>.] - ETA: 0s - loss: 0.1450 - accuracy: 0.9520\n",
      "Epoch 00008: val_accuracy did not improve from 0.91236\n",
      "5746/5746 [==============================] - 123s 21ms/sample - loss: 0.1450 - accuracy: 0.9520 - val_loss: 0.2914 - val_accuracy: 0.8889\n",
      "Epoch 9/10\n",
      "5728/5746 [============================>.] - ETA: 0s - loss: 0.1286 - accuracy: 0.9530\n",
      "Epoch 00009: val_accuracy did not improve from 0.91236\n",
      "5746/5746 [==============================] - 121s 21ms/sample - loss: 0.1284 - accuracy: 0.9530 - val_loss: 0.2377 - val_accuracy: 0.9045\n",
      "Epoch 10/10\n",
      "5728/5746 [============================>.] - ETA: 0s - loss: 0.1167 - accuracy: 0.9591\n",
      "Epoch 00010: val_accuracy did not improve from 0.91236\n",
      "5746/5746 [==============================] - 123s 21ms/sample - loss: 0.1164 - accuracy: 0.9593 - val_loss: 0.2497 - val_accuracy: 0.8998\n"
     ]
    }
   ],
   "source": [
    "history = model.fit(x_train, y_train, validation_data=[x_val, y_val], epochs=10, callbacks=[es, mc])"
   ]
  },
  {
   "cell_type": "code",
   "execution_count": 0,
   "metadata": {
    "colab": {
     "base_uri": "https://localhost:8080/",
     "height": 573
    },
    "colab_type": "code",
    "id": "lml5wMcL9aTW",
    "outputId": "56515b7a-f240-4c6c-d2a6-70f598c16767"
   },
   "outputs": [
    {
     "data": {
      "image/png": "[encoded data removed]",
      "text/plain": [
       "<Figure size 432x288 with 1 Axes>"
      ]
     },
     "metadata": {
      "tags": []
     },
     "output_type": "display_data"
    },
    {
     "data": {
      "image/png": "[encoded data removed]",
      "text/plain": [
       "<Figure size 432x288 with 1 Axes>"
      ]
     },
     "metadata": {
      "tags": []
     },
     "output_type": "display_data"
    }
   ],
   "source": [
    "import matplotlib.pyplot as plt\n",
    "\n",
    "def plot(history):\n",
    "  \n",
    "  acc = history.history['accuracy']\n",
    "  val_acc = history.history['val_accuracy']\n",
    "  loss = history.history['loss']\n",
    "  val_loss = history.history['val_loss']\n",
    "\n",
    "  epochs = range(len(acc))\n",
    "\n",
    "  plt.title('Training and validation accuracy')\n",
    "  plt.plot(epochs, acc, color='blue', label='Train')\n",
    "  plt.plot(epochs, val_acc, color='orange', label='Val')\n",
    "  plt.xlabel('Epoch')\n",
    "  plt.ylabel('Accuracy')\n",
    "  plt.legend()\n",
    "\n",
    "  _ = plt.figure()\n",
    "  plt.title('Training and validation loss')\n",
    "  plt.plot(epochs, loss, color='blue', label='Train')\n",
    "  plt.plot(epochs, val_loss, color='orange', label='Val')\n",
    "  plt.xlabel('Epoch')\n",
    "  plt.ylabel('Loss')\n",
    "  plt.legend()\n",
    "  \n",
    "plot(history)"
   ]
  },
  {
   "cell_type": "code",
   "execution_count": 0,
   "metadata": {
    "colab": {
     "base_uri": "https://localhost:8080/",
     "height": 102
    },
    "colab_type": "code",
    "id": "bKnzZ3Eo-87Z",
    "outputId": "fc149d8e-844e-43d6-8531-b0fa1dc0e065"
   },
   "outputs": [
    {
     "data": {
      "text/plain": [
       "array([[1., 0.],\n",
       "       [1., 0.],\n",
       "       [1., 0.],\n",
       "       [0., 1.],\n",
       "       [1., 0.]], dtype=float32)"
      ]
     },
     "execution_count": 23,
     "metadata": {
      "tags": []
     },
     "output_type": "execute_result"
    }
   ],
   "source": [
    "y_test_new = np.argmax(y_test, axis=1)\n",
    "y_test[0:5]"
   ]
  },
  {
   "cell_type": "code",
   "execution_count": 0,
   "metadata": {
    "colab": {
     "base_uri": "https://localhost:8080/",
     "height": 34
    },
    "colab_type": "code",
    "id": "SBzHHT7N_FhV",
    "outputId": "43f73a54-aa52-4081-f762-c693e0cb22f8"
   },
   "outputs": [
    {
     "data": {
      "text/plain": [
       "array([0, 0, 0, 1, 0])"
      ]
     },
     "execution_count": 24,
     "metadata": {
      "tags": []
     },
     "output_type": "execute_result"
    }
   ],
   "source": [
    "y_test_new[0:5]"
   ]
  },
  {
   "cell_type": "code",
   "execution_count": 0,
   "metadata": {
    "colab": {},
    "colab_type": "code",
    "id": "iZlCj72fErbN"
   },
   "outputs": [],
   "source": [
    "from tensorflow.keras.models import load_model\n",
    "\n",
    "saved_model = load_model('/content/lstm256.h5')"
   ]
  },
  {
   "cell_type": "code",
   "execution_count": 0,
   "metadata": {
    "colab": {
     "base_uri": "https://localhost:8080/",
     "height": 102
    },
    "colab_type": "code",
    "id": "cHVIpKZp_I-F",
    "outputId": "790b4cad-1d3a-4fca-8175-93d9e3ffe1b0"
   },
   "outputs": [
    {
     "data": {
      "text/plain": [
       "array([[0.9866485 , 0.01335149],\n",
       "       [0.9920008 , 0.00799913],\n",
       "       [0.9800189 , 0.01998107],\n",
       "       [0.03232907, 0.967671  ],\n",
       "       [0.98491883, 0.0150812 ]], dtype=float32)"
      ]
     },
     "execution_count": 26,
     "metadata": {
      "tags": []
     },
     "output_type": "execute_result"
    }
   ],
   "source": [
    "prediction = saved_model.predict(x_test)\n",
    "prediction[0:5]"
   ]
  },
  {
   "cell_type": "code",
   "execution_count": 0,
   "metadata": {
    "colab": {},
    "colab_type": "code",
    "id": "fMV56lno_M8n"
   },
   "outputs": [],
   "source": [
    "y_pred=np.argmax(prediction, axis=1)"
   ]
  },
  {
   "cell_type": "code",
   "execution_count": 0,
   "metadata": {
    "colab": {
     "base_uri": "https://localhost:8080/",
     "height": 34
    },
    "colab_type": "code",
    "id": "aV7UTiWV_UVQ",
    "outputId": "80d6e05d-03be-4c32-d1b2-366e0727636c"
   },
   "outputs": [
    {
     "data": {
      "text/plain": [
       "661"
      ]
     },
     "execution_count": 28,
     "metadata": {
      "tags": []
     },
     "output_type": "execute_result"
    }
   ],
   "source": [
    "sum(y_pred)"
   ]
  },
  {
   "cell_type": "code",
   "execution_count": 0,
   "metadata": {
    "colab": {
     "base_uri": "https://localhost:8080/",
     "height": 34
    },
    "colab_type": "code",
    "id": "iLW-BOXe_VRO",
    "outputId": "f700a51c-3e4a-4a06-e3fa-a7534d744eee"
   },
   "outputs": [
    {
     "data": {
      "text/plain": [
       "353"
      ]
     },
     "execution_count": 29,
     "metadata": {
      "tags": []
     },
     "output_type": "execute_result"
    }
   ],
   "source": [
    "sum(y_test_new)"
   ]
  },
  {
   "cell_type": "code",
   "execution_count": 0,
   "metadata": {
    "colab": {
     "base_uri": "https://localhost:8080/",
     "height": 68
    },
    "colab_type": "code",
    "id": "-PTadiGk_VOO",
    "outputId": "926787ad-cca2-47a5-f44d-974847b63b6e"
   },
   "outputs": [
    {
     "name": "stdout",
     "output_type": "stream",
     "text": [
      "Confusion Matrix : \n",
      " [[2746  330]\n",
      " [  22  331]]\n"
     ]
    }
   ],
   "source": [
    "from sklearn.metrics import confusion_matrix\n",
    "cm1 = confusion_matrix(y_test_new,y_pred)\n",
    "print('Confusion Matrix : \\n', cm1)"
   ]
  },
  {
   "cell_type": "code",
   "execution_count": 0,
   "metadata": {
    "colab": {
     "base_uri": "https://localhost:8080/",
     "height": 51
    },
    "colab_type": "code",
    "id": "5yddwwcW_e5N",
    "outputId": "403f3f0d-77dc-433d-b43d-1671d2c9897f"
   },
   "outputs": [
    {
     "name": "stdout",
     "output_type": "stream",
     "text": [
      "(0.7464042263867148, 0.915197434584483, 0.7963136216176809, None)\n",
      "(0.9414753697254472, 0.8973461650627005, 0.9102314749513406, None)\n"
     ]
    }
   ],
   "source": [
    "from sklearn.metrics import precision_recall_fscore_support\n",
    "print(precision_recall_fscore_support(y_test_new, y_pred, average='macro'))\n",
    "print(precision_recall_fscore_support(y_test_new, y_pred, average='weighted'))"
   ]
  },
  {
   "cell_type": "code",
   "execution_count": 0,
   "metadata": {
    "colab": {
     "base_uri": "https://localhost:8080/",
     "height": 34
    },
    "colab_type": "code",
    "id": "DProZgQg_qC-",
    "outputId": "d814465c-55e5-4ea1-8a8d-b04695f41ae6"
   },
   "outputs": [
    {
     "name": "stdout",
     "output_type": "stream",
     "text": [
      "0.5007564296520424 0.9376770538243626 0.8927178153446034 0.8973461650627005 0.915197434584483 0.6528599605522682\n"
     ]
    }
   ],
   "source": [
    "from sklearn.metrics import confusion_matrix\n",
    "tn, fp, fn, tp = confusion_matrix(y_test_new, y_pred).ravel()\n",
    "pre = tp / (tp + fp)\n",
    "rec = tp / (tp + fn)\n",
    "tnr = tn / (tn + fp)\n",
    "acc = (tp + tn)/ (tp + tn + fp + fn)\n",
    "balanced_acc = (rec + tnr) / 2\n",
    "f1 = 2 * (pre * rec)/(pre+rec)\n",
    "\n",
    "print(pre, rec, tnr, acc, balanced_acc, f1)"
   ]
  },
  {
   "cell_type": "code",
   "execution_count": 0,
   "metadata": {
    "colab": {
     "base_uri": "https://localhost:8080/",
     "height": 34
    },
    "colab_type": "code",
    "id": "ypFj_Xg8FRWR",
    "outputId": "004be014-3505-4710-c8f9-7b97c3d0d4a7"
   },
   "outputs": [
    {
     "name": "stdout",
     "output_type": "stream",
     "text": [
      "331 2746 330 22\n"
     ]
    }
   ],
   "source": [
    "print(tp, tn, fp, fn)"
   ]
  },
  {
   "cell_type": "code",
   "execution_count": 0,
   "metadata": {
    "colab": {
     "base_uri": "https://localhost:8080/",
     "height": 51
    },
    "colab_type": "code",
    "id": "DG8niQJAF8iZ",
    "outputId": "8586d184-a23a-4120-b86f-7b42fb9bb750"
   },
   "outputs": [
    {
     "name": "stdout",
     "output_type": "stream",
     "text": [
      "901666 1409497.438289265\n",
      "0.6397074414653566\n"
     ]
    }
   ],
   "source": [
    "import math\n",
    "num = (tp*tn - fp*fn)\n",
    "den = math.sqrt((tp+fp)*(tp+fn)*(tn+fp)*(tn+fn))\n",
    "print(num, den)\n",
    "mcc = num/den\n",
    "print(mcc)"
   ]
  }
 ],
 "metadata": {
  "accelerator": "GPU",
  "colab": {
   "collapsed_sections": [],
   "name": "lstm512.ipynb",
   "provenance": []
  },
  "kernelspec": {
   "display_name": "Python 3",
   "language": "python",
   "name": "python3"
  },
  "language_info": {
   "codemirror_mode": {
    "name": "ipython",
    "version": 3
   },
   "file_extension": ".py",
   "mimetype": "text/x-python",
   "name": "python",
   "nbconvert_exporter": "python",
   "pygments_lexer": "ipython3",
   "version": "3.7.3"
  }
 },
 "nbformat": 4,
 "nbformat_minor": 1
}
