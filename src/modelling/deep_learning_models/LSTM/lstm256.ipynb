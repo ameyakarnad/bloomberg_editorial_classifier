{
  "nbformat": 4,
  "nbformat_minor": 0,
  "metadata": {
    "colab": {
      "name": "lstm256.ipynb",
      "provenance": [],
      "collapsed_sections": []
    },
    "kernelspec": {
      "name": "python3",
      "display_name": "Python 3"
    },
    "accelerator": "GPU"
  },
  "cells": [
    {
      "cell_type": "code",
      "metadata": {
        "id": "NP3kwQq8zkIa",
        "colab_type": "code",
        "outputId": "b5a84f44-ee0b-40a8-8053-97e40f6a5886",
        "colab": {
          "base_uri": "https://localhost:8080/",
          "height": 139
        }
      },
      "source": [
        "import pandas as pd\n",
        "import numpy as np\n",
        "import csv\n",
        "\n",
        "%tensorflow_version 2.x\n",
        "import tensorflow as tf\n",
        "tf.__version__\n",
        "assert tf.__version__ >= \"2.0\"\n",
        "\n",
        "from google.colab import drive\n",
        "drive.mount('/content/drive')"
      ],
      "execution_count": 0,
      "outputs": [
        {
          "output_type": "stream",
          "text": [
            "TensorFlow 2.x selected.\n",
            "Go to this URL in a browser: https://accounts.google.com/o/oauth2/auth?client_id=947318989803-6bn6qk8qdgf4n4g3pfee6491hc0brc4i.apps.googleusercontent.com&redirect_uri=urn%3aietf%3awg%3aoauth%3a2.0%3aoob&response_type=code&scope=email%20https%3a%2f%2fwww.googleapis.com%2fauth%2fdocs.test%20https%3a%2f%2fwww.googleapis.com%2fauth%2fdrive%20https%3a%2f%2fwww.googleapis.com%2fauth%2fdrive.photos.readonly%20https%3a%2f%2fwww.googleapis.com%2fauth%2fpeopleapi.readonly\n",
            "\n",
            "Enter your authorization code:\n",
            "··········\n",
            "Mounted at /content/drive\n"
          ],
          "name": "stdout"
        }
      ]
    },
    {
      "cell_type": "code",
      "metadata": {
        "id": "VTJva58j2IuX",
        "colab_type": "code",
        "colab": {}
      },
      "source": [
        "x_train = pd.read_csv('/content/drive/My Drive/bilstm_data/x_train.csv')\n",
        "x_test = pd.read_csv('/content/drive/My Drive/bilstm_data/x_test.csv')\n",
        "x_val = pd.read_csv('/content/drive/My Drive/bilstm_data/x_val.csv')\n",
        "\n",
        "\n",
        "y_train = pd.read_csv('/content/drive/My Drive/bilstm_data/y_train.csv')\n",
        "y_test = pd.read_csv('/content/drive/My Drive/bilstm_data/y_test.csv')\n",
        "y_val = pd.read_csv('/content/drive/My Drive/bilstm_data/y_val.csv')\n"
      ],
      "execution_count": 0,
      "outputs": []
    },
    {
      "cell_type": "code",
      "metadata": {
        "id": "WHI6wapl3MZt",
        "colab_type": "code",
        "colab": {}
      },
      "source": [
        "texts = x_train['article_text'].values\n",
        "texts_test = x_test['article_text'].values"
      ],
      "execution_count": 0,
      "outputs": []
    },
    {
      "cell_type": "code",
      "metadata": {
        "id": "nu3Ffwxm37xJ",
        "colab_type": "code",
        "colab": {}
      },
      "source": [
        "texts_val = x_val['article_text'].values\n",
        "labels_val = y_val['label'].values"
      ],
      "execution_count": 0,
      "outputs": []
    },
    {
      "cell_type": "code",
      "metadata": {
        "id": "oxW-NQs87j_z",
        "colab_type": "code",
        "colab": {}
      },
      "source": [
        "labels_test = y_test['label'].values\n",
        "labels = y_train['label'].values"
      ],
      "execution_count": 0,
      "outputs": []
    },
    {
      "cell_type": "code",
      "metadata": {
        "id": "MRmzS-eY93rE",
        "colab_type": "code",
        "outputId": "d7c29755-2d5c-4a54-c9c9-9035d8d1b997",
        "colab": {
          "base_uri": "https://localhost:8080/",
          "height": 34
        }
      },
      "source": [
        "print(labels.shape, labels_test.shape, labels_test.shape)"
      ],
      "execution_count": 0,
      "outputs": [
        {
          "output_type": "stream",
          "text": [
            "(5746,) (3429,) (3429,)\n"
          ],
          "name": "stdout"
        }
      ]
    },
    {
      "cell_type": "code",
      "metadata": {
        "id": "KoA8QpdF7j8a",
        "colab_type": "code",
        "outputId": "d3bb741c-4bc0-4754-f350-63f88c564912",
        "colab": {
          "base_uri": "https://localhost:8080/",
          "height": 34
        }
      },
      "source": [
        "len(y_test.loc[y_test['label']==0])"
      ],
      "execution_count": 0,
      "outputs": [
        {
          "output_type": "execute_result",
          "data": {
            "text/plain": [
              "3076"
            ]
          },
          "metadata": {
            "tags": []
          },
          "execution_count": 7
        }
      ]
    },
    {
      "cell_type": "code",
      "metadata": {
        "id": "cDWY2Gns7rpm",
        "colab_type": "code",
        "outputId": "4b069696-77b5-48e0-9edd-328019fcf06b",
        "colab": {
          "base_uri": "https://localhost:8080/",
          "height": 34
        }
      },
      "source": [
        "len(y_test.loc[y_test['label']==1])"
      ],
      "execution_count": 0,
      "outputs": [
        {
          "output_type": "execute_result",
          "data": {
            "text/plain": [
              "353"
            ]
          },
          "metadata": {
            "tags": []
          },
          "execution_count": 8
        }
      ]
    },
    {
      "cell_type": "code",
      "metadata": {
        "id": "5yf8klrD7uXO",
        "colab_type": "code",
        "colab": {}
      },
      "source": [
        "MAX_NUM_WORDS = 3000 # how many unique words to use (i.e num rows in embedding vector)\n",
        "MAX_SEQUENCE_LENGTH = 256 # max number of words in a review to use\n"
      ],
      "execution_count": 0,
      "outputs": []
    },
    {
      "cell_type": "code",
      "metadata": {
        "id": "mypJfroL70Fj",
        "colab_type": "code",
        "outputId": "9ebdc98a-73d7-4ba4-e3ac-688f790f5eaa",
        "colab": {
          "base_uri": "https://localhost:8080/",
          "height": 34
        }
      },
      "source": [
        "from tensorflow.keras.preprocessing.text import Tokenizer\n",
        "\n",
        "tokenizer_train = Tokenizer(num_words=MAX_NUM_WORDS) #convert word(string to int)\n",
        "tokenizer_train.fit_on_texts(texts) \n",
        "sequences = tokenizer_train.texts_to_sequences(texts) \n",
        "\n",
        "word_index = tokenizer_train.word_index #convert this to dict\n",
        "print('Found %s unique tokens.' % len(word_index))\n"
      ],
      "execution_count": 0,
      "outputs": [
        {
          "output_type": "stream",
          "text": [
            "Found 85423 unique tokens.\n"
          ],
          "name": "stdout"
        }
      ]
    },
    {
      "cell_type": "code",
      "metadata": {
        "id": "b7AXCaBa77mO",
        "colab_type": "code",
        "colab": {}
      },
      "source": [
        "sequences3 = tokenizer_train.texts_to_sequences(texts_val) \n",
        "sequences_test = tokenizer_train.texts_to_sequences(texts_test)"
      ],
      "execution_count": 0,
      "outputs": []
    },
    {
      "cell_type": "code",
      "metadata": {
        "id": "YJw3dLXv8GFf",
        "colab_type": "code",
        "outputId": "cf06662f-8e26-4a4d-e04f-2a7751aae867",
        "colab": {
          "base_uri": "https://localhost:8080/",
          "height": 51
        }
      },
      "source": [
        "from tensorflow.keras.preprocessing.sequence import pad_sequences\n",
        "from tensorflow.keras.utils import to_categorical\n",
        "\n",
        "data = pad_sequences(sequences, maxlen=MAX_SEQUENCE_LENGTH, padding='pre')\n",
        "labels = to_categorical(np.asarray(labels))\n",
        "print('Shape of data tensor:', data.shape)\n",
        "print('Shape of label tensor:', labels.shape)"
      ],
      "execution_count": 0,
      "outputs": [
        {
          "output_type": "stream",
          "text": [
            "Shape of data tensor: (5746, 256)\n",
            "Shape of label tensor: (5746, 2)\n"
          ],
          "name": "stdout"
        }
      ]
    },
    {
      "cell_type": "code",
      "metadata": {
        "id": "qayTi_pg8dpd",
        "colab_type": "code",
        "outputId": "24c3530d-6031-4a38-dc8f-fb6815e2dba8",
        "colab": {
          "base_uri": "https://localhost:8080/",
          "height": 85
        }
      },
      "source": [
        "data2 = pad_sequences(sequences_test, maxlen=MAX_SEQUENCE_LENGTH, padding='pre')\n",
        "labels2 = to_categorical(np.asarray(labels_test))\n",
        "print('Shape of data tensor:', data2.shape)\n",
        "print('Shape of label tensor:', labels2.shape)\n",
        "\n",
        "data3 = pad_sequences(sequences3, maxlen=MAX_SEQUENCE_LENGTH, padding='pre')\n",
        "labels3 = to_categorical(np.asarray(labels_val))\n",
        "print('Shape of data tensor:', data3.shape)\n",
        "print('Shape of label tensor:', labels3.shape)\n"
      ],
      "execution_count": 0,
      "outputs": [
        {
          "output_type": "stream",
          "text": [
            "Shape of data tensor: (3429, 256)\n",
            "Shape of label tensor: (3429, 2)\n",
            "Shape of data tensor: (639, 256)\n",
            "Shape of label tensor: (639, 2)\n"
          ],
          "name": "stdout"
        }
      ]
    },
    {
      "cell_type": "code",
      "metadata": {
        "id": "lYxt4ph48joU",
        "colab_type": "code",
        "colab": {}
      },
      "source": [
        "x_train = data\n",
        "y_train = labels\n",
        "\n",
        "x_val = data3\n",
        "y_val = labels3\n",
        "\n",
        "x_test = data2\n",
        "y_test = labels2"
      ],
      "execution_count": 0,
      "outputs": []
    },
    {
      "cell_type": "code",
      "metadata": {
        "id": "-NlMg25i-XM3",
        "colab_type": "code",
        "outputId": "2592e024-be0d-41f5-8da0-4f984cd33e1a",
        "colab": {
          "base_uri": "https://localhost:8080/",
          "height": 34
        }
      },
      "source": [
        "print(y_train.shape, y_val.shape, y_test.shape)"
      ],
      "execution_count": 0,
      "outputs": [
        {
          "output_type": "stream",
          "text": [
            "(5746, 2) (639, 2) (3429, 2)\n"
          ],
          "name": "stdout"
        }
      ]
    },
    {
      "cell_type": "code",
      "metadata": {
        "id": "MCj9Orni8GIm",
        "colab_type": "code",
        "outputId": "7734bc76-0b02-4eed-d51d-4764b1fe3d56",
        "colab": {
          "base_uri": "https://localhost:8080/",
          "height": 34
        }
      },
      "source": [
        "GLOVE_DIR='drive/My Drive/yelp_review_polarity_csv/'\n",
        "\n",
        "import os\n",
        "embeddings_index = {}\n",
        "f = open(os.path.join(GLOVE_DIR, 'glove.42B.300d.txt'))\n",
        "for line in f:\n",
        "    values = line.split()\n",
        "    word = values[0]\n",
        "    coefs = np.asarray(values[1:], dtype='float32')\n",
        "    embeddings_index[word] = coefs\n",
        "f.close()\n",
        "\n",
        "print('Found %s word vectors.' % len(embeddings_index))\n"
      ],
      "execution_count": 0,
      "outputs": [
        {
          "output_type": "stream",
          "text": [
            "Found 1917494 word vectors.\n"
          ],
          "name": "stdout"
        }
      ]
    },
    {
      "cell_type": "code",
      "metadata": {
        "id": "I3BgH8Lq8u3b",
        "colab_type": "code",
        "colab": {}
      },
      "source": [
        "EMBEDDING_DIM = 300 # how big is each word vector\n",
        "\n",
        "embedding_matrix = np.zeros((len(word_index) + 1, EMBEDDING_DIM))\n",
        "for word, i in word_index.items():\n",
        "    embedding_vector = embeddings_index.get(word)\n",
        "    if embedding_vector is not None:\n",
        "        # words not found in embedding index will be all-zeros.\n",
        "        embedding_matrix[i] = embedding_vector"
      ],
      "execution_count": 0,
      "outputs": []
    },
    {
      "cell_type": "code",
      "metadata": {
        "id": "QK-to-cx84gn",
        "colab_type": "code",
        "colab": {}
      },
      "source": [
        "from tensorflow.keras.layers import Embedding\n",
        "\n",
        "embedding_layer = Embedding(len(word_index) + 1,\n",
        "                            EMBEDDING_DIM,\n",
        "                            weights=[embedding_matrix],\n",
        "                            input_length=MAX_SEQUENCE_LENGTH,\n",
        "                            trainable=False)"
      ],
      "execution_count": 0,
      "outputs": []
    },
    {
      "cell_type": "code",
      "metadata": {
        "id": "LgLfbTHY86Ds",
        "colab_type": "code",
        "colab": {}
      },
      "source": [
        "from tensorflow.keras.layers import Bidirectional, GlobalMaxPool1D, Conv1D\n",
        "from tensorflow.keras.layers import Dense, Input, LSTM, Embedding, Dropout, Activation, TimeDistributed, Flatten\n",
        "from tensorflow.keras.models import Model, Sequential\n",
        "from tensorflow.keras.callbacks import EarlyStopping, ModelCheckpoint\n",
        "\n",
        "es = EarlyStopping(monitor='val_loss', mode='min', verbose=1, patience=6)\n",
        "mc = ModelCheckpoint('lstm256.h5', monitor='val_accuracy', mode='max', verbose=1, save_best_only=True)\n",
        "\n",
        "inp = Input(shape=(MAX_SEQUENCE_LENGTH,))\n",
        "x = embedded_sequences = embedding_layer(inp)\n",
        "\n",
        "x = (LSTM(64, return_sequences=True, dropout=0.2, recurrent_dropout=0.1))(x)\n",
        "x = GlobalMaxPool1D()(x)\n",
        "x = Dense(64, activation=\"relu\")(x)\n",
        "x = Dropout(0.5)(x)\n",
        "x = Dense(2, activation=\"softmax\")(x)\n",
        "model = Model(inputs=inp, outputs=x)\n"
      ],
      "execution_count": 0,
      "outputs": []
    },
    {
      "cell_type": "code",
      "metadata": {
        "id": "yI0je1R29DI1",
        "colab_type": "code",
        "outputId": "1211fd06-b4ce-49bc-a6f6-a916f51e6b8a",
        "colab": {
          "base_uri": "https://localhost:8080/",
          "height": 391
        }
      },
      "source": [
        "model.compile('adam', 'categorical_crossentropy', metrics=['accuracy'])\n",
        "model.summary()"
      ],
      "execution_count": 0,
      "outputs": [
        {
          "output_type": "stream",
          "text": [
            "Model: \"model\"\n",
            "_________________________________________________________________\n",
            "Layer (type)                 Output Shape              Param #   \n",
            "=================================================================\n",
            "input_1 (InputLayer)         [(None, 256)]             0         \n",
            "_________________________________________________________________\n",
            "embedding (Embedding)        (None, 256, 300)          25627200  \n",
            "_________________________________________________________________\n",
            "lstm (LSTM)                  (None, 256, 64)           93440     \n",
            "_________________________________________________________________\n",
            "global_max_pooling1d (Global (None, 64)                0         \n",
            "_________________________________________________________________\n",
            "dense (Dense)                (None, 64)                4160      \n",
            "_________________________________________________________________\n",
            "dropout (Dropout)            (None, 64)                0         \n",
            "_________________________________________________________________\n",
            "dense_1 (Dense)              (None, 2)                 130       \n",
            "=================================================================\n",
            "Total params: 25,724,930\n",
            "Trainable params: 97,730\n",
            "Non-trainable params: 25,627,200\n",
            "_________________________________________________________________\n"
          ],
          "name": "stdout"
        }
      ]
    },
    {
      "cell_type": "code",
      "metadata": {
        "id": "7RpFUJsZ9I0R",
        "colab_type": "code",
        "outputId": "3880b987-c43c-4db6-f6d9-e40953192927",
        "colab": {
          "base_uri": "https://localhost:8080/",
          "height": 734
        }
      },
      "source": [
        "history = model.fit(x_train, y_train, validation_data=[x_val, y_val], epochs=10, callbacks=[es, mc])"
      ],
      "execution_count": 0,
      "outputs": [
        {
          "output_type": "stream",
          "text": [
            "Train on 5746 samples, validate on 639 samples\n",
            "Epoch 1/10\n",
            "5728/5746 [============================>.] - ETA: 0s - loss: 0.5226 - accuracy: 0.7338\n",
            "Epoch 00001: val_accuracy improved from -inf to 0.86072, saving model to lstm256.h5\n",
            "5746/5746 [==============================] - 78s 14ms/sample - loss: 0.5222 - accuracy: 0.7342 - val_loss: 0.3366 - val_accuracy: 0.8607\n",
            "Epoch 2/10\n",
            "5728/5746 [============================>.] - ETA: 0s - loss: 0.3461 - accuracy: 0.8612\n",
            "Epoch 00002: val_accuracy improved from 0.86072 to 0.87167, saving model to lstm256.h5\n",
            "5746/5746 [==============================] - 73s 13ms/sample - loss: 0.3461 - accuracy: 0.8613 - val_loss: 0.3177 - val_accuracy: 0.8717\n",
            "Epoch 3/10\n",
            "5728/5746 [============================>.] - ETA: 0s - loss: 0.2995 - accuracy: 0.8827\n",
            "Epoch 00003: val_accuracy improved from 0.87167 to 0.90923, saving model to lstm256.h5\n",
            "5746/5746 [==============================] - 71s 12ms/sample - loss: 0.2994 - accuracy: 0.8827 - val_loss: 0.2654 - val_accuracy: 0.9092\n",
            "Epoch 4/10\n",
            "5728/5746 [============================>.] - ETA: 0s - loss: 0.2594 - accuracy: 0.9015\n",
            "Epoch 00004: val_accuracy did not improve from 0.90923\n",
            "5746/5746 [==============================] - 71s 12ms/sample - loss: 0.2591 - accuracy: 0.9017 - val_loss: 0.2564 - val_accuracy: 0.8967\n",
            "Epoch 5/10\n",
            "5728/5746 [============================>.] - ETA: 0s - loss: 0.2249 - accuracy: 0.9169\n",
            "Epoch 00005: val_accuracy did not improve from 0.90923\n",
            "5746/5746 [==============================] - 71s 12ms/sample - loss: 0.2248 - accuracy: 0.9170 - val_loss: 0.2801 - val_accuracy: 0.8842\n",
            "Epoch 6/10\n",
            "5728/5746 [============================>.] - ETA: 0s - loss: 0.2122 - accuracy: 0.9206\n",
            "Epoch 00006: val_accuracy did not improve from 0.90923\n",
            "5746/5746 [==============================] - 72s 13ms/sample - loss: 0.2122 - accuracy: 0.9205 - val_loss: 0.2416 - val_accuracy: 0.9045\n",
            "Epoch 7/10\n",
            "5728/5746 [============================>.] - ETA: 0s - loss: 0.1780 - accuracy: 0.9378\n",
            "Epoch 00007: val_accuracy did not improve from 0.90923\n",
            "5746/5746 [==============================] - 71s 12ms/sample - loss: 0.1795 - accuracy: 0.9373 - val_loss: 0.2448 - val_accuracy: 0.8998\n",
            "Epoch 8/10\n",
            "5728/5746 [============================>.] - ETA: 0s - loss: 0.1563 - accuracy: 0.9415\n",
            "Epoch 00008: val_accuracy did not improve from 0.90923\n",
            "5746/5746 [==============================] - 71s 12ms/sample - loss: 0.1562 - accuracy: 0.9415 - val_loss: 0.2735 - val_accuracy: 0.8920\n",
            "Epoch 9/10\n",
            "5728/5746 [============================>.] - ETA: 0s - loss: 0.1450 - accuracy: 0.9440\n",
            "Epoch 00009: val_accuracy did not improve from 0.90923\n",
            "5746/5746 [==============================] - 73s 13ms/sample - loss: 0.1448 - accuracy: 0.9441 - val_loss: 0.2572 - val_accuracy: 0.9061\n",
            "Epoch 10/10\n",
            "5728/5746 [============================>.] - ETA: 0s - loss: 0.1180 - accuracy: 0.9588\n",
            "Epoch 00010: val_accuracy did not improve from 0.90923\n",
            "5746/5746 [==============================] - 72s 12ms/sample - loss: 0.1178 - accuracy: 0.9589 - val_loss: 0.2729 - val_accuracy: 0.9061\n"
          ],
          "name": "stdout"
        }
      ]
    },
    {
      "cell_type": "code",
      "metadata": {
        "id": "lml5wMcL9aTW",
        "colab_type": "code",
        "outputId": "5b8f4eac-74e2-411c-e7eb-4994bdbbabe2",
        "colab": {
          "base_uri": "https://localhost:8080/",
          "height": 573
        }
      },
      "source": [
        "import matplotlib.pyplot as plt\n",
        "\n",
        "def plot(history):\n",
        "  \n",
        "  acc = history.history['accuracy']\n",
        "  val_acc = history.history['val_accuracy']\n",
        "  loss = history.history['loss']\n",
        "  val_loss = history.history['val_loss']\n",
        "\n",
        "  epochs = range(len(acc))\n",
        "\n",
        "  plt.title('Training and validation accuracy')\n",
        "  plt.plot(epochs, acc, color='blue', label='Train')\n",
        "  plt.plot(epochs, val_acc, color='orange', label='Val')\n",
        "  plt.xlabel('Epoch')\n",
        "  plt.ylabel('Accuracy')\n",
        "  plt.legend()\n",
        "\n",
        "  _ = plt.figure()\n",
        "  plt.title('Training and validation loss')\n",
        "  plt.plot(epochs, loss, color='blue', label='Train')\n",
        "  plt.plot(epochs, val_loss, color='orange', label='Val')\n",
        "  plt.xlabel('Epoch')\n",
        "  plt.ylabel('Loss')\n",
        "  plt.legend()\n",
        "  \n",
        "plot(history)"
      ],
      "execution_count": 0,
      "outputs": [
        {
          "output_type": "display_data",
          "data": {
            "image/png": "[encoded data removed]",
            "text/plain": [
              "<Figure size 432x288 with 1 Axes>"
            ]
          },
          "metadata": {
            "tags": []
          }
        },
        {
          "output_type": "display_data",
          "data": {
            "image/png": "[encoded data removed]",
            "text/plain": [
              "<Figure size 432x288 with 1 Axes>"
            ]
          },
          "metadata": {
            "tags": []
          }
        }
      ]
    },
    {
      "cell_type": "code",
      "metadata": {
        "id": "bKnzZ3Eo-87Z",
        "colab_type": "code",
        "outputId": "1858af03-75ca-4993-bc6f-6c4dadd85cfb",
        "colab": {
          "base_uri": "https://localhost:8080/",
          "height": 102
        }
      },
      "source": [
        "y_test_new = np.argmax(y_test, axis=1)\n",
        "y_test[0:5]"
      ],
      "execution_count": 0,
      "outputs": [
        {
          "output_type": "execute_result",
          "data": {
            "text/plain": [
              "array([[1., 0.],\n",
              "       [1., 0.],\n",
              "       [1., 0.],\n",
              "       [0., 1.],\n",
              "       [1., 0.]], dtype=float32)"
            ]
          },
          "metadata": {
            "tags": []
          },
          "execution_count": 23
        }
      ]
    },
    {
      "cell_type": "code",
      "metadata": {
        "id": "SBzHHT7N_FhV",
        "colab_type": "code",
        "outputId": "3d392e47-f18c-4888-ee71-26348d0ddce0",
        "colab": {
          "base_uri": "https://localhost:8080/",
          "height": 34
        }
      },
      "source": [
        "y_test_new[0:5]"
      ],
      "execution_count": 0,
      "outputs": [
        {
          "output_type": "execute_result",
          "data": {
            "text/plain": [
              "array([0, 0, 0, 1, 0])"
            ]
          },
          "metadata": {
            "tags": []
          },
          "execution_count": 24
        }
      ]
    },
    {
      "cell_type": "code",
      "metadata": {
        "id": "iZlCj72fErbN",
        "colab_type": "code",
        "colab": {}
      },
      "source": [
        "from tensorflow.keras.models import load_model\n",
        "\n",
        "saved_model = load_model('/content/lstm256.h5')"
      ],
      "execution_count": 0,
      "outputs": []
    },
    {
      "cell_type": "code",
      "metadata": {
        "id": "cHVIpKZp_I-F",
        "colab_type": "code",
        "outputId": "9dc0411c-df73-44bd-b57f-8e1370f9a3fa",
        "colab": {
          "base_uri": "https://localhost:8080/",
          "height": 102
        }
      },
      "source": [
        "prediction = saved_model.predict(x_test)\n",
        "prediction[0:5]"
      ],
      "execution_count": 0,
      "outputs": [
        {
          "output_type": "execute_result",
          "data": {
            "text/plain": [
              "array([[0.97192234, 0.02807766],\n",
              "       [0.968175  , 0.03182496],\n",
              "       [0.90721726, 0.0927827 ],\n",
              "       [0.05442066, 0.94557935],\n",
              "       [0.9677196 , 0.0322804 ]], dtype=float32)"
            ]
          },
          "metadata": {
            "tags": []
          },
          "execution_count": 27
        }
      ]
    },
    {
      "cell_type": "code",
      "metadata": {
        "id": "fMV56lno_M8n",
        "colab_type": "code",
        "colab": {}
      },
      "source": [
        "y_pred=np.argmax(prediction, axis=1)"
      ],
      "execution_count": 0,
      "outputs": []
    },
    {
      "cell_type": "code",
      "metadata": {
        "id": "aV7UTiWV_UVQ",
        "colab_type": "code",
        "outputId": "00249d38-c90a-4944-aa49-9a9c2a97395f",
        "colab": {
          "base_uri": "https://localhost:8080/",
          "height": 34
        }
      },
      "source": [
        "sum(y_pred)"
      ],
      "execution_count": 0,
      "outputs": [
        {
          "output_type": "execute_result",
          "data": {
            "text/plain": [
              "682"
            ]
          },
          "metadata": {
            "tags": []
          },
          "execution_count": 29
        }
      ]
    },
    {
      "cell_type": "code",
      "metadata": {
        "id": "iLW-BOXe_VRO",
        "colab_type": "code",
        "outputId": "e07d421b-67b8-485a-eb52-479e0ec14ab7",
        "colab": {
          "base_uri": "https://localhost:8080/",
          "height": 34
        }
      },
      "source": [
        "sum(y_test_new)"
      ],
      "execution_count": 0,
      "outputs": [
        {
          "output_type": "execute_result",
          "data": {
            "text/plain": [
              "353"
            ]
          },
          "metadata": {
            "tags": []
          },
          "execution_count": 30
        }
      ]
    },
    {
      "cell_type": "code",
      "metadata": {
        "id": "-PTadiGk_VOO",
        "colab_type": "code",
        "outputId": "20653a0f-5a72-45e5-d07e-6c7e7f1b2556",
        "colab": {
          "base_uri": "https://localhost:8080/",
          "height": 68
        }
      },
      "source": [
        "from sklearn.metrics import confusion_matrix\n",
        "cm1 = confusion_matrix(y_test_new,y_pred)\n",
        "print('Confusion Matrix : \\n', cm1)"
      ],
      "execution_count": 0,
      "outputs": [
        {
          "output_type": "stream",
          "text": [
            "Confusion Matrix : \n",
            " [[2716  360]\n",
            " [  31  322]]\n"
          ],
          "name": "stdout"
        }
      ]
    },
    {
      "cell_type": "code",
      "metadata": {
        "id": "5yddwwcW_e5N",
        "colab_type": "code",
        "outputId": "cb9fe14e-8614-40c0-81a2-6d10c2e16d69",
        "colab": {
          "base_uri": "https://localhost:8080/",
          "height": 51
        }
      },
      "source": [
        "from sklearn.metrics import precision_recall_fscore_support\n",
        "print(precision_recall_fscore_support(y_test_new, y_pred, average='macro'))\n",
        "print(precision_recall_fscore_support(y_test_new, y_pred, average='weighted'))"
      ],
      "execution_count": 0,
      "outputs": [
        {
          "output_type": "stream",
          "text": [
            "(0.7304278621199133, 0.8975730962914936, 0.777537351880474, None)\n",
            "(0.9355359905436054, 0.8859725867599884, 0.9008745050036642, None)\n"
          ],
          "name": "stdout"
        }
      ]
    },
    {
      "cell_type": "code",
      "metadata": {
        "id": "DProZgQg_qC-",
        "colab_type": "code",
        "outputId": "4e102316-9360-463b-c027-4e550fb75591",
        "colab": {
          "base_uri": "https://localhost:8080/",
          "height": 34
        }
      },
      "source": [
        "from sklearn.metrics import confusion_matrix\n",
        "tn, fp, fn, tp = confusion_matrix(y_test_new, y_pred).ravel()\n",
        "pre = tp / (tp + fp)\n",
        "rec = tp / (tp + fn)\n",
        "tnr = tn / (tn + fp)\n",
        "acc = (tp + tn)/ (tp + tn + fp + fn)\n",
        "balanced_acc = (rec + tnr) / 2\n",
        "f1 = 2 * (pre * rec)/(pre+rec)\n",
        "\n",
        "print(pre, rec, tnr, acc, balanced_acc, f1)"
      ],
      "execution_count": 0,
      "outputs": [
        {
          "output_type": "stream",
          "text": [
            "0.47214076246334313 0.9121813031161473 0.88296488946684 0.8859725867599884 0.8975730962914936 0.6222222222222223\n"
          ],
          "name": "stdout"
        }
      ]
    },
    {
      "cell_type": "code",
      "metadata": {
        "id": "ypFj_Xg8FRWR",
        "colab_type": "code",
        "outputId": "18a0da10-c39a-432a-ae66-c406510d7109",
        "colab": {
          "base_uri": "https://localhost:8080/",
          "height": 34
        }
      },
      "source": [
        "print(tp, tn, fp, fn)"
      ],
      "execution_count": 0,
      "outputs": [
        {
          "output_type": "stream",
          "text": [
            "322 2716 360 31\n"
          ],
          "name": "stdout"
        }
      ]
    },
    {
      "cell_type": "code",
      "metadata": {
        "id": "DG8niQJAF8iZ",
        "colab_type": "code",
        "outputId": "948feec6-d670-45a4-d888-77914ed305a7",
        "colab": {
          "base_uri": "https://localhost:8080/",
          "height": 51
        }
      },
      "source": [
        "import math\n",
        "num = (tp*tn - fp*fn)\n",
        "den = math.sqrt((tp+fp)*(tp+fn)*(tn+fp)*(tn+fn))\n",
        "print(num, den)\n",
        "mcc = num/den\n",
        "print(mcc)"
      ],
      "execution_count": 0,
      "outputs": [
        {
          "output_type": "stream",
          "text": [
            "863392 1426270.9454770507\n",
            "0.6053492169478484\n"
          ],
          "name": "stdout"
        }
      ]
    }
  ]
}