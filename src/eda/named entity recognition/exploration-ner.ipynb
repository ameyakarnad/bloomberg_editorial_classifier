{
 "cells": [
  {
   "cell_type": "markdown",
   "metadata": {},
   "source": [
    "### Distribution of Named Entities in Regular and Non-Regular Articles"
   ]
  },
  {
   "cell_type": "markdown",
   "metadata": {},
   "source": [
    "In this notebook, we will look at the distribution of different named entities in regular and non-regular articles. We would primarily be looking at the number of mentions of that entity by the document length and draw a distribution for each entity for both the regular and non-regular articles. Below are the common named entities that are referenced:"
   ]
  },
  {
   "cell_type": "markdown",
   "metadata": {},
   "source": [
    "**Different Types of Named Entities**\n",
    "\n",
    "`PERSON`:\tPeople, including fictional.\n",
    "\n",
    "`NORP`:\tNationalities or religious or political groups.\n",
    "\n",
    "`ORG`:\tCompanies, agencies, institutions, etc.\n",
    "\n",
    "`LOCATION`:\tmountain ranges, bodies of water, counter, cities, states, buildings, airports, highways, bridges, etc.\n",
    "\n",
    "`PRODUCT`:\tObjects, vehicles, foods, etc. (Not services.)\n",
    "\n",
    "`EVENT`:\tNamed hurricanes, battles, wars, sports events, etc.\n",
    "\n",
    "`WORK_OF_ART`:\tTitles of books, songs, etc.\n",
    "\n",
    "`LAW`:\tNamed documents made into laws.\n",
    "\n",
    "`LANGUAGE`:\tAny named language.\n",
    "\n",
    "`DATE`:\tAbsolute or relative dates or periods.\n",
    "\n",
    "`TIME`:\tTimes smaller than a day.\n",
    "\n",
    "`PERCENT`:\tPercentage, including ”%“.\n",
    "\n",
    "`MONEY`:\tMonetary values, including unit.\n",
    "\n",
    "`QUANTITY`:\tMeasurements, as of weight or distance.\n",
    "\n",
    "`ORDINAL`:\t“first”, “second”, etc.\n",
    "\n",
    "`CARDINAL`:\tNumerals that do not fall under another type."
   ]
  },
  {
   "cell_type": "code",
   "execution_count": 1,
   "metadata": {},
   "outputs": [],
   "source": [
    "#Importing Libraries\n",
    "import pandas as pd\n",
    "import numpy as np\n",
    "import matplotlib.pyplot as plt\n",
    "import spacy\n",
    "from tqdm import tqdm"
   ]
  },
  {
   "cell_type": "code",
   "execution_count": 2,
   "metadata": {},
   "outputs": [
    {
     "data": {
      "text/html": [
       "<div>\n",
       "<style scoped>\n",
       "    .dataframe tbody tr th:only-of-type {\n",
       "        vertical-align: middle;\n",
       "    }\n",
       "\n",
       "    .dataframe tbody tr th {\n",
       "        vertical-align: top;\n",
       "    }\n",
       "\n",
       "    .dataframe thead th {\n",
       "        text-align: right;\n",
       "    }\n",
       "</style>\n",
       "<table border=\"1\" class=\"dataframe\">\n",
       "  <thead>\n",
       "    <tr style=\"text-align: right;\">\n",
       "      <th></th>\n",
       "      <th>source_name</th>\n",
       "      <th>url</th>\n",
       "      <th>created_date</th>\n",
       "      <th>tag</th>\n",
       "      <th>heading</th>\n",
       "      <th>author</th>\n",
       "      <th>article_text</th>\n",
       "      <th>label</th>\n",
       "    </tr>\n",
       "  </thead>\n",
       "  <tbody>\n",
       "    <tr>\n",
       "      <th>0</th>\n",
       "      <td>Press Democrat</td>\n",
       "      <td>https://www.pressdemocrat.com/specialsections/...</td>\n",
       "      <td>2019-06-29 00:00:00</td>\n",
       "      <td>homes, construction, larkfield, estates, worke...</td>\n",
       "      <td>Larkfield\\xe2\\x80\\x99s returning residents cop...</td>\n",
       "      <td>GUY KOVNER</td>\n",
       "      <td>\\nHaley and Fletcher Skerrett loved suburban L...</td>\n",
       "      <td>regular</td>\n",
       "    </tr>\n",
       "    <tr>\n",
       "      <th>1</th>\n",
       "      <td>Press Democrat</td>\n",
       "      <td>https://www.pressdemocrat.com/specialsections/...</td>\n",
       "      <td>2019-07-16 00:00:00</td>\n",
       "      <td>hospital, fire, rosa, santa, tito, fires, jose...</td>\n",
       "      <td>'You felt more normal': St. Joseph Health empl...</td>\n",
       "      <td>MARTIN ESPINOZA</td>\n",
       "      <td>\\nThere is little sign today of the smoke-lace...</td>\n",
       "      <td>regular</td>\n",
       "    </tr>\n",
       "    <tr>\n",
       "      <th>2</th>\n",
       "      <td>Press Democrat</td>\n",
       "      <td>https://www.pressdemocrat.com/specialsections/...</td>\n",
       "      <td>2019-07-23 00:00:00</td>\n",
       "      <td>sandy, sonoma, angie, center, luz, sisters, co...</td>\n",
       "      <td>Sonoma Valley sisters join forces to give fire...</td>\n",
       "      <td>DIANNE REBER HART</td>\n",
       "      <td>\\nWhen the North Bay wildfires broke out in 20...</td>\n",
       "      <td>regular</td>\n",
       "    </tr>\n",
       "    <tr>\n",
       "      <th>3</th>\n",
       "      <td>Press Democrat</td>\n",
       "      <td>https://www.pressdemocrat.com/specialsections/...</td>\n",
       "      <td>2019-07-03 00:00:00</td>\n",
       "      <td>campus, teachers, hidden, students, valley, sa...</td>\n",
       "      <td>Santa Rosa teachers rebuild sense of safety on...</td>\n",
       "      <td>MATT VILLANO</td>\n",
       "      <td>\\nThe rebuilding process has taken many forms ...</td>\n",
       "      <td>regular</td>\n",
       "    </tr>\n",
       "    <tr>\n",
       "      <th>4</th>\n",
       "      <td>Press Democrat</td>\n",
       "      <td>https://www.pressdemocrat.com/specialsections/...</td>\n",
       "      <td>2019-07-01 00:00:00</td>\n",
       "      <td>fire, montecito, heights, neighbors, flames, n...</td>\n",
       "      <td>\\xe2\\x80\\x98I had to get it down\\xe2\\x80\\x99: ...</td>\n",
       "      <td>CHRIS SMITH</td>\n",
       "      <td>\\nWe\\xe2\\x80\\x99ll never know if retired schoo...</td>\n",
       "      <td>regular</td>\n",
       "    </tr>\n",
       "  </tbody>\n",
       "</table>\n",
       "</div>"
      ],
      "text/plain": [
       "      source_name                                                url  \\\n",
       "0  Press Democrat  https://www.pressdemocrat.com/specialsections/...   \n",
       "1  Press Democrat  https://www.pressdemocrat.com/specialsections/...   \n",
       "2  Press Democrat  https://www.pressdemocrat.com/specialsections/...   \n",
       "3  Press Democrat  https://www.pressdemocrat.com/specialsections/...   \n",
       "4  Press Democrat  https://www.pressdemocrat.com/specialsections/...   \n",
       "\n",
       "          created_date                                                tag  \\\n",
       "0  2019-06-29 00:00:00  homes, construction, larkfield, estates, worke...   \n",
       "1  2019-07-16 00:00:00  hospital, fire, rosa, santa, tito, fires, jose...   \n",
       "2  2019-07-23 00:00:00  sandy, sonoma, angie, center, luz, sisters, co...   \n",
       "3  2019-07-03 00:00:00  campus, teachers, hidden, students, valley, sa...   \n",
       "4  2019-07-01 00:00:00  fire, montecito, heights, neighbors, flames, n...   \n",
       "\n",
       "                                             heading             author  \\\n",
       "0  Larkfield\\xe2\\x80\\x99s returning residents cop...         GUY KOVNER   \n",
       "1  'You felt more normal': St. Joseph Health empl...    MARTIN ESPINOZA   \n",
       "2  Sonoma Valley sisters join forces to give fire...  DIANNE REBER HART   \n",
       "3  Santa Rosa teachers rebuild sense of safety on...       MATT VILLANO   \n",
       "4  \\xe2\\x80\\x98I had to get it down\\xe2\\x80\\x99: ...        CHRIS SMITH   \n",
       "\n",
       "                                        article_text    label  \n",
       "0  \\nHaley and Fletcher Skerrett loved suburban L...  regular  \n",
       "1  \\nThere is little sign today of the smoke-lace...  regular  \n",
       "2  \\nWhen the North Bay wildfires broke out in 20...  regular  \n",
       "3  \\nThe rebuilding process has taken many forms ...  regular  \n",
       "4  \\nWe\\xe2\\x80\\x99ll never know if retired schoo...  regular  "
      ]
     },
     "execution_count": 2,
     "metadata": {},
     "output_type": "execute_result"
    }
   ],
   "source": [
    "#Reading the data\n",
    "df = pd.read_csv('combined_data.csv')\n",
    "df['label'] = df['label'].apply(lambda x: 'regular' if x == 'regular' or x == '0' else 'other')\n",
    "df.head()"
   ]
  },
  {
   "cell_type": "code",
   "execution_count": 3,
   "metadata": {},
   "outputs": [],
   "source": [
    "#Creating Sample\n",
    "df_other = df[df.label=='other'].reset_index(drop=True)\n",
    "df_regular = df[df.label=='regular'].sample(n=len(df[df.label=='other']), replace=False, random_state=0).reset_index(drop=True)\n",
    "df_sample = df_other.append(df_regular).reset_index(drop=True)\n",
    "df_sample = df_sample.sample(frac=1)"
   ]
  },
  {
   "cell_type": "code",
   "execution_count": 89,
   "metadata": {
    "scrolled": true
   },
   "outputs": [
    {
     "name": "stderr",
     "output_type": "stream",
     "text": [
      "53it [00:20,  2.40it/s]"
     ]
    },
    {
     "name": "stdout",
     "output_type": "stream",
     "text": [
      "236\n"
     ]
    },
    {
     "name": "stderr",
     "output_type": "stream",
     "text": [
      "88it [00:32,  3.20it/s]"
     ]
    },
    {
     "name": "stdout",
     "output_type": "stream",
     "text": [
      "5496\n"
     ]
    },
    {
     "name": "stderr",
     "output_type": "stream",
     "text": [
      "498it [03:02,  2.35it/s]"
     ]
    },
    {
     "name": "stdout",
     "output_type": "stream",
     "text": [
      "3112\n"
     ]
    },
    {
     "name": "stderr",
     "output_type": "stream",
     "text": [
      "1399it [08:21,  2.22it/s]"
     ]
    },
    {
     "name": "stdout",
     "output_type": "stream",
     "text": [
      "283\n"
     ]
    },
    {
     "name": "stderr",
     "output_type": "stream",
     "text": [
      "1452it [08:43,  2.24it/s]"
     ]
    },
    {
     "name": "stdout",
     "output_type": "stream",
     "text": [
      "278\n"
     ]
    },
    {
     "name": "stderr",
     "output_type": "stream",
     "text": [
      "2088it [13:01,  3.35it/s]"
     ]
    },
    {
     "name": "stdout",
     "output_type": "stream",
     "text": [
      "265\n"
     ]
    },
    {
     "name": "stderr",
     "output_type": "stream",
     "text": [
      "2210it [13:53,  2.65it/s]"
     ]
    },
    {
     "name": "stdout",
     "output_type": "stream",
     "text": [
      "248\n"
     ]
    },
    {
     "name": "stderr",
     "output_type": "stream",
     "text": [
      "2561it [16:17,  3.36it/s]"
     ]
    },
    {
     "name": "stdout",
     "output_type": "stream",
     "text": [
      "264\n"
     ]
    },
    {
     "name": "stderr",
     "output_type": "stream",
     "text": [
      "2874it [18:29,  3.12it/s]"
     ]
    },
    {
     "name": "stdout",
     "output_type": "stream",
     "text": [
      "256\n"
     ]
    },
    {
     "name": "stderr",
     "output_type": "stream",
     "text": [
      "3420it [22:07,  2.90it/s]"
     ]
    },
    {
     "name": "stdout",
     "output_type": "stream",
     "text": [
      "259\n"
     ]
    },
    {
     "name": "stderr",
     "output_type": "stream",
     "text": [
      "3469it [22:28,  2.98it/s]"
     ]
    },
    {
     "name": "stdout",
     "output_type": "stream",
     "text": [
      "234\n"
     ]
    },
    {
     "name": "stderr",
     "output_type": "stream",
     "text": [
      "3827it [24:44,  3.09it/s]"
     ]
    },
    {
     "name": "stdout",
     "output_type": "stream",
     "text": [
      "272\n"
     ]
    },
    {
     "name": "stderr",
     "output_type": "stream",
     "text": [
      "3857it [24:55,  3.14it/s]"
     ]
    },
    {
     "name": "stdout",
     "output_type": "stream",
     "text": [
      "230\n"
     ]
    },
    {
     "name": "stderr",
     "output_type": "stream",
     "text": [
      "3873it [25:01,  3.08it/s]"
     ]
    },
    {
     "name": "stdout",
     "output_type": "stream",
     "text": [
      "3489\n"
     ]
    },
    {
     "name": "stderr",
     "output_type": "stream",
     "text": [
      "3997it [25:46,  2.82it/s]"
     ]
    },
    {
     "name": "stdout",
     "output_type": "stream",
     "text": [
      "3040\n"
     ]
    },
    {
     "name": "stderr",
     "output_type": "stream",
     "text": [
      "4115it [26:29,  3.12it/s]"
     ]
    },
    {
     "name": "stdout",
     "output_type": "stream",
     "text": [
      "277\n"
     ]
    },
    {
     "name": "stderr",
     "output_type": "stream",
     "text": [
      "4715it [30:19,  3.01it/s]"
     ]
    },
    {
     "name": "stdout",
     "output_type": "stream",
     "text": [
      "3402\n"
     ]
    },
    {
     "name": "stderr",
     "output_type": "stream",
     "text": [
      "5168it [33:12,  2.79it/s]"
     ]
    },
    {
     "name": "stdout",
     "output_type": "stream",
     "text": [
      "253\n"
     ]
    },
    {
     "name": "stderr",
     "output_type": "stream",
     "text": [
      "5171it [33:14,  2.66it/s]"
     ]
    },
    {
     "name": "stdout",
     "output_type": "stream",
     "text": [
      "227\n"
     ]
    },
    {
     "name": "stderr",
     "output_type": "stream",
     "text": [
      "5238it [33:38,  3.31it/s]"
     ]
    },
    {
     "name": "stdout",
     "output_type": "stream",
     "text": [
      "271\n"
     ]
    },
    {
     "name": "stderr",
     "output_type": "stream",
     "text": [
      "5240it [33:38,  3.67it/s]"
     ]
    },
    {
     "name": "stdout",
     "output_type": "stream",
     "text": [
      "220\n"
     ]
    },
    {
     "name": "stderr",
     "output_type": "stream",
     "text": [
      "5617it [36:19,  3.02it/s]"
     ]
    },
    {
     "name": "stdout",
     "output_type": "stream",
     "text": [
      "260\n"
     ]
    },
    {
     "name": "stderr",
     "output_type": "stream",
     "text": [
      "5790it [37:32,  2.22it/s]\n"
     ]
    }
   ],
   "source": [
    "#Collecting Entities\n",
    "regular_entities_all = {'PERSON': [], 'NORP': [], 'FAC': [], 'ORG': [], 'GPE': [], 'LOC': [],\n",
    "                        'PRODUCT': [], 'EVENT': [], 'WORK_OF_ART': [], 'LAW': [], 'LANGUAGE': [],\n",
    "                       'DATE': [], 'LANGUAGE': [], 'DATE': [], 'TIME': [], 'PERCENT': [], 'MONEY':[],\n",
    "                       'QUANTITY': [], 'ORDINAL': [], 'CARDINAL': []}\n",
    "\n",
    "op_entities_all = {'PERSON': [], 'NORP': [], 'FAC': [], 'ORG': [], 'GPE': [], 'LOC': [],\n",
    "                        'PRODUCT': [], 'EVENT': [], 'WORK_OF_ART': [], 'LAW': [], 'LANGUAGE': [],\n",
    "                       'DATE': [], 'LANGUAGE': [], 'DATE': [], 'TIME': [], 'PERCENT': [], 'MONEY':[],\n",
    "                       'QUANTITY': [], 'ORDINAL': [], 'CARDINAL': []}\n",
    "\n",
    "for i, row in tqdm(df_sample.iterrows()):\n",
    "    nlp = spacy.load('en_core_web_sm')\n",
    "    article = row['article_text']\n",
    "    try:\n",
    "        doc = nlp(article)\n",
    "        regular_entities = {}\n",
    "        op_entities = {}\n",
    "        for entity in doc.ents:\n",
    "            if row['label'] == 'regular':\n",
    "                if entity.label_ not in regular_entities.keys():\n",
    "                    regular_entities[entity.label_] = 1\n",
    "                else:\n",
    "                    regular_entities[entity.label_] +=1\n",
    "            else:\n",
    "                if entity.label_ not in op_entities.keys():\n",
    "                    op_entities[entity.label_] = 1\n",
    "                else:\n",
    "                    op_entities[entity.label_] +=1\n",
    "\n",
    "        for i in op_entities.keys():\n",
    "            op_entities_all[i].append(op_entities[i]/len(doc))\n",
    "\n",
    "        for i in regular_entities.keys():\n",
    "            regular_entities_all[i].append(regular_entities[i]/len(doc))\n",
    "    \n",
    "    except:\n",
    "        print(i)\n",
    "        continue"
   ]
  },
  {
   "cell_type": "code",
   "execution_count": 90,
   "metadata": {},
   "outputs": [],
   "source": [
    "#Preparing DataFrame from the constructed dictionary\n",
    "op_ent_df = pd.DataFrame(dict([ (k,pd.Series(v)) for k,v in op_entities_all.items() ]))\n",
    "op_ent_df['LOCATION'] = op_ent_df['FAC'] + op_ent_df['GPE'] + op_ent_df['LOC']\n",
    "op_ent_df = op_ent_df.drop(columns=['FAC', 'GPE', 'LOC'])\n",
    "\n",
    "reg_ent_df = pd.DataFrame(dict([ (k,pd.Series(v)) for k,v in regular_entities_all.items() ]))\n",
    "reg_ent_df['LOCATION'] = reg_ent_df['FAC'] + reg_ent_df['GPE'] + reg_ent_df['LOC']\n",
    "reg_ent_df = reg_ent_df.drop(columns=['FAC', 'GPE', 'LOC'])"
   ]
  },
  {
   "cell_type": "code",
   "execution_count": 109,
   "metadata": {},
   "outputs": [
    {
     "data": {
      "image/png": "[encoded data removed]",
      "text/plain": [
       "<Figure size 1296x864 with 16 Axes>"
      ]
     },
     "metadata": {},
     "output_type": "display_data"
    }
   ],
   "source": [
    "#Preparing the charts\n",
    "fig, ax = plt.subplots(4,4, figsize=(18,12))\n",
    "fig.suptitle('Distribution of Named Entities', fontweight='bold')\n",
    "plt.subplots_adjust(hspace=0.5)\n",
    "plt.style.use('ggplot')\n",
    "entities = reg_ent_df.columns\n",
    "\n",
    "for i in range(4):\n",
    "    for j in range(4):\n",
    "        bins = np.histogram(np.hstack((op_ent_df[entities[0]],\n",
    "                                       reg_ent_df[entities[0]]))[~np.isnan(np.hstack((op_ent_df[entities[0]],\n",
    "                                                                                      reg_ent_df[entities[0]])))], \n",
    "                            bins=20)[1] \n",
    "        _ = ax[i, j].hist(op_ent_df[entities[0]], alpha=0.5, bins = bins, label='Non-Regular')\n",
    "        _ = ax[i, j].hist(reg_ent_df[entities[0]], alpha=0.5, bins = bins, label='Regular')\n",
    "        _ = ax[i, j].set_title(entities[0], fontweight='bold')\n",
    "        _ = ax[i, j].legend()\n",
    "        \n",
    "        entities = entities[1:]\n",
    "    \n",
    "_ = ax[3, 0].set_xlabel('Instances by article length', fontweight='bold')\n",
    "_ = ax[3, 1].set_xlabel('Instances by article length', fontweight='bold')\n",
    "_ = ax[3, 2].set_xlabel('Instances by article length', fontweight='bold')\n",
    "_ = ax[3, 3].set_xlabel('Instances by article length', fontweight='bold')\n",
    "\n",
    "_ = ax[0, 0].set_ylabel('Articles', fontweight='bold')\n",
    "_ = ax[1, 0].set_ylabel('Articles', fontweight='bold')\n",
    "_ = ax[2, 0].set_ylabel('Articles', fontweight='bold')\n",
    "_ = ax[3, 0].set_ylabel('Articles', fontweight='bold')"
   ]
  },
  {
   "cell_type": "markdown",
   "metadata": {},
   "source": [
    "**Observations**\n",
    "\n",
    "As we can observe from the above charts, there is some striking differences in the distribution of named entities in the two classes:\n",
    "\n",
    "* **Non-Regular Articles** have many more mentions of person names, languages and nationalities as compared to regular articles.\n",
    "* **Regular Articles** on the other hand have much more mentions of locations, quantity, time and date.\n",
    "* The distribution is heavily right-skewed for most of the entity types"
   ]
  }
 ],
 "metadata": {
  "kernelspec": {
   "display_name": "coms007",
   "language": "python",
   "name": "coms007"
  },
  "language_info": {
   "codemirror_mode": {
    "name": "ipython",
    "version": 3
   },
   "file_extension": ".py",
   "mimetype": "text/x-python",
   "name": "python",
   "nbconvert_exporter": "python",
   "pygments_lexer": "ipython3",
   "version": "3.6.5"
  }
 },
 "nbformat": 4,
 "nbformat_minor": 2
}
