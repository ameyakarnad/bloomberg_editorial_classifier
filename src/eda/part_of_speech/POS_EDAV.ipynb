{
  "nbformat": 4,
  "nbformat_minor": 0,
  "metadata": {
    "kernelspec": {
      "display_name": "coms007",
      "language": "python",
      "name": "coms007"
    },
    "language_info": {
      "codemirror_mode": {
        "name": "ipython",
        "version": 3
      },
      "file_extension": ".py",
      "mimetype": "text/x-python",
      "name": "python",
      "nbconvert_exporter": "python",
      "pygments_lexer": "ipython3",
      "version": "3.6.5"
    },
    "colab": {
      "name": "POS_EDAV.ipynb",
      "provenance": [],
      "collapsed_sections": [],
      "toc_visible": true
    }
  },
  "cells": [
    {
      "cell_type": "markdown",
      "metadata": {
        "id": "Xx70dv0ar1N9",
        "colab_type": "text"
      },
      "source": [
        "### Distribution of different Parts of Speech in Regular and Non-Regular Articles"
      ]
    },
    {
      "cell_type": "markdown",
      "metadata": {
        "id": "wuq5xvN3r1OA",
        "colab_type": "text"
      },
      "source": [
        "In this notebook, we will look at the distribution of different parts of speech in regular and non-regular articles. \n",
        "\n",
        "We would be looking at how many times different parts of speeches were used in an article. We first calulate a `Instance per article length` metric which evaluates the percentage of that POS appearing in the article. We then look at the distribution of `instance per article length` with the count of `articles` for both regular and non regular articles\n",
        "\n",
        "To ensure that the distribution are comparable, we have undersampled the \"Regular\" class\n",
        "\n",
        "Our general Hypothesis before this experiment is that the POS speech used in Regular and Non regular articles would be different\n",
        "\n",
        "Let us first look at the different parts of speech detected. We use Spacy package from Python to conduct this experiment"
      ]
    },
    {
      "cell_type": "markdown",
      "metadata": {
        "id": "pVYr6nDxr1OA",
        "colab_type": "text"
      },
      "source": [
        "**Different Parts of speech**\n",
        "\n",
        "`ADJ` : adjective\n",
        "\n",
        "`ADP` : adposition\n",
        "\n",
        "`ADV` : adverb\n",
        "\n",
        "`AUX` : auxiliary verb\n",
        "\n",
        "`CONJ` : coordinating conjunction\n",
        "\n",
        "`DET` : determiner\n",
        "\n",
        "`INTJ` : interjection\n",
        "\n",
        "`NOUN` : noun\n",
        "\n",
        "`NUM` : numeral\n",
        "\n",
        "`PART` : particle\n",
        "\n",
        "`PRON` : pronoun\n",
        "\n",
        "`PROPN` : proper noun\n",
        "\n",
        "`PUNCT` : punctuation\n",
        "\n",
        "`SCONJ` : subordinating conjunction\n",
        "\n",
        "`SYM`: symbol\n",
        "\n",
        "`VERB` : verb\n",
        "\n",
        "`X` : other"
      ]
    },
    {
      "cell_type": "code",
      "metadata": {
        "id": "Cp5Cqbser6P7",
        "colab_type": "code",
        "outputId": "c690dd3b-e9d4-44d1-c3a5-0110ac675f34",
        "colab": {
          "base_uri": "https://localhost:8080/",
          "height": 53
        }
      },
      "source": [
        "from google.colab import drive\n",
        "drive.mount('/content/drive')"
      ],
      "execution_count": 0,
      "outputs": [
        {
          "output_type": "stream",
          "text": [
            "Drive already mounted at /content/drive; to attempt to forcibly remount, call drive.mount(\"/content/drive\", force_remount=True).\n"
          ],
          "name": "stdout"
        }
      ]
    },
    {
      "cell_type": "code",
      "metadata": {
        "id": "57hKTCkTr1OB",
        "colab_type": "code",
        "colab": {}
      },
      "source": [
        "#Importing Libraries\n",
        "import pandas as pd\n",
        "import numpy as np\n",
        "import matplotlib.pyplot as plt\n",
        "import spacy\n",
        "import json \n",
        "import time"
      ],
      "execution_count": 0,
      "outputs": []
    },
    {
      "cell_type": "code",
      "metadata": {
        "id": "kqznumfnr1OE",
        "colab_type": "code",
        "outputId": "307c7790-e873-4bc7-b91e-26ca1cbacb97",
        "colab": {
          "base_uri": "https://localhost:8080/",
          "height": 685
        }
      },
      "source": [
        "#Reading the from the sample file created for the Exploratory data analysis. Change the location if necessary\n",
        "file_loc = \"/content/drive/My Drive/Bloomberg Editorial Classifier/data/collected/combined_data_sample.csv\"\n",
        "df = pd.read_csv(file_loc)\n",
        "df.head()"
      ],
      "execution_count": 0,
      "outputs": [
        {
          "output_type": "execute_result",
          "data": {
            "text/html": [
              "<div>\n",
              "<style scoped>\n",
              "    .dataframe tbody tr th:only-of-type {\n",
              "        vertical-align: middle;\n",
              "    }\n",
              "\n",
              "    .dataframe tbody tr th {\n",
              "        vertical-align: top;\n",
              "    }\n",
              "\n",
              "    .dataframe thead th {\n",
              "        text-align: right;\n",
              "    }\n",
              "</style>\n",
              "<table border=\"1\" class=\"dataframe\">\n",
              "  <thead>\n",
              "    <tr style=\"text-align: right;\">\n",
              "      <th></th>\n",
              "      <th>Unnamed: 0</th>\n",
              "      <th>source_name</th>\n",
              "      <th>url</th>\n",
              "      <th>created_date</th>\n",
              "      <th>tag</th>\n",
              "      <th>heading</th>\n",
              "      <th>author</th>\n",
              "      <th>article_text</th>\n",
              "      <th>label</th>\n",
              "    </tr>\n",
              "  </thead>\n",
              "  <tbody>\n",
              "    <tr>\n",
              "      <th>0</th>\n",
              "      <td>0</td>\n",
              "      <td>Press Democrat</td>\n",
              "      <td>https://www.pressdemocrat.com/opinion/9747792-...</td>\n",
              "      <td>2019-06-29 00:00:00</td>\n",
              "      <td>census, question, court, administration, citiz...</td>\n",
              "      <td>Guest Editorial: Time for Trump to give up on ...</td>\n",
              "      <td>NaN</td>\n",
              "      <td>\\nThis editorial is from the Washington Post:T...</td>\n",
              "      <td>other</td>\n",
              "    </tr>\n",
              "    <tr>\n",
              "      <th>1</th>\n",
              "      <td>1</td>\n",
              "      <td>Press Democrat</td>\n",
              "      <td>https://www.pressdemocrat.com/opinion/9749911-...</td>\n",
              "      <td>2019-07-08 00:00:00</td>\n",
              "      <td>restroom, square, public, loo, portland, won, ...</td>\n",
              "      <td>PD Editorial: Put a public restroom on Old Cou...</td>\n",
              "      <td>THE EDITORIAL BOARD</td>\n",
              "      <td>\\nThe vehement opposition to a public restroom...</td>\n",
              "      <td>other</td>\n",
              "    </tr>\n",
              "    <tr>\n",
              "      <th>2</th>\n",
              "      <td>2</td>\n",
              "      <td>Press Democrat</td>\n",
              "      <td>https://www.pressdemocrat.com/opinion/9747085-...</td>\n",
              "      <td>2019-07-05 00:00:00</td>\n",
              "      <td>california, challenges, clean, climate, fund, ...</td>\n",
              "      <td>Guest Editorial: California needs clean water</td>\n",
              "      <td>NaN</td>\n",
              "      <td>\\nThis editorial is from Bloomberg Opinion:In ...</td>\n",
              "      <td>other</td>\n",
              "    </tr>\n",
              "    <tr>\n",
              "      <th>3</th>\n",
              "      <td>3</td>\n",
              "      <td>Press Democrat</td>\n",
              "      <td>https://www.pressdemocrat.com/opinion/editoria...</td>\n",
              "      <td>2019-07-02 00:00:00</td>\n",
              "      <td>smart, crossing, sidewalks, pedestrians, train...</td>\n",
              "      <td>PD Editorial: Safe rail crossings are up to SM...</td>\n",
              "      <td>THE EDITORIAL BOARD</td>\n",
              "      <td>\\nWhen a SMART train approaches Golf Course Dr...</td>\n",
              "      <td>other</td>\n",
              "    </tr>\n",
              "    <tr>\n",
              "      <th>4</th>\n",
              "      <td>4</td>\n",
              "      <td>Press Democrat</td>\n",
              "      <td>https://www.pressdemocrat.com/entertainment/bo...</td>\n",
              "      <td>2019-07-03 00:00:00</td>\n",
              "      <td>library, fines, sonoma, county, libraries, boo...</td>\n",
              "      <td>PD Editorial: Libraries without fines? One mor...</td>\n",
              "      <td>THE EDITORIAL BOARD</td>\n",
              "      <td>\\nLibrarians across the country \\xe2\\x80\\x94 i...</td>\n",
              "      <td>other</td>\n",
              "    </tr>\n",
              "  </tbody>\n",
              "</table>\n",
              "</div>"
            ],
            "text/plain": [
              "   Unnamed: 0  ...  label\n",
              "0           0  ...  other\n",
              "1           1  ...  other\n",
              "2           2  ...  other\n",
              "3           3  ...  other\n",
              "4           4  ...  other\n",
              "\n",
              "[5 rows x 9 columns]"
            ]
          },
          "metadata": {
            "tags": []
          },
          "execution_count": 3
        }
      ]
    },
    {
      "cell_type": "code",
      "metadata": {
        "id": "4rO8kMYhwcH4",
        "colab_type": "code",
        "outputId": "91ae7c88-fa73-418a-b0e7-a616e309b4d0",
        "colab": {
          "base_uri": "https://localhost:8080/",
          "height": 33
        }
      },
      "source": [
        "#Collecting Part of speech\n",
        "regular_pos_all = {'ADJ': [], 'ADP': [], 'ADV': [], 'AUX': [], 'CONJ': [], \n",
        "                   'DET': [], 'INTJ': [], 'NOUN': [], 'NUM': [], 'PART': [], \n",
        "                   'PRON': [], 'PROPN': [], 'PUNCT': [], 'SCONJ': [], 'SYM': [],\n",
        "                   'VERB': [], 'X':[],'SPACE':[], 'CCONJ' : []}\n",
        "\n",
        "op_pos_all = {'ADJ': [], 'ADP': [], 'ADV': [], 'AUX': [], 'CONJ': [], 'DET': [],\n",
        "              'INTJ': [], 'NOUN': [], 'NUM': [], 'PART': [], 'PRON': [],\n",
        "              'PROPN': [], 'PUNCT': [], 'SCONJ': [], 'SYM': [], 'VERB': [], \n",
        "              'X':[], 'SPACE':[], 'CCONJ' : []}\n",
        "\n",
        "start_time = time.time()\n",
        "for j, row in df.iterrows():\n",
        "    nlp = spacy.load('en_core_web_sm')\n",
        "    article = row['article_text']\n",
        "    try:\n",
        "        doc = nlp(article)\n",
        "        regular_pos = {}\n",
        "        op_pos = {}\n",
        "        for token in doc:\n",
        "            if row['label'] == 'regular':\n",
        "                if token.pos_ not in regular_pos.keys():\n",
        "                    regular_pos[token.pos_] = 1\n",
        "                else:\n",
        "                    regular_pos[token.pos_] +=1\n",
        "            else:\n",
        "                if token.pos_ not in op_pos.keys():\n",
        "                    op_pos[token.pos_] = 1\n",
        "                else:\n",
        "                    op_pos[token.pos_] +=1\n",
        "\n",
        "        for i in op_pos.keys():\n",
        "            op_pos_all[i].append(op_pos[i]/len(doc))\n",
        "\n",
        "        for i in regular_pos.keys():\n",
        "            regular_pos_all[i].append(regular_pos[i]/len(doc))\n",
        "        break\n",
        "    \n",
        "    except:\n",
        "        print(j)\n",
        "        continue\n",
        "print(\"Time for execution = %s seconds ---\" % round((time.time() - start_time),2))\n"
      ],
      "execution_count": 0,
      "outputs": [
        {
          "output_type": "stream",
          "text": [
            "Time for execution = 2074.33 seconds ---\n"
          ],
          "name": "stdout"
        }
      ]
    },
    {
      "cell_type": "code",
      "metadata": {
        "id": "B793ytlU8T8h",
        "colab_type": "code",
        "colab": {}
      },
      "source": [
        "# Saving to a json file for future reference\n",
        "import json\n",
        "with open('regular_pos_all.json', 'w') as fp:\n",
        "    json.dump(regular_pos_all, fp)\n",
        "with open('op_pos_all.json', 'w') as fp2:\n",
        "    json.dump(op_pos_all, fp2)"
      ],
      "execution_count": 0,
      "outputs": []
    },
    {
      "cell_type": "code",
      "metadata": {
        "id": "FqMkZ-GKEjUa",
        "colab_type": "code",
        "colab": {}
      },
      "source": [
        "# Read from json file which was saved - Execute from here for re-running the results\n",
        "\n",
        "with open('regular_pos_all.json') as json_file:\n",
        "    regular_pos_all = json.load(json_file)\n",
        "with open('op_pos_all.json') as json_file:\n",
        "    op_pos_all = json.load(json_file)"
      ],
      "execution_count": 0,
      "outputs": []
    },
    {
      "cell_type": "markdown",
      "metadata": {
        "id": "b8FWic30yYJx",
        "colab_type": "text"
      },
      "source": [
        "As some of the attributes are not that significant in our analysis, we drop them from the plot\n",
        "\n",
        "\n",
        "We Drop the following POS\n",
        "\n",
        "\n",
        "- `CONJ` : coordinating conjunction\n",
        "\n",
        "- `SCONJ` : subordinating conjunction\n",
        "\n",
        "- `SYM`: symbol\n",
        "\n",
        "- `VERB` : verb\n",
        "\n",
        "- `X` : other"
      ]
    },
    {
      "cell_type": "code",
      "metadata": {
        "id": "ocl4oprZr1OL",
        "colab_type": "code",
        "colab": {}
      },
      "source": [
        "#Preparing DataFrame for plotting from the dictionary\n",
        "reg_pos_df = pd.DataFrame(dict([ (k,pd.Series(v)) for k,v in regular_pos_all.items() ]))\n",
        "reg_pos_df = reg_pos_df.drop(columns=['CONJ', 'SCONJ', 'X', 'SYM', 'PUNCT'])\n",
        "\n",
        "op_pos_df = pd.DataFrame(dict([ (k,pd.Series(v)) for k,v in op_pos_all.items() ]))\n",
        "op_pos_df = op_pos_df.drop(columns=['CONJ', 'SCONJ', 'X', 'SYM', 'PUNCT'])"
      ],
      "execution_count": 0,
      "outputs": []
    },
    {
      "cell_type": "code",
      "metadata": {
        "id": "Pk4JyUqVr1ON",
        "colab_type": "code",
        "outputId": "b2283579-3839-48f8-9d60-35ee1e032580",
        "colab": {
          "base_uri": "https://localhost:8080/",
          "height": 1000
        }
      },
      "source": [
        "#Preparing the charts\n",
        "fig, ax = plt.subplots(4,3, figsize=(16,16))\n",
        "fig.suptitle('Distribution of different Parts of Speech', fontweight='bold')\n",
        "plt.subplots_adjust(hspace=0.5)\n",
        "plt.style.use('ggplot')\n",
        "pos = reg_pos_df.columns\n",
        "\n",
        "for i in range(4):\n",
        "    for j in range(3):\n",
        "        bins = np.histogram(np.hstack((op_pos_df[pos[0]],\n",
        "                                       reg_pos_df[pos[0]]))[~np.isnan(np.hstack((op_pos_df[pos[0]],\n",
        "                                                                                      reg_pos_df[pos[0]])))], \n",
        "                            bins=20)[1] \n",
        "        _ = ax[i, j].hist(op_pos_df[pos[0]], alpha=0.5, bins = bins, label='Non-Regular')\n",
        "        _ = ax[i, j].hist(reg_pos_df[pos[0]], alpha=0.5, bins = bins, label='Regular')\n",
        "        _ = ax[i, j].set_title(pos[0], fontweight='bold')\n",
        "        _ = ax[i, j].legend()\n",
        "        \n",
        "        pos = pos[1:]\n",
        "    \n",
        "_ = ax[3, 0].set_xlabel('Instances by article length', fontweight='bold')\n",
        "_ = ax[3, 1].set_xlabel('Instances by article length', fontweight='bold')\n",
        "_ = ax[3, 2].set_xlabel('Instances by article length', fontweight='bold')\n",
        "\n",
        "_ = ax[0, 0].set_ylabel('Articles', fontweight='bold')\n",
        "_ = ax[1, 0].set_ylabel('Articles', fontweight='bold')\n",
        "_ = ax[2, 0].set_ylabel('Articles', fontweight='bold')\n",
        "_ = ax[3, 0].set_ylabel('Articles', fontweight='bold')"
      ],
      "execution_count": 0,
      "outputs": [
        {
          "output_type": "display_data",
          "data": {
            "image/png": "[encoded data removed]",
            "text/plain": [
              "<Figure size 1152x1152 with 12 Axes>"
            ]
          },
          "metadata": {
            "tags": []
          }
        }
      ]
    },
    {
      "cell_type": "markdown",
      "metadata": {
        "id": "QI22XfRZr1OQ",
        "colab_type": "text"
      },
      "source": [
        "**Results and observations**\n",
        "\n",
        "Most of the Graphs follow a normal distribution, which was quite expected. But there are some striking differences in the distribution of parts of speech in the two classes:\n",
        "\n",
        "\n",
        "- Parts of speech like `Adjective` and `Adverbs` seem to be used more frequently in Non-Regular Articles than in Regular Articles. This is probably because non regular articles (Editorials, Oped, Guest editorial) are generally more opionated than regular articles and are often are more of a \"decriptive analysis\" of the Nouns (Person/Topic of interest) and Verbs (Action of interest), than factual news items. Similarly, `Determiners`, `Particles`, `Nouns` and `Verbs` are slightly higher as well, but are not that significant\n",
        "\n",
        "- On the other hand, `Numbers` and `Proper-Nouns` are on a higher side in  Regular Articles than in Non-Regular Articles. The explaination is quite obvious in case of `Numbers`, as Regular articles contain more factual information like numbers and quantities than Non-regular articles. It is not obvious in case of `Proper-Nouns`, but we believe that they have a higher share in the article text than in Non-regular news articles because Regular articles talk about a wide range of different (but related) 'subjects' in the same article, but Non-regular opinions do not have that wide of a range of subjects to talk about and stick to a same person of interest (probably the reason they have slightly more of `Pronouns` use than regylar articles). \n",
        "\n",
        "\n",
        "\n",
        "**Notes**\n",
        "\n",
        "- Regular articles are taken as regular and the rest are characterised as \"Non-Regular\"\n",
        "\n",
        "- The data for Regular articles is undersampled\n",
        "\n",
        "- The bins in the charts are are left exclusive (i.e the first bin does not include the value 0), So all articles with count 0 for a particular part of speech will be discarded from the graph\n",
        "\n",
        "\n"
      ]
    }
  ]
}