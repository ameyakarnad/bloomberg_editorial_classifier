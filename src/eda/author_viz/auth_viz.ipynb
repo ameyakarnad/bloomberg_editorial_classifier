{
  "nbformat": 4,
  "nbformat_minor": 0,
  "metadata": {
    "colab": {
      "name": "auth_viz.ipynb",
      "provenance": [],
      "collapsed_sections": []
    },
    "kernelspec": {
      "name": "python3",
      "display_name": "Python 3"
    }
  },
  "cells": [
    {
      "cell_type": "code",
      "metadata": {
        "id": "XtgpkkQnd3rV",
        "colab_type": "code",
        "outputId": "756a0313-424d-4d0f-8a98-74389d45fa78",
        "colab": {
          "base_uri": "https://localhost:8080/",
          "height": 34
        }
      },
      "source": [
        "import numpy as np\n",
        "import pandas as pd\n",
        "import matplotlib.pyplot as plt\n",
        "\n",
        "from google.colab import drive\n",
        "drive.mount('/content/gdrive', force_remount=True)\n"
      ],
      "execution_count": 1,
      "outputs": [
        {
          "output_type": "stream",
          "text": [
            "Mounted at /content/gdrive\n"
          ],
          "name": "stdout"
        }
      ]
    },
    {
      "cell_type": "code",
      "metadata": {
        "id": "B9s7zIAvfETz",
        "colab_type": "code",
        "outputId": "e8f87367-0f35-48c6-820f-234baab59254",
        "colab": {
          "base_uri": "https://localhost:8080/",
          "height": 34
        }
      },
      "source": [
        "!ls /content/gdrive/'My Drive'/'combined_data.csv'"
      ],
      "execution_count": 2,
      "outputs": [
        {
          "output_type": "stream",
          "text": [
            "'/content/gdrive/My Drive/combined_data.csv'\n"
          ],
          "name": "stdout"
        }
      ]
    },
    {
      "cell_type": "code",
      "metadata": {
        "id": "yKvQYyrtdx3A",
        "colab_type": "code",
        "colab": {
          "base_uri": "https://localhost:8080/",
          "height": 68
        },
        "outputId": "fe3bbdc0-be7b-4e20-b0a2-df4ca306276e"
      },
      "source": [
        "base = pd.read_csv('/content/gdrive/My Drive/combined_data.csv', encoding='utf-8')\n",
        "print(base.columns)"
      ],
      "execution_count": 47,
      "outputs": [
        {
          "output_type": "stream",
          "text": [
            "Index(['source_name', 'url', 'created_date', 'tag', 'heading', 'author',\n",
            "       'article_text', 'label'],\n",
            "      dtype='object')\n"
          ],
          "name": "stdout"
        }
      ]
    },
    {
      "cell_type": "code",
      "metadata": {
        "id": "1VNfeUg3eLEr",
        "colab_type": "code",
        "colab": {}
      },
      "source": [
        "inp_file0 = base.copy()"
      ],
      "execution_count": 0,
      "outputs": []
    },
    {
      "cell_type": "code",
      "metadata": {
        "id": "LuQfDgusf6uG",
        "colab_type": "code",
        "colab": {}
      },
      "source": [
        "# regular 0 non regular all others\n",
        "inp_file0['label'] = inp_file0['label'].apply(lambda x: 'regular' if x=='regular' else 'other')"
      ],
      "execution_count": 0,
      "outputs": []
    },
    {
      "cell_type": "code",
      "metadata": {
        "id": "wydVEn2TRDfq",
        "colab_type": "code",
        "outputId": "d6404122-dab2-4f72-a68a-367b16689392",
        "colab": {
          "base_uri": "https://localhost:8080/",
          "height": 340
        }
      },
      "source": [
        "inp_file0.head()"
      ],
      "execution_count": 6,
      "outputs": [
        {
          "output_type": "execute_result",
          "data": {
            "text/html": [
              "<div>\n",
              "<style scoped>\n",
              "    .dataframe tbody tr th:only-of-type {\n",
              "        vertical-align: middle;\n",
              "    }\n",
              "\n",
              "    .dataframe tbody tr th {\n",
              "        vertical-align: top;\n",
              "    }\n",
              "\n",
              "    .dataframe thead th {\n",
              "        text-align: right;\n",
              "    }\n",
              "</style>\n",
              "<table border=\"1\" class=\"dataframe\">\n",
              "  <thead>\n",
              "    <tr style=\"text-align: right;\">\n",
              "      <th></th>\n",
              "      <th>source_name</th>\n",
              "      <th>url</th>\n",
              "      <th>created_date</th>\n",
              "      <th>tag</th>\n",
              "      <th>heading</th>\n",
              "      <th>author</th>\n",
              "      <th>article_text</th>\n",
              "      <th>label</th>\n",
              "    </tr>\n",
              "  </thead>\n",
              "  <tbody>\n",
              "    <tr>\n",
              "      <th>0</th>\n",
              "      <td>Press Democrat</td>\n",
              "      <td>https://www.pressdemocrat.com/specialsections/...</td>\n",
              "      <td>2019-06-29 00:00:00</td>\n",
              "      <td>homes, construction, larkfield, estates, worke...</td>\n",
              "      <td>Larkfield\\xe2\\x80\\x99s returning residents cop...</td>\n",
              "      <td>GUY KOVNER</td>\n",
              "      <td>\\nHaley and Fletcher Skerrett loved suburban L...</td>\n",
              "      <td>regular</td>\n",
              "    </tr>\n",
              "    <tr>\n",
              "      <th>1</th>\n",
              "      <td>Press Democrat</td>\n",
              "      <td>https://www.pressdemocrat.com/specialsections/...</td>\n",
              "      <td>2019-07-16 00:00:00</td>\n",
              "      <td>hospital, fire, rosa, santa, tito, fires, jose...</td>\n",
              "      <td>'You felt more normal': St. Joseph Health empl...</td>\n",
              "      <td>MARTIN ESPINOZA</td>\n",
              "      <td>\\nThere is little sign today of the smoke-lace...</td>\n",
              "      <td>regular</td>\n",
              "    </tr>\n",
              "    <tr>\n",
              "      <th>2</th>\n",
              "      <td>Press Democrat</td>\n",
              "      <td>https://www.pressdemocrat.com/specialsections/...</td>\n",
              "      <td>2019-07-23 00:00:00</td>\n",
              "      <td>sandy, sonoma, angie, center, luz, sisters, co...</td>\n",
              "      <td>Sonoma Valley sisters join forces to give fire...</td>\n",
              "      <td>DIANNE REBER HART</td>\n",
              "      <td>\\nWhen the North Bay wildfires broke out in 20...</td>\n",
              "      <td>regular</td>\n",
              "    </tr>\n",
              "    <tr>\n",
              "      <th>3</th>\n",
              "      <td>Press Democrat</td>\n",
              "      <td>https://www.pressdemocrat.com/specialsections/...</td>\n",
              "      <td>2019-07-03 00:00:00</td>\n",
              "      <td>campus, teachers, hidden, students, valley, sa...</td>\n",
              "      <td>Santa Rosa teachers rebuild sense of safety on...</td>\n",
              "      <td>MATT VILLANO</td>\n",
              "      <td>\\nThe rebuilding process has taken many forms ...</td>\n",
              "      <td>regular</td>\n",
              "    </tr>\n",
              "    <tr>\n",
              "      <th>4</th>\n",
              "      <td>Press Democrat</td>\n",
              "      <td>https://www.pressdemocrat.com/specialsections/...</td>\n",
              "      <td>2019-07-01 00:00:00</td>\n",
              "      <td>fire, montecito, heights, neighbors, flames, n...</td>\n",
              "      <td>\\xe2\\x80\\x98I had to get it down\\xe2\\x80\\x99: ...</td>\n",
              "      <td>CHRIS SMITH</td>\n",
              "      <td>\\nWe\\xe2\\x80\\x99ll never know if retired schoo...</td>\n",
              "      <td>regular</td>\n",
              "    </tr>\n",
              "  </tbody>\n",
              "</table>\n",
              "</div>"
            ],
            "text/plain": [
              "      source_name  ...    label\n",
              "0  Press Democrat  ...  regular\n",
              "1  Press Democrat  ...  regular\n",
              "2  Press Democrat  ...  regular\n",
              "3  Press Democrat  ...  regular\n",
              "4  Press Democrat  ...  regular\n",
              "\n",
              "[5 rows x 8 columns]"
            ]
          },
          "metadata": {
            "tags": []
          },
          "execution_count": 6
        }
      ]
    },
    {
      "cell_type": "code",
      "metadata": {
        "id": "4n3WTlRFiwGq",
        "colab_type": "code",
        "outputId": "9d5f2f9d-684d-4e44-b5aa-3b28075bc511",
        "colab": {
          "base_uri": "https://localhost:8080/",
          "height": 34
        }
      },
      "source": [
        "print(inp_file0['label'].unique())"
      ],
      "execution_count": 7,
      "outputs": [
        {
          "output_type": "stream",
          "text": [
            "['regular' 'other']\n"
          ],
          "name": "stdout"
        }
      ]
    },
    {
      "cell_type": "code",
      "metadata": {
        "id": "vrDNzmDQdp0a",
        "colab_type": "code",
        "outputId": "d1bb985c-c54c-4cbb-ada7-f4ec956cc857",
        "colab": {
          "base_uri": "https://localhost:8080/",
          "height": 68
        }
      },
      "source": [
        "# the news sources being covered currently\n",
        "print(inp_file0['source_name'].unique())"
      ],
      "execution_count": 8,
      "outputs": [
        {
          "output_type": "stream",
          "text": [
            "['Press Democrat' 'NW Florida Daily' 'Gazette-mail'\n",
            " 'Washington Observer Report' 'Californian' 'New York Times' 'Enid News'\n",
            " 'NJSpotlight' 'Digital Journal']\n"
          ],
          "name": "stdout"
        }
      ]
    },
    {
      "cell_type": "code",
      "metadata": {
        "id": "MH-0QZ0ejMRg",
        "colab_type": "code",
        "colab": {}
      },
      "source": [
        "# grouping the file by source name and author\n",
        "inp_file = inp_file0.groupby(['source_name','author']).size().reset_index(name='counts')"
      ],
      "execution_count": 0,
      "outputs": []
    },
    {
      "cell_type": "code",
      "metadata": {
        "id": "jU2zvfKAWFPp",
        "colab_type": "code",
        "colab": {}
      },
      "source": [
        "import matplotlib.pyplot as plt\n",
        "# function to plot a histogram\n",
        "\n",
        "def plot_graph(df, title):\n",
        "  plt.bar(df.loc[:, 'author'], df.loc[:, 'counts'], align='center')\n",
        "  plt.xticks(rotation=90)\n",
        "  plt.xlabel('Author Name')\n",
        "  plt.ylabel('No of articles')\n",
        "  plt.title(title)\n",
        "  "
      ],
      "execution_count": 0,
      "outputs": []
    },
    {
      "cell_type": "code",
      "metadata": {
        "id": "aCvmgYFzZ8Jc",
        "colab_type": "code",
        "colab": {}
      },
      "source": [
        "# Top authors for regular and non-regular combined for New York Times\n",
        "inp_file2 = inp_file0.groupby(['label','author']).size().reset_index(name='counts')"
      ],
      "execution_count": 0,
      "outputs": []
    },
    {
      "cell_type": "code",
      "metadata": {
        "id": "1WNQe6BDwZ8v",
        "colab_type": "code",
        "colab": {
          "base_uri": "https://localhost:8080/",
          "height": 328
        },
        "outputId": "720d20c5-b71f-42b4-a382-24a2eb8a9aa6"
      },
      "source": [
        "# filtering based on regular article type\n",
        "regular = inp_file2[inp_file2['label'].str.match('regular')].sort_values('counts', ascending=False)\n",
        "df1 = regular.iloc[1:10, 1:3]\n",
        "df1"
      ],
      "execution_count": 12,
      "outputs": [
        {
          "output_type": "execute_result",
          "data": {
            "text/html": [
              "<div>\n",
              "<style scoped>\n",
              "    .dataframe tbody tr th:only-of-type {\n",
              "        vertical-align: middle;\n",
              "    }\n",
              "\n",
              "    .dataframe tbody tr th {\n",
              "        vertical-align: top;\n",
              "    }\n",
              "\n",
              "    .dataframe thead th {\n",
              "        text-align: right;\n",
              "    }\n",
              "</style>\n",
              "<table border=\"1\" class=\"dataframe\">\n",
              "  <thead>\n",
              "    <tr style=\"text-align: right;\">\n",
              "      <th></th>\n",
              "      <th>author</th>\n",
              "      <th>counts</th>\n",
              "    </tr>\n",
              "  </thead>\n",
              "  <tbody>\n",
              "    <tr>\n",
              "      <th>4461</th>\n",
              "      <td>Tim Sandle</td>\n",
              "      <td>700</td>\n",
              "    </tr>\n",
              "    <tr>\n",
              "      <th>2428</th>\n",
              "      <td>Cass Rains</td>\n",
              "      <td>588</td>\n",
              "    </tr>\n",
              "    <tr>\n",
              "      <th>3421</th>\n",
              "      <td>Karen Graham</td>\n",
              "      <td>578</td>\n",
              "    </tr>\n",
              "    <tr>\n",
              "      <th>4435</th>\n",
              "      <td>The Bakersfield Californian</td>\n",
              "      <td>571</td>\n",
              "    </tr>\n",
              "    <tr>\n",
              "      <th>4337</th>\n",
              "      <td>Staff</td>\n",
              "      <td>553</td>\n",
              "    </tr>\n",
              "    <tr>\n",
              "      <th>3823</th>\n",
              "      <td>Mitchell Willetts</td>\n",
              "      <td>479</td>\n",
              "    </tr>\n",
              "    <tr>\n",
              "      <th>3164</th>\n",
              "      <td>James Neal</td>\n",
              "      <td>442</td>\n",
              "    </tr>\n",
              "    <tr>\n",
              "      <th>2768</th>\n",
              "      <td>Enid News &amp; Eagle</td>\n",
              "      <td>429</td>\n",
              "    </tr>\n",
              "    <tr>\n",
              "      <th>4342</th>\n",
              "      <td>Staff report</td>\n",
              "      <td>359</td>\n",
              "    </tr>\n",
              "  </tbody>\n",
              "</table>\n",
              "</div>"
            ],
            "text/plain": [
              "                           author  counts\n",
              "4461                   Tim Sandle     700\n",
              "2428                  Cass Rains      588\n",
              "3421                 Karen Graham     578\n",
              "4435  The Bakersfield Californian     571\n",
              "4337                        Staff     553\n",
              "3823           Mitchell Willetts      479\n",
              "3164                  James Neal      442\n",
              "2768            Enid News & Eagle     429\n",
              "4342                 Staff report     359"
            ]
          },
          "metadata": {
            "tags": []
          },
          "execution_count": 12
        }
      ]
    },
    {
      "cell_type": "code",
      "metadata": {
        "id": "Lwh5aOUFwdud",
        "colab_type": "code",
        "colab": {
          "base_uri": "https://localhost:8080/",
          "height": 420
        },
        "outputId": "e613a360-a335-45d6-9c1b-1640e54fa259"
      },
      "source": [
        "plot_graph(df1, 'Top authors for regular type')"
      ],
      "execution_count": 13,
      "outputs": [
        {
          "output_type": "display_data",
          "data": {
            "image/png": "[encoded data removed]",
            "text/plain": [
              "<Figure size 432x288 with 1 Axes>"
            ]
          },
          "metadata": {
            "tags": []
          }
        }
      ]
    },
    {
      "cell_type": "code",
      "metadata": {
        "id": "xVgN7ygMwjL7",
        "colab_type": "code",
        "colab": {
          "base_uri": "https://localhost:8080/",
          "height": 328
        },
        "outputId": "8980df29-1497-47c5-9084-2f544f7d72a7"
      },
      "source": [
        "# filtering based on non-regular article type\n",
        "non_regular = inp_file2[inp_file2['label'].str.match('other')].sort_values('counts', ascending=False)\n",
        "df2 = non_regular.iloc[1:10, 1:3]\n",
        "df2"
      ],
      "execution_count": 14,
      "outputs": [
        {
          "output_type": "execute_result",
          "data": {
            "text/html": [
              "<div>\n",
              "<style scoped>\n",
              "    .dataframe tbody tr th:only-of-type {\n",
              "        vertical-align: middle;\n",
              "    }\n",
              "\n",
              "    .dataframe tbody tr th {\n",
              "        vertical-align: top;\n",
              "    }\n",
              "\n",
              "    .dataframe thead th {\n",
              "        text-align: right;\n",
              "    }\n",
              "</style>\n",
              "<table border=\"1\" class=\"dataframe\">\n",
              "  <thead>\n",
              "    <tr style=\"text-align: right;\">\n",
              "      <th></th>\n",
              "      <th>author</th>\n",
              "      <th>counts</th>\n",
              "    </tr>\n",
              "  </thead>\n",
              "  <tbody>\n",
              "    <tr>\n",
              "      <th>849</th>\n",
              "      <td>Ken Hanly</td>\n",
              "      <td>97</td>\n",
              "    </tr>\n",
              "    <tr>\n",
              "      <th>1165</th>\n",
              "      <td>Paul Wallis</td>\n",
              "      <td>92</td>\n",
              "    </tr>\n",
              "    <tr>\n",
              "      <th>1400</th>\n",
              "      <td>THE EDITORIAL BOARD</td>\n",
              "      <td>88</td>\n",
              "    </tr>\n",
              "    <tr>\n",
              "      <th>619</th>\n",
              "      <td>James Neal</td>\n",
              "      <td>76</td>\n",
              "    </tr>\n",
              "    <tr>\n",
              "      <th>658</th>\n",
              "      <td>Jeff Mullin</td>\n",
              "      <td>73</td>\n",
              "    </tr>\n",
              "    <tr>\n",
              "      <th>1128</th>\n",
              "      <td>Not available</td>\n",
              "      <td>63</td>\n",
              "    </tr>\n",
              "    <tr>\n",
              "      <th>327</th>\n",
              "      <td>Dave Ruthenberg</td>\n",
              "      <td>43</td>\n",
              "    </tr>\n",
              "    <tr>\n",
              "      <th>335</th>\n",
              "      <td>David Christy</td>\n",
              "      <td>40</td>\n",
              "    </tr>\n",
              "    <tr>\n",
              "      <th>814</th>\n",
              "      <td>Karen Graham</td>\n",
              "      <td>38</td>\n",
              "    </tr>\n",
              "  </tbody>\n",
              "</table>\n",
              "</div>"
            ],
            "text/plain": [
              "                   author  counts\n",
              "849             Ken Hanly      97\n",
              "1165          Paul Wallis      92\n",
              "1400  THE EDITORIAL BOARD      88\n",
              "619           James Neal       76\n",
              "658          Jeff Mullin       73\n",
              "1128        Not available      63\n",
              "327      Dave Ruthenberg       43\n",
              "335        David Christy       40\n",
              "814          Karen Graham      38"
            ]
          },
          "metadata": {
            "tags": []
          },
          "execution_count": 14
        }
      ]
    },
    {
      "cell_type": "code",
      "metadata": {
        "id": "sIWI6TNRwmie",
        "colab_type": "code",
        "colab": {
          "base_uri": "https://localhost:8080/",
          "height": 400
        },
        "outputId": "0475539f-7301-4594-a0ef-9d8c84f9a4de"
      },
      "source": [
        "plot_graph(df2, 'Top authors for non-regular type')"
      ],
      "execution_count": 15,
      "outputs": [
        {
          "output_type": "display_data",
          "data": {
            "image/png": "[encoded data removed]",
            "text/plain": [
              "<Figure size 432x288 with 1 Axes>"
            ]
          },
          "metadata": {
            "tags": []
          }
        }
      ]
    },
    {
      "cell_type": "code",
      "metadata": {
        "id": "ZdngF0RwiHQt",
        "colab_type": "code",
        "outputId": "cee52e97-0c9d-450b-f90d-818a694cee6e",
        "colab": {
          "base_uri": "https://localhost:8080/",
          "height": 328
        }
      },
      "source": [
        "ny_times = inp_file[inp_file['source_name'].str.match('New York Times')].sort_values('counts', ascending=False)\n",
        "df = ny_times.iloc[1:10, 1:3]\n",
        "df"
      ],
      "execution_count": 16,
      "outputs": [
        {
          "output_type": "execute_result",
          "data": {
            "text/html": [
              "<div>\n",
              "<style scoped>\n",
              "    .dataframe tbody tr th:only-of-type {\n",
              "        vertical-align: middle;\n",
              "    }\n",
              "\n",
              "    .dataframe tbody tr th {\n",
              "        vertical-align: top;\n",
              "    }\n",
              "\n",
              "    .dataframe thead th {\n",
              "        text-align: right;\n",
              "    }\n",
              "</style>\n",
              "<table border=\"1\" class=\"dataframe\">\n",
              "  <thead>\n",
              "    <tr style=\"text-align: right;\">\n",
              "      <th></th>\n",
              "      <th>author</th>\n",
              "      <th>counts</th>\n",
              "    </tr>\n",
              "  </thead>\n",
              "  <tbody>\n",
              "    <tr>\n",
              "      <th>3509</th>\n",
              "      <td>The Editorial Board</td>\n",
              "      <td>37</td>\n",
              "    </tr>\n",
              "    <tr>\n",
              "      <th>3508</th>\n",
              "      <td>The Associated Press</td>\n",
              "      <td>33</td>\n",
              "    </tr>\n",
              "    <tr>\n",
              "      <th>3511</th>\n",
              "      <td>The New York Times</td>\n",
              "      <td>32</td>\n",
              "    </tr>\n",
              "    <tr>\n",
              "      <th>3193</th>\n",
              "      <td>Katie Rogers</td>\n",
              "      <td>20</td>\n",
              "    </tr>\n",
              "    <tr>\n",
              "      <th>3237</th>\n",
              "      <td>Maggie Haberman</td>\n",
              "      <td>20</td>\n",
              "    </tr>\n",
              "    <tr>\n",
              "      <th>2904</th>\n",
              "      <td>Charles McDermid</td>\n",
              "      <td>20</td>\n",
              "    </tr>\n",
              "    <tr>\n",
              "      <th>2913</th>\n",
              "      <td>Chris Stanford</td>\n",
              "      <td>17</td>\n",
              "    </tr>\n",
              "    <tr>\n",
              "      <th>3192</th>\n",
              "      <td>Katie Benner</td>\n",
              "      <td>16</td>\n",
              "    </tr>\n",
              "    <tr>\n",
              "      <th>3154</th>\n",
              "      <td>Jonathan Martin</td>\n",
              "      <td>16</td>\n",
              "    </tr>\n",
              "  </tbody>\n",
              "</table>\n",
              "</div>"
            ],
            "text/plain": [
              "                    author  counts\n",
              "3509   The Editorial Board      37\n",
              "3508  The Associated Press      33\n",
              "3511    The New York Times      32\n",
              "3193          Katie Rogers      20\n",
              "3237       Maggie Haberman      20\n",
              "2904      Charles McDermid      20\n",
              "2913        Chris Stanford      17\n",
              "3192          Katie Benner      16\n",
              "3154       Jonathan Martin      16"
            ]
          },
          "metadata": {
            "tags": []
          },
          "execution_count": 16
        }
      ]
    },
    {
      "cell_type": "code",
      "metadata": {
        "id": "i12nyHumiSLI",
        "colab_type": "code",
        "outputId": "26f425c9-1540-4e86-ddf1-263f5071007d",
        "colab": {
          "base_uri": "https://localhost:8080/",
          "height": 391
        }
      },
      "source": [
        "plot_graph(df, 'Author vs No of articles for New York Times')"
      ],
      "execution_count": 17,
      "outputs": [
        {
          "output_type": "display_data",
          "data": {
            "image/png": "[encoded data removed]",
            "text/plain": [
              "<Figure size 432x288 with 1 Axes>"
            ]
          },
          "metadata": {
            "tags": []
          }
        }
      ]
    },
    {
      "cell_type": "code",
      "metadata": {
        "id": "NX0yX5Cnkj-R",
        "colab_type": "code",
        "colab": {}
      },
      "source": [
        "# Top authors for regular and non-regular combined for Washington Observer Report\n",
        "wa_observer = inp_file[inp_file['source_name'].str.match('Washington Observer Report')].sort_values('counts', ascending=False)\n",
        "wa_observer[['author_fname', 'author_lname', 'email']] = wa_observer['author'].str.split(' ', 2, expand=True)"
      ],
      "execution_count": 0,
      "outputs": []
    },
    {
      "cell_type": "code",
      "metadata": {
        "id": "wGIGVpz83Atn",
        "colab_type": "code",
        "colab": {
          "base_uri": "https://localhost:8080/",
          "height": 68
        },
        "outputId": "e6b7aec0-8521-4e17-dc2b-4b8492c61e37"
      },
      "source": [
        "wa_observer.columns"
      ],
      "execution_count": 19,
      "outputs": [
        {
          "output_type": "execute_result",
          "data": {
            "text/plain": [
              "Index(['source_name', 'author', 'counts', 'author_fname', 'author_lname',\n",
              "       'email'],\n",
              "      dtype='object')"
            ]
          },
          "metadata": {
            "tags": []
          },
          "execution_count": 19
        }
      ]
    },
    {
      "cell_type": "code",
      "metadata": {
        "id": "0NqrV9dJ2-d7",
        "colab_type": "code",
        "colab": {}
      },
      "source": [
        "df = wa_observer.iloc[0:10, 1:5]"
      ],
      "execution_count": 0,
      "outputs": []
    },
    {
      "cell_type": "code",
      "metadata": {
        "id": "58v_9vTA8niP",
        "colab_type": "code",
        "colab": {}
      },
      "source": [
        "df['author_lname'].fillna(value='', inplace=True)"
      ],
      "execution_count": 0,
      "outputs": []
    },
    {
      "cell_type": "code",
      "metadata": {
        "id": "DH2JGNdx8XV_",
        "colab_type": "code",
        "colab": {
          "base_uri": "https://localhost:8080/",
          "height": 359
        },
        "outputId": "a7f1ffaa-6e75-420b-dd50-0b0637515b9f"
      },
      "source": [
        "df"
      ],
      "execution_count": 22,
      "outputs": [
        {
          "output_type": "execute_result",
          "data": {
            "text/html": [
              "<div>\n",
              "<style scoped>\n",
              "    .dataframe tbody tr th:only-of-type {\n",
              "        vertical-align: middle;\n",
              "    }\n",
              "\n",
              "    .dataframe tbody tr th {\n",
              "        vertical-align: top;\n",
              "    }\n",
              "\n",
              "    .dataframe thead th {\n",
              "        text-align: right;\n",
              "    }\n",
              "</style>\n",
              "<table border=\"1\" class=\"dataframe\">\n",
              "  <thead>\n",
              "    <tr style=\"text-align: right;\">\n",
              "      <th></th>\n",
              "      <th>author</th>\n",
              "      <th>counts</th>\n",
              "      <th>author_fname</th>\n",
              "      <th>author_lname</th>\n",
              "    </tr>\n",
              "  </thead>\n",
              "  <tbody>\n",
              "    <tr>\n",
              "      <th>4585</th>\n",
              "      <td>Staff</td>\n",
              "      <td>568</td>\n",
              "      <td>Staff</td>\n",
              "      <td></td>\n",
              "    </tr>\n",
              "    <tr>\n",
              "      <th>4574</th>\n",
              "      <td>Rick Shrum Business writer rshrum@observer-rep...</td>\n",
              "      <td>83</td>\n",
              "      <td>Rick</td>\n",
              "      <td>Shrum</td>\n",
              "    </tr>\n",
              "    <tr>\n",
              "      <th>4533</th>\n",
              "      <td>Katie Anderson Staff writer kanderson@observer...</td>\n",
              "      <td>72</td>\n",
              "      <td>Katie</td>\n",
              "      <td>Anderson</td>\n",
              "    </tr>\n",
              "    <tr>\n",
              "      <th>4457</th>\n",
              "      <td>Barbara S. Miller Staff writer bmiller@observe...</td>\n",
              "      <td>71</td>\n",
              "      <td>Barbara</td>\n",
              "      <td>S.</td>\n",
              "    </tr>\n",
              "    <tr>\n",
              "      <th>4582</th>\n",
              "      <td>Scott Beveridge Staff writer sbeveridge@observ...</td>\n",
              "      <td>64</td>\n",
              "      <td>Scott</td>\n",
              "      <td>Beveridge</td>\n",
              "    </tr>\n",
              "    <tr>\n",
              "      <th>4553</th>\n",
              "      <td>Luke Campbell Staff writer lcampbell@observer-...</td>\n",
              "      <td>54</td>\n",
              "      <td>Luke</td>\n",
              "      <td>Campbell</td>\n",
              "    </tr>\n",
              "    <tr>\n",
              "      <th>4523</th>\n",
              "      <td>Jon Andreassi Staff writer jandreassi@observer...</td>\n",
              "      <td>52</td>\n",
              "      <td>Jon</td>\n",
              "      <td>Andreassi</td>\n",
              "    </tr>\n",
              "    <tr>\n",
              "      <th>4504</th>\n",
              "      <td>Gideon Bradshaw Staff writer gbradshaw@observe...</td>\n",
              "      <td>44</td>\n",
              "      <td>Gideon</td>\n",
              "      <td>Bradshaw</td>\n",
              "    </tr>\n",
              "    <tr>\n",
              "      <th>4455</th>\n",
              "      <td>Associated Press</td>\n",
              "      <td>39</td>\n",
              "      <td>Associated</td>\n",
              "      <td>Press</td>\n",
              "    </tr>\n",
              "    <tr>\n",
              "      <th>4507</th>\n",
              "      <td>Harry Funk Staff writer hfunk@thealmanac.net</td>\n",
              "      <td>39</td>\n",
              "      <td>Harry</td>\n",
              "      <td>Funk</td>\n",
              "    </tr>\n",
              "  </tbody>\n",
              "</table>\n",
              "</div>"
            ],
            "text/plain": [
              "                                                 author  ...  author_lname\n",
              "4585                                              Staff  ...              \n",
              "4574  Rick Shrum Business writer rshrum@observer-rep...  ...         Shrum\n",
              "4533  Katie Anderson Staff writer kanderson@observer...  ...      Anderson\n",
              "4457  Barbara S. Miller Staff writer bmiller@observe...  ...            S.\n",
              "4582  Scott Beveridge Staff writer sbeveridge@observ...  ...     Beveridge\n",
              "4553  Luke Campbell Staff writer lcampbell@observer-...  ...      Campbell\n",
              "4523  Jon Andreassi Staff writer jandreassi@observer...  ...     Andreassi\n",
              "4504  Gideon Bradshaw Staff writer gbradshaw@observe...  ...      Bradshaw\n",
              "4455                                   Associated Press  ...         Press\n",
              "4507       Harry Funk Staff writer hfunk@thealmanac.net  ...          Funk\n",
              "\n",
              "[10 rows x 4 columns]"
            ]
          },
          "metadata": {
            "tags": []
          },
          "execution_count": 22
        }
      ]
    },
    {
      "cell_type": "code",
      "metadata": {
        "id": "RtptOOAi2Zs3",
        "colab_type": "code",
        "colab": {
          "base_uri": "https://localhost:8080/",
          "height": 204
        },
        "outputId": "3680a664-4aef-43cf-bc45-e6a2f4b850b6"
      },
      "source": [
        "df['author'] = df[['author_fname', 'author_lname']].apply(lambda x:' '.join(x), axis=1)\n",
        "df['author']"
      ],
      "execution_count": 23,
      "outputs": [
        {
          "output_type": "execute_result",
          "data": {
            "text/plain": [
              "4585              Staff \n",
              "4574          Rick Shrum\n",
              "4533      Katie Anderson\n",
              "4457          Barbara S.\n",
              "4582     Scott Beveridge\n",
              "4553       Luke Campbell\n",
              "4523       Jon Andreassi\n",
              "4504     Gideon Bradshaw\n",
              "4455    Associated Press\n",
              "4507          Harry Funk\n",
              "Name: author, dtype: object"
            ]
          },
          "metadata": {
            "tags": []
          },
          "execution_count": 23
        }
      ]
    },
    {
      "cell_type": "code",
      "metadata": {
        "id": "qLiNdpymkzh1",
        "colab_type": "code",
        "outputId": "2c58fb35-a29d-4ebc-d9e6-6bcf535bfb0c",
        "colab": {
          "base_uri": "https://localhost:8080/",
          "height": 373
        }
      },
      "source": [
        "plot_graph(df, 'Author vs No of articles for Washington Observer Report')"
      ],
      "execution_count": 24,
      "outputs": [
        {
          "output_type": "display_data",
          "data": {
            "image/png": "[encoded data removed]",
            "text/plain": [
              "<Figure size 432x288 with 1 Axes>"
            ]
          },
          "metadata": {
            "tags": []
          }
        }
      ]
    },
    {
      "cell_type": "code",
      "metadata": {
        "id": "BkBdSDnykcTh",
        "colab_type": "code",
        "colab": {}
      },
      "source": [
        "# Top authors for regular and non-regular combined for Californian\n",
        "californian = inp_file[inp_file['source_name'].str.match('Californian')].sort_values('counts', ascending=False)"
      ],
      "execution_count": 0,
      "outputs": []
    },
    {
      "cell_type": "code",
      "metadata": {
        "id": "LDHyUIQ3zBrC",
        "colab_type": "code",
        "colab": {}
      },
      "source": [
        "californian[['author_fname', 'author_lname', 'email']] = californian['author'].str.split(' ', 2, expand=True)"
      ],
      "execution_count": 0,
      "outputs": []
    },
    {
      "cell_type": "code",
      "metadata": {
        "id": "KvGuvvO_0AfN",
        "colab_type": "code",
        "colab": {}
      },
      "source": [
        "californian['author'] = californian[['author_fname', 'author_lname']].apply(lambda x: ' '.join(x), axis=1)"
      ],
      "execution_count": 0,
      "outputs": []
    },
    {
      "cell_type": "code",
      "metadata": {
        "id": "OlLG_OadsO6h",
        "colab_type": "code",
        "colab": {}
      },
      "source": [
        "df = californian.iloc[1:10, 1:3]"
      ],
      "execution_count": 0,
      "outputs": []
    },
    {
      "cell_type": "code",
      "metadata": {
        "id": "pGYikarSdSRc",
        "colab_type": "code",
        "outputId": "e9ecd91a-e3f0-4732-d5a9-6f3e7950dea5",
        "colab": {
          "base_uri": "https://localhost:8080/",
          "height": 379
        }
      },
      "source": [
        "plot_graph(df, 'Author vs No of articles for Californian')"
      ],
      "execution_count": 29,
      "outputs": [
        {
          "output_type": "display_data",
          "data": {
            "image/png": "[encoded data removed]",
            "text/plain": [
              "<Figure size 432x288 with 1 Axes>"
            ]
          },
          "metadata": {
            "tags": []
          }
        }
      ]
    },
    {
      "cell_type": "code",
      "metadata": {
        "id": "YFXXqIkvdV_8",
        "colab_type": "code",
        "outputId": "3a454c79-7c24-4977-9d89-67d71beb544b",
        "colab": {
          "base_uri": "https://localhost:8080/",
          "height": 359
        }
      },
      "source": [
        "# Top authors for regular and non-regular combined for Digital Journal\n",
        "digital_jrnl = inp_file[inp_file['source_name'].str.match('Digital Journal')].sort_values('counts', ascending=False)\n",
        "df = digital_jrnl.iloc[0:10, 1:3]\n",
        "df"
      ],
      "execution_count": 30,
      "outputs": [
        {
          "output_type": "execute_result",
          "data": {
            "text/html": [
              "<div>\n",
              "<style scoped>\n",
              "    .dataframe tbody tr th:only-of-type {\n",
              "        vertical-align: middle;\n",
              "    }\n",
              "\n",
              "    .dataframe tbody tr th {\n",
              "        vertical-align: top;\n",
              "    }\n",
              "\n",
              "    .dataframe thead th {\n",
              "        text-align: right;\n",
              "    }\n",
              "</style>\n",
              "<table border=\"1\" class=\"dataframe\">\n",
              "  <thead>\n",
              "    <tr style=\"text-align: right;\">\n",
              "      <th></th>\n",
              "      <th>author</th>\n",
              "      <th>counts</th>\n",
              "    </tr>\n",
              "  </thead>\n",
              "  <tbody>\n",
              "    <tr>\n",
              "      <th>851</th>\n",
              "      <td>Markos Papadatos</td>\n",
              "      <td>1131</td>\n",
              "    </tr>\n",
              "    <tr>\n",
              "      <th>992</th>\n",
              "      <td>Tim Sandle</td>\n",
              "      <td>702</td>\n",
              "    </tr>\n",
              "    <tr>\n",
              "      <th>800</th>\n",
              "      <td>Karen Graham</td>\n",
              "      <td>616</td>\n",
              "    </tr>\n",
              "    <tr>\n",
              "      <th>808</th>\n",
              "      <td>Ken Hanly</td>\n",
              "      <td>340</td>\n",
              "    </tr>\n",
              "    <tr>\n",
              "      <th>909</th>\n",
              "      <td>Paul Wallis</td>\n",
              "      <td>93</td>\n",
              "    </tr>\n",
              "    <tr>\n",
              "      <th>499</th>\n",
              "      <td>AFP Apr</td>\n",
              "      <td>60</td>\n",
              "    </tr>\n",
              "    <tr>\n",
              "      <th>954</th>\n",
              "      <td>Sarah Gopaul</td>\n",
              "      <td>59</td>\n",
              "    </tr>\n",
              "    <tr>\n",
              "      <th>501</th>\n",
              "      <td>AFP Jul</td>\n",
              "      <td>25</td>\n",
              "    </tr>\n",
              "    <tr>\n",
              "      <th>592</th>\n",
              "      <td>Business Insider</td>\n",
              "      <td>23</td>\n",
              "    </tr>\n",
              "    <tr>\n",
              "      <th>766</th>\n",
              "      <td>Jerome TAYLOR,</td>\n",
              "      <td>22</td>\n",
              "    </tr>\n",
              "  </tbody>\n",
              "</table>\n",
              "</div>"
            ],
            "text/plain": [
              "               author  counts\n",
              "851  Markos Papadatos    1131\n",
              "992        Tim Sandle     702\n",
              "800      Karen Graham     616\n",
              "808         Ken Hanly     340\n",
              "909       Paul Wallis      93\n",
              "499           AFP Apr      60\n",
              "954      Sarah Gopaul      59\n",
              "501           AFP Jul      25\n",
              "592  Business Insider      23\n",
              "766    Jerome TAYLOR,      22"
            ]
          },
          "metadata": {
            "tags": []
          },
          "execution_count": 30
        }
      ]
    },
    {
      "cell_type": "code",
      "metadata": {
        "id": "LkK-LfZ5h_8k",
        "colab_type": "code",
        "outputId": "3dd31696-7230-4e26-b2da-2857011140b6",
        "colab": {
          "base_uri": "https://localhost:8080/",
          "height": 376
        }
      },
      "source": [
        "plot_graph(df, 'Author vs No of articles for Digital Journal')"
      ],
      "execution_count": 31,
      "outputs": [
        {
          "output_type": "display_data",
          "data": {
            "image/png": "[encoded data removed]",
            "text/plain": [
              "<Figure size 432x288 with 1 Axes>"
            ]
          },
          "metadata": {
            "tags": []
          }
        }
      ]
    },
    {
      "cell_type": "code",
      "metadata": {
        "id": "cnCJXfDXi6mc",
        "colab_type": "code",
        "outputId": "f301a24b-289d-48a0-b01c-6910f706d12e",
        "colab": {
          "base_uri": "https://localhost:8080/",
          "height": 359
        }
      },
      "source": [
        "# Top authors for regular and non-regular combined for Press Democrat\n",
        "press_democrat = inp_file[inp_file['source_name'].str.match('Press Democrat')].sort_values('counts', ascending=False)\n",
        "press_democrat['author'] = press_democrat['author'].str.replace('YOU CAN SEND A LETTER TO THE EDITOR AT LETTERS@PRESSDEMOCRAT.COM.', 'THE EDITORIAL BOARD')\n",
        "df = press_democrat.iloc[0:10, 1:3]\n",
        "df"
      ],
      "execution_count": 32,
      "outputs": [
        {
          "output_type": "execute_result",
          "data": {
            "text/html": [
              "<div>\n",
              "<style scoped>\n",
              "    .dataframe tbody tr th:only-of-type {\n",
              "        vertical-align: middle;\n",
              "    }\n",
              "\n",
              "    .dataframe tbody tr th {\n",
              "        vertical-align: top;\n",
              "    }\n",
              "\n",
              "    .dataframe thead th {\n",
              "        text-align: right;\n",
              "    }\n",
              "</style>\n",
              "<table border=\"1\" class=\"dataframe\">\n",
              "  <thead>\n",
              "    <tr style=\"text-align: right;\">\n",
              "      <th></th>\n",
              "      <th>author</th>\n",
              "      <th>counts</th>\n",
              "    </tr>\n",
              "  </thead>\n",
              "  <tbody>\n",
              "    <tr>\n",
              "      <th>3632</th>\n",
              "      <td>ASSOCIATED PRESS</td>\n",
              "      <td>264</td>\n",
              "    </tr>\n",
              "    <tr>\n",
              "      <th>4378</th>\n",
              "      <td>THE EDITORIAL BOARD</td>\n",
              "      <td>94</td>\n",
              "    </tr>\n",
              "    <tr>\n",
              "      <th>4266</th>\n",
              "      <td>R,I ROSSMANN</td>\n",
              "      <td>89</td>\n",
              "    </tr>\n",
              "    <tr>\n",
              "      <th>4415</th>\n",
              "      <td>WILL SCHMITT</td>\n",
              "      <td>74</td>\n",
              "    </tr>\n",
              "    <tr>\n",
              "      <th>4422</th>\n",
              "      <td>THE EDITORIAL BOARD</td>\n",
              "      <td>70</td>\n",
              "    </tr>\n",
              "    <tr>\n",
              "      <th>4208</th>\n",
              "      <td>NASHELLY CHAVEZ</td>\n",
              "      <td>68</td>\n",
              "    </tr>\n",
              "    <tr>\n",
              "      <th>4405</th>\n",
              "      <td>TYLER SILVY</td>\n",
              "      <td>65</td>\n",
              "    </tr>\n",
              "    <tr>\n",
              "      <th>3659</th>\n",
              "      <td>BILL SWINDELL</td>\n",
              "      <td>61</td>\n",
              "    </tr>\n",
              "    <tr>\n",
              "      <th>4054</th>\n",
              "      <td>KEVIN FIXLER</td>\n",
              "      <td>59</td>\n",
              "    </tr>\n",
              "    <tr>\n",
              "      <th>3922</th>\n",
              "      <td>JEANNE PHILLIPS</td>\n",
              "      <td>57</td>\n",
              "    </tr>\n",
              "  </tbody>\n",
              "</table>\n",
              "</div>"
            ],
            "text/plain": [
              "                   author  counts\n",
              "3632     ASSOCIATED PRESS     264\n",
              "4378  THE EDITORIAL BOARD      94\n",
              "4266         R,I ROSSMANN      89\n",
              "4415         WILL SCHMITT      74\n",
              "4422  THE EDITORIAL BOARD      70\n",
              "4208      NASHELLY CHAVEZ      68\n",
              "4405          TYLER SILVY      65\n",
              "3659        BILL SWINDELL      61\n",
              "4054         KEVIN FIXLER      59\n",
              "3922      JEANNE PHILLIPS      57"
            ]
          },
          "metadata": {
            "tags": []
          },
          "execution_count": 32
        }
      ]
    },
    {
      "cell_type": "code",
      "metadata": {
        "id": "9g5hcGF6jEGq",
        "colab_type": "code",
        "outputId": "07ef6626-f1c6-4a1f-c424-7aa19eb2d7a6",
        "colab": {
          "base_uri": "https://localhost:8080/",
          "height": 400
        }
      },
      "source": [
        "plot_graph(df, 'Author vs No of articles for Press Democrat')"
      ],
      "execution_count": 33,
      "outputs": [
        {
          "output_type": "display_data",
          "data": {
            "image/png": "[encoded data removed]",
            "text/plain": [
              "<Figure size 432x288 with 1 Axes>"
            ]
          },
          "metadata": {
            "tags": []
          }
        }
      ]
    },
    {
      "cell_type": "code",
      "metadata": {
        "id": "mkFZLq4R9Adz",
        "colab_type": "code",
        "colab": {
          "base_uri": "https://localhost:8080/",
          "height": 359
        },
        "outputId": "65c8b4d8-20a7-4060-c87d-d62c8b706c35"
      },
      "source": [
        "# Top authors for regular and non-regular combined for NW Florida Daily\n",
        "nwf = inp_file[inp_file['source_name'].str.match('NW Florida Daily')].sort_values('counts', ascending=False)\n",
        "nwf[['author_fname', 'author_lname', 'email']] = nwf['author'].str.split(' ', 2, expand=True)\n",
        "df = nwf.iloc[0:10, 1:5]\n",
        "df\n"
      ],
      "execution_count": 34,
      "outputs": [
        {
          "output_type": "execute_result",
          "data": {
            "text/html": [
              "<div>\n",
              "<style scoped>\n",
              "    .dataframe tbody tr th:only-of-type {\n",
              "        vertical-align: middle;\n",
              "    }\n",
              "\n",
              "    .dataframe tbody tr th {\n",
              "        vertical-align: top;\n",
              "    }\n",
              "\n",
              "    .dataframe thead th {\n",
              "        text-align: right;\n",
              "    }\n",
              "</style>\n",
              "<table border=\"1\" class=\"dataframe\">\n",
              "  <thead>\n",
              "    <tr style=\"text-align: right;\">\n",
              "      <th></th>\n",
              "      <th>author</th>\n",
              "      <th>counts</th>\n",
              "      <th>author_fname</th>\n",
              "      <th>author_lname</th>\n",
              "    </tr>\n",
              "  </thead>\n",
              "  <tbody>\n",
              "    <tr>\n",
              "      <th>2678</th>\n",
              "      <td>SETH STRINGER    @SethSnwfdn</td>\n",
              "      <td>277</td>\n",
              "      <td>SETH</td>\n",
              "      <td>STRINGER</td>\n",
              "    </tr>\n",
              "    <tr>\n",
              "      <th>2602</th>\n",
              "      <td>Jim Thompson    @Jimtnwfdn</td>\n",
              "      <td>228</td>\n",
              "      <td>Jim</td>\n",
              "      <td>Thompson</td>\n",
              "    </tr>\n",
              "    <tr>\n",
              "      <th>2441</th>\n",
              "      <td>By Sam Grubenhoff | 315-4476 | @SamGrubenhoff ...</td>\n",
              "      <td>221</td>\n",
              "      <td>By</td>\n",
              "      <td>Sam</td>\n",
              "    </tr>\n",
              "    <tr>\n",
              "      <th>2698</th>\n",
              "      <td>Special to GateHouse Media Florida</td>\n",
              "      <td>197</td>\n",
              "      <td>Special</td>\n",
              "      <td>to</td>\n",
              "    </tr>\n",
              "    <tr>\n",
              "      <th>2716</th>\n",
              "      <td>TOM McLAUGHLIN    @TomMnwfdn</td>\n",
              "      <td>195</td>\n",
              "      <td>TOM</td>\n",
              "      <td>McLAUGHLIN</td>\n",
              "    </tr>\n",
              "    <tr>\n",
              "      <th>2717</th>\n",
              "      <td>TONY JUDNICH    @Tonyjnwfdn</td>\n",
              "      <td>174</td>\n",
              "      <td>TONY</td>\n",
              "      <td>JUDNICH</td>\n",
              "    </tr>\n",
              "    <tr>\n",
              "      <th>2776</th>\n",
              "      <td>staff report</td>\n",
              "      <td>172</td>\n",
              "      <td>staff</td>\n",
              "      <td>report</td>\n",
              "    </tr>\n",
              "    <tr>\n",
              "      <th>2571</th>\n",
              "      <td>GateHouse Media Florida staff report</td>\n",
              "      <td>172</td>\n",
              "      <td>GateHouse</td>\n",
              "      <td>Media</td>\n",
              "    </tr>\n",
              "    <tr>\n",
              "      <th>2617</th>\n",
              "      <td>Kaylin Parker    @parkerNWFDN</td>\n",
              "      <td>171</td>\n",
              "      <td>Kaylin</td>\n",
              "      <td>Parker</td>\n",
              "    </tr>\n",
              "    <tr>\n",
              "      <th>2677</th>\n",
              "      <td>SAVANNAH EVANOFF    @SavannahEnwfdn</td>\n",
              "      <td>154</td>\n",
              "      <td>SAVANNAH</td>\n",
              "      <td>EVANOFF</td>\n",
              "    </tr>\n",
              "  </tbody>\n",
              "</table>\n",
              "</div>"
            ],
            "text/plain": [
              "                                                 author  ...  author_lname\n",
              "2678                       SETH STRINGER    @SethSnwfdn  ...      STRINGER\n",
              "2602                         Jim Thompson    @Jimtnwfdn  ...      Thompson\n",
              "2441  By Sam Grubenhoff | 315-4476 | @SamGrubenhoff ...  ...           Sam\n",
              "2698                 Special to GateHouse Media Florida  ...            to\n",
              "2716                       TOM McLAUGHLIN    @TomMnwfdn  ...    McLAUGHLIN\n",
              "2717                        TONY JUDNICH    @Tonyjnwfdn  ...       JUDNICH\n",
              "2776                                       staff report  ...        report\n",
              "2571               GateHouse Media Florida staff report  ...         Media\n",
              "2617                      Kaylin Parker    @parkerNWFDN  ...        Parker\n",
              "2677                SAVANNAH EVANOFF    @SavannahEnwfdn  ...       EVANOFF\n",
              "\n",
              "[10 rows x 4 columns]"
            ]
          },
          "metadata": {
            "tags": []
          },
          "execution_count": 34
        }
      ]
    },
    {
      "cell_type": "code",
      "metadata": {
        "id": "MlJvRflE-FJE",
        "colab_type": "code",
        "colab": {
          "base_uri": "https://localhost:8080/",
          "height": 204
        },
        "outputId": "9bf1bb11-8003-4882-eac3-29438254b5e5"
      },
      "source": [
        "df['author'] = df[['author_fname', 'author_lname']].apply(lambda x:' '.join(x), axis=1)\n",
        "df['author']\n"
      ],
      "execution_count": 35,
      "outputs": [
        {
          "output_type": "execute_result",
          "data": {
            "text/plain": [
              "2678       SETH STRINGER\n",
              "2602        Jim Thompson\n",
              "2441              By Sam\n",
              "2698          Special to\n",
              "2716      TOM McLAUGHLIN\n",
              "2717        TONY JUDNICH\n",
              "2776        staff report\n",
              "2571     GateHouse Media\n",
              "2617       Kaylin Parker\n",
              "2677    SAVANNAH EVANOFF\n",
              "Name: author, dtype: object"
            ]
          },
          "metadata": {
            "tags": []
          },
          "execution_count": 35
        }
      ]
    },
    {
      "cell_type": "code",
      "metadata": {
        "id": "Jb9iq-4M-Rx8",
        "colab_type": "code",
        "colab": {
          "base_uri": "https://localhost:8080/",
          "height": 391
        },
        "outputId": "3d0d5ae4-0375-4c10-8d3a-f42b3c2c43a1"
      },
      "source": [
        "plot_graph(df, 'Author vs No of articles for NWF Daily')"
      ],
      "execution_count": 36,
      "outputs": [
        {
          "output_type": "display_data",
          "data": {
            "image/png": "[encoded data removed]",
            "text/plain": [
              "<Figure size 432x288 with 1 Axes>"
            ]
          },
          "metadata": {
            "tags": []
          }
        }
      ]
    },
    {
      "cell_type": "code",
      "metadata": {
        "id": "CqHs9Q8M-gzc",
        "colab_type": "code",
        "colab": {
          "base_uri": "https://localhost:8080/",
          "height": 359
        },
        "outputId": "f9128837-b23d-4395-9353-67eaf0145be3"
      },
      "source": [
        "# Top authors for regular and non-regular combined for Gazette Mail\n",
        "gazette = inp_file[inp_file['source_name'].str.match('Gazette-mail')].sort_values('counts', ascending=False)\n",
        "gazette['author'] = gazette['author'].str.replace('Staff reports', 'Staff report')\n",
        "gazette[['author_fname', 'author_lname', 'email']] = gazette['author'].str.split(' ', 2, expand=True)\n",
        "df = gazette.iloc[0:10, 1:5]\n",
        "df['author'] = df[['author_fname', 'author_lname']].apply(lambda x:' '.join(x), axis=1)\n",
        "df"
      ],
      "execution_count": 37,
      "outputs": [
        {
          "output_type": "execute_result",
          "data": {
            "text/html": [
              "<div>\n",
              "<style scoped>\n",
              "    .dataframe tbody tr th:only-of-type {\n",
              "        vertical-align: middle;\n",
              "    }\n",
              "\n",
              "    .dataframe tbody tr th {\n",
              "        vertical-align: top;\n",
              "    }\n",
              "\n",
              "    .dataframe thead th {\n",
              "        text-align: right;\n",
              "    }\n",
              "</style>\n",
              "<table border=\"1\" class=\"dataframe\">\n",
              "  <thead>\n",
              "    <tr style=\"text-align: right;\">\n",
              "      <th></th>\n",
              "      <th>author</th>\n",
              "      <th>counts</th>\n",
              "      <th>author_fname</th>\n",
              "      <th>author_lname</th>\n",
              "    </tr>\n",
              "  </thead>\n",
              "  <tbody>\n",
              "    <tr>\n",
              "      <th>1882</th>\n",
              "      <td>Staff report</td>\n",
              "      <td>344</td>\n",
              "      <td>Staff</td>\n",
              "      <td>report</td>\n",
              "    </tr>\n",
              "    <tr>\n",
              "      <th>1880</th>\n",
              "      <td>Staff report</td>\n",
              "      <td>216</td>\n",
              "      <td>Staff</td>\n",
              "      <td>report</td>\n",
              "    </tr>\n",
              "    <tr>\n",
              "      <th>1924</th>\n",
              "      <td>Tom Bragg</td>\n",
              "      <td>202</td>\n",
              "      <td>Tom</td>\n",
              "      <td>Bragg</td>\n",
              "    </tr>\n",
              "    <tr>\n",
              "      <th>1836</th>\n",
              "      <td>Rick Ryan</td>\n",
              "      <td>158</td>\n",
              "      <td>Rick</td>\n",
              "      <td>Ryan</td>\n",
              "    </tr>\n",
              "    <tr>\n",
              "      <th>1837</th>\n",
              "      <td>Rick Steelhammer</td>\n",
              "      <td>152</td>\n",
              "      <td>Rick</td>\n",
              "      <td>Steelhammer</td>\n",
              "    </tr>\n",
              "    <tr>\n",
              "      <th>1448</th>\n",
              "      <td>Bill Lynch</td>\n",
              "      <td>152</td>\n",
              "      <td>Bill</td>\n",
              "      <td>Lynch</td>\n",
              "    </tr>\n",
              "    <tr>\n",
              "      <th>1812</th>\n",
              "      <td>Phil Kabler</td>\n",
              "      <td>137</td>\n",
              "      <td>Phil</td>\n",
              "      <td>Kabler</td>\n",
              "    </tr>\n",
              "    <tr>\n",
              "      <th>1709</th>\n",
              "      <td>Lacie Pierson</td>\n",
              "      <td>125</td>\n",
              "      <td>Lacie</td>\n",
              "      <td>Pierson</td>\n",
              "    </tr>\n",
              "    <tr>\n",
              "      <th>1862</th>\n",
              "      <td>Ryan Quinn</td>\n",
              "      <td>124</td>\n",
              "      <td>Ryan</td>\n",
              "      <td>Quinn</td>\n",
              "    </tr>\n",
              "    <tr>\n",
              "      <th>1856</th>\n",
              "      <td>Ryan Pritt</td>\n",
              "      <td>123</td>\n",
              "      <td>Ryan</td>\n",
              "      <td>Pritt</td>\n",
              "    </tr>\n",
              "  </tbody>\n",
              "</table>\n",
              "</div>"
            ],
            "text/plain": [
              "                author  counts author_fname author_lname\n",
              "1882      Staff report     344        Staff       report\n",
              "1880      Staff report     216        Staff       report\n",
              "1924         Tom Bragg     202          Tom        Bragg\n",
              "1836         Rick Ryan     158         Rick         Ryan\n",
              "1837  Rick Steelhammer     152         Rick  Steelhammer\n",
              "1448        Bill Lynch     152         Bill        Lynch\n",
              "1812       Phil Kabler     137         Phil       Kabler\n",
              "1709     Lacie Pierson     125        Lacie      Pierson\n",
              "1862        Ryan Quinn     124         Ryan        Quinn\n",
              "1856        Ryan Pritt     123         Ryan        Pritt"
            ]
          },
          "metadata": {
            "tags": []
          },
          "execution_count": 37
        }
      ]
    },
    {
      "cell_type": "code",
      "metadata": {
        "id": "RAABXVBd_YiO",
        "colab_type": "code",
        "colab": {
          "base_uri": "https://localhost:8080/",
          "height": 377
        },
        "outputId": "ebab699c-38dd-4c55-c73a-03720f7b3c8d"
      },
      "source": [
        "plot_graph(df, 'Author vs No of articles for Gazette Mail')"
      ],
      "execution_count": 38,
      "outputs": [
        {
          "output_type": "display_data",
          "data": {
            "image/png": "[encoded data removed]",
            "text/plain": [
              "<Figure size 432x288 with 1 Axes>"
            ]
          },
          "metadata": {
            "tags": []
          }
        }
      ]
    },
    {
      "cell_type": "code",
      "metadata": {
        "id": "5mAALZbIAzOS",
        "colab_type": "code",
        "colab": {
          "base_uri": "https://localhost:8080/",
          "height": 359
        },
        "outputId": "c31f3afb-4213-4f1f-9a7a-83f7c189f501"
      },
      "source": [
        "# Top authors for regular and non-regular combined for Enid News\n",
        "enid = inp_file[inp_file['source_name'].str.match('Enid News')].sort_values('counts', ascending=False)\n",
        "df = enid.iloc[0:10, 1:3]\n",
        "df\n"
      ],
      "execution_count": 39,
      "outputs": [
        {
          "output_type": "execute_result",
          "data": {
            "text/html": [
              "<div>\n",
              "<style scoped>\n",
              "    .dataframe tbody tr th:only-of-type {\n",
              "        vertical-align: middle;\n",
              "    }\n",
              "\n",
              "    .dataframe tbody tr th {\n",
              "        vertical-align: top;\n",
              "    }\n",
              "\n",
              "    .dataframe thead th {\n",
              "        text-align: right;\n",
              "    }\n",
              "</style>\n",
              "<table border=\"1\" class=\"dataframe\">\n",
              "  <thead>\n",
              "    <tr style=\"text-align: right;\">\n",
              "      <th></th>\n",
              "      <th>author</th>\n",
              "      <th>counts</th>\n",
              "    </tr>\n",
              "  </thead>\n",
              "  <tbody>\n",
              "    <tr>\n",
              "      <th>1178</th>\n",
              "      <td>Cass Rains</td>\n",
              "      <td>588</td>\n",
              "    </tr>\n",
              "    <tr>\n",
              "      <th>1247</th>\n",
              "      <td>James Neal</td>\n",
              "      <td>518</td>\n",
              "    </tr>\n",
              "    <tr>\n",
              "      <th>1320</th>\n",
              "      <td>Mitchell Willetts</td>\n",
              "      <td>481</td>\n",
              "    </tr>\n",
              "    <tr>\n",
              "      <th>1223</th>\n",
              "      <td>Enid News &amp; Eagle</td>\n",
              "      <td>450</td>\n",
              "    </tr>\n",
              "    <tr>\n",
              "      <th>1350</th>\n",
              "      <td>Ryan Miller</td>\n",
              "      <td>226</td>\n",
              "    </tr>\n",
              "    <tr>\n",
              "      <th>1226</th>\n",
              "      <td>Enid News &amp; Eagle Editorial Board</td>\n",
              "      <td>162</td>\n",
              "    </tr>\n",
              "    <tr>\n",
              "      <th>1200</th>\n",
              "      <td>Dave Ruthenberg</td>\n",
              "      <td>142</td>\n",
              "    </tr>\n",
              "    <tr>\n",
              "      <th>1380</th>\n",
              "      <td>Tim Godfrey</td>\n",
              "      <td>141</td>\n",
              "    </tr>\n",
              "    <tr>\n",
              "      <th>1151</th>\n",
              "      <td>By Tim Godfrey Staff Writer</td>\n",
              "      <td>124</td>\n",
              "    </tr>\n",
              "    <tr>\n",
              "      <th>1074</th>\n",
              "      <td>By Cass Rains Staff Writer</td>\n",
              "      <td>113</td>\n",
              "    </tr>\n",
              "  </tbody>\n",
              "</table>\n",
              "</div>"
            ],
            "text/plain": [
              "                                 author  counts\n",
              "1178                        Cass Rains      588\n",
              "1247                        James Neal      518\n",
              "1320                 Mitchell Willetts      481\n",
              "1223                  Enid News & Eagle     450\n",
              "1350                       Ryan Miller      226\n",
              "1226  Enid News & Eagle Editorial Board     162\n",
              "1200                   Dave Ruthenberg      142\n",
              "1380                       Tim Godfrey      141\n",
              "1151        By Tim Godfrey Staff Writer     124\n",
              "1074         By Cass Rains Staff Writer     113"
            ]
          },
          "metadata": {
            "tags": []
          },
          "execution_count": 39
        }
      ]
    },
    {
      "cell_type": "code",
      "metadata": {
        "id": "DQXwQVzLBIL9",
        "colab_type": "code",
        "colab": {
          "base_uri": "https://localhost:8080/",
          "height": 456
        },
        "outputId": "4b481ec0-695a-4da0-bc3d-39c423d24760"
      },
      "source": [
        "plot_graph(df, 'Author vs No of articles Enid News')"
      ],
      "execution_count": 40,
      "outputs": [
        {
          "output_type": "display_data",
          "data": {
            "image/png": "[encoded data removed]",
            "text/plain": [
              "<Figure size 432x288 with 1 Axes>"
            ]
          },
          "metadata": {
            "tags": []
          }
        }
      ]
    },
    {
      "cell_type": "code",
      "metadata": {
        "id": "7DLVOsu5BPnI",
        "colab_type": "code",
        "colab": {
          "base_uri": "https://localhost:8080/",
          "height": 359
        },
        "outputId": "4732cd80-8b25-4c18-a4a5-1d3037c192f4"
      },
      "source": [
        "# Top authors for regular and non-regular combined for NJSpotlight\n",
        "nj_spotlight = inp_file[inp_file['source_name'].str.match('NJSpotlight')].sort_values('counts', ascending=False)\n",
        "df = nj_spotlight.iloc[0:10, 1:3]\n",
        "df\n"
      ],
      "execution_count": 41,
      "outputs": [
        {
          "output_type": "execute_result",
          "data": {
            "text/html": [
              "<div>\n",
              "<style scoped>\n",
              "    .dataframe tbody tr th:only-of-type {\n",
              "        vertical-align: middle;\n",
              "    }\n",
              "\n",
              "    .dataframe tbody tr th {\n",
              "        vertical-align: top;\n",
              "    }\n",
              "\n",
              "    .dataframe thead th {\n",
              "        text-align: right;\n",
              "    }\n",
              "</style>\n",
              "<table border=\"1\" class=\"dataframe\">\n",
              "  <thead>\n",
              "    <tr style=\"text-align: right;\">\n",
              "      <th></th>\n",
              "      <th>author</th>\n",
              "      <th>counts</th>\n",
              "    </tr>\n",
              "  </thead>\n",
              "  <tbody>\n",
              "    <tr>\n",
              "      <th>2114</th>\n",
              "      <td>Tom Johnson</td>\n",
              "      <td>234</td>\n",
              "    </tr>\n",
              "    <tr>\n",
              "      <th>2022</th>\n",
              "      <td>John Reitmeyer</td>\n",
              "      <td>220</td>\n",
              "    </tr>\n",
              "    <tr>\n",
              "      <th>2041</th>\n",
              "      <td>Lilo H. Stainton</td>\n",
              "      <td>190</td>\n",
              "    </tr>\n",
              "    <tr>\n",
              "      <th>1976</th>\n",
              "      <td>Colleen O'Dea</td>\n",
              "      <td>187</td>\n",
              "    </tr>\n",
              "    <tr>\n",
              "      <th>1968</th>\n",
              "      <td>Carly Sitrin</td>\n",
              "      <td>76</td>\n",
              "    </tr>\n",
              "    <tr>\n",
              "      <th>2067</th>\n",
              "      <td>NJTV News online</td>\n",
              "      <td>70</td>\n",
              "    </tr>\n",
              "    <tr>\n",
              "      <th>1961</th>\n",
              "      <td>Brenda Flanagan</td>\n",
              "      <td>60</td>\n",
              "    </tr>\n",
              "    <tr>\n",
              "      <th>2025</th>\n",
              "      <td>Jon Hurdle</td>\n",
              "      <td>51</td>\n",
              "    </tr>\n",
              "    <tr>\n",
              "      <th>2065</th>\n",
              "      <td>NJ Spotlight</td>\n",
              "      <td>50</td>\n",
              "    </tr>\n",
              "    <tr>\n",
              "      <th>2021</th>\n",
              "      <td>John Mooney</td>\n",
              "      <td>31</td>\n",
              "    </tr>\n",
              "  </tbody>\n",
              "</table>\n",
              "</div>"
            ],
            "text/plain": [
              "                author  counts\n",
              "2114       Tom Johnson     234\n",
              "2022    John Reitmeyer     220\n",
              "2041  Lilo H. Stainton     190\n",
              "1976     Colleen O'Dea     187\n",
              "1968      Carly Sitrin      76\n",
              "2067  NJTV News online      70\n",
              "1961   Brenda Flanagan      60\n",
              "2025        Jon Hurdle      51\n",
              "2065      NJ Spotlight      50\n",
              "2021       John Mooney      31"
            ]
          },
          "metadata": {
            "tags": []
          },
          "execution_count": 41
        }
      ]
    },
    {
      "cell_type": "code",
      "metadata": {
        "id": "OuldBULrBf-k",
        "colab_type": "code",
        "colab": {
          "base_uri": "https://localhost:8080/",
          "height": 372
        },
        "outputId": "8e3c5cea-62f2-41ba-98d4-ab4396cfd815"
      },
      "source": [
        "plot_graph(df, 'Author vs No of articles NJSpotlight')"
      ],
      "execution_count": 42,
      "outputs": [
        {
          "output_type": "display_data",
          "data": {
            "image/png": "[encoded data removed]",
            "text/plain": [
              "<Figure size 432x288 with 1 Axes>"
            ]
          },
          "metadata": {
            "tags": []
          }
        }
      ]
    },
    {
      "cell_type": "code",
      "metadata": {
        "id": "FrE9GUV3IEkN",
        "colab_type": "code",
        "colab": {}
      },
      "source": [
        "author_check = base.copy()"
      ],
      "execution_count": 0,
      "outputs": []
    },
    {
      "cell_type": "code",
      "metadata": {
        "id": "DLb4o3DmgpMD",
        "colab_type": "code",
        "colab": {
          "base_uri": "https://localhost:8080/",
          "height": 51
        },
        "outputId": "d20c26db-8f5e-4177-d298-14a8da5ff176"
      },
      "source": [
        "author_check['label'] = author_check['label'].str.replace('0', 'regular')\n",
        "author_check['label'] = author_check['label'].str.replace('1', 'other')\n",
        "author_check['label'] = author_check['label'].str.replace('2', 'other')\n",
        "\n",
        "author_check['label'].unique()"
      ],
      "execution_count": 65,
      "outputs": [
        {
          "output_type": "execute_result",
          "data": {
            "text/plain": [
              "array(['regular', 'guest', 'editorial', 'other', 'oped', 'opinion'],\n",
              "      dtype=object)"
            ]
          },
          "metadata": {
            "tags": []
          },
          "execution_count": 65
        }
      ]
    },
    {
      "cell_type": "code",
      "metadata": {
        "id": "5bmypsrTjeTj",
        "colab_type": "code",
        "colab": {}
      },
      "source": [
        "# grouping the file by source name and label\n",
        "inp_file3 = author_check.groupby(['source_name','label']).size().reset_index(name='counts')"
      ],
      "execution_count": 0,
      "outputs": []
    },
    {
      "cell_type": "code",
      "metadata": {
        "id": "HMppSrtUjtZX",
        "colab_type": "code",
        "colab": {}
      },
      "source": [
        "# plots to show which category is covered by which newspaper\n",
        "def plot_grap_hori(df, label):\n",
        "  plt.barh(df.loc[:,'source_name'], df.loc[:, 'counts'], align=\"center\")\n",
        "  plt.xticks()\n",
        "  plt.ylabel('Source Name')\n",
        "  plt.xlabel('Counts')\n",
        "  plt.title(label)"
      ],
      "execution_count": 0,
      "outputs": []
    },
    {
      "cell_type": "code",
      "metadata": {
        "id": "r39oHM4wmHIB",
        "colab_type": "code",
        "colab": {
          "base_uri": "https://localhost:8080/",
          "height": 142
        },
        "outputId": "94c101da-3eaf-4e36-8d52-779c85e11282"
      },
      "source": [
        "nyt1 = inp_file3[inp_file3['label'].str.match('editorial')].sort_values('counts', ascending=False)\n",
        "nyt1"
      ],
      "execution_count": 133,
      "outputs": [
        {
          "output_type": "execute_result",
          "data": {
            "text/html": [
              "<div>\n",
              "<style scoped>\n",
              "    .dataframe tbody tr th:only-of-type {\n",
              "        vertical-align: middle;\n",
              "    }\n",
              "\n",
              "    .dataframe tbody tr th {\n",
              "        vertical-align: top;\n",
              "    }\n",
              "\n",
              "    .dataframe thead th {\n",
              "        text-align: right;\n",
              "    }\n",
              "</style>\n",
              "<table border=\"1\" class=\"dataframe\">\n",
              "  <thead>\n",
              "    <tr style=\"text-align: right;\">\n",
              "      <th></th>\n",
              "      <th>source_name</th>\n",
              "      <th>label</th>\n",
              "      <th>counts</th>\n",
              "    </tr>\n",
              "  </thead>\n",
              "  <tbody>\n",
              "    <tr>\n",
              "      <th>8</th>\n",
              "      <td>Gazette-mail</td>\n",
              "      <td>editorial</td>\n",
              "      <td>162</td>\n",
              "    </tr>\n",
              "    <tr>\n",
              "      <th>20</th>\n",
              "      <td>Press Democrat</td>\n",
              "      <td>editorial</td>\n",
              "      <td>88</td>\n",
              "    </tr>\n",
              "    <tr>\n",
              "      <th>23</th>\n",
              "      <td>Washington Observer Report</td>\n",
              "      <td>editorial</td>\n",
              "      <td>11</td>\n",
              "    </tr>\n",
              "  </tbody>\n",
              "</table>\n",
              "</div>"
            ],
            "text/plain": [
              "                   source_name      label  counts\n",
              "8                 Gazette-mail  editorial     162\n",
              "20              Press Democrat  editorial      88\n",
              "23  Washington Observer Report  editorial      11"
            ]
          },
          "metadata": {
            "tags": []
          },
          "execution_count": 133
        }
      ]
    },
    {
      "cell_type": "code",
      "metadata": {
        "id": "2wduD-UXtB_Z",
        "colab_type": "code",
        "colab": {
          "base_uri": "https://localhost:8080/",
          "height": 295
        },
        "outputId": "72cf966f-7928-4bf3-ab6b-baafc2a40e51"
      },
      "source": [
        "plot_grap_hori(nyt2, 'Editorial')"
      ],
      "execution_count": 134,
      "outputs": [
        {
          "output_type": "display_data",
          "data": {
            "image/png": "[encoded data removed]",
            "text/plain": [
              "<Figure size 432x288 with 1 Axes>"
            ]
          },
          "metadata": {
            "tags": []
          }
        }
      ]
    },
    {
      "cell_type": "code",
      "metadata": {
        "id": "hL9GLpOgsw_3",
        "colab_type": "code",
        "colab": {
          "base_uri": "https://localhost:8080/",
          "height": 235
        },
        "outputId": "6d2acadd-2b2a-4b6c-e434-eccab862e05a"
      },
      "source": [
        "nyt2 = inp_file3[inp_file3['label'].str.match('guest')].sort_values('counts', ascending=False)\n",
        "nyt2"
      ],
      "execution_count": 135,
      "outputs": [
        {
          "output_type": "execute_result",
          "data": {
            "text/html": [
              "<div>\n",
              "<style scoped>\n",
              "    .dataframe tbody tr th:only-of-type {\n",
              "        vertical-align: middle;\n",
              "    }\n",
              "\n",
              "    .dataframe tbody tr th {\n",
              "        vertical-align: top;\n",
              "    }\n",
              "\n",
              "    .dataframe thead th {\n",
              "        text-align: right;\n",
              "    }\n",
              "</style>\n",
              "<table border=\"1\" class=\"dataframe\">\n",
              "  <thead>\n",
              "    <tr style=\"text-align: right;\">\n",
              "      <th></th>\n",
              "      <th>source_name</th>\n",
              "      <th>label</th>\n",
              "      <th>counts</th>\n",
              "    </tr>\n",
              "  </thead>\n",
              "  <tbody>\n",
              "    <tr>\n",
              "      <th>9</th>\n",
              "      <td>Gazette-mail</td>\n",
              "      <td>guest</td>\n",
              "      <td>268</td>\n",
              "    </tr>\n",
              "    <tr>\n",
              "      <th>15</th>\n",
              "      <td>NW Florida Daily</td>\n",
              "      <td>guest</td>\n",
              "      <td>160</td>\n",
              "    </tr>\n",
              "    <tr>\n",
              "      <th>5</th>\n",
              "      <td>Enid News</td>\n",
              "      <td>guest</td>\n",
              "      <td>37</td>\n",
              "    </tr>\n",
              "    <tr>\n",
              "      <th>21</th>\n",
              "      <td>Press Democrat</td>\n",
              "      <td>guest</td>\n",
              "      <td>21</td>\n",
              "    </tr>\n",
              "    <tr>\n",
              "      <th>24</th>\n",
              "      <td>Washington Observer Report</td>\n",
              "      <td>guest</td>\n",
              "      <td>4</td>\n",
              "    </tr>\n",
              "    <tr>\n",
              "      <th>0</th>\n",
              "      <td>Californian</td>\n",
              "      <td>guest</td>\n",
              "      <td>1</td>\n",
              "    </tr>\n",
              "  </tbody>\n",
              "</table>\n",
              "</div>"
            ],
            "text/plain": [
              "                   source_name  label  counts\n",
              "9                 Gazette-mail  guest     268\n",
              "15            NW Florida Daily  guest     160\n",
              "5                    Enid News  guest      37\n",
              "21              Press Democrat  guest      21\n",
              "24  Washington Observer Report  guest       4\n",
              "0                  Californian  guest       1"
            ]
          },
          "metadata": {
            "tags": []
          },
          "execution_count": 135
        }
      ]
    },
    {
      "cell_type": "code",
      "metadata": {
        "id": "Y56qFB-Uq4XN",
        "colab_type": "code",
        "colab": {
          "base_uri": "https://localhost:8080/",
          "height": 295
        },
        "outputId": "77074200-f6f8-4245-e10f-e54347728911"
      },
      "source": [
        "plot_grap_hori(nyt2, 'Guest')"
      ],
      "execution_count": 136,
      "outputs": [
        {
          "output_type": "display_data",
          "data": {
            "image/png": "[encoded data removed]",
            "text/plain": [
              "<Figure size 432x288 with 1 Axes>"
            ]
          },
          "metadata": {
            "tags": []
          }
        }
      ]
    },
    {
      "cell_type": "code",
      "metadata": {
        "id": "tMj5EjBMr0MA",
        "colab_type": "code",
        "colab": {
          "base_uri": "https://localhost:8080/",
          "height": 173
        },
        "outputId": "831613e6-7347-4dbe-f184-456ce3152d09"
      },
      "source": [
        "nyt3 = inp_file3[inp_file3['label'].str.match('oped')].sort_values('counts', ascending=False)\n",
        "nyt3"
      ],
      "execution_count": 137,
      "outputs": [
        {
          "output_type": "execute_result",
          "data": {
            "text/html": [
              "<div>\n",
              "<style scoped>\n",
              "    .dataframe tbody tr th:only-of-type {\n",
              "        vertical-align: middle;\n",
              "    }\n",
              "\n",
              "    .dataframe tbody tr th {\n",
              "        vertical-align: top;\n",
              "    }\n",
              "\n",
              "    .dataframe thead th {\n",
              "        text-align: right;\n",
              "    }\n",
              "</style>\n",
              "<table border=\"1\" class=\"dataframe\">\n",
              "  <thead>\n",
              "    <tr style=\"text-align: right;\">\n",
              "      <th></th>\n",
              "      <th>source_name</th>\n",
              "      <th>label</th>\n",
              "      <th>counts</th>\n",
              "    </tr>\n",
              "  </thead>\n",
              "  <tbody>\n",
              "    <tr>\n",
              "      <th>3</th>\n",
              "      <td>Digital Journal</td>\n",
              "      <td>oped</td>\n",
              "      <td>256</td>\n",
              "    </tr>\n",
              "    <tr>\n",
              "      <th>10</th>\n",
              "      <td>Gazette-mail</td>\n",
              "      <td>oped</td>\n",
              "      <td>234</td>\n",
              "    </tr>\n",
              "    <tr>\n",
              "      <th>13</th>\n",
              "      <td>NJSpotlight</td>\n",
              "      <td>oped</td>\n",
              "      <td>137</td>\n",
              "    </tr>\n",
              "    <tr>\n",
              "      <th>25</th>\n",
              "      <td>Washington Observer Report</td>\n",
              "      <td>oped</td>\n",
              "      <td>16</td>\n",
              "    </tr>\n",
              "  </tbody>\n",
              "</table>\n",
              "</div>"
            ],
            "text/plain": [
              "                   source_name label  counts\n",
              "3              Digital Journal  oped     256\n",
              "10                Gazette-mail  oped     234\n",
              "13                 NJSpotlight  oped     137\n",
              "25  Washington Observer Report  oped      16"
            ]
          },
          "metadata": {
            "tags": []
          },
          "execution_count": 137
        }
      ]
    },
    {
      "cell_type": "code",
      "metadata": {
        "id": "y3f3mLX1spVT",
        "colab_type": "code",
        "colab": {
          "base_uri": "https://localhost:8080/",
          "height": 295
        },
        "outputId": "c5564392-5e71-49ee-cd26-d0adfabfba89"
      },
      "source": [
        "plot_grap_hori(nyt3, 'Op-Ed')"
      ],
      "execution_count": 138,
      "outputs": [
        {
          "output_type": "display_data",
          "data": {
            "image/png": "[encoded data removed]",
            "text/plain": [
              "<Figure size 432x288 with 1 Axes>"
            ]
          },
          "metadata": {
            "tags": []
          }
        }
      ]
    },
    {
      "cell_type": "code",
      "metadata": {
        "id": "dJmIaXYwtsZP",
        "colab_type": "code",
        "colab": {
          "base_uri": "https://localhost:8080/",
          "height": 111
        },
        "outputId": "0ea445ff-1853-496f-908d-b65f9e39e14a"
      },
      "source": [
        "nyt4 = inp_file3[inp_file3['label'].str.match('opinion')].sort_values('counts', ascending=False)\n",
        "nyt4"
      ],
      "execution_count": 139,
      "outputs": [
        {
          "output_type": "execute_result",
          "data": {
            "text/html": [
              "<div>\n",
              "<style scoped>\n",
              "    .dataframe tbody tr th:only-of-type {\n",
              "        vertical-align: middle;\n",
              "    }\n",
              "\n",
              "    .dataframe tbody tr th {\n",
              "        vertical-align: top;\n",
              "    }\n",
              "\n",
              "    .dataframe thead th {\n",
              "        text-align: right;\n",
              "    }\n",
              "</style>\n",
              "<table border=\"1\" class=\"dataframe\">\n",
              "  <thead>\n",
              "    <tr style=\"text-align: right;\">\n",
              "      <th></th>\n",
              "      <th>source_name</th>\n",
              "      <th>label</th>\n",
              "      <th>counts</th>\n",
              "    </tr>\n",
              "  </thead>\n",
              "  <tbody>\n",
              "    <tr>\n",
              "      <th>6</th>\n",
              "      <td>Enid News</td>\n",
              "      <td>opinion</td>\n",
              "      <td>630</td>\n",
              "    </tr>\n",
              "    <tr>\n",
              "      <th>1</th>\n",
              "      <td>Californian</td>\n",
              "      <td>opinion</td>\n",
              "      <td>426</td>\n",
              "    </tr>\n",
              "  </tbody>\n",
              "</table>\n",
              "</div>"
            ],
            "text/plain": [
              "   source_name    label  counts\n",
              "6    Enid News  opinion     630\n",
              "1  Californian  opinion     426"
            ]
          },
          "metadata": {
            "tags": []
          },
          "execution_count": 139
        }
      ]
    },
    {
      "cell_type": "code",
      "metadata": {
        "id": "zR4qQHkLt3Wm",
        "colab_type": "code",
        "colab": {
          "base_uri": "https://localhost:8080/",
          "height": 295
        },
        "outputId": "46dde10c-7766-449f-dc6e-ea21e4575042"
      },
      "source": [
        "plot_grap_hori(nyt4, 'Opinion')"
      ],
      "execution_count": 140,
      "outputs": [
        {
          "output_type": "display_data",
          "data": {
            "image/png": "[encoded data removed]",
            "text/plain": [
              "<Figure size 432x288 with 1 Axes>"
            ]
          },
          "metadata": {
            "tags": []
          }
        }
      ]
    },
    {
      "cell_type": "code",
      "metadata": {
        "id": "ENqERZzxuCnv",
        "colab_type": "code",
        "colab": {
          "base_uri": "https://localhost:8080/",
          "height": 328
        },
        "outputId": "09c4d725-49b8-40d9-f1b9-8d43e2ed28b3"
      },
      "source": [
        "nyt5 = inp_file3[inp_file3['label'].str.match('regular')].sort_values('counts', ascending=False)\n",
        "nyt5"
      ],
      "execution_count": 141,
      "outputs": [
        {
          "output_type": "execute_result",
          "data": {
            "text/html": [
              "<div>\n",
              "<style scoped>\n",
              "    .dataframe tbody tr th:only-of-type {\n",
              "        vertical-align: middle;\n",
              "    }\n",
              "\n",
              "    .dataframe tbody tr th {\n",
              "        vertical-align: top;\n",
              "    }\n",
              "\n",
              "    .dataframe thead th {\n",
              "        text-align: right;\n",
              "    }\n",
              "</style>\n",
              "<table border=\"1\" class=\"dataframe\">\n",
              "  <thead>\n",
              "    <tr style=\"text-align: right;\">\n",
              "      <th></th>\n",
              "      <th>source_name</th>\n",
              "      <th>label</th>\n",
              "      <th>counts</th>\n",
              "    </tr>\n",
              "  </thead>\n",
              "  <tbody>\n",
              "    <tr>\n",
              "      <th>17</th>\n",
              "      <td>NW Florida Daily</td>\n",
              "      <td>regular</td>\n",
              "      <td>5368</td>\n",
              "    </tr>\n",
              "    <tr>\n",
              "      <th>7</th>\n",
              "      <td>Enid News</td>\n",
              "      <td>regular</td>\n",
              "      <td>4913</td>\n",
              "    </tr>\n",
              "    <tr>\n",
              "      <th>12</th>\n",
              "      <td>Gazette-mail</td>\n",
              "      <td>regular</td>\n",
              "      <td>4447</td>\n",
              "    </tr>\n",
              "    <tr>\n",
              "      <th>4</th>\n",
              "      <td>Digital Journal</td>\n",
              "      <td>regular</td>\n",
              "      <td>3720</td>\n",
              "    </tr>\n",
              "    <tr>\n",
              "      <th>22</th>\n",
              "      <td>Press Democrat</td>\n",
              "      <td>regular</td>\n",
              "      <td>3426</td>\n",
              "    </tr>\n",
              "    <tr>\n",
              "      <th>19</th>\n",
              "      <td>New York Times</td>\n",
              "      <td>regular</td>\n",
              "      <td>2349</td>\n",
              "    </tr>\n",
              "    <tr>\n",
              "      <th>2</th>\n",
              "      <td>Californian</td>\n",
              "      <td>regular</td>\n",
              "      <td>1732</td>\n",
              "    </tr>\n",
              "    <tr>\n",
              "      <th>27</th>\n",
              "      <td>Washington Observer Report</td>\n",
              "      <td>regular</td>\n",
              "      <td>1624</td>\n",
              "    </tr>\n",
              "    <tr>\n",
              "      <th>14</th>\n",
              "      <td>NJSpotlight</td>\n",
              "      <td>regular</td>\n",
              "      <td>1412</td>\n",
              "    </tr>\n",
              "  </tbody>\n",
              "</table>\n",
              "</div>"
            ],
            "text/plain": [
              "                   source_name    label  counts\n",
              "17            NW Florida Daily  regular    5368\n",
              "7                    Enid News  regular    4913\n",
              "12                Gazette-mail  regular    4447\n",
              "4              Digital Journal  regular    3720\n",
              "22              Press Democrat  regular    3426\n",
              "19              New York Times  regular    2349\n",
              "2                  Californian  regular    1732\n",
              "27  Washington Observer Report  regular    1624\n",
              "14                 NJSpotlight  regular    1412"
            ]
          },
          "metadata": {
            "tags": []
          },
          "execution_count": 141
        }
      ]
    },
    {
      "cell_type": "code",
      "metadata": {
        "id": "FrbMDZn1t9hr",
        "colab_type": "code",
        "colab": {
          "base_uri": "https://localhost:8080/",
          "height": 295
        },
        "outputId": "9b3fd7c4-9ef2-4d9a-a0a3-ee8362099f9b"
      },
      "source": [
        "plot_grap_hori(nyt5, 'Regular')"
      ],
      "execution_count": 142,
      "outputs": [
        {
          "output_type": "display_data",
          "data": {
            "image/png": "[encoded data removed]",
            "text/plain": [
              "<Figure size 432x288 with 1 Axes>"
            ]
          },
          "metadata": {
            "tags": []
          }
        }
      ]
    }
  ]
}