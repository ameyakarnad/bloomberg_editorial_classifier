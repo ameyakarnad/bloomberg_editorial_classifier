{
 "cells": [
  {
   "cell_type": "code",
   "execution_count": 1,
   "metadata": {
    "colab": {
     "base_uri": "https://localhost:8080/",
     "height": 122
    },
    "colab_type": "code",
    "id": "XtgpkkQnd3rV",
    "outputId": "df450ef3-9ba1-47cf-fe15-72f6bc39febf"
   },
   "outputs": [
    {
     "name": "stdout",
     "output_type": "stream",
     "text": [
      "Go to this URL in a browser: https://accounts.google.com/o/oauth2/auth?client_id=947318989803-6bn6qk8qdgf4n4g3pfee6491hc0brc4i.apps.googleusercontent.com&redirect_uri=urn%3Aietf%3Awg%3Aoauth%3A2.0%3Aoob&scope=email%20https%3A%2F%2Fwww.googleapis.com%2Fauth%2Fdocs.test%20https%3A%2F%2Fwww.googleapis.com%2Fauth%2Fdrive%20https%3A%2F%2Fwww.googleapis.com%2Fauth%2Fdrive.photos.readonly%20https%3A%2F%2Fwww.googleapis.com%2Fauth%2Fpeopleapi.readonly&response_type=code\n",
      "\n",
      "Enter your authorization code:\n",
      "··········\n",
      "Mounted at /content/gdrive\n"
     ]
    }
   ],
   "source": [
    "import numpy as np\n",
    "import pandas as pd\n",
    "import matplotlib.pyplot as plt\n",
    "\n",
    "from google.colab import drive\n",
    "drive.mount('/content/gdrive', force_remount=True)\n"
   ]
  },
  {
   "cell_type": "code",
   "execution_count": 2,
   "metadata": {
    "colab": {
     "base_uri": "https://localhost:8080/",
     "height": 34
    },
    "colab_type": "code",
    "id": "B9s7zIAvfETz",
    "outputId": "700fa40f-d057-4b9d-f679-5cf44fa462c7"
   },
   "outputs": [
    {
     "name": "stdout",
     "output_type": "stream",
     "text": [
      "'/content/gdrive/My Drive/combined_data.csv'\n"
     ]
    }
   ],
   "source": [
    "!ls /content/gdrive/'My Drive'/'combined_data.csv'"
   ]
  },
  {
   "cell_type": "code",
   "execution_count": 3,
   "metadata": {
    "colab": {
     "base_uri": "https://localhost:8080/",
     "height": 68
    },
    "colab_type": "code",
    "id": "yKvQYyrtdx3A",
    "outputId": "dee531ed-58eb-4595-a0b0-abb5b75c0ab1"
   },
   "outputs": [
    {
     "name": "stdout",
     "output_type": "stream",
     "text": [
      "Index(['source_name', 'url', 'created_date', 'tag', 'heading', 'author',\n",
      "       'article_text', 'label'],\n",
      "      dtype='object')\n"
     ]
    }
   ],
   "source": [
    "base = pd.read_csv('/content/gdrive/My Drive/combined_data.csv', encoding='utf-8')\n",
    "print(base.columns)"
   ]
  },
  {
   "cell_type": "code",
   "execution_count": 0,
   "metadata": {
    "colab": {},
    "colab_type": "code",
    "id": "1VNfeUg3eLEr"
   },
   "outputs": [],
   "source": [
    "inp_file0 = base.copy()"
   ]
  },
  {
   "cell_type": "code",
   "execution_count": 0,
   "metadata": {
    "colab": {},
    "colab_type": "code",
    "id": "LuQfDgusf6uG"
   },
   "outputs": [],
   "source": [
    "# regular 0 non regular all others\n",
    "inp_file0['label'] = inp_file0['label'].apply(lambda x: 'regular' if x=='regular' else 'other')"
   ]
  },
  {
   "cell_type": "code",
   "execution_count": 17,
   "metadata": {
    "colab": {
     "base_uri": "https://localhost:8080/",
     "height": 340
    },
    "colab_type": "code",
    "id": "wydVEn2TRDfq",
    "outputId": "1632288f-34e1-44d5-df6c-5d370c72393c"
   },
   "outputs": [
    {
     "data": {
      "text/html": [
       "<div>\n",
       "<style scoped>\n",
       "    .dataframe tbody tr th:only-of-type {\n",
       "        vertical-align: middle;\n",
       "    }\n",
       "\n",
       "    .dataframe tbody tr th {\n",
       "        vertical-align: top;\n",
       "    }\n",
       "\n",
       "    .dataframe thead th {\n",
       "        text-align: right;\n",
       "    }\n",
       "</style>\n",
       "<table border=\"1\" class=\"dataframe\">\n",
       "  <thead>\n",
       "    <tr style=\"text-align: right;\">\n",
       "      <th></th>\n",
       "      <th>source_name</th>\n",
       "      <th>url</th>\n",
       "      <th>created_date</th>\n",
       "      <th>tag</th>\n",
       "      <th>heading</th>\n",
       "      <th>author</th>\n",
       "      <th>article_text</th>\n",
       "      <th>label</th>\n",
       "    </tr>\n",
       "  </thead>\n",
       "  <tbody>\n",
       "    <tr>\n",
       "      <th>0</th>\n",
       "      <td>Press Democrat</td>\n",
       "      <td>https://www.pressdemocrat.com/specialsections/...</td>\n",
       "      <td>2019-06-29 00:00:00</td>\n",
       "      <td>homes, construction, larkfield, estates, worke...</td>\n",
       "      <td>Larkfield\\xe2\\x80\\x99s returning residents cop...</td>\n",
       "      <td>GUY KOVNER</td>\n",
       "      <td>\\nHaley and Fletcher Skerrett loved suburban L...</td>\n",
       "      <td>regular</td>\n",
       "    </tr>\n",
       "    <tr>\n",
       "      <th>1</th>\n",
       "      <td>Press Democrat</td>\n",
       "      <td>https://www.pressdemocrat.com/specialsections/...</td>\n",
       "      <td>2019-07-16 00:00:00</td>\n",
       "      <td>hospital, fire, rosa, santa, tito, fires, jose...</td>\n",
       "      <td>'You felt more normal': St. Joseph Health empl...</td>\n",
       "      <td>MARTIN ESPINOZA</td>\n",
       "      <td>\\nThere is little sign today of the smoke-lace...</td>\n",
       "      <td>regular</td>\n",
       "    </tr>\n",
       "    <tr>\n",
       "      <th>2</th>\n",
       "      <td>Press Democrat</td>\n",
       "      <td>https://www.pressdemocrat.com/specialsections/...</td>\n",
       "      <td>2019-07-23 00:00:00</td>\n",
       "      <td>sandy, sonoma, angie, center, luz, sisters, co...</td>\n",
       "      <td>Sonoma Valley sisters join forces to give fire...</td>\n",
       "      <td>DIANNE REBER HART</td>\n",
       "      <td>\\nWhen the North Bay wildfires broke out in 20...</td>\n",
       "      <td>regular</td>\n",
       "    </tr>\n",
       "    <tr>\n",
       "      <th>3</th>\n",
       "      <td>Press Democrat</td>\n",
       "      <td>https://www.pressdemocrat.com/specialsections/...</td>\n",
       "      <td>2019-07-03 00:00:00</td>\n",
       "      <td>campus, teachers, hidden, students, valley, sa...</td>\n",
       "      <td>Santa Rosa teachers rebuild sense of safety on...</td>\n",
       "      <td>MATT VILLANO</td>\n",
       "      <td>\\nThe rebuilding process has taken many forms ...</td>\n",
       "      <td>regular</td>\n",
       "    </tr>\n",
       "    <tr>\n",
       "      <th>4</th>\n",
       "      <td>Press Democrat</td>\n",
       "      <td>https://www.pressdemocrat.com/specialsections/...</td>\n",
       "      <td>2019-07-01 00:00:00</td>\n",
       "      <td>fire, montecito, heights, neighbors, flames, n...</td>\n",
       "      <td>\\xe2\\x80\\x98I had to get it down\\xe2\\x80\\x99: ...</td>\n",
       "      <td>CHRIS SMITH</td>\n",
       "      <td>\\nWe\\xe2\\x80\\x99ll never know if retired schoo...</td>\n",
       "      <td>regular</td>\n",
       "    </tr>\n",
       "  </tbody>\n",
       "</table>\n",
       "</div>"
      ],
      "text/plain": [
       "      source_name  ...    label\n",
       "0  Press Democrat  ...  regular\n",
       "1  Press Democrat  ...  regular\n",
       "2  Press Democrat  ...  regular\n",
       "3  Press Democrat  ...  regular\n",
       "4  Press Democrat  ...  regular\n",
       "\n",
       "[5 rows x 8 columns]"
      ]
     },
     "execution_count": 17,
     "metadata": {
      "tags": []
     },
     "output_type": "execute_result"
    }
   ],
   "source": [
    "inp_file0.head()"
   ]
  },
  {
   "cell_type": "code",
   "execution_count": 18,
   "metadata": {
    "colab": {
     "base_uri": "https://localhost:8080/",
     "height": 34
    },
    "colab_type": "code",
    "id": "4n3WTlRFiwGq",
    "outputId": "2afe47f8-87d3-4972-f5fa-1b56c77c7b2b"
   },
   "outputs": [
    {
     "name": "stdout",
     "output_type": "stream",
     "text": [
      "['regular' 'other']\n"
     ]
    }
   ],
   "source": [
    "print(inp_file0['label'].unique())"
   ]
  },
  {
   "cell_type": "code",
   "execution_count": 19,
   "metadata": {
    "colab": {
     "base_uri": "https://localhost:8080/",
     "height": 68
    },
    "colab_type": "code",
    "id": "vrDNzmDQdp0a",
    "outputId": "cebcaab1-2a3a-474e-8af3-ade5961da7be"
   },
   "outputs": [
    {
     "name": "stdout",
     "output_type": "stream",
     "text": [
      "['Press Democrat' 'NW Florida Daily' 'Gazette-mail'\n",
      " 'Washington Observer Report' 'Californian' 'New York Times' 'Enid News'\n",
      " 'NJSpotlight' 'Digital Journal']\n"
     ]
    }
   ],
   "source": [
    "# the news sources being covered currently\n",
    "print(inp_file0['source_name'].unique())"
   ]
  },
  {
   "cell_type": "code",
   "execution_count": 0,
   "metadata": {
    "colab": {},
    "colab_type": "code",
    "id": "MH-0QZ0ejMRg"
   },
   "outputs": [],
   "source": [
    "# grouping the file by source name and author\n",
    "inp_file = inp_file0.groupby(['source_name','author','label']).size().reset_index(name='counts')"
   ]
  },
  {
   "cell_type": "code",
   "execution_count": 29,
   "metadata": {
    "colab": {
     "base_uri": "https://localhost:8080/",
     "height": 204
    },
    "colab_type": "code",
    "id": "vOy-9vrMAind",
    "outputId": "bc310919-5d09-42a5-d075-b7906a386650"
   },
   "outputs": [
    {
     "data": {
      "text/html": [
       "<div>\n",
       "<style scoped>\n",
       "    .dataframe tbody tr th:only-of-type {\n",
       "        vertical-align: middle;\n",
       "    }\n",
       "\n",
       "    .dataframe tbody tr th {\n",
       "        vertical-align: top;\n",
       "    }\n",
       "\n",
       "    .dataframe thead th {\n",
       "        text-align: right;\n",
       "    }\n",
       "</style>\n",
       "<table border=\"1\" class=\"dataframe\">\n",
       "  <thead>\n",
       "    <tr style=\"text-align: right;\">\n",
       "      <th></th>\n",
       "      <th>source_name</th>\n",
       "      <th>author</th>\n",
       "      <th>label</th>\n",
       "      <th>counts</th>\n",
       "    </tr>\n",
       "  </thead>\n",
       "  <tbody>\n",
       "    <tr>\n",
       "      <th>0</th>\n",
       "      <td>Californian</td>\n",
       "      <td>A.G. Kawamura</td>\n",
       "      <td>other</td>\n",
       "      <td>1</td>\n",
       "    </tr>\n",
       "    <tr>\n",
       "      <th>1</th>\n",
       "      <td>Californian</td>\n",
       "      <td>ALAN SCULLEY For The Californian</td>\n",
       "      <td>regular</td>\n",
       "      <td>4</td>\n",
       "    </tr>\n",
       "    <tr>\n",
       "      <th>2</th>\n",
       "      <td>Californian</td>\n",
       "      <td>ANNA SMITH For The Californian</td>\n",
       "      <td>regular</td>\n",
       "      <td>6</td>\n",
       "    </tr>\n",
       "    <tr>\n",
       "      <th>3</th>\n",
       "      <td>Californian</td>\n",
       "      <td>Aaron Stonelake</td>\n",
       "      <td>regular</td>\n",
       "      <td>1</td>\n",
       "    </tr>\n",
       "    <tr>\n",
       "      <th>4</th>\n",
       "      <td>Californian</td>\n",
       "      <td>Adam Black, Bakersfield</td>\n",
       "      <td>other</td>\n",
       "      <td>2</td>\n",
       "    </tr>\n",
       "  </tbody>\n",
       "</table>\n",
       "</div>"
      ],
      "text/plain": [
       "   source_name                            author    label  counts\n",
       "0  Californian                     A.G. Kawamura    other       1\n",
       "1  Californian  ALAN SCULLEY For The Californian  regular       4\n",
       "2  Californian    ANNA SMITH For The Californian  regular       6\n",
       "3  Californian                   Aaron Stonelake  regular       1\n",
       "4  Californian           Adam Black, Bakersfield    other       2"
      ]
     },
     "execution_count": 29,
     "metadata": {
      "tags": []
     },
     "output_type": "execute_result"
    }
   ],
   "source": [
    "inp_file.head()"
   ]
  },
  {
   "cell_type": "code",
   "execution_count": 0,
   "metadata": {
    "colab": {},
    "colab_type": "code",
    "id": "jU2zvfKAWFPp"
   },
   "outputs": [],
   "source": [
    "import matplotlib.pyplot as plt\n",
    "# function to plot a histogram\n",
    "\n",
    "def plot_graph(df, title):\n",
    "  plt.bar(df.loc[:, 'author'], df.loc[:, 'counts'], align='center')\n",
    "  plt.xticks(rotation=90)\n",
    "  plt.xlabel('Author Name')\n",
    "  plt.ylabel('No of articles')\n",
    "  plt.title(title)\n",
    "  "
   ]
  },
  {
   "cell_type": "code",
   "execution_count": 0,
   "metadata": {
    "colab": {},
    "colab_type": "code",
    "id": "aCvmgYFzZ8Jc"
   },
   "outputs": [],
   "source": [
    "# Top authors for regular and non-regular combined\n",
    "inp_file2 = inp_file0.groupby(['label','author']).size().reset_index(name='counts')"
   ]
  },
  {
   "cell_type": "code",
   "execution_count": 0,
   "metadata": {
    "colab": {
     "base_uri": "https://localhost:8080/",
     "height": 328
    },
    "colab_type": "code",
    "id": "1WNQe6BDwZ8v",
    "outputId": "720d20c5-b71f-42b4-a382-24a2eb8a9aa6"
   },
   "outputs": [
    {
     "data": {
      "text/html": [
       "<div>\n",
       "<style scoped>\n",
       "    .dataframe tbody tr th:only-of-type {\n",
       "        vertical-align: middle;\n",
       "    }\n",
       "\n",
       "    .dataframe tbody tr th {\n",
       "        vertical-align: top;\n",
       "    }\n",
       "\n",
       "    .dataframe thead th {\n",
       "        text-align: right;\n",
       "    }\n",
       "</style>\n",
       "<table border=\"1\" class=\"dataframe\">\n",
       "  <thead>\n",
       "    <tr style=\"text-align: right;\">\n",
       "      <th></th>\n",
       "      <th>author</th>\n",
       "      <th>counts</th>\n",
       "    </tr>\n",
       "  </thead>\n",
       "  <tbody>\n",
       "    <tr>\n",
       "      <th>4461</th>\n",
       "      <td>Tim Sandle</td>\n",
       "      <td>700</td>\n",
       "    </tr>\n",
       "    <tr>\n",
       "      <th>2428</th>\n",
       "      <td>Cass Rains</td>\n",
       "      <td>588</td>\n",
       "    </tr>\n",
       "    <tr>\n",
       "      <th>3421</th>\n",
       "      <td>Karen Graham</td>\n",
       "      <td>578</td>\n",
       "    </tr>\n",
       "    <tr>\n",
       "      <th>4435</th>\n",
       "      <td>The Bakersfield Californian</td>\n",
       "      <td>571</td>\n",
       "    </tr>\n",
       "    <tr>\n",
       "      <th>4337</th>\n",
       "      <td>Staff</td>\n",
       "      <td>553</td>\n",
       "    </tr>\n",
       "    <tr>\n",
       "      <th>3823</th>\n",
       "      <td>Mitchell Willetts</td>\n",
       "      <td>479</td>\n",
       "    </tr>\n",
       "    <tr>\n",
       "      <th>3164</th>\n",
       "      <td>James Neal</td>\n",
       "      <td>442</td>\n",
       "    </tr>\n",
       "    <tr>\n",
       "      <th>2768</th>\n",
       "      <td>Enid News &amp; Eagle</td>\n",
       "      <td>429</td>\n",
       "    </tr>\n",
       "    <tr>\n",
       "      <th>4342</th>\n",
       "      <td>Staff report</td>\n",
       "      <td>359</td>\n",
       "    </tr>\n",
       "  </tbody>\n",
       "</table>\n",
       "</div>"
      ],
      "text/plain": [
       "                           author  counts\n",
       "4461                   Tim Sandle     700\n",
       "2428                  Cass Rains      588\n",
       "3421                 Karen Graham     578\n",
       "4435  The Bakersfield Californian     571\n",
       "4337                        Staff     553\n",
       "3823           Mitchell Willetts      479\n",
       "3164                  James Neal      442\n",
       "2768            Enid News & Eagle     429\n",
       "4342                 Staff report     359"
      ]
     },
     "execution_count": 12,
     "metadata": {
      "tags": []
     },
     "output_type": "execute_result"
    }
   ],
   "source": [
    "# filtering based on regular article type\n",
    "regular = inp_file2[inp_file2['label'].str.match('regular')].sort_values('counts', ascending=False)\n",
    "df1 = regular.iloc[1:10, 1:3]\n",
    "df1"
   ]
  },
  {
   "cell_type": "code",
   "execution_count": 0,
   "metadata": {
    "colab": {
     "base_uri": "https://localhost:8080/",
     "height": 420
    },
    "colab_type": "code",
    "id": "Lwh5aOUFwdud",
    "outputId": "e613a360-a335-45d6-9c1b-1640e54fa259"
   },
   "outputs": [
    {
     "data": {
      "image/png": "[encoded data removed]",
      "text/plain": [
       "<Figure size 432x288 with 1 Axes>"
      ]
     },
     "metadata": {
      "tags": []
     },
     "output_type": "display_data"
    }
   ],
   "source": [
    "plot_graph(df1, 'Top authors for regular type')"
   ]
  },
  {
   "cell_type": "code",
   "execution_count": 0,
   "metadata": {
    "colab": {
     "base_uri": "https://localhost:8080/",
     "height": 328
    },
    "colab_type": "code",
    "id": "xVgN7ygMwjL7",
    "outputId": "8980df29-1497-47c5-9084-2f544f7d72a7"
   },
   "outputs": [
    {
     "data": {
      "text/html": [
       "<div>\n",
       "<style scoped>\n",
       "    .dataframe tbody tr th:only-of-type {\n",
       "        vertical-align: middle;\n",
       "    }\n",
       "\n",
       "    .dataframe tbody tr th {\n",
       "        vertical-align: top;\n",
       "    }\n",
       "\n",
       "    .dataframe thead th {\n",
       "        text-align: right;\n",
       "    }\n",
       "</style>\n",
       "<table border=\"1\" class=\"dataframe\">\n",
       "  <thead>\n",
       "    <tr style=\"text-align: right;\">\n",
       "      <th></th>\n",
       "      <th>author</th>\n",
       "      <th>counts</th>\n",
       "    </tr>\n",
       "  </thead>\n",
       "  <tbody>\n",
       "    <tr>\n",
       "      <th>849</th>\n",
       "      <td>Ken Hanly</td>\n",
       "      <td>97</td>\n",
       "    </tr>\n",
       "    <tr>\n",
       "      <th>1165</th>\n",
       "      <td>Paul Wallis</td>\n",
       "      <td>92</td>\n",
       "    </tr>\n",
       "    <tr>\n",
       "      <th>1400</th>\n",
       "      <td>THE EDITORIAL BOARD</td>\n",
       "      <td>88</td>\n",
       "    </tr>\n",
       "    <tr>\n",
       "      <th>619</th>\n",
       "      <td>James Neal</td>\n",
       "      <td>76</td>\n",
       "    </tr>\n",
       "    <tr>\n",
       "      <th>658</th>\n",
       "      <td>Jeff Mullin</td>\n",
       "      <td>73</td>\n",
       "    </tr>\n",
       "    <tr>\n",
       "      <th>1128</th>\n",
       "      <td>Not available</td>\n",
       "      <td>63</td>\n",
       "    </tr>\n",
       "    <tr>\n",
       "      <th>327</th>\n",
       "      <td>Dave Ruthenberg</td>\n",
       "      <td>43</td>\n",
       "    </tr>\n",
       "    <tr>\n",
       "      <th>335</th>\n",
       "      <td>David Christy</td>\n",
       "      <td>40</td>\n",
       "    </tr>\n",
       "    <tr>\n",
       "      <th>814</th>\n",
       "      <td>Karen Graham</td>\n",
       "      <td>38</td>\n",
       "    </tr>\n",
       "  </tbody>\n",
       "</table>\n",
       "</div>"
      ],
      "text/plain": [
       "                   author  counts\n",
       "849             Ken Hanly      97\n",
       "1165          Paul Wallis      92\n",
       "1400  THE EDITORIAL BOARD      88\n",
       "619           James Neal       76\n",
       "658          Jeff Mullin       73\n",
       "1128        Not available      63\n",
       "327      Dave Ruthenberg       43\n",
       "335        David Christy       40\n",
       "814          Karen Graham      38"
      ]
     },
     "execution_count": 14,
     "metadata": {
      "tags": []
     },
     "output_type": "execute_result"
    }
   ],
   "source": [
    "# filtering based on non-regular article type\n",
    "non_regular = inp_file2[inp_file2['label'].str.match('other')].sort_values('counts', ascending=False)\n",
    "df2 = non_regular.iloc[1:10, 1:3]\n",
    "df2"
   ]
  },
  {
   "cell_type": "code",
   "execution_count": 0,
   "metadata": {
    "colab": {
     "base_uri": "https://localhost:8080/",
     "height": 400
    },
    "colab_type": "code",
    "id": "sIWI6TNRwmie",
    "outputId": "0475539f-7301-4594-a0ef-9d8c84f9a4de"
   },
   "outputs": [
    {
     "data": {
      "image/png": "[encoded data removed]",
      "text/plain": [
       "<Figure size 432x288 with 1 Axes>"
      ]
     },
     "metadata": {
      "tags": []
     },
     "output_type": "display_data"
    }
   ],
   "source": [
    "plot_graph(df2, 'Top authors for non-regular type')"
   ]
  },
  {
   "cell_type": "code",
   "execution_count": 0,
   "metadata": {
    "colab": {
     "base_uri": "https://localhost:8080/",
     "height": 328
    },
    "colab_type": "code",
    "id": "ZdngF0RwiHQt",
    "outputId": "cee52e97-0c9d-450b-f90d-818a694cee6e"
   },
   "outputs": [
    {
     "data": {
      "text/html": [
       "<div>\n",
       "<style scoped>\n",
       "    .dataframe tbody tr th:only-of-type {\n",
       "        vertical-align: middle;\n",
       "    }\n",
       "\n",
       "    .dataframe tbody tr th {\n",
       "        vertical-align: top;\n",
       "    }\n",
       "\n",
       "    .dataframe thead th {\n",
       "        text-align: right;\n",
       "    }\n",
       "</style>\n",
       "<table border=\"1\" class=\"dataframe\">\n",
       "  <thead>\n",
       "    <tr style=\"text-align: right;\">\n",
       "      <th></th>\n",
       "      <th>author</th>\n",
       "      <th>counts</th>\n",
       "    </tr>\n",
       "  </thead>\n",
       "  <tbody>\n",
       "    <tr>\n",
       "      <th>3509</th>\n",
       "      <td>The Editorial Board</td>\n",
       "      <td>37</td>\n",
       "    </tr>\n",
       "    <tr>\n",
       "      <th>3508</th>\n",
       "      <td>The Associated Press</td>\n",
       "      <td>33</td>\n",
       "    </tr>\n",
       "    <tr>\n",
       "      <th>3511</th>\n",
       "      <td>The New York Times</td>\n",
       "      <td>32</td>\n",
       "    </tr>\n",
       "    <tr>\n",
       "      <th>3193</th>\n",
       "      <td>Katie Rogers</td>\n",
       "      <td>20</td>\n",
       "    </tr>\n",
       "    <tr>\n",
       "      <th>3237</th>\n",
       "      <td>Maggie Haberman</td>\n",
       "      <td>20</td>\n",
       "    </tr>\n",
       "    <tr>\n",
       "      <th>2904</th>\n",
       "      <td>Charles McDermid</td>\n",
       "      <td>20</td>\n",
       "    </tr>\n",
       "    <tr>\n",
       "      <th>2913</th>\n",
       "      <td>Chris Stanford</td>\n",
       "      <td>17</td>\n",
       "    </tr>\n",
       "    <tr>\n",
       "      <th>3192</th>\n",
       "      <td>Katie Benner</td>\n",
       "      <td>16</td>\n",
       "    </tr>\n",
       "    <tr>\n",
       "      <th>3154</th>\n",
       "      <td>Jonathan Martin</td>\n",
       "      <td>16</td>\n",
       "    </tr>\n",
       "  </tbody>\n",
       "</table>\n",
       "</div>"
      ],
      "text/plain": [
       "                    author  counts\n",
       "3509   The Editorial Board      37\n",
       "3508  The Associated Press      33\n",
       "3511    The New York Times      32\n",
       "3193          Katie Rogers      20\n",
       "3237       Maggie Haberman      20\n",
       "2904      Charles McDermid      20\n",
       "2913        Chris Stanford      17\n",
       "3192          Katie Benner      16\n",
       "3154       Jonathan Martin      16"
      ]
     },
     "execution_count": 16,
     "metadata": {
      "tags": []
     },
     "output_type": "execute_result"
    }
   ],
   "source": [
    "#Top authors for New York Times in both category\n",
    "ny_times = inp_file[inp_file['source_name'].str.match('New York Times')].sort_values('counts', ascending=False)\n",
    "df = ny_times.iloc[1:10, 1:3]\n",
    "df"
   ]
  },
  {
   "cell_type": "code",
   "execution_count": 0,
   "metadata": {
    "colab": {
     "base_uri": "https://localhost:8080/",
     "height": 391
    },
    "colab_type": "code",
    "id": "i12nyHumiSLI",
    "outputId": "26f425c9-1540-4e86-ddf1-263f5071007d"
   },
   "outputs": [
    {
     "data": {
      "image/png": "[encoded data removed]",
      "text/plain": [
       "<Figure size 432x288 with 1 Axes>"
      ]
     },
     "metadata": {
      "tags": []
     },
     "output_type": "display_data"
    }
   ],
   "source": [
    "plot_graph(df, 'Author vs No of articles for New York Times')"
   ]
  },
  {
   "cell_type": "code",
   "execution_count": 0,
   "metadata": {
    "colab": {},
    "colab_type": "code",
    "id": "NX0yX5Cnkj-R"
   },
   "outputs": [],
   "source": [
    "# Top authors for regular and non-regular combined for Washington Observer Report\n",
    "wa_observer = inp_file[inp_file['source_name'].str.match('Washington Observer Report')].sort_values('counts', ascending=False)\n",
    "wa_observer[['author_fname', 'author_lname', 'email']] = wa_observer['author'].str.split(' ', 2, expand=True)"
   ]
  },
  {
   "cell_type": "code",
   "execution_count": 0,
   "metadata": {
    "colab": {
     "base_uri": "https://localhost:8080/",
     "height": 68
    },
    "colab_type": "code",
    "id": "wGIGVpz83Atn",
    "outputId": "e6b7aec0-8521-4e17-dc2b-4b8492c61e37"
   },
   "outputs": [
    {
     "data": {
      "text/plain": [
       "Index(['source_name', 'author', 'counts', 'author_fname', 'author_lname',\n",
       "       'email'],\n",
       "      dtype='object')"
      ]
     },
     "execution_count": 19,
     "metadata": {
      "tags": []
     },
     "output_type": "execute_result"
    }
   ],
   "source": [
    "wa_observer.columns"
   ]
  },
  {
   "cell_type": "code",
   "execution_count": 0,
   "metadata": {
    "colab": {},
    "colab_type": "code",
    "id": "0NqrV9dJ2-d7"
   },
   "outputs": [],
   "source": [
    "df = wa_observer.iloc[0:10, 1:5]"
   ]
  },
  {
   "cell_type": "code",
   "execution_count": 0,
   "metadata": {
    "colab": {},
    "colab_type": "code",
    "id": "58v_9vTA8niP"
   },
   "outputs": [],
   "source": [
    "df['author_lname'].fillna(value='', inplace=True)"
   ]
  },
  {
   "cell_type": "code",
   "execution_count": 0,
   "metadata": {
    "colab": {
     "base_uri": "https://localhost:8080/",
     "height": 359
    },
    "colab_type": "code",
    "id": "DH2JGNdx8XV_",
    "outputId": "a7f1ffaa-6e75-420b-dd50-0b0637515b9f"
   },
   "outputs": [
    {
     "data": {
      "text/html": [
       "<div>\n",
       "<style scoped>\n",
       "    .dataframe tbody tr th:only-of-type {\n",
       "        vertical-align: middle;\n",
       "    }\n",
       "\n",
       "    .dataframe tbody tr th {\n",
       "        vertical-align: top;\n",
       "    }\n",
       "\n",
       "    .dataframe thead th {\n",
       "        text-align: right;\n",
       "    }\n",
       "</style>\n",
       "<table border=\"1\" class=\"dataframe\">\n",
       "  <thead>\n",
       "    <tr style=\"text-align: right;\">\n",
       "      <th></th>\n",
       "      <th>author</th>\n",
       "      <th>counts</th>\n",
       "      <th>author_fname</th>\n",
       "      <th>author_lname</th>\n",
       "    </tr>\n",
       "  </thead>\n",
       "  <tbody>\n",
       "    <tr>\n",
       "      <th>4585</th>\n",
       "      <td>Staff</td>\n",
       "      <td>568</td>\n",
       "      <td>Staff</td>\n",
       "      <td></td>\n",
       "    </tr>\n",
       "    <tr>\n",
       "      <th>4574</th>\n",
       "      <td>Rick Shrum Business writer rshrum@observer-rep...</td>\n",
       "      <td>83</td>\n",
       "      <td>Rick</td>\n",
       "      <td>Shrum</td>\n",
       "    </tr>\n",
       "    <tr>\n",
       "      <th>4533</th>\n",
       "      <td>Katie Anderson Staff writer kanderson@observer...</td>\n",
       "      <td>72</td>\n",
       "      <td>Katie</td>\n",
       "      <td>Anderson</td>\n",
       "    </tr>\n",
       "    <tr>\n",
       "      <th>4457</th>\n",
       "      <td>Barbara S. Miller Staff writer bmiller@observe...</td>\n",
       "      <td>71</td>\n",
       "      <td>Barbara</td>\n",
       "      <td>S.</td>\n",
       "    </tr>\n",
       "    <tr>\n",
       "      <th>4582</th>\n",
       "      <td>Scott Beveridge Staff writer sbeveridge@observ...</td>\n",
       "      <td>64</td>\n",
       "      <td>Scott</td>\n",
       "      <td>Beveridge</td>\n",
       "    </tr>\n",
       "    <tr>\n",
       "      <th>4553</th>\n",
       "      <td>Luke Campbell Staff writer lcampbell@observer-...</td>\n",
       "      <td>54</td>\n",
       "      <td>Luke</td>\n",
       "      <td>Campbell</td>\n",
       "    </tr>\n",
       "    <tr>\n",
       "      <th>4523</th>\n",
       "      <td>Jon Andreassi Staff writer jandreassi@observer...</td>\n",
       "      <td>52</td>\n",
       "      <td>Jon</td>\n",
       "      <td>Andreassi</td>\n",
       "    </tr>\n",
       "    <tr>\n",
       "      <th>4504</th>\n",
       "      <td>Gideon Bradshaw Staff writer gbradshaw@observe...</td>\n",
       "      <td>44</td>\n",
       "      <td>Gideon</td>\n",
       "      <td>Bradshaw</td>\n",
       "    </tr>\n",
       "    <tr>\n",
       "      <th>4455</th>\n",
       "      <td>Associated Press</td>\n",
       "      <td>39</td>\n",
       "      <td>Associated</td>\n",
       "      <td>Press</td>\n",
       "    </tr>\n",
       "    <tr>\n",
       "      <th>4507</th>\n",
       "      <td>Harry Funk Staff writer hfunk@thealmanac.net</td>\n",
       "      <td>39</td>\n",
       "      <td>Harry</td>\n",
       "      <td>Funk</td>\n",
       "    </tr>\n",
       "  </tbody>\n",
       "</table>\n",
       "</div>"
      ],
      "text/plain": [
       "                                                 author  ...  author_lname\n",
       "4585                                              Staff  ...              \n",
       "4574  Rick Shrum Business writer rshrum@observer-rep...  ...         Shrum\n",
       "4533  Katie Anderson Staff writer kanderson@observer...  ...      Anderson\n",
       "4457  Barbara S. Miller Staff writer bmiller@observe...  ...            S.\n",
       "4582  Scott Beveridge Staff writer sbeveridge@observ...  ...     Beveridge\n",
       "4553  Luke Campbell Staff writer lcampbell@observer-...  ...      Campbell\n",
       "4523  Jon Andreassi Staff writer jandreassi@observer...  ...     Andreassi\n",
       "4504  Gideon Bradshaw Staff writer gbradshaw@observe...  ...      Bradshaw\n",
       "4455                                   Associated Press  ...         Press\n",
       "4507       Harry Funk Staff writer hfunk@thealmanac.net  ...          Funk\n",
       "\n",
       "[10 rows x 4 columns]"
      ]
     },
     "execution_count": 22,
     "metadata": {
      "tags": []
     },
     "output_type": "execute_result"
    }
   ],
   "source": [
    "df"
   ]
  },
  {
   "cell_type": "code",
   "execution_count": 0,
   "metadata": {
    "colab": {
     "base_uri": "https://localhost:8080/",
     "height": 204
    },
    "colab_type": "code",
    "id": "RtptOOAi2Zs3",
    "outputId": "3680a664-4aef-43cf-bc45-e6a2f4b850b6"
   },
   "outputs": [
    {
     "data": {
      "text/plain": [
       "4585              Staff \n",
       "4574          Rick Shrum\n",
       "4533      Katie Anderson\n",
       "4457          Barbara S.\n",
       "4582     Scott Beveridge\n",
       "4553       Luke Campbell\n",
       "4523       Jon Andreassi\n",
       "4504     Gideon Bradshaw\n",
       "4455    Associated Press\n",
       "4507          Harry Funk\n",
       "Name: author, dtype: object"
      ]
     },
     "execution_count": 23,
     "metadata": {
      "tags": []
     },
     "output_type": "execute_result"
    }
   ],
   "source": [
    "df['author'] = df[['author_fname', 'author_lname']].apply(lambda x:' '.join(x), axis=1)\n",
    "df['author']"
   ]
  },
  {
   "cell_type": "code",
   "execution_count": 0,
   "metadata": {
    "colab": {
     "base_uri": "https://localhost:8080/",
     "height": 373
    },
    "colab_type": "code",
    "id": "qLiNdpymkzh1",
    "outputId": "2c58fb35-a29d-4ebc-d9e6-6bcf535bfb0c"
   },
   "outputs": [
    {
     "data": {
      "image/png": "[encoded data removed]",
      "text/plain": [
       "<Figure size 432x288 with 1 Axes>"
      ]
     },
     "metadata": {
      "tags": []
     },
     "output_type": "display_data"
    }
   ],
   "source": [
    "plot_graph(df, 'Author vs No of articles for Washington Observer Report')"
   ]
  },
  {
   "cell_type": "code",
   "execution_count": 0,
   "metadata": {
    "colab": {},
    "colab_type": "code",
    "id": "BkBdSDnykcTh"
   },
   "outputs": [],
   "source": [
    "# Top authors for regular and non-regular combined for Californian\n",
    "californian = inp_file[inp_file['source_name'].str.match('Californian')].sort_values('counts', ascending=False)"
   ]
  },
  {
   "cell_type": "code",
   "execution_count": 0,
   "metadata": {
    "colab": {},
    "colab_type": "code",
    "id": "LDHyUIQ3zBrC"
   },
   "outputs": [],
   "source": [
    "californian[['author_fname', 'author_lname', 'email']] = californian['author'].str.split(' ', 2, expand=True)"
   ]
  },
  {
   "cell_type": "code",
   "execution_count": 0,
   "metadata": {
    "colab": {},
    "colab_type": "code",
    "id": "KvGuvvO_0AfN"
   },
   "outputs": [],
   "source": [
    "californian['author'] = californian[['author_fname', 'author_lname']].apply(lambda x: ' '.join(x), axis=1)"
   ]
  },
  {
   "cell_type": "code",
   "execution_count": 0,
   "metadata": {
    "colab": {},
    "colab_type": "code",
    "id": "OlLG_OadsO6h"
   },
   "outputs": [],
   "source": [
    "df = californian.iloc[1:10, 1:3]"
   ]
  },
  {
   "cell_type": "code",
   "execution_count": 0,
   "metadata": {
    "colab": {
     "base_uri": "https://localhost:8080/",
     "height": 379
    },
    "colab_type": "code",
    "id": "pGYikarSdSRc",
    "outputId": "e9ecd91a-e3f0-4732-d5a9-6f3e7950dea5"
   },
   "outputs": [
    {
     "data": {
      "image/png": "[encoded data removed]",
      "text/plain": [
       "<Figure size 432x288 with 1 Axes>"
      ]
     },
     "metadata": {
      "tags": []
     },
     "output_type": "display_data"
    }
   ],
   "source": [
    "plot_graph(df, 'Author vs No of articles for Californian')"
   ]
  },
  {
   "cell_type": "code",
   "execution_count": 25,
   "metadata": {
    "colab": {
     "base_uri": "https://localhost:8080/",
     "height": 204
    },
    "colab_type": "code",
    "id": "YFXXqIkvdV_8",
    "outputId": "d2229ac1-d25a-4a93-a5a7-95f15f62cc58"
   },
   "outputs": [
    {
     "data": {
      "text/html": [
       "<div>\n",
       "<style scoped>\n",
       "    .dataframe tbody tr th:only-of-type {\n",
       "        vertical-align: middle;\n",
       "    }\n",
       "\n",
       "    .dataframe tbody tr th {\n",
       "        vertical-align: top;\n",
       "    }\n",
       "\n",
       "    .dataframe thead th {\n",
       "        text-align: right;\n",
       "    }\n",
       "</style>\n",
       "<table border=\"1\" class=\"dataframe\">\n",
       "  <thead>\n",
       "    <tr style=\"text-align: right;\">\n",
       "      <th></th>\n",
       "      <th>source_name</th>\n",
       "      <th>author</th>\n",
       "      <th>label</th>\n",
       "      <th>counts</th>\n",
       "    </tr>\n",
       "  </thead>\n",
       "  <tbody>\n",
       "    <tr>\n",
       "      <th>859</th>\n",
       "      <td>Digital Journal</td>\n",
       "      <td>Markos Papadatos</td>\n",
       "      <td>regular</td>\n",
       "      <td>1104</td>\n",
       "    </tr>\n",
       "    <tr>\n",
       "      <th>1002</th>\n",
       "      <td>Digital Journal</td>\n",
       "      <td>Tim Sandle</td>\n",
       "      <td>regular</td>\n",
       "      <td>700</td>\n",
       "    </tr>\n",
       "    <tr>\n",
       "      <th>806</th>\n",
       "      <td>Digital Journal</td>\n",
       "      <td>Karen Graham</td>\n",
       "      <td>regular</td>\n",
       "      <td>578</td>\n",
       "    </tr>\n",
       "    <tr>\n",
       "      <th>815</th>\n",
       "      <td>Digital Journal</td>\n",
       "      <td>Ken Hanly</td>\n",
       "      <td>regular</td>\n",
       "      <td>243</td>\n",
       "    </tr>\n",
       "    <tr>\n",
       "      <th>814</th>\n",
       "      <td>Digital Journal</td>\n",
       "      <td>Ken Hanly</td>\n",
       "      <td>other</td>\n",
       "      <td>97</td>\n",
       "    </tr>\n",
       "  </tbody>\n",
       "</table>\n",
       "</div>"
      ],
      "text/plain": [
       "          source_name            author    label  counts\n",
       "859   Digital Journal  Markos Papadatos  regular    1104\n",
       "1002  Digital Journal        Tim Sandle  regular     700\n",
       "806   Digital Journal      Karen Graham  regular     578\n",
       "815   Digital Journal         Ken Hanly  regular     243\n",
       "814   Digital Journal         Ken Hanly    other      97"
      ]
     },
     "execution_count": 25,
     "metadata": {
      "tags": []
     },
     "output_type": "execute_result"
    }
   ],
   "source": [
    "# Top authors for regular and non-regular combined for Digital Journal\n",
    "digital_jrnl = inp_file[inp_file['source_name'].str.match('Digital Journal')].sort_values('counts', ascending=False)\n",
    "digital_jrnl.head()"
   ]
  },
  {
   "cell_type": "code",
   "execution_count": 32,
   "metadata": {
    "colab": {
     "base_uri": "https://localhost:8080/",
     "height": 359
    },
    "colab_type": "code",
    "id": "cnCJXfDXi6mc",
    "outputId": "0e714f78-56a5-4b74-db40-e9ee9430ce51"
   },
   "outputs": [
    {
     "data": {
      "text/html": [
       "<div>\n",
       "<style scoped>\n",
       "    .dataframe tbody tr th:only-of-type {\n",
       "        vertical-align: middle;\n",
       "    }\n",
       "\n",
       "    .dataframe tbody tr th {\n",
       "        vertical-align: top;\n",
       "    }\n",
       "\n",
       "    .dataframe thead th {\n",
       "        text-align: right;\n",
       "    }\n",
       "</style>\n",
       "<table border=\"1\" class=\"dataframe\">\n",
       "  <thead>\n",
       "    <tr style=\"text-align: right;\">\n",
       "      <th></th>\n",
       "      <th>author</th>\n",
       "      <th>label</th>\n",
       "      <th>counts</th>\n",
       "    </tr>\n",
       "  </thead>\n",
       "  <tbody>\n",
       "    <tr>\n",
       "      <th>3663</th>\n",
       "      <td>ASSOCIATED PRESS</td>\n",
       "      <td>regular</td>\n",
       "      <td>264</td>\n",
       "    </tr>\n",
       "    <tr>\n",
       "      <th>4297</th>\n",
       "      <td>R,I ROSSMANN</td>\n",
       "      <td>regular</td>\n",
       "      <td>89</td>\n",
       "    </tr>\n",
       "    <tr>\n",
       "      <th>4409</th>\n",
       "      <td>THE EDITORIAL BOARD</td>\n",
       "      <td>other</td>\n",
       "      <td>88</td>\n",
       "    </tr>\n",
       "    <tr>\n",
       "      <th>4447</th>\n",
       "      <td>WILL SCHMITT</td>\n",
       "      <td>regular</td>\n",
       "      <td>74</td>\n",
       "    </tr>\n",
       "    <tr>\n",
       "      <th>4454</th>\n",
       "      <td>THE EDITORIAL BOARD</td>\n",
       "      <td>regular</td>\n",
       "      <td>70</td>\n",
       "    </tr>\n",
       "    <tr>\n",
       "      <th>4239</th>\n",
       "      <td>NASHELLY CHAVEZ</td>\n",
       "      <td>regular</td>\n",
       "      <td>68</td>\n",
       "    </tr>\n",
       "    <tr>\n",
       "      <th>4437</th>\n",
       "      <td>TYLER SILVY</td>\n",
       "      <td>regular</td>\n",
       "      <td>65</td>\n",
       "    </tr>\n",
       "    <tr>\n",
       "      <th>3690</th>\n",
       "      <td>BILL SWINDELL</td>\n",
       "      <td>regular</td>\n",
       "      <td>61</td>\n",
       "    </tr>\n",
       "    <tr>\n",
       "      <th>4085</th>\n",
       "      <td>KEVIN FIXLER</td>\n",
       "      <td>regular</td>\n",
       "      <td>59</td>\n",
       "    </tr>\n",
       "    <tr>\n",
       "      <th>3953</th>\n",
       "      <td>JEANNE PHILLIPS</td>\n",
       "      <td>regular</td>\n",
       "      <td>57</td>\n",
       "    </tr>\n",
       "  </tbody>\n",
       "</table>\n",
       "</div>"
      ],
      "text/plain": [
       "                   author    label  counts\n",
       "3663     ASSOCIATED PRESS  regular     264\n",
       "4297         R,I ROSSMANN  regular      89\n",
       "4409  THE EDITORIAL BOARD    other      88\n",
       "4447         WILL SCHMITT  regular      74\n",
       "4454  THE EDITORIAL BOARD  regular      70\n",
       "4239      NASHELLY CHAVEZ  regular      68\n",
       "4437          TYLER SILVY  regular      65\n",
       "3690        BILL SWINDELL  regular      61\n",
       "4085         KEVIN FIXLER  regular      59\n",
       "3953      JEANNE PHILLIPS  regular      57"
      ]
     },
     "execution_count": 32,
     "metadata": {
      "tags": []
     },
     "output_type": "execute_result"
    }
   ],
   "source": [
    "# Top authors for regular and non-regular combined for Press Democrat\n",
    "press_democrat = inp_file[inp_file['source_name'].str.match('Press Democrat')].sort_values('counts', ascending=False)\n",
    "press_democrat['author'] = press_democrat['author'].str.replace('YOU CAN SEND A LETTER TO THE EDITOR AT LETTERS@PRESSDEMOCRAT.COM.', 'THE EDITORIAL BOARD')\n",
    "df = press_democrat.iloc[0:10, 1:5]\n",
    "df"
   ]
  },
  {
   "cell_type": "code",
   "execution_count": 33,
   "metadata": {
    "colab": {
     "base_uri": "https://localhost:8080/",
     "height": 400
    },
    "colab_type": "code",
    "id": "9g5hcGF6jEGq",
    "outputId": "3630ed2c-8970-4329-e037-e977ffbb50f3"
   },
   "outputs": [
    {
     "data": {
      "image/png": "[encoded data removed]",
      "text/plain": [
       "<Figure size 432x288 with 1 Axes>"
      ]
     },
     "metadata": {
      "tags": []
     },
     "output_type": "display_data"
    }
   ],
   "source": [
    "plot_graph(df, 'Author vs No of articles for Press Democrat')"
   ]
  },
  {
   "cell_type": "code",
   "execution_count": 36,
   "metadata": {
    "colab": {
     "base_uri": "https://localhost:8080/",
     "height": 359
    },
    "colab_type": "code",
    "id": "mkFZLq4R9Adz",
    "outputId": "56cb56ae-5c6d-4a3a-d11a-8160dbef9ab5"
   },
   "outputs": [
    {
     "data": {
      "text/html": [
       "<div>\n",
       "<style scoped>\n",
       "    .dataframe tbody tr th:only-of-type {\n",
       "        vertical-align: middle;\n",
       "    }\n",
       "\n",
       "    .dataframe tbody tr th {\n",
       "        vertical-align: top;\n",
       "    }\n",
       "\n",
       "    .dataframe thead th {\n",
       "        text-align: right;\n",
       "    }\n",
       "</style>\n",
       "<table border=\"1\" class=\"dataframe\">\n",
       "  <thead>\n",
       "    <tr style=\"text-align: right;\">\n",
       "      <th></th>\n",
       "      <th>author</th>\n",
       "      <th>label</th>\n",
       "      <th>counts</th>\n",
       "      <th>author_fname</th>\n",
       "      <th>author_lname</th>\n",
       "    </tr>\n",
       "  </thead>\n",
       "  <tbody>\n",
       "    <tr>\n",
       "      <th>2709</th>\n",
       "      <td>SETH STRINGER    @SethSnwfdn</td>\n",
       "      <td>regular</td>\n",
       "      <td>277</td>\n",
       "      <td>SETH</td>\n",
       "      <td>STRINGER</td>\n",
       "    </tr>\n",
       "    <tr>\n",
       "      <th>2633</th>\n",
       "      <td>Jim Thompson    @Jimtnwfdn</td>\n",
       "      <td>regular</td>\n",
       "      <td>228</td>\n",
       "      <td>Jim</td>\n",
       "      <td>Thompson</td>\n",
       "    </tr>\n",
       "    <tr>\n",
       "      <th>2472</th>\n",
       "      <td>By Sam Grubenhoff | 315-4476 | @SamGrubenhoff ...</td>\n",
       "      <td>regular</td>\n",
       "      <td>221</td>\n",
       "      <td>By</td>\n",
       "      <td>Sam</td>\n",
       "    </tr>\n",
       "    <tr>\n",
       "      <th>2729</th>\n",
       "      <td>Special to GateHouse Media Florida</td>\n",
       "      <td>regular</td>\n",
       "      <td>197</td>\n",
       "      <td>Special</td>\n",
       "      <td>to</td>\n",
       "    </tr>\n",
       "    <tr>\n",
       "      <th>2747</th>\n",
       "      <td>TOM McLAUGHLIN    @TomMnwfdn</td>\n",
       "      <td>regular</td>\n",
       "      <td>195</td>\n",
       "      <td>TOM</td>\n",
       "      <td>McLAUGHLIN</td>\n",
       "    </tr>\n",
       "    <tr>\n",
       "      <th>2748</th>\n",
       "      <td>TONY JUDNICH    @Tonyjnwfdn</td>\n",
       "      <td>regular</td>\n",
       "      <td>174</td>\n",
       "      <td>TONY</td>\n",
       "      <td>JUDNICH</td>\n",
       "    </tr>\n",
       "    <tr>\n",
       "      <th>2807</th>\n",
       "      <td>staff report</td>\n",
       "      <td>regular</td>\n",
       "      <td>172</td>\n",
       "      <td>staff</td>\n",
       "      <td>report</td>\n",
       "    </tr>\n",
       "    <tr>\n",
       "      <th>2602</th>\n",
       "      <td>GateHouse Media Florida staff report</td>\n",
       "      <td>regular</td>\n",
       "      <td>172</td>\n",
       "      <td>GateHouse</td>\n",
       "      <td>Media</td>\n",
       "    </tr>\n",
       "    <tr>\n",
       "      <th>2648</th>\n",
       "      <td>Kaylin Parker    @parkerNWFDN</td>\n",
       "      <td>regular</td>\n",
       "      <td>171</td>\n",
       "      <td>Kaylin</td>\n",
       "      <td>Parker</td>\n",
       "    </tr>\n",
       "    <tr>\n",
       "      <th>2708</th>\n",
       "      <td>SAVANNAH EVANOFF    @SavannahEnwfdn</td>\n",
       "      <td>regular</td>\n",
       "      <td>154</td>\n",
       "      <td>SAVANNAH</td>\n",
       "      <td>EVANOFF</td>\n",
       "    </tr>\n",
       "  </tbody>\n",
       "</table>\n",
       "</div>"
      ],
      "text/plain": [
       "                                                 author  ... author_lname\n",
       "2709                       SETH STRINGER    @SethSnwfdn  ...     STRINGER\n",
       "2633                         Jim Thompson    @Jimtnwfdn  ...     Thompson\n",
       "2472  By Sam Grubenhoff | 315-4476 | @SamGrubenhoff ...  ...          Sam\n",
       "2729                 Special to GateHouse Media Florida  ...           to\n",
       "2747                       TOM McLAUGHLIN    @TomMnwfdn  ...   McLAUGHLIN\n",
       "2748                        TONY JUDNICH    @Tonyjnwfdn  ...      JUDNICH\n",
       "2807                                       staff report  ...       report\n",
       "2602               GateHouse Media Florida staff report  ...        Media\n",
       "2648                      Kaylin Parker    @parkerNWFDN  ...       Parker\n",
       "2708                SAVANNAH EVANOFF    @SavannahEnwfdn  ...      EVANOFF\n",
       "\n",
       "[10 rows x 5 columns]"
      ]
     },
     "execution_count": 36,
     "metadata": {
      "tags": []
     },
     "output_type": "execute_result"
    }
   ],
   "source": [
    "# Top authors for regular and non-regular combined for NW Florida Daily\n",
    "nwf = inp_file[inp_file['source_name'].str.match('NW Florida Daily')].sort_values('counts', ascending=False)\n",
    "nwf[['author_fname', 'author_lname', 'email']] = nwf['author'].str.split(' ', 2, expand=True)\n",
    "df = nwf.iloc[0:10, 1:6]\n",
    "df\n"
   ]
  },
  {
   "cell_type": "code",
   "execution_count": 37,
   "metadata": {
    "colab": {
     "base_uri": "https://localhost:8080/",
     "height": 204
    },
    "colab_type": "code",
    "id": "MlJvRflE-FJE",
    "outputId": "525e6aa9-9f72-4cc9-a60c-6a1e69694f62"
   },
   "outputs": [
    {
     "data": {
      "text/plain": [
       "2709       SETH STRINGER\n",
       "2633        Jim Thompson\n",
       "2472              By Sam\n",
       "2729          Special to\n",
       "2747      TOM McLAUGHLIN\n",
       "2748        TONY JUDNICH\n",
       "2807        staff report\n",
       "2602     GateHouse Media\n",
       "2648       Kaylin Parker\n",
       "2708    SAVANNAH EVANOFF\n",
       "Name: author, dtype: object"
      ]
     },
     "execution_count": 37,
     "metadata": {
      "tags": []
     },
     "output_type": "execute_result"
    }
   ],
   "source": [
    "df['author'] = df[['author_fname', 'author_lname']].apply(lambda x:' '.join(x), axis=1)\n",
    "df['author']\n"
   ]
  },
  {
   "cell_type": "code",
   "execution_count": 38,
   "metadata": {
    "colab": {
     "base_uri": "https://localhost:8080/",
     "height": 391
    },
    "colab_type": "code",
    "id": "Jb9iq-4M-Rx8",
    "outputId": "8df55b19-daa8-4a34-b5aa-87c9795f54de"
   },
   "outputs": [
    {
     "data": {
      "image/png": "[encoded data removed]",
      "text/plain": [
       "<Figure size 432x288 with 1 Axes>"
      ]
     },
     "metadata": {
      "tags": []
     },
     "output_type": "display_data"
    }
   ],
   "source": [
    "plot_graph(df, 'Author vs No of articles for NWF Daily')"
   ]
  },
  {
   "cell_type": "code",
   "execution_count": 49,
   "metadata": {
    "colab": {
     "base_uri": "https://localhost:8080/",
     "height": 359
    },
    "colab_type": "code",
    "id": "CqHs9Q8M-gzc",
    "outputId": "b68a53da-307b-4d98-c1f9-66b1cf861f2f"
   },
   "outputs": [
    {
     "data": {
      "text/html": [
       "<div>\n",
       "<style scoped>\n",
       "    .dataframe tbody tr th:only-of-type {\n",
       "        vertical-align: middle;\n",
       "    }\n",
       "\n",
       "    .dataframe tbody tr th {\n",
       "        vertical-align: top;\n",
       "    }\n",
       "\n",
       "    .dataframe thead th {\n",
       "        text-align: right;\n",
       "    }\n",
       "</style>\n",
       "<table border=\"1\" class=\"dataframe\">\n",
       "  <thead>\n",
       "    <tr style=\"text-align: right;\">\n",
       "      <th></th>\n",
       "      <th>author</th>\n",
       "      <th>label</th>\n",
       "      <th>counts</th>\n",
       "      <th>author_fname</th>\n",
       "      <th>author_lname</th>\n",
       "    </tr>\n",
       "  </thead>\n",
       "  <tbody>\n",
       "    <tr>\n",
       "      <th>1912</th>\n",
       "      <td>Staff report</td>\n",
       "      <td>regular</td>\n",
       "      <td>344</td>\n",
       "      <td>Staff</td>\n",
       "      <td>report</td>\n",
       "    </tr>\n",
       "    <tr>\n",
       "      <th>1910</th>\n",
       "      <td>Staff report</td>\n",
       "      <td>regular</td>\n",
       "      <td>216</td>\n",
       "      <td>Staff</td>\n",
       "      <td>report</td>\n",
       "    </tr>\n",
       "    <tr>\n",
       "      <th>1954</th>\n",
       "      <td>Tom Bragg</td>\n",
       "      <td>regular</td>\n",
       "      <td>202</td>\n",
       "      <td>Tom</td>\n",
       "      <td>Bragg</td>\n",
       "    </tr>\n",
       "    <tr>\n",
       "      <th>1866</th>\n",
       "      <td>Rick Ryan</td>\n",
       "      <td>regular</td>\n",
       "      <td>158</td>\n",
       "      <td>Rick</td>\n",
       "      <td>Ryan</td>\n",
       "    </tr>\n",
       "    <tr>\n",
       "      <th>1476</th>\n",
       "      <td>Bill Lynch</td>\n",
       "      <td>regular</td>\n",
       "      <td>152</td>\n",
       "      <td>Bill</td>\n",
       "      <td>Lynch</td>\n",
       "    </tr>\n",
       "    <tr>\n",
       "      <th>1867</th>\n",
       "      <td>Rick Steelhammer</td>\n",
       "      <td>regular</td>\n",
       "      <td>152</td>\n",
       "      <td>Rick</td>\n",
       "      <td>Steelhammer</td>\n",
       "    </tr>\n",
       "    <tr>\n",
       "      <th>1842</th>\n",
       "      <td>Phil Kabler</td>\n",
       "      <td>regular</td>\n",
       "      <td>137</td>\n",
       "      <td>Phil</td>\n",
       "      <td>Kabler</td>\n",
       "    </tr>\n",
       "    <tr>\n",
       "      <th>1739</th>\n",
       "      <td>Lacie Pierson</td>\n",
       "      <td>regular</td>\n",
       "      <td>125</td>\n",
       "      <td>Lacie</td>\n",
       "      <td>Pierson</td>\n",
       "    </tr>\n",
       "    <tr>\n",
       "      <th>1892</th>\n",
       "      <td>Ryan Quinn</td>\n",
       "      <td>regular</td>\n",
       "      <td>124</td>\n",
       "      <td>Ryan</td>\n",
       "      <td>Quinn</td>\n",
       "    </tr>\n",
       "    <tr>\n",
       "      <th>1886</th>\n",
       "      <td>Ryan Pritt</td>\n",
       "      <td>regular</td>\n",
       "      <td>123</td>\n",
       "      <td>Ryan</td>\n",
       "      <td>Pritt</td>\n",
       "    </tr>\n",
       "  </tbody>\n",
       "</table>\n",
       "</div>"
      ],
      "text/plain": [
       "                author    label  counts author_fname author_lname\n",
       "1912      Staff report  regular     344        Staff       report\n",
       "1910      Staff report  regular     216        Staff       report\n",
       "1954         Tom Bragg  regular     202          Tom        Bragg\n",
       "1866         Rick Ryan  regular     158         Rick         Ryan\n",
       "1476        Bill Lynch  regular     152         Bill        Lynch\n",
       "1867  Rick Steelhammer  regular     152         Rick  Steelhammer\n",
       "1842       Phil Kabler  regular     137         Phil       Kabler\n",
       "1739     Lacie Pierson  regular     125        Lacie      Pierson\n",
       "1892        Ryan Quinn  regular     124         Ryan        Quinn\n",
       "1886        Ryan Pritt  regular     123         Ryan        Pritt"
      ]
     },
     "execution_count": 49,
     "metadata": {
      "tags": []
     },
     "output_type": "execute_result"
    }
   ],
   "source": [
    "# Top authors for regular and non-regular combined for Gazette Mail\n",
    "gazette = inp_file[inp_file['source_name'].str.match('Gazette-mail')].sort_values('counts', ascending=False)\n",
    "gazette['author'] = gazette['author'].str.replace('Staff reports', 'Staff report')\n",
    "gazette[['author_fname', 'author_lname', 'email']] = gazette['author'].str.split(' ', 2, expand=True)\n",
    "df = gazette.iloc[0:10, 1:6]\n",
    "df['author'] = df[['author_fname', 'author_lname']].apply(lambda x:' '.join(x), axis=1)\n",
    "df"
   ]
  },
  {
   "cell_type": "code",
   "execution_count": 0,
   "metadata": {
    "colab": {
     "base_uri": "https://localhost:8080/",
     "height": 377
    },
    "colab_type": "code",
    "id": "RAABXVBd_YiO",
    "outputId": "ebab699c-38dd-4c55-c73a-03720f7b3c8d"
   },
   "outputs": [
    {
     "data": {
      "image/png": "[encoded data removed]",
      "text/plain": [
       "<Figure size 432x288 with 1 Axes>"
      ]
     },
     "metadata": {
      "tags": []
     },
     "output_type": "display_data"
    }
   ],
   "source": [
    "plot_graph(df, 'Author vs No of articles for Gazette Mail')"
   ]
  },
  {
   "cell_type": "code",
   "execution_count": 0,
   "metadata": {
    "colab": {
     "base_uri": "https://localhost:8080/",
     "height": 359
    },
    "colab_type": "code",
    "id": "5mAALZbIAzOS",
    "outputId": "c31f3afb-4213-4f1f-9a7a-83f7c189f501"
   },
   "outputs": [
    {
     "data": {
      "text/html": [
       "<div>\n",
       "<style scoped>\n",
       "    .dataframe tbody tr th:only-of-type {\n",
       "        vertical-align: middle;\n",
       "    }\n",
       "\n",
       "    .dataframe tbody tr th {\n",
       "        vertical-align: top;\n",
       "    }\n",
       "\n",
       "    .dataframe thead th {\n",
       "        text-align: right;\n",
       "    }\n",
       "</style>\n",
       "<table border=\"1\" class=\"dataframe\">\n",
       "  <thead>\n",
       "    <tr style=\"text-align: right;\">\n",
       "      <th></th>\n",
       "      <th>author</th>\n",
       "      <th>counts</th>\n",
       "    </tr>\n",
       "  </thead>\n",
       "  <tbody>\n",
       "    <tr>\n",
       "      <th>1178</th>\n",
       "      <td>Cass Rains</td>\n",
       "      <td>588</td>\n",
       "    </tr>\n",
       "    <tr>\n",
       "      <th>1247</th>\n",
       "      <td>James Neal</td>\n",
       "      <td>518</td>\n",
       "    </tr>\n",
       "    <tr>\n",
       "      <th>1320</th>\n",
       "      <td>Mitchell Willetts</td>\n",
       "      <td>481</td>\n",
       "    </tr>\n",
       "    <tr>\n",
       "      <th>1223</th>\n",
       "      <td>Enid News &amp; Eagle</td>\n",
       "      <td>450</td>\n",
       "    </tr>\n",
       "    <tr>\n",
       "      <th>1350</th>\n",
       "      <td>Ryan Miller</td>\n",
       "      <td>226</td>\n",
       "    </tr>\n",
       "    <tr>\n",
       "      <th>1226</th>\n",
       "      <td>Enid News &amp; Eagle Editorial Board</td>\n",
       "      <td>162</td>\n",
       "    </tr>\n",
       "    <tr>\n",
       "      <th>1200</th>\n",
       "      <td>Dave Ruthenberg</td>\n",
       "      <td>142</td>\n",
       "    </tr>\n",
       "    <tr>\n",
       "      <th>1380</th>\n",
       "      <td>Tim Godfrey</td>\n",
       "      <td>141</td>\n",
       "    </tr>\n",
       "    <tr>\n",
       "      <th>1151</th>\n",
       "      <td>By Tim Godfrey Staff Writer</td>\n",
       "      <td>124</td>\n",
       "    </tr>\n",
       "    <tr>\n",
       "      <th>1074</th>\n",
       "      <td>By Cass Rains Staff Writer</td>\n",
       "      <td>113</td>\n",
       "    </tr>\n",
       "  </tbody>\n",
       "</table>\n",
       "</div>"
      ],
      "text/plain": [
       "                                 author  counts\n",
       "1178                        Cass Rains      588\n",
       "1247                        James Neal      518\n",
       "1320                 Mitchell Willetts      481\n",
       "1223                  Enid News & Eagle     450\n",
       "1350                       Ryan Miller      226\n",
       "1226  Enid News & Eagle Editorial Board     162\n",
       "1200                   Dave Ruthenberg      142\n",
       "1380                       Tim Godfrey      141\n",
       "1151        By Tim Godfrey Staff Writer     124\n",
       "1074         By Cass Rains Staff Writer     113"
      ]
     },
     "execution_count": 39,
     "metadata": {
      "tags": []
     },
     "output_type": "execute_result"
    }
   ],
   "source": [
    "# Top authors for regular and non-regular combined for Enid News\n",
    "enid = inp_file[inp_file['source_name'].str.match('Enid News')].sort_values('counts', ascending=False)\n",
    "df = enid.iloc[0:10, 1:3]\n",
    "df\n"
   ]
  },
  {
   "cell_type": "code",
   "execution_count": 0,
   "metadata": {
    "colab": {
     "base_uri": "https://localhost:8080/",
     "height": 456
    },
    "colab_type": "code",
    "id": "DQXwQVzLBIL9",
    "outputId": "4b481ec0-695a-4da0-bc3d-39c423d24760"
   },
   "outputs": [
    {
     "data": {
      "image/png": "[encoded data removed]",
      "text/plain": [
       "<Figure size 432x288 with 1 Axes>"
      ]
     },
     "metadata": {
      "tags": []
     },
     "output_type": "display_data"
    }
   ],
   "source": [
    "plot_graph(df, 'Author vs No of articles Enid News')"
   ]
  },
  {
   "cell_type": "code",
   "execution_count": 0,
   "metadata": {
    "colab": {
     "base_uri": "https://localhost:8080/",
     "height": 359
    },
    "colab_type": "code",
    "id": "7DLVOsu5BPnI",
    "outputId": "4732cd80-8b25-4c18-a4a5-1d3037c192f4"
   },
   "outputs": [
    {
     "data": {
      "text/html": [
       "<div>\n",
       "<style scoped>\n",
       "    .dataframe tbody tr th:only-of-type {\n",
       "        vertical-align: middle;\n",
       "    }\n",
       "\n",
       "    .dataframe tbody tr th {\n",
       "        vertical-align: top;\n",
       "    }\n",
       "\n",
       "    .dataframe thead th {\n",
       "        text-align: right;\n",
       "    }\n",
       "</style>\n",
       "<table border=\"1\" class=\"dataframe\">\n",
       "  <thead>\n",
       "    <tr style=\"text-align: right;\">\n",
       "      <th></th>\n",
       "      <th>author</th>\n",
       "      <th>counts</th>\n",
       "    </tr>\n",
       "  </thead>\n",
       "  <tbody>\n",
       "    <tr>\n",
       "      <th>2114</th>\n",
       "      <td>Tom Johnson</td>\n",
       "      <td>234</td>\n",
       "    </tr>\n",
       "    <tr>\n",
       "      <th>2022</th>\n",
       "      <td>John Reitmeyer</td>\n",
       "      <td>220</td>\n",
       "    </tr>\n",
       "    <tr>\n",
       "      <th>2041</th>\n",
       "      <td>Lilo H. Stainton</td>\n",
       "      <td>190</td>\n",
       "    </tr>\n",
       "    <tr>\n",
       "      <th>1976</th>\n",
       "      <td>Colleen O'Dea</td>\n",
       "      <td>187</td>\n",
       "    </tr>\n",
       "    <tr>\n",
       "      <th>1968</th>\n",
       "      <td>Carly Sitrin</td>\n",
       "      <td>76</td>\n",
       "    </tr>\n",
       "    <tr>\n",
       "      <th>2067</th>\n",
       "      <td>NJTV News online</td>\n",
       "      <td>70</td>\n",
       "    </tr>\n",
       "    <tr>\n",
       "      <th>1961</th>\n",
       "      <td>Brenda Flanagan</td>\n",
       "      <td>60</td>\n",
       "    </tr>\n",
       "    <tr>\n",
       "      <th>2025</th>\n",
       "      <td>Jon Hurdle</td>\n",
       "      <td>51</td>\n",
       "    </tr>\n",
       "    <tr>\n",
       "      <th>2065</th>\n",
       "      <td>NJ Spotlight</td>\n",
       "      <td>50</td>\n",
       "    </tr>\n",
       "    <tr>\n",
       "      <th>2021</th>\n",
       "      <td>John Mooney</td>\n",
       "      <td>31</td>\n",
       "    </tr>\n",
       "  </tbody>\n",
       "</table>\n",
       "</div>"
      ],
      "text/plain": [
       "                author  counts\n",
       "2114       Tom Johnson     234\n",
       "2022    John Reitmeyer     220\n",
       "2041  Lilo H. Stainton     190\n",
       "1976     Colleen O'Dea     187\n",
       "1968      Carly Sitrin      76\n",
       "2067  NJTV News online      70\n",
       "1961   Brenda Flanagan      60\n",
       "2025        Jon Hurdle      51\n",
       "2065      NJ Spotlight      50\n",
       "2021       John Mooney      31"
      ]
     },
     "execution_count": 41,
     "metadata": {
      "tags": []
     },
     "output_type": "execute_result"
    }
   ],
   "source": [
    "# Top authors for regular and non-regular combined for NJSpotlight\n",
    "nj_spotlight = inp_file[inp_file['source_name'].str.match('NJSpotlight')].sort_values('counts', ascending=False)\n",
    "df = nj_spotlight.iloc[0:10, 1:3]\n",
    "df\n"
   ]
  },
  {
   "cell_type": "code",
   "execution_count": 0,
   "metadata": {
    "colab": {
     "base_uri": "https://localhost:8080/",
     "height": 372
    },
    "colab_type": "code",
    "id": "OuldBULrBf-k",
    "outputId": "8e3c5cea-62f2-41ba-98d4-ab4396cfd815"
   },
   "outputs": [
    {
     "data": {
      "image/png": "[encoded data removed]",
      "text/plain": [
       "<Figure size 432x288 with 1 Axes>"
      ]
     },
     "metadata": {
      "tags": []
     },
     "output_type": "display_data"
    }
   ],
   "source": [
    "plot_graph(df, 'Author vs No of articles NJSpotlight')"
   ]
  },
  {
   "cell_type": "code",
   "execution_count": 0,
   "metadata": {
    "colab": {},
    "colab_type": "code",
    "id": "FrE9GUV3IEkN"
   },
   "outputs": [],
   "source": [
    "author_check = base.copy()"
   ]
  },
  {
   "cell_type": "code",
   "execution_count": 5,
   "metadata": {
    "colab": {
     "base_uri": "https://localhost:8080/",
     "height": 51
    },
    "colab_type": "code",
    "id": "DLb4o3DmgpMD",
    "outputId": "4ca110f8-b501-4f67-ce75-467e39f708b2"
   },
   "outputs": [
    {
     "data": {
      "text/plain": [
       "array(['regular', 'guest', 'editorial', 'other', 'oped', 'opinion'],\n",
       "      dtype=object)"
      ]
     },
     "execution_count": 5,
     "metadata": {
      "tags": []
     },
     "output_type": "execute_result"
    }
   ],
   "source": [
    "author_check['label'] = author_check['label'].str.replace('0', 'regular')\n",
    "author_check['label'] = author_check['label'].str.replace('1', 'other')\n",
    "author_check['label'] = author_check['label'].str.replace('2', 'other')\n",
    "\n",
    "author_check['label'].unique()"
   ]
  },
  {
   "cell_type": "code",
   "execution_count": 0,
   "metadata": {
    "colab": {},
    "colab_type": "code",
    "id": "5bmypsrTjeTj"
   },
   "outputs": [],
   "source": [
    "# grouping the file by source name and label\n",
    "inp_file3 = author_check.groupby(['source_name','label']).size().reset_index(name='counts')"
   ]
  },
  {
   "cell_type": "code",
   "execution_count": 0,
   "metadata": {
    "colab": {},
    "colab_type": "code",
    "id": "HMppSrtUjtZX"
   },
   "outputs": [],
   "source": [
    "# plots to show which category is covered by which newspaper\n",
    "def plot_grap_hori(df, label):\n",
    "  plt.barh(df.loc[:,'source_name'], df.loc[:, 'counts'], align=\"center\")\n",
    "  plt.xticks()\n",
    "  plt.ylabel('Source Name')\n",
    "  plt.xlabel('Counts')\n",
    "  plt.title(label)"
   ]
  },
  {
   "cell_type": "code",
   "execution_count": 8,
   "metadata": {
    "colab": {
     "base_uri": "https://localhost:8080/",
     "height": 142
    },
    "colab_type": "code",
    "id": "r39oHM4wmHIB",
    "outputId": "c49c29da-27e3-4390-8231-e169b2a45dea"
   },
   "outputs": [
    {
     "data": {
      "text/html": [
       "<div>\n",
       "<style scoped>\n",
       "    .dataframe tbody tr th:only-of-type {\n",
       "        vertical-align: middle;\n",
       "    }\n",
       "\n",
       "    .dataframe tbody tr th {\n",
       "        vertical-align: top;\n",
       "    }\n",
       "\n",
       "    .dataframe thead th {\n",
       "        text-align: right;\n",
       "    }\n",
       "</style>\n",
       "<table border=\"1\" class=\"dataframe\">\n",
       "  <thead>\n",
       "    <tr style=\"text-align: right;\">\n",
       "      <th></th>\n",
       "      <th>source_name</th>\n",
       "      <th>label</th>\n",
       "      <th>counts</th>\n",
       "    </tr>\n",
       "  </thead>\n",
       "  <tbody>\n",
       "    <tr>\n",
       "      <th>8</th>\n",
       "      <td>Gazette-mail</td>\n",
       "      <td>editorial</td>\n",
       "      <td>162</td>\n",
       "    </tr>\n",
       "    <tr>\n",
       "      <th>20</th>\n",
       "      <td>Press Democrat</td>\n",
       "      <td>editorial</td>\n",
       "      <td>88</td>\n",
       "    </tr>\n",
       "    <tr>\n",
       "      <th>23</th>\n",
       "      <td>Washington Observer Report</td>\n",
       "      <td>editorial</td>\n",
       "      <td>11</td>\n",
       "    </tr>\n",
       "  </tbody>\n",
       "</table>\n",
       "</div>"
      ],
      "text/plain": [
       "                   source_name      label  counts\n",
       "8                 Gazette-mail  editorial     162\n",
       "20              Press Democrat  editorial      88\n",
       "23  Washington Observer Report  editorial      11"
      ]
     },
     "execution_count": 8,
     "metadata": {
      "tags": []
     },
     "output_type": "execute_result"
    }
   ],
   "source": [
    "d1 = inp_file3[inp_file3['label'].str.match('editorial')].sort_values('counts', ascending=False)\n",
    "d1"
   ]
  },
  {
   "cell_type": "code",
   "execution_count": 9,
   "metadata": {
    "colab": {
     "base_uri": "https://localhost:8080/",
     "height": 295
    },
    "colab_type": "code",
    "id": "2wduD-UXtB_Z",
    "outputId": "e8c1559f-0e3b-4890-d85a-2bda06fe80a1"
   },
   "outputs": [
    {
     "data": {
      "image/png": "[encoded data removed]",
      "text/plain": [
       "<Figure size 432x288 with 1 Axes>"
      ]
     },
     "metadata": {
      "tags": []
     },
     "output_type": "display_data"
    }
   ],
   "source": [
    "plot_grap_hori(d1, 'Editorial')"
   ]
  },
  {
   "cell_type": "code",
   "execution_count": 10,
   "metadata": {
    "colab": {
     "base_uri": "https://localhost:8080/",
     "height": 235
    },
    "colab_type": "code",
    "id": "hL9GLpOgsw_3",
    "outputId": "baf6d24d-1569-444b-96ec-cab3c7142fdf"
   },
   "outputs": [
    {
     "data": {
      "text/html": [
       "<div>\n",
       "<style scoped>\n",
       "    .dataframe tbody tr th:only-of-type {\n",
       "        vertical-align: middle;\n",
       "    }\n",
       "\n",
       "    .dataframe tbody tr th {\n",
       "        vertical-align: top;\n",
       "    }\n",
       "\n",
       "    .dataframe thead th {\n",
       "        text-align: right;\n",
       "    }\n",
       "</style>\n",
       "<table border=\"1\" class=\"dataframe\">\n",
       "  <thead>\n",
       "    <tr style=\"text-align: right;\">\n",
       "      <th></th>\n",
       "      <th>source_name</th>\n",
       "      <th>label</th>\n",
       "      <th>counts</th>\n",
       "    </tr>\n",
       "  </thead>\n",
       "  <tbody>\n",
       "    <tr>\n",
       "      <th>9</th>\n",
       "      <td>Gazette-mail</td>\n",
       "      <td>guest</td>\n",
       "      <td>268</td>\n",
       "    </tr>\n",
       "    <tr>\n",
       "      <th>15</th>\n",
       "      <td>NW Florida Daily</td>\n",
       "      <td>guest</td>\n",
       "      <td>160</td>\n",
       "    </tr>\n",
       "    <tr>\n",
       "      <th>5</th>\n",
       "      <td>Enid News</td>\n",
       "      <td>guest</td>\n",
       "      <td>37</td>\n",
       "    </tr>\n",
       "    <tr>\n",
       "      <th>21</th>\n",
       "      <td>Press Democrat</td>\n",
       "      <td>guest</td>\n",
       "      <td>21</td>\n",
       "    </tr>\n",
       "    <tr>\n",
       "      <th>24</th>\n",
       "      <td>Washington Observer Report</td>\n",
       "      <td>guest</td>\n",
       "      <td>4</td>\n",
       "    </tr>\n",
       "    <tr>\n",
       "      <th>0</th>\n",
       "      <td>Californian</td>\n",
       "      <td>guest</td>\n",
       "      <td>1</td>\n",
       "    </tr>\n",
       "  </tbody>\n",
       "</table>\n",
       "</div>"
      ],
      "text/plain": [
       "                   source_name  label  counts\n",
       "9                 Gazette-mail  guest     268\n",
       "15            NW Florida Daily  guest     160\n",
       "5                    Enid News  guest      37\n",
       "21              Press Democrat  guest      21\n",
       "24  Washington Observer Report  guest       4\n",
       "0                  Californian  guest       1"
      ]
     },
     "execution_count": 10,
     "metadata": {
      "tags": []
     },
     "output_type": "execute_result"
    }
   ],
   "source": [
    "d2 = inp_file3[inp_file3['label'].str.match('guest')].sort_values('counts', ascending=False)\n",
    "d2"
   ]
  },
  {
   "cell_type": "code",
   "execution_count": 11,
   "metadata": {
    "colab": {
     "base_uri": "https://localhost:8080/",
     "height": 295
    },
    "colab_type": "code",
    "id": "Y56qFB-Uq4XN",
    "outputId": "4b8952ab-7ae7-47e6-cd5b-336ed7795151"
   },
   "outputs": [
    {
     "data": {
      "image/png": "[encoded data removed]",
      "text/plain": [
       "<Figure size 432x288 with 1 Axes>"
      ]
     },
     "metadata": {
      "tags": []
     },
     "output_type": "display_data"
    }
   ],
   "source": [
    "plot_grap_hori(d2, 'Guest')"
   ]
  },
  {
   "cell_type": "code",
   "execution_count": 12,
   "metadata": {
    "colab": {
     "base_uri": "https://localhost:8080/",
     "height": 173
    },
    "colab_type": "code",
    "id": "tMj5EjBMr0MA",
    "outputId": "6e1bf1a4-9e6b-4976-8fb7-60d1de1e8971"
   },
   "outputs": [
    {
     "data": {
      "text/html": [
       "<div>\n",
       "<style scoped>\n",
       "    .dataframe tbody tr th:only-of-type {\n",
       "        vertical-align: middle;\n",
       "    }\n",
       "\n",
       "    .dataframe tbody tr th {\n",
       "        vertical-align: top;\n",
       "    }\n",
       "\n",
       "    .dataframe thead th {\n",
       "        text-align: right;\n",
       "    }\n",
       "</style>\n",
       "<table border=\"1\" class=\"dataframe\">\n",
       "  <thead>\n",
       "    <tr style=\"text-align: right;\">\n",
       "      <th></th>\n",
       "      <th>source_name</th>\n",
       "      <th>label</th>\n",
       "      <th>counts</th>\n",
       "    </tr>\n",
       "  </thead>\n",
       "  <tbody>\n",
       "    <tr>\n",
       "      <th>3</th>\n",
       "      <td>Digital Journal</td>\n",
       "      <td>oped</td>\n",
       "      <td>256</td>\n",
       "    </tr>\n",
       "    <tr>\n",
       "      <th>10</th>\n",
       "      <td>Gazette-mail</td>\n",
       "      <td>oped</td>\n",
       "      <td>234</td>\n",
       "    </tr>\n",
       "    <tr>\n",
       "      <th>13</th>\n",
       "      <td>NJSpotlight</td>\n",
       "      <td>oped</td>\n",
       "      <td>137</td>\n",
       "    </tr>\n",
       "    <tr>\n",
       "      <th>25</th>\n",
       "      <td>Washington Observer Report</td>\n",
       "      <td>oped</td>\n",
       "      <td>16</td>\n",
       "    </tr>\n",
       "  </tbody>\n",
       "</table>\n",
       "</div>"
      ],
      "text/plain": [
       "                   source_name label  counts\n",
       "3              Digital Journal  oped     256\n",
       "10                Gazette-mail  oped     234\n",
       "13                 NJSpotlight  oped     137\n",
       "25  Washington Observer Report  oped      16"
      ]
     },
     "execution_count": 12,
     "metadata": {
      "tags": []
     },
     "output_type": "execute_result"
    }
   ],
   "source": [
    "d3 = inp_file3[inp_file3['label'].str.match('oped')].sort_values('counts', ascending=False)\n",
    "d3"
   ]
  },
  {
   "cell_type": "code",
   "execution_count": 13,
   "metadata": {
    "colab": {
     "base_uri": "https://localhost:8080/",
     "height": 295
    },
    "colab_type": "code",
    "id": "y3f3mLX1spVT",
    "outputId": "67d751b2-5c5e-4a2f-b61f-e3cbf2771537"
   },
   "outputs": [
    {
     "data": {
      "image/png": "[encoded data removed]",
      "text/plain": [
       "<Figure size 432x288 with 1 Axes>"
      ]
     },
     "metadata": {
      "tags": []
     },
     "output_type": "display_data"
    }
   ],
   "source": [
    "plot_grap_hori(d3, 'Op-Ed')"
   ]
  },
  {
   "cell_type": "code",
   "execution_count": 0,
   "metadata": {
    "colab": {},
    "colab_type": "code",
    "id": "EEZC9_qdANmP"
   },
   "outputs": [],
   "source": [
    "digital_jrnl = digital_jrnl[digital_jrnl['label'].str.match('oped')].sort_values('counts', ascending=False)"
   ]
  },
  {
   "cell_type": "code",
   "execution_count": 0,
   "metadata": {
    "colab": {
     "base_uri": "https://localhost:8080/",
     "height": 204
    },
    "colab_type": "code",
    "id": "NJfqYF6OADIW",
    "outputId": "036dd440-b4fa-4de5-c838-9af1766a6cc1"
   },
   "outputs": [
    {
     "data": {
      "text/html": [
       "<div>\n",
       "<style scoped>\n",
       "    .dataframe tbody tr th:only-of-type {\n",
       "        vertical-align: middle;\n",
       "    }\n",
       "\n",
       "    .dataframe tbody tr th {\n",
       "        vertical-align: top;\n",
       "    }\n",
       "\n",
       "    .dataframe thead th {\n",
       "        text-align: right;\n",
       "    }\n",
       "</style>\n",
       "<table border=\"1\" class=\"dataframe\">\n",
       "  <thead>\n",
       "    <tr style=\"text-align: right;\">\n",
       "      <th></th>\n",
       "      <th>author</th>\n",
       "      <th>label</th>\n",
       "      <th>counts</th>\n",
       "    </tr>\n",
       "  </thead>\n",
       "  <tbody>\n",
       "    <tr>\n",
       "      <th>814</th>\n",
       "      <td>Ken Hanly</td>\n",
       "      <td>oped</td>\n",
       "      <td>97</td>\n",
       "    </tr>\n",
       "    <tr>\n",
       "      <th>917</th>\n",
       "      <td>Paul Wallis</td>\n",
       "      <td>oped</td>\n",
       "      <td>92</td>\n",
       "    </tr>\n",
       "    <tr>\n",
       "      <th>805</th>\n",
       "      <td>Karen Graham</td>\n",
       "      <td>oped</td>\n",
       "      <td>38</td>\n",
       "    </tr>\n",
       "    <tr>\n",
       "      <th>858</th>\n",
       "      <td>Markos Papadatos</td>\n",
       "      <td>oped</td>\n",
       "      <td>27</td>\n",
       "    </tr>\n",
       "    <tr>\n",
       "      <th>1001</th>\n",
       "      <td>Tim Sandle</td>\n",
       "      <td>oped</td>\n",
       "      <td>2</td>\n",
       "    </tr>\n",
       "  </tbody>\n",
       "</table>\n",
       "</div>"
      ],
      "text/plain": [
       "                author label  counts\n",
       "814          Ken Hanly  oped      97\n",
       "917        Paul Wallis  oped      92\n",
       "805       Karen Graham  oped      38\n",
       "858   Markos Papadatos  oped      27\n",
       "1001        Tim Sandle  oped       2"
      ]
     },
     "execution_count": 159,
     "metadata": {
      "tags": []
     },
     "output_type": "execute_result"
    }
   ],
   "source": [
    "df = digital_jrnl.iloc[0:10, 1:4]\n",
    "df"
   ]
  },
  {
   "cell_type": "code",
   "execution_count": 0,
   "metadata": {
    "colab": {
     "base_uri": "https://localhost:8080/",
     "height": 376
    },
    "colab_type": "code",
    "id": "LkK-LfZ5h_8k",
    "outputId": "2e3df6d7-44d4-45ed-a2c4-3d03c73a5df4"
   },
   "outputs": [
    {
     "data": {
      "image/png": "[encoded data removed]",
      "text/plain": [
       "<Figure size 432x288 with 1 Axes>"
      ]
     },
     "metadata": {
      "tags": []
     },
     "output_type": "display_data"
    }
   ],
   "source": [
    "plot_graph(df, 'Author vs No of articles for Digital Journal Oped')"
   ]
  },
  {
   "cell_type": "code",
   "execution_count": 0,
   "metadata": {
    "colab": {
     "base_uri": "https://localhost:8080/",
     "height": 111
    },
    "colab_type": "code",
    "id": "dJmIaXYwtsZP",
    "outputId": "0ea445ff-1853-496f-908d-b65f9e39e14a"
   },
   "outputs": [
    {
     "data": {
      "text/html": [
       "<div>\n",
       "<style scoped>\n",
       "    .dataframe tbody tr th:only-of-type {\n",
       "        vertical-align: middle;\n",
       "    }\n",
       "\n",
       "    .dataframe tbody tr th {\n",
       "        vertical-align: top;\n",
       "    }\n",
       "\n",
       "    .dataframe thead th {\n",
       "        text-align: right;\n",
       "    }\n",
       "</style>\n",
       "<table border=\"1\" class=\"dataframe\">\n",
       "  <thead>\n",
       "    <tr style=\"text-align: right;\">\n",
       "      <th></th>\n",
       "      <th>source_name</th>\n",
       "      <th>label</th>\n",
       "      <th>counts</th>\n",
       "    </tr>\n",
       "  </thead>\n",
       "  <tbody>\n",
       "    <tr>\n",
       "      <th>6</th>\n",
       "      <td>Enid News</td>\n",
       "      <td>opinion</td>\n",
       "      <td>630</td>\n",
       "    </tr>\n",
       "    <tr>\n",
       "      <th>1</th>\n",
       "      <td>Californian</td>\n",
       "      <td>opinion</td>\n",
       "      <td>426</td>\n",
       "    </tr>\n",
       "  </tbody>\n",
       "</table>\n",
       "</div>"
      ],
      "text/plain": [
       "   source_name    label  counts\n",
       "6    Enid News  opinion     630\n",
       "1  Californian  opinion     426"
      ]
     },
     "execution_count": 139,
     "metadata": {
      "tags": []
     },
     "output_type": "execute_result"
    }
   ],
   "source": [
    "nyt4 = inp_file3[inp_file3['label'].str.match('opinion')].sort_values('counts', ascending=False)\n",
    "nyt4"
   ]
  },
  {
   "cell_type": "code",
   "execution_count": 0,
   "metadata": {
    "colab": {
     "base_uri": "https://localhost:8080/",
     "height": 295
    },
    "colab_type": "code",
    "id": "zR4qQHkLt3Wm",
    "outputId": "46dde10c-7766-449f-dc6e-ea21e4575042"
   },
   "outputs": [
    {
     "data": {
      "image/png": "[encoded data removed]",
      "text/plain": [
       "<Figure size 432x288 with 1 Axes>"
      ]
     },
     "metadata": {
      "tags": []
     },
     "output_type": "display_data"
    }
   ],
   "source": [
    "plot_grap_hori(nyt4, 'Opinion')"
   ]
  },
  {
   "cell_type": "code",
   "execution_count": 0,
   "metadata": {
    "colab": {
     "base_uri": "https://localhost:8080/",
     "height": 328
    },
    "colab_type": "code",
    "id": "ENqERZzxuCnv",
    "outputId": "09c4d725-49b8-40d9-f1b9-8d43e2ed28b3"
   },
   "outputs": [
    {
     "data": {
      "text/html": [
       "<div>\n",
       "<style scoped>\n",
       "    .dataframe tbody tr th:only-of-type {\n",
       "        vertical-align: middle;\n",
       "    }\n",
       "\n",
       "    .dataframe tbody tr th {\n",
       "        vertical-align: top;\n",
       "    }\n",
       "\n",
       "    .dataframe thead th {\n",
       "        text-align: right;\n",
       "    }\n",
       "</style>\n",
       "<table border=\"1\" class=\"dataframe\">\n",
       "  <thead>\n",
       "    <tr style=\"text-align: right;\">\n",
       "      <th></th>\n",
       "      <th>source_name</th>\n",
       "      <th>label</th>\n",
       "      <th>counts</th>\n",
       "    </tr>\n",
       "  </thead>\n",
       "  <tbody>\n",
       "    <tr>\n",
       "      <th>17</th>\n",
       "      <td>NW Florida Daily</td>\n",
       "      <td>regular</td>\n",
       "      <td>5368</td>\n",
       "    </tr>\n",
       "    <tr>\n",
       "      <th>7</th>\n",
       "      <td>Enid News</td>\n",
       "      <td>regular</td>\n",
       "      <td>4913</td>\n",
       "    </tr>\n",
       "    <tr>\n",
       "      <th>12</th>\n",
       "      <td>Gazette-mail</td>\n",
       "      <td>regular</td>\n",
       "      <td>4447</td>\n",
       "    </tr>\n",
       "    <tr>\n",
       "      <th>4</th>\n",
       "      <td>Digital Journal</td>\n",
       "      <td>regular</td>\n",
       "      <td>3720</td>\n",
       "    </tr>\n",
       "    <tr>\n",
       "      <th>22</th>\n",
       "      <td>Press Democrat</td>\n",
       "      <td>regular</td>\n",
       "      <td>3426</td>\n",
       "    </tr>\n",
       "    <tr>\n",
       "      <th>19</th>\n",
       "      <td>New York Times</td>\n",
       "      <td>regular</td>\n",
       "      <td>2349</td>\n",
       "    </tr>\n",
       "    <tr>\n",
       "      <th>2</th>\n",
       "      <td>Californian</td>\n",
       "      <td>regular</td>\n",
       "      <td>1732</td>\n",
       "    </tr>\n",
       "    <tr>\n",
       "      <th>27</th>\n",
       "      <td>Washington Observer Report</td>\n",
       "      <td>regular</td>\n",
       "      <td>1624</td>\n",
       "    </tr>\n",
       "    <tr>\n",
       "      <th>14</th>\n",
       "      <td>NJSpotlight</td>\n",
       "      <td>regular</td>\n",
       "      <td>1412</td>\n",
       "    </tr>\n",
       "  </tbody>\n",
       "</table>\n",
       "</div>"
      ],
      "text/plain": [
       "                   source_name    label  counts\n",
       "17            NW Florida Daily  regular    5368\n",
       "7                    Enid News  regular    4913\n",
       "12                Gazette-mail  regular    4447\n",
       "4              Digital Journal  regular    3720\n",
       "22              Press Democrat  regular    3426\n",
       "19              New York Times  regular    2349\n",
       "2                  Californian  regular    1732\n",
       "27  Washington Observer Report  regular    1624\n",
       "14                 NJSpotlight  regular    1412"
      ]
     },
     "execution_count": 141,
     "metadata": {
      "tags": []
     },
     "output_type": "execute_result"
    }
   ],
   "source": [
    "nyt5 = inp_file3[inp_file3['label'].str.match('regular')].sort_values('counts', ascending=False)\n",
    "nyt5"
   ]
  },
  {
   "cell_type": "code",
   "execution_count": 0,
   "metadata": {
    "colab": {
     "base_uri": "https://localhost:8080/",
     "height": 295
    },
    "colab_type": "code",
    "id": "FrbMDZn1t9hr",
    "outputId": "9b3fd7c4-9ef2-4d9a-a0a3-ee8362099f9b"
   },
   "outputs": [
    {
     "data": {
      "image/png": "[encoded data removed]",
      "text/plain": [
       "<Figure size 432x288 with 1 Axes>"
      ]
     },
     "metadata": {
      "tags": []
     },
     "output_type": "display_data"
    }
   ],
   "source": [
    "plot_grap_hori(nyt5, 'Regular')"
   ]
  },
  {
   "cell_type": "code",
   "execution_count": 39,
   "metadata": {
    "colab": {
     "base_uri": "https://localhost:8080/",
     "height": 359
    },
    "colab_type": "code",
    "id": "_5TK55M_TLEV",
    "outputId": "73bcc662-25a5-40e4-be3e-586a1c0ac0f3"
   },
   "outputs": [
    {
     "data": {
      "text/html": [
       "<div>\n",
       "<style scoped>\n",
       "    .dataframe tbody tr th:only-of-type {\n",
       "        vertical-align: middle;\n",
       "    }\n",
       "\n",
       "    .dataframe tbody tr th {\n",
       "        vertical-align: top;\n",
       "    }\n",
       "\n",
       "    .dataframe thead th {\n",
       "        text-align: right;\n",
       "    }\n",
       "</style>\n",
       "<table border=\"1\" class=\"dataframe\">\n",
       "  <thead>\n",
       "    <tr style=\"text-align: right;\">\n",
       "      <th></th>\n",
       "      <th>author</th>\n",
       "      <th>label</th>\n",
       "      <th>counts</th>\n",
       "    </tr>\n",
       "  </thead>\n",
       "  <tbody>\n",
       "    <tr>\n",
       "      <th>2709</th>\n",
       "      <td>SETH STRINGER    @SethSnwfdn</td>\n",
       "      <td>regular</td>\n",
       "      <td>277</td>\n",
       "    </tr>\n",
       "    <tr>\n",
       "      <th>2633</th>\n",
       "      <td>Jim Thompson    @Jimtnwfdn</td>\n",
       "      <td>regular</td>\n",
       "      <td>228</td>\n",
       "    </tr>\n",
       "    <tr>\n",
       "      <th>2472</th>\n",
       "      <td>By Sam Grubenhoff | 315-4476 | @SamGrubenhoff ...</td>\n",
       "      <td>regular</td>\n",
       "      <td>221</td>\n",
       "    </tr>\n",
       "    <tr>\n",
       "      <th>2729</th>\n",
       "      <td>Special to GateHouse Media Florida</td>\n",
       "      <td>regular</td>\n",
       "      <td>197</td>\n",
       "    </tr>\n",
       "    <tr>\n",
       "      <th>2747</th>\n",
       "      <td>TOM McLAUGHLIN    @TomMnwfdn</td>\n",
       "      <td>regular</td>\n",
       "      <td>195</td>\n",
       "    </tr>\n",
       "    <tr>\n",
       "      <th>2748</th>\n",
       "      <td>TONY JUDNICH    @Tonyjnwfdn</td>\n",
       "      <td>regular</td>\n",
       "      <td>174</td>\n",
       "    </tr>\n",
       "    <tr>\n",
       "      <th>2807</th>\n",
       "      <td>staff report</td>\n",
       "      <td>regular</td>\n",
       "      <td>172</td>\n",
       "    </tr>\n",
       "    <tr>\n",
       "      <th>2602</th>\n",
       "      <td>GateHouse Media Florida staff report</td>\n",
       "      <td>regular</td>\n",
       "      <td>172</td>\n",
       "    </tr>\n",
       "    <tr>\n",
       "      <th>2648</th>\n",
       "      <td>Kaylin Parker    @parkerNWFDN</td>\n",
       "      <td>regular</td>\n",
       "      <td>171</td>\n",
       "    </tr>\n",
       "    <tr>\n",
       "      <th>2708</th>\n",
       "      <td>SAVANNAH EVANOFF    @SavannahEnwfdn</td>\n",
       "      <td>regular</td>\n",
       "      <td>154</td>\n",
       "    </tr>\n",
       "  </tbody>\n",
       "</table>\n",
       "</div>"
      ],
      "text/plain": [
       "                                                 author    label  counts\n",
       "2709                       SETH STRINGER    @SethSnwfdn  regular     277\n",
       "2633                         Jim Thompson    @Jimtnwfdn  regular     228\n",
       "2472  By Sam Grubenhoff | 315-4476 | @SamGrubenhoff ...  regular     221\n",
       "2729                 Special to GateHouse Media Florida  regular     197\n",
       "2747                       TOM McLAUGHLIN    @TomMnwfdn  regular     195\n",
       "2748                        TONY JUDNICH    @Tonyjnwfdn  regular     174\n",
       "2807                                       staff report  regular     172\n",
       "2602               GateHouse Media Florida staff report  regular     172\n",
       "2648                      Kaylin Parker    @parkerNWFDN  regular     171\n",
       "2708                SAVANNAH EVANOFF    @SavannahEnwfdn  regular     154"
      ]
     },
     "execution_count": 39,
     "metadata": {
      "tags": []
     },
     "output_type": "execute_result"
    }
   ],
   "source": [
    "#after finding top newssource generating regular news finding the top contributor for regular type\n",
    "nwf = nwf[nwf['label'].str.match('regular')].sort_values('counts', ascending=False)\n",
    "df = nwf.iloc[0:10, 1:4]\n",
    "df"
   ]
  },
  {
   "cell_type": "code",
   "execution_count": 41,
   "metadata": {
    "colab": {
     "base_uri": "https://localhost:8080/",
     "height": 204
    },
    "colab_type": "code",
    "id": "GdOS7haDUM2u",
    "outputId": "7bb879db-8ed6-4247-c78e-9e3ec38ec8af"
   },
   "outputs": [
    {
     "data": {
      "text/plain": [
       "2709       SETH STRINGER\n",
       "2633        Jim Thompson\n",
       "2472              By Sam\n",
       "2729          Special to\n",
       "2747      TOM McLAUGHLIN\n",
       "2748        TONY JUDNICH\n",
       "2807        staff report\n",
       "2602     GateHouse Media\n",
       "2648       Kaylin Parker\n",
       "2708    SAVANNAH EVANOFF\n",
       "Name: author, dtype: object"
      ]
     },
     "execution_count": 41,
     "metadata": {
      "tags": []
     },
     "output_type": "execute_result"
    }
   ],
   "source": [
    "df[['author_fname', 'author_lname', 'email']] = df['author'].str.split(' ', 2, expand=True)\n",
    "df['author'] = df[['author_fname', 'author_lname']].apply(lambda x:' '.join(x), axis=1)\n",
    "df['author']"
   ]
  },
  {
   "cell_type": "code",
   "execution_count": 42,
   "metadata": {
    "colab": {
     "base_uri": "https://localhost:8080/",
     "height": 391
    },
    "colab_type": "code",
    "id": "0tQY613ATiPc",
    "outputId": "74622028-590e-4603-dc5c-32567b4d9ab4"
   },
   "outputs": [
    {
     "data": {
      "image/png": "[encoded data removed]",
      "text/plain": [
       "<Figure size 432x288 with 1 Axes>"
      ]
     },
     "metadata": {
      "tags": []
     },
     "output_type": "display_data"
    }
   ],
   "source": [
    "plot_graph(df, 'Author vs No of articles for NW Florida Daily Regular')"
   ]
  }
 ],
 "metadata": {
  "colab": {
   "collapsed_sections": [],
   "name": "auth_viz.ipynb",
   "provenance": []
  },
  "kernelspec": {
   "display_name": "Python 3",
   "language": "python",
   "name": "python3"
  },
  "language_info": {
   "codemirror_mode": {
    "name": "ipython",
    "version": 3
   },
   "file_extension": ".py",
   "mimetype": "text/x-python",
   "name": "python",
   "nbconvert_exporter": "python",
   "pygments_lexer": "ipython3",
   "version": "3.7.3"
  }
 },
 "nbformat": 4,
 "nbformat_minor": 1
}
