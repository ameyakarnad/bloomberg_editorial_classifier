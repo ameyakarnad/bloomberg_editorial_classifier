{
 "cells": [
  {
   "cell_type": "markdown",
   "metadata": {},
   "source": [
    "### Libraries"
   ]
  },
  {
   "cell_type": "code",
   "execution_count": 1,
   "metadata": {},
   "outputs": [
    {
     "name": "stderr",
     "output_type": "stream",
     "text": [
      "/anaconda3/envs/aml/lib/python3.6/site-packages/lightgbm/__init__.py:46: UserWarning: Starting from version 2.2.1, the library file in distribution wheels for macOS is built by the Apple Clang (Xcode_8.3.3) compiler.\n",
      "This means that in case of installing LightGBM from PyPI via the ``pip install lightgbm`` command, you don't need to install the gcc compiler anymore.\n",
      "Instead of that, you need to install the OpenMP library, which is required for running LightGBM on the system with the Apple Clang compiler.\n",
      "You can install the OpenMP library by the following command: ``brew install libomp``.\n",
      "  \"You can install the OpenMP library by the following command: ``brew install libomp``.\", UserWarning)\n"
     ]
    }
   ],
   "source": [
    "import os\n",
    "import numpy as np\n",
    "import pandas as pd\n",
    "import time\n",
    "## models\n",
    "from lightgbm import LGBMClassifier\n",
    "# save model\n",
    "from sklearn.externals import joblib\n",
    "# model testing\n",
    "from sklearn.metrics import roc_curve, auc, precision_recall_curve, average_precision_score, confusion_matrix \n",
    "from sklearn.metrics import classification_report, accuracy_score, f1_score, roc_auc_score, brier_score_loss, recall_score, precision_score\n",
    "from sklearn.utils.fixes import signature\n",
    "# plotting\n",
    "import matplotlib.pyplot as plt\n",
    "import seaborn as sns\n",
    "sns.set_style(\"whitegrid\")\n",
    "%matplotlib inline\n",
    "# ignore warnings\n",
    "import warnings\n",
    "warnings.filterwarnings(\"ignore\")"
   ]
  },
  {
   "cell_type": "markdown",
   "metadata": {},
   "source": [
    "### Reading Test Data and Model"
   ]
  },
  {
   "cell_type": "code",
   "execution_count": 2,
   "metadata": {},
   "outputs": [],
   "source": [
    "data_location = '../data/'\n",
    "model_location = \"../modelling/classification_models/LightGBM_Unoptimized_20191017-182530/LightGBM_Unoptimized20191017-182530.pkl\""
   ]
  },
  {
   "cell_type": "code",
   "execution_count": 3,
   "metadata": {},
   "outputs": [
    {
     "name": "stdout",
     "output_type": "stream",
     "text": [
      "Reading Test Data...\n",
      "Read Test Data!\n",
      "Time:  1.7943370342254639\n"
     ]
    }
   ],
   "source": [
    "# read input data\n",
    "print(\"Reading Test Data...\")\n",
    "start = time.time()\n",
    "X_test = pd.read_pickle(data_location + 'X_test_scaled.pkl')\n",
    "y_test = pd.read_pickle(data_location + 'y_test.pkl')\n",
    "print('Read Test Data!')\n",
    "print('Time: ',time.time() - start)"
   ]
  },
  {
   "cell_type": "code",
   "execution_count": 4,
   "metadata": {},
   "outputs": [],
   "source": [
    "model = joblib.load(model_location)"
   ]
  },
  {
   "cell_type": "code",
   "execution_count": 5,
   "metadata": {},
   "outputs": [],
   "source": [
    "def get_predictions(model, test):\n",
    "    # get predictions\n",
    "    probs = model.predict_proba(X_test)\n",
    "    preds = probs[:,1]\n",
    "    return preds"
   ]
  },
  {
   "cell_type": "code",
   "execution_count": 6,
   "metadata": {},
   "outputs": [],
   "source": [
    "preds = get_predictions(model, test = X_test.values)"
   ]
  },
  {
   "cell_type": "code",
   "execution_count": 7,
   "metadata": {},
   "outputs": [],
   "source": [
    "def find_cutoff(ground_truth, predictions, metric):\n",
    "    best_score = 0\n",
    "    best_cutoff = 0\n",
    "    for i in np.linspace(0, 1, 101):\n",
    "        y_pred = (predictions>=i).astype(int)\n",
    "        score = metric(y_true = ground_truth, y_pred = y_pred)\n",
    "        if score >= best_score:\n",
    "            best_cutoff = i\n",
    "            best_score = score\n",
    "    return best_cutoff"
   ]
  },
  {
   "cell_type": "code",
   "execution_count": 8,
   "metadata": {},
   "outputs": [],
   "source": [
    "best_cutoff = find_cutoff(ground_truth=y_test.values, predictions= preds, metric = f1_score)"
   ]
  },
  {
   "cell_type": "code",
   "execution_count": 9,
   "metadata": {},
   "outputs": [],
   "source": [
    "y_pred = (preds>=best_cutoff).astype(int)"
   ]
  },
  {
   "cell_type": "code",
   "execution_count": 10,
   "metadata": {},
   "outputs": [],
   "source": [
    "def ml_report(model, y_true, predictions, cutoff = 0.5, top_feats = 10):\n",
    "    y_pred = (preds>=cutoff).astype(int)\n",
    "    print(\"Classification report:\\n%s\\n\"\n",
    "          % classification_report(y_true, y_pred))\n",
    "    \n",
    "    fig, ax = plt.subplots(1, 3, figsize=(20, 4))\n",
    "    \n",
    "    # print model performance\n",
    "    print(\"F1 Score: %.2f\" %f1_score(y_true, y_pred))\n",
    "    print(\"Recall: %.2f\" %recall_score(y_true, y_pred))\n",
    "    print(\"Precision: %.2f\" %precision_score(y_true, y_pred))\n",
    "    print(\"Accuracy: %.2f\" %accuracy_score(y_true, y_pred))\n",
    "    print(\"Brier Score: %.2f\" %brier_score_loss(y_true, y_pred))\n",
    "    \n",
    "    # confusion matrix\n",
    "    plt.subplot(1, 4, 1)\n",
    "    df_cm = pd.DataFrame(\n",
    "        confusion_matrix(y_test, y_pred), \n",
    "        index=[0, 1], \n",
    "        columns=[0, 1], \n",
    "    )\n",
    "    try:\n",
    "        heatmap = sns.heatmap(df_cm, annot=True, fmt=\"d\")\n",
    "    except ValueError:\n",
    "        raise ValueError(\"Confusion matrix values must be integers.\")\n",
    "    heatmap.yaxis.set_ticklabels(heatmap.yaxis.get_ticklabels(), rotation=0, ha='right', fontsize=14)\n",
    "    heatmap.xaxis.set_ticklabels(heatmap.xaxis.get_ticklabels(), rotation=45, ha='right', fontsize=14)\n",
    "    plt.ylabel('True label')\n",
    "    plt.xlabel('Predicted label')\n",
    "\n",
    "    # roc curve\n",
    "    plt.subplot(1, 4, 2)\n",
    "    fpr, tpr, threshold = roc_curve(y_true, preds)\n",
    "    roc_auc = auc(fpr, tpr)\n",
    "    plt.title('Receiver Operating Characteristic')\n",
    "    plt.plot(fpr, tpr, '#e74c3c', label = 'AUC = %0.4f' % roc_auc)\n",
    "    plt.legend(loc = 'lower right')\n",
    "    plt.plot([0, 1], [0, 1],'r--', color = '#34495e')\n",
    "    plt.xlim([0, 1])\n",
    "    plt.ylim([0, 1])\n",
    "    plt.ylabel('True Positive Rate')\n",
    "    plt.xlabel('False Positive Rate')\n",
    "    \n",
    "    # p-r curve\n",
    "    plt.subplot(1, 4, 3)\n",
    "    average_precision = average_precision_score(y_true, preds)\n",
    "    precision, recall, _ = precision_recall_curve(y_true, preds)\n",
    "\n",
    "    # In matplotlib < 1.5, plt.fill_between does not have a 'step' argument\n",
    "    step_kwargs = ({'step': 'post'}\n",
    "                   if 'step' in signature(plt.fill_between).parameters\n",
    "                   else {})\n",
    "    plt.step(recall, precision, color='#e74c3c', alpha=0.2,\n",
    "             where='post')\n",
    "    plt.fill_between(recall, precision, alpha=0.2, color='#e74c3c', **step_kwargs)\n",
    "\n",
    "    plt.xlabel('Recall')\n",
    "    plt.ylabel('Precision')\n",
    "    plt.ylim([0.0, 1.05])\n",
    "    plt.xlim([0.0, 1.0])\n",
    "    plt.title('Precision-Recall curve: AP={0:0.4f}'.format(\n",
    "              average_precision))\n",
    "    plt.show()\n",
    "    print(\"\\n\")\n",
    "    plt.figure(figsize = (14, 10))\n",
    "    # feature imp plot\n",
    "    feat_imps = model.feature_importances_\n",
    "    top_n_feats = np.argsort(feat_imps)[::-1][:top_feats]\n",
    "    plt.title('Feature Importance')\n",
    "    sns.barplot(x = feat_imps[top_n_feats], y = X_test.columns[top_n_feats])\n",
    "    plt.xlabel(\"Importances\")\n",
    "    plt.ylabel(\"Features\")\n",
    "    \n",
    "    plt.show()"
   ]
  },
  {
   "cell_type": "code",
   "execution_count": 11,
   "metadata": {},
   "outputs": [
    {
     "name": "stdout",
     "output_type": "stream",
     "text": [
      "Classification report:\n",
      "              precision    recall  f1-score   support\n",
      "\n",
      "           0       0.98      0.98      0.98      5819\n",
      "           1       0.80      0.78      0.79       544\n",
      "\n",
      "   micro avg       0.96      0.96      0.96      6363\n",
      "   macro avg       0.89      0.88      0.88      6363\n",
      "weighted avg       0.96      0.96      0.96      6363\n",
      "\n",
      "\n",
      "F1 Score: 0.79\n",
      "Recall: 0.78\n",
      "Precision: 0.80\n",
      "Accuracy: 0.96\n",
      "Brier Score: 0.04\n"
     ]
    },
    {
     "data": {
      "image/png": "[encoded data removed]",
      "text/plain": [
       "<Figure size 1440x288 with 4 Axes>"
      ]
     },
     "metadata": {
      "needs_background": "light"
     },
     "output_type": "display_data"
    },
    {
     "name": "stdout",
     "output_type": "stream",
     "text": [
      "\n",
      "\n"
     ]
    },
    {
     "data": {
      "image/png": "[encoded data removed]",
      "text/plain": [
       "<Figure size 1008x720 with 1 Axes>"
      ]
     },
     "metadata": {
      "needs_background": "light"
     },
     "output_type": "display_data"
    }
   ],
   "source": [
    "ml_report(model = model, y_true=y_test.values, predictions=preds, cutoff = best_cutoff)"
   ]
  },
  {
   "cell_type": "code",
   "execution_count": null,
   "metadata": {},
   "outputs": [],
   "source": []
  },
  {
   "cell_type": "code",
   "execution_count": null,
   "metadata": {},
   "outputs": [],
   "source": []
  }
 ],
 "metadata": {
  "kernelspec": {
   "display_name": "Python 3",
   "language": "python",
   "name": "python3"
  },
  "language_info": {
   "codemirror_mode": {
    "name": "ipython",
    "version": 3
   },
   "file_extension": ".py",
   "mimetype": "text/x-python",
   "name": "python",
   "nbconvert_exporter": "python",
   "pygments_lexer": "ipython3",
   "version": "3.6.8"
  }
 },
 "nbformat": 4,
 "nbformat_minor": 2
}
