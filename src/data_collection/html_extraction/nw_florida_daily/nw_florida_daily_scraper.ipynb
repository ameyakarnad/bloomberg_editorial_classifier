{
 "cells": [
  {
   "cell_type": "code",
   "execution_count": 31,
   "metadata": {},
   "outputs": [],
   "source": [
    "import pandas as pd\n",
    "import numpy as np\n",
    "from tqdm import tqdm\n",
    "import time\n",
    "import requests\n",
    "from bs4 import BeautifulSoup\n",
    "from datetime import datetime\n",
    "from dateutil.parser import parse"
   ]
  },
  {
   "cell_type": "code",
   "execution_count": 32,
   "metadata": {},
   "outputs": [],
   "source": [
    "data = pd.read_csv('./ns-stories-full.csv', names = [\"source_name\", \"timestamp\", \"label\", \"url\"])"
   ]
  },
  {
   "cell_type": "code",
   "execution_count": 33,
   "metadata": {},
   "outputs": [],
   "source": [
    "nw_fl_daily = data.loc[data['source_name']=='NW Florida Daily'].reset_index(drop = True)\n",
    "nw_fl_daily.drop_duplicates()\n",
    "nw_fl_daily = nw_fl_daily[~nw_fl_daily['url'].str.contains(\"www.news-journalonline\")]"
   ]
  },
  {
   "cell_type": "code",
   "execution_count": 34,
   "metadata": {},
   "outputs": [],
   "source": [
    "nw_fl_daily_chunks = np.array_split(nw_fl_daily, 7)"
   ]
  },
  {
   "cell_type": "code",
   "execution_count": 35,
   "metadata": {},
   "outputs": [
    {
     "data": {
      "text/plain": [
       "(5545, 4)"
      ]
     },
     "execution_count": 35,
     "metadata": {},
     "output_type": "execute_result"
    }
   ],
   "source": [
    "nw_fl_daily.shape"
   ]
  },
  {
   "cell_type": "code",
   "execution_count": 36,
   "metadata": {},
   "outputs": [
    {
     "data": {
      "text/html": [
       "<div>\n",
       "<style scoped>\n",
       "    .dataframe tbody tr th:only-of-type {\n",
       "        vertical-align: middle;\n",
       "    }\n",
       "\n",
       "    .dataframe tbody tr th {\n",
       "        vertical-align: top;\n",
       "    }\n",
       "\n",
       "    .dataframe thead th {\n",
       "        text-align: right;\n",
       "    }\n",
       "</style>\n",
       "<table border=\"1\" class=\"dataframe\">\n",
       "  <thead>\n",
       "    <tr style=\"text-align: right;\">\n",
       "      <th></th>\n",
       "      <th>source_name</th>\n",
       "      <th>timestamp</th>\n",
       "      <th>label</th>\n",
       "      <th>url</th>\n",
       "    </tr>\n",
       "  </thead>\n",
       "  <tbody>\n",
       "    <tr>\n",
       "      <th>0</th>\n",
       "      <td>NW Florida Daily</td>\n",
       "      <td>02-JAN-19-02.33.51.659996</td>\n",
       "      <td>regular</td>\n",
       "      <td>https://www.nwfdailynews.com/news/20190102/air...</td>\n",
       "    </tr>\n",
       "    <tr>\n",
       "      <th>1</th>\n",
       "      <td>NW Florida Daily</td>\n",
       "      <td>02-JAN-19-02.35.45.576234</td>\n",
       "      <td>regular</td>\n",
       "      <td>https://www.nwfdailynews.com/entertainmentlife...</td>\n",
       "    </tr>\n",
       "    <tr>\n",
       "      <th>2</th>\n",
       "      <td>NW Florida Daily</td>\n",
       "      <td>02-JAN-19-04.28.17.893483</td>\n",
       "      <td>regular</td>\n",
       "      <td>https://www.nwfdailynews.com/news/20190102/cre...</td>\n",
       "    </tr>\n",
       "    <tr>\n",
       "      <th>3</th>\n",
       "      <td>NW Florida Daily</td>\n",
       "      <td>02-JAN-19-04.50.00.447978</td>\n",
       "      <td>regular</td>\n",
       "      <td>https://www.nwfdailynews.com/news/20190102/fwb...</td>\n",
       "    </tr>\n",
       "    <tr>\n",
       "      <th>4</th>\n",
       "      <td>NW Florida Daily</td>\n",
       "      <td>02-JAN-19-05.48.26.079910</td>\n",
       "      <td>guest</td>\n",
       "      <td>https://www.nwfdailynews.com/news/20190102/gue...</td>\n",
       "    </tr>\n",
       "  </tbody>\n",
       "</table>\n",
       "</div>"
      ],
      "text/plain": [
       "        source_name                  timestamp    label  \\\n",
       "0  NW Florida Daily  02-JAN-19-02.33.51.659996  regular   \n",
       "1  NW Florida Daily  02-JAN-19-02.35.45.576234  regular   \n",
       "2  NW Florida Daily  02-JAN-19-04.28.17.893483  regular   \n",
       "3  NW Florida Daily  02-JAN-19-04.50.00.447978  regular   \n",
       "4  NW Florida Daily  02-JAN-19-05.48.26.079910    guest   \n",
       "\n",
       "                                                 url  \n",
       "0  https://www.nwfdailynews.com/news/20190102/air...  \n",
       "1  https://www.nwfdailynews.com/entertainmentlife...  \n",
       "2  https://www.nwfdailynews.com/news/20190102/cre...  \n",
       "3  https://www.nwfdailynews.com/news/20190102/fwb...  \n",
       "4  https://www.nwfdailynews.com/news/20190102/gue...  "
      ]
     },
     "execution_count": 36,
     "metadata": {},
     "output_type": "execute_result"
    }
   ],
   "source": [
    "nw_fl_daily.head()"
   ]
  },
  {
   "cell_type": "code",
   "execution_count": 75,
   "metadata": {},
   "outputs": [],
   "source": [
    "def nw_fl_daily_scraper(x):\n",
    "    ## the following function is the main function to scrape data from NW Florida Daily\n",
    "    # find url\n",
    "    URL = x['url']\n",
    "#     print(URL)\n",
    "    if x.name%100 == 1:\n",
    "        print(\"%dst URL: %s\"% (x.name, URL))\n",
    "    # request url\n",
    "    r = requests.get(URL) \n",
    "    # soup = BeautifulSoup(r.content, 'html5lib')\n",
    "    soup = BeautifulSoup(r.content, 'lxml')\n",
    "    # check 404\n",
    "    if not check_404(soup):\n",
    "        # find heading\n",
    "        x['heading'] = find_heading(soup, URL)\n",
    "        x['created_date'] = find_created_date(soup, URL)\n",
    "        x['updated_date'] = find_updated_date(soup, URL)\n",
    "        x['author'] = find_author(soup, URL)\n",
    "        article_body = find_article_body(soup, URL)\n",
    "        x['article_text'] = find_article_text(article_body)\n",
    "        x['article_links'] = find_hyperlinks(article_body)\n",
    "    else:\n",
    "        x['heading'] = np.nan\n",
    "        x['created_date'] = np.nan\n",
    "        x['updated_date'] = np.nan\n",
    "        x['author'] = np.nan\n",
    "        x['article_text'] = np.nan\n",
    "        x['article_links'] = np.nan\n",
    "    return x"
   ]
  },
  {
   "cell_type": "code",
   "execution_count": 55,
   "metadata": {},
   "outputs": [],
   "source": [
    "def check_blogs_url(url):\n",
    "    if \"blogs.nwfdailynews.com\" in url:\n",
    "        return True\n",
    "    else:\n",
    "        return False\n",
    "def check_404(soup):\n",
    "    try :\n",
    "        error_text = soup.find('section', attrs = {'class': 'section-general'}).find('div', attrs = {'class', 'inner'}).h2.text \n",
    "        if error_text == \"Page Not Found\":\n",
    "            return True\n",
    "        else:\n",
    "            return False\n",
    "    except:\n",
    "        return False\n",
    "\n",
    "def find_heading(soup, url):\n",
    "    if check_blogs_url(url):\n",
    "        return soup.find('h1', attrs = {'class': 'entry_title'}).a.text\n",
    "    else:\n",
    "        return soup.find('h1', attrs = {'class':'headline'}).text\n",
    "\n",
    "def format_date(unformatted_date):\n",
    "    try:\n",
    "        return datetime.strptime(unformatted_date, '%b %d, %Y at %I:%M %p')\n",
    "    except:\n",
    "        return unformatted_date\n",
    "\n",
    "def find_created_date(soup, url):\n",
    "    if check_blogs_url(url):\n",
    "        return datetime.strptime(soup.find('div', attrs = {'class': 'post_meta'}).time['datetime'][:-6], '%Y-%m-%dT%H:%M:%S')\n",
    "    else: \n",
    "        created_date = soup.find('span', attrs = {'class': 'article-meta-date'}).text.replace(u'\\xa0', u' ')\n",
    "        return format_date(created_date)\n",
    "\n",
    "def find_updated_date(soup, url):\n",
    "    if check_blogs_url(url):\n",
    "        return np.nan\n",
    "    else:\n",
    "        updated_date = soup.find('span', attrs = {'class': 'article-meta-updated'}).text.replace(u'\\xa0', u' ')\n",
    "        return format_date(updated_date)\n",
    "\n",
    "def find_author(soup, url):\n",
    "    if check_blogs_url(url):\n",
    "        return soup.find('span', attrs = {'class': 'by-author'}).find('a', attrs = {'rel':'author'}).text\n",
    "    else:\n",
    "        author_unformatted = soup.find('span', attrs = {'class': 'byline-item'}).text\n",
    "        return author_unformatted.replace(u'\\r', u' ').replace(u'\\r', u' ').replace(u'\\t', u' ').strip()\n",
    "\n",
    "def find_article_body(soup, url):\n",
    "    if check_blogs_url(url):\n",
    "        return soup.find('div', attrs = {'class':'entry_content'})\n",
    "    else:\n",
    "        return soup.find('div', attrs = {'class' :'article-body'})\n",
    "\n",
    "def find_article_text(article_body):\n",
    "    article_text = []\n",
    "    article_text.extend([y.text for y in article_body.findAll('p')])\n",
    "    return ' '.join(article_text).strip()\n",
    "\n",
    "def find_hyperlinks(article_body):\n",
    "    article_links = []\n",
    "    article_links.extend([y['href'] for y in article_body.findAll('a')])\n",
    "    return article_links"
   ]
  },
  {
   "cell_type": "code",
   "execution_count": 69,
   "metadata": {},
   "outputs": [
    {
     "name": "stdout",
     "output_type": "stream",
     "text": [
      "2401st URL: https://www.nwfdailynews.com/news/20190421/crestview-residents-given-no-notice-of-waste-change\n",
      "2501st URL: https://www.nwfdailynews.com/sports/20190425/baseball-periscope\n",
      "2601st URL: https://www.nwfdailynews.com/news/20190430/private-school-voucher-program-approved-by-house\n",
      "2701st URL: https://www.nwfdailynews.com/news/20190504/crestview-brings-back-military-appreciation-day\n",
      "2801st URL: https://www.nwfdailynews.com/news/20190509/at-this-florida-state-park-you-can-now-buy-beer-and-wine\n",
      "2901st URL: https://www.nwfdailynews.com/news/20190513/mothers-day-miracle-storm-nearly-drowns-man-sailing-through-destin-photos-map\n",
      "3001st URL: https://www.nwfdailynews.com/news/20190518/three-of-four-motions-denied-in-dannys-doghouse-case\n",
      "3101st URL: https://www.nwfdailynews.com/sports/20190523/rockys-driscoll-signs-with-florida-southern\n",
      "3201st URL: https://www.nwfdailynews.com/news/20190529/blackwater-river-state-park-preps-for-summer\n",
      "3301st URL: https://www.nwfdailynews.com/news/20190603/guest-editorial-learn-lessons-from-past-hurricanes\n",
      "3401st URL: https://www.nwfdailynews.com/news/20190608/residents-rally-for-neighborhood-park\n",
      "3501st URL: https://www.nwfdailynews.com/news/20190613/srmcs-emergency-room-in-pace-now-open\n",
      "3601st URL: https://www.nwfdailynews.com/news/20190618/local-girl-famous-for-whataburger-craving-on-idol-hungry-for-more\n",
      "3701st URL: https://www.nwfdailynews.com/news/20190623/local-family-brings-kona-ice-to-walton-county\n",
      "3801st URL: https://www.nwfdailynews.com/news/20190628/marler-bridge-view-is-awesome---and-potentially-dangerous\n",
      "3901st URL: https://www.nwfdailynews.com/news/20190704/guest-editorial-what-we-have-is-worth-celebration\n",
      "4001st URL: https://www.nwfdailynews.com/news/20190709/crews-battle-church-blaze-lightning-possible-cause\n",
      "4101st URL: https://www.nwfdailynews.com/news/20190715/two-drown-on-sunday-in-walton-county\n",
      "4201st URL: https://www.nwfdailynews.com/news/20190720/giant-leap-50-years-later\n",
      "4301st URL: https://www.nwfdailynews.com/news/20190726/edgewater-condo-homeowners-seek-attorneys-fees\n",
      "4401st URL: https://www.nwfdailynews.com/news/20190801/stretch-of-hollywood-might-see-curves-fewer-lanes\n",
      "4501st URL: https://www.nwfdailynews.com/news/20190807/four-santa-rosa-residents-charged-in-oyster-theft-scheme\n",
      "4601st URL: https://www.nwfdailynews.com/news/20190814/pandoras-items-set-to-be-auctioned-photos\n",
      "4701st URL: https://www.nwfdailynews.com/sports/20190820/scallop-season-is-open\n",
      "4801st URL: https://www.nwfdailynews.com/sports/20190825/the-countdown-is-on\n",
      "4901st URL: https://www.nwfdailynews.com/sports/20190831/rocky-bayou-falls-to-0-2-after-home-loss\n",
      "5001st URL: https://www.nwfdailynews.com/news/20190906/closures-state-road-285-to-close-for-eglin-afb-testing\n",
      "5101st URL: https://www.nwfdailynews.com/news/20190912/2-florida-theme-parks-announce-new-coasters-for-spring-2020\n",
      "5201st URL: https://www.nwfdailynews.com/news/20190917/international-group-gets-close-up-view-of-city-government\n",
      "5301st URL: https://www.nwfdailynews.com/news/20190923/bridgeway-therapist-arrested-for-sexting-client\n",
      "5401st URL: https://www.nwfdailynews.com/news/20190928/louisiana-residents-help-save-woman-hit-by-truck-in-destin\n",
      "5501st URL: https://www.nwfdailynews.com/zz/entertainment/20191004/florida-history-states-first-hippie-love-in-was-in-lantana\n"
     ]
    }
   ],
   "source": [
    "for i in range(3, len(nw_fl_daily_chunks)):\n",
    "    nw_fl_daily_chunks[i] = nw_fl_daily_chunks[i].apply(lambda x: nw_fl_daily_scraper(x), axis = 1)"
   ]
  },
  {
   "cell_type": "code",
   "execution_count": 70,
   "metadata": {},
   "outputs": [],
   "source": [
    "nw_fl_daily = pd.concat(nw_fl_daily_chunks, axis = 0)"
   ]
  },
  {
   "cell_type": "code",
   "execution_count": 71,
   "metadata": {},
   "outputs": [],
   "source": [
    "nw_fl_daily.to_csv('./nw_fl_daily_part_1.csv', index = False)"
   ]
  },
  {
   "cell_type": "code",
   "execution_count": 73,
   "metadata": {},
   "outputs": [
    {
     "data": {
      "text/plain": [
       "(5545, 10)"
      ]
     },
     "execution_count": 73,
     "metadata": {},
     "output_type": "execute_result"
    }
   ],
   "source": [
    "nw_fl_daily.shape"
   ]
  }
 ],
 "metadata": {
  "kernelspec": {
   "display_name": "Python 3",
   "language": "python",
   "name": "python3"
  },
  "language_info": {
   "codemirror_mode": {
    "name": "ipython",
    "version": 3
   },
   "file_extension": ".py",
   "mimetype": "text/x-python",
   "name": "python",
   "nbconvert_exporter": "python",
   "pygments_lexer": "ipython3",
   "version": "3.6.8"
  }
 },
 "nbformat": 4,
 "nbformat_minor": 2
}
