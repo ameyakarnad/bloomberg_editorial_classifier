{
 "cells": [
  {
   "cell_type": "code",
   "execution_count": 1,
   "metadata": {
    "collapsed": true
   },
   "outputs": [],
   "source": [
    "import numpy as np\n",
    "import pandas as pd\n",
    "import requests\n",
    "from bs4 import BeautifulSoup\n",
    "from datetime import date\n",
    "import datetime\n",
    "import warnings\n",
    "warnings.filterwarnings('ignore')"
   ]
  },
  {
   "cell_type": "code",
   "execution_count": 2,
   "metadata": {},
   "outputs": [
    {
     "data": {
      "text/html": [
       "<div>\n",
       "<style>\n",
       "    .dataframe thead tr:only-child th {\n",
       "        text-align: right;\n",
       "    }\n",
       "\n",
       "    .dataframe thead th {\n",
       "        text-align: left;\n",
       "    }\n",
       "\n",
       "    .dataframe tbody tr th {\n",
       "        vertical-align: top;\n",
       "    }\n",
       "</style>\n",
       "<table border=\"1\" class=\"dataframe\">\n",
       "  <thead>\n",
       "    <tr style=\"text-align: right;\">\n",
       "      <th></th>\n",
       "      <th>Source</th>\n",
       "      <th>Timestamp</th>\n",
       "      <th>Category</th>\n",
       "      <th>URL</th>\n",
       "    </tr>\n",
       "  </thead>\n",
       "  <tbody>\n",
       "    <tr>\n",
       "      <th>0</th>\n",
       "      <td>Intelligencer</td>\n",
       "      <td>11-DEC-13-05.35.01.911037</td>\n",
       "      <td>regular</td>\n",
       "      <td>http://www.theintell.com/business/software-fir...</td>\n",
       "    </tr>\n",
       "    <tr>\n",
       "      <th>1</th>\n",
       "      <td>Intelligencer</td>\n",
       "      <td>12-SEP-16-11.52.34.761202</td>\n",
       "      <td>regular</td>\n",
       "      <td>http://www.theintell.com/life-style/local-feat...</td>\n",
       "    </tr>\n",
       "    <tr>\n",
       "      <th>2</th>\n",
       "      <td>Intelligencer</td>\n",
       "      <td>29-SEP-19-03.04.04.475263</td>\n",
       "      <td>regular</td>\n",
       "      <td>https://www.theintell.com/sports/20190827/moor...</td>\n",
       "    </tr>\n",
       "    <tr>\n",
       "      <th>3</th>\n",
       "      <td>Intelligencer</td>\n",
       "      <td>29-SEP-19-03.06.54.930124</td>\n",
       "      <td>regular</td>\n",
       "      <td>https://www.theintell.com/sports/20190827/hosk...</td>\n",
       "    </tr>\n",
       "    <tr>\n",
       "      <th>4</th>\n",
       "      <td>Intelligencer</td>\n",
       "      <td>29-SEP-19-03.18.28.775149</td>\n",
       "      <td>regular</td>\n",
       "      <td>https://www.theintell.com/opinion/20190828/lte...</td>\n",
       "    </tr>\n",
       "  </tbody>\n",
       "</table>\n",
       "</div>"
      ],
      "text/plain": [
       "          Source                  Timestamp Category  \\\n",
       "0  Intelligencer  11-DEC-13-05.35.01.911037  regular   \n",
       "1  Intelligencer  12-SEP-16-11.52.34.761202  regular   \n",
       "2  Intelligencer  29-SEP-19-03.04.04.475263  regular   \n",
       "3  Intelligencer  29-SEP-19-03.06.54.930124  regular   \n",
       "4  Intelligencer  29-SEP-19-03.18.28.775149  regular   \n",
       "\n",
       "                                                 URL  \n",
       "0  http://www.theintell.com/business/software-fir...  \n",
       "1  http://www.theintell.com/life-style/local-feat...  \n",
       "2  https://www.theintell.com/sports/20190827/moor...  \n",
       "3  https://www.theintell.com/sports/20190827/hosk...  \n",
       "4  https://www.theintell.com/opinion/20190828/lte...  "
      ]
     },
     "execution_count": 2,
     "metadata": {},
     "output_type": "execute_result"
    }
   ],
   "source": [
    "bbg_data=pd.read_csv('Bloomberg_data.csv',header=None)\n",
    "bbg_data.columns=['Source','Timestamp','Category','URL']\n",
    "bbg_data.head()"
   ]
  },
  {
   "cell_type": "code",
   "execution_count": null,
   "metadata": {
    "collapsed": true
   },
   "outputs": [],
   "source": [
    "Enid_News=bbg_data[(bbg_data['Source']==\"Enid News\")].reset_index(drop=True)"
   ]
  },
  {
   "cell_type": "code",
   "execution_count": null,
   "metadata": {
    "collapsed": true
   },
   "outputs": [],
   "source": [
    "bad_url=[]\n",
    "c=0\n",
    "for url in Enid_News['URL']:\n",
    "    print(c)\n",
    "    c=c+1\n",
    "    r=requests.get(url)\n",
    "    if r.status_code!=200:\n",
    "        bad_url.append(url)\n",
    "        print(url)"
   ]
  },
  {
   "cell_type": "code",
   "execution_count": null,
   "metadata": {
    "collapsed": true
   },
   "outputs": [],
   "source": [
    "bad_url_frame=pd.DataFrame(columns=['URL'])\n",
    "bad_url_frame['URL']=bad_url\n",
    "bad_url_frame.to_csv('Enid_news_bad_url.csv')"
   ]
  },
  {
   "cell_type": "code",
   "execution_count": 3,
   "metadata": {},
   "outputs": [
    {
     "data": {
      "text/html": [
       "<div>\n",
       "<style>\n",
       "    .dataframe thead tr:only-child th {\n",
       "        text-align: right;\n",
       "    }\n",
       "\n",
       "    .dataframe thead th {\n",
       "        text-align: left;\n",
       "    }\n",
       "\n",
       "    .dataframe tbody tr th {\n",
       "        vertical-align: top;\n",
       "    }\n",
       "</style>\n",
       "<table border=\"1\" class=\"dataframe\">\n",
       "  <thead>\n",
       "    <tr style=\"text-align: right;\">\n",
       "      <th></th>\n",
       "      <th>Unnamed: 0</th>\n",
       "      <th>URL</th>\n",
       "    </tr>\n",
       "  </thead>\n",
       "  <tbody>\n",
       "    <tr>\n",
       "      <th>0</th>\n",
       "      <td>0</td>\n",
       "      <td>https://www.enidnews.com/oklahoma/news/arreste...</td>\n",
       "    </tr>\n",
       "    <tr>\n",
       "      <th>1</th>\n",
       "      <td>1</td>\n",
       "      <td>https://www.enidnews.com/oklahoma/news/budweis...</td>\n",
       "    </tr>\n",
       "    <tr>\n",
       "      <th>2</th>\n",
       "      <td>2</td>\n",
       "      <td>https://www.enidnews.com/sports/local_sports/b...</td>\n",
       "    </tr>\n",
       "    <tr>\n",
       "      <th>3</th>\n",
       "      <td>3</td>\n",
       "      <td>https://www.enidnews.com/sports/local_sports/s...</td>\n",
       "    </tr>\n",
       "    <tr>\n",
       "      <th>4</th>\n",
       "      <td>4</td>\n",
       "      <td>https://www.enidnews.com/sports/local_sports/o...</td>\n",
       "    </tr>\n",
       "  </tbody>\n",
       "</table>\n",
       "</div>"
      ],
      "text/plain": [
       "   Unnamed: 0                                                URL\n",
       "0           0  https://www.enidnews.com/oklahoma/news/arreste...\n",
       "1           1  https://www.enidnews.com/oklahoma/news/budweis...\n",
       "2           2  https://www.enidnews.com/sports/local_sports/b...\n",
       "3           3  https://www.enidnews.com/sports/local_sports/s...\n",
       "4           4  https://www.enidnews.com/sports/local_sports/o..."
      ]
     },
     "execution_count": 3,
     "metadata": {},
     "output_type": "execute_result"
    }
   ],
   "source": [
    "bad_url=pd.read_csv('Enid_news_bad_url.csv')\n",
    "bad_url.head(5)"
   ]
  },
  {
   "cell_type": "code",
   "execution_count": 4,
   "metadata": {},
   "outputs": [
    {
     "name": "stdout",
     "output_type": "stream",
     "text": [
      "5580\n"
     ]
    }
   ],
   "source": [
    "Enid_News=bbg_data[(bbg_data['Source']==\"Enid News\")&(bbg_data['URL'].isin(bad_url['URL'])==False)].reset_index(drop=True)\n",
    "Enid_News.head()\n",
    "print(len(Enid_News))"
   ]
  },
  {
   "cell_type": "code",
   "execution_count": null,
   "metadata": {},
   "outputs": [],
   "source": [
    "len(bad_url)"
   ]
  },
  {
   "cell_type": "code",
   "execution_count": 5,
   "metadata": {},
   "outputs": [
    {
     "data": {
      "text/plain": [
       "regular      5380\n",
       "editorial     165\n",
       "guest          35\n",
       "Name: Category, dtype: int64"
      ]
     },
     "execution_count": 5,
     "metadata": {},
     "output_type": "execute_result"
    }
   ],
   "source": [
    "Enid_News['Category'].value_counts()"
   ]
  },
  {
   "cell_type": "code",
   "execution_count": null,
   "metadata": {
    "collapsed": true
   },
   "outputs": [],
   "source": [
    "c=0\n",
    "def get_metadata(url):\n",
    "    global c\n",
    "    print(c)\n",
    "    c=c+1\n",
    "    r = requests.get(url) \n",
    "    html_soup = BeautifulSoup(r.content, 'lxml')\n",
    "    text = ''\n",
    "    date= ''\n",
    "    title=''\n",
    "    author=''\n",
    "    keywords=''\n",
    "    description=''\n",
    "    \n",
    "    #To access article content\n",
    "    if html_soup.findAll('div', attrs = {\"itemprop\" : \"articleBody\"}) is not None:\n",
    "        temp_soup = html_soup.find('div', attrs = {\"itemprop\" : \"articleBody\"})\n",
    "        try:\n",
    "            soup = temp_soup.findAll('p')\n",
    "            for s in soup:\n",
    "                text = text + ' ' + s.get_text()\n",
    "        except:\n",
    "            print(url)\n",
    "    else:\n",
    "        print('Content')\n",
    "    content=text.replace(u\"\\xa0\",\"\")# to remove latin space\n",
    "    \n",
    "    \n",
    "    #To acess article date\n",
    "    if html_soup.find('meta',attrs={\"itemprop\":\"dateCreated\"}) is not None:\n",
    "        date=html_soup.find('meta',attrs={\"itemprop\":\"dateCreated\"})[\"content\"]\n",
    "        date=date.split(\"T\")[0]\n",
    "    else:\n",
    "        print(\"Date\")\n",
    "    \n",
    "    \n",
    "    #To acess the title   \n",
    "    if html_soup.find('meta',attrs={\"property\":\"og:title\"})is not None:\n",
    "        title=html_soup.find('meta',attrs={\"property\":\"og:title\"})[\"content\"]\n",
    "        if \"|\" in title:\n",
    "            title=title.split(\"|\")[0]\n",
    "    else:\n",
    "        print(\"Title\")\n",
    "    title=title.replace(u\"\\xa0\",\"\")\n",
    "    print(title)\n",
    "    \n",
    "    #To acess the author\n",
    "    if html_soup.find('meta',attrs={\"name\":\"author\"}) is not None:\n",
    "        author=html_soup.find('meta',attrs={\"name\":\"author\"})[\"content\"]\n",
    "        if \"|\" in author:\n",
    "            author=author.split(\"|\")[0]\n",
    "    else:\n",
    "        print(\"author\")\n",
    "    author=author.replace(u\"\\xa0\",\"\")\n",
    "    \n",
    "    \n",
    "    #To access keywords\n",
    "    if html_soup.find('meta',attrs={\"name\":\"news_keywords\"}) is not None:\n",
    "        keywords=html_soup.find('meta',attrs={\"name\":\"news_keywords\"})[\"content\"]\n",
    "    else:\n",
    "        print(\"Keywords\")\n",
    "    keywords=keywords.replace(u\"\\xa0\",\"\")\n",
    "    \n",
    "    \n",
    "    #To access general description of the article\n",
    "    if html_soup.find('meta',attrs={\"name\":\"description\"}) is not None:\n",
    "        description=html_soup.find('meta',attrs={\"name\":\"description\"})[\"content\"]\n",
    "    else:\n",
    "        print(\"Description\")\n",
    "    description=description.replace(u\"\\xa0\",\"\") \n",
    "    \n",
    "    \n",
    "    return (content,date,title,author,keywords,description)"
   ]
  },
  {
   "cell_type": "code",
   "execution_count": null,
   "metadata": {
    "collapsed": true
   },
   "outputs": [],
   "source": [
    "Enid_News['Content'],Enid_News['Date'],Enid_News['Title'],Enid_News['Author'],Enid_News['Keywords'],Enid_News['Description'] = zip(*Enid_News['URL'].apply(get_metadata))"
   ]
  },
  {
   "cell_type": "code",
   "execution_count": 35,
   "metadata": {
    "collapsed": true
   },
   "outputs": [],
   "source": [
    "Enid_news1=Enid_News.copy()"
   ]
  },
  {
   "cell_type": "code",
   "execution_count": 36,
   "metadata": {},
   "outputs": [],
   "source": [
    "Enid_news1['ind']=Enid_news1['URL'].apply(lambda x: 'guest' if 'guest' in x else('opinion' if 'opinion' in x else 'regular'))"
   ]
  },
  {
   "cell_type": "code",
   "execution_count": 38,
   "metadata": {},
   "outputs": [],
   "source": [
    "Enid_News['Category']=Enid_news1['ind']"
   ]
  },
  {
   "cell_type": "code",
   "execution_count": 39,
   "metadata": {},
   "outputs": [
    {
     "data": {
      "text/html": [
       "<div>\n",
       "<style>\n",
       "    .dataframe thead tr:only-child th {\n",
       "        text-align: right;\n",
       "    }\n",
       "\n",
       "    .dataframe thead th {\n",
       "        text-align: left;\n",
       "    }\n",
       "\n",
       "    .dataframe tbody tr th {\n",
       "        vertical-align: top;\n",
       "    }\n",
       "</style>\n",
       "<table border=\"1\" class=\"dataframe\">\n",
       "  <thead>\n",
       "    <tr style=\"text-align: right;\">\n",
       "      <th></th>\n",
       "      <th>Source</th>\n",
       "      <th>Timestamp</th>\n",
       "      <th>Category</th>\n",
       "      <th>URL</th>\n",
       "      <th>Content</th>\n",
       "      <th>Date</th>\n",
       "      <th>Title</th>\n",
       "      <th>Author</th>\n",
       "      <th>Keywords</th>\n",
       "      <th>Description</th>\n",
       "    </tr>\n",
       "  </thead>\n",
       "  <tbody>\n",
       "    <tr>\n",
       "      <th>0</th>\n",
       "      <td>Enid News</td>\n",
       "      <td>29-SEP-19-04.27.53.653303</td>\n",
       "      <td>regular</td>\n",
       "      <td>https://www.enidnews.com/oklahoma/news/epd-man...</td>\n",
       "      <td>Enid Police Department has seen a recent incr...</td>\n",
       "      <td>2018-09-26</td>\n",
       "      <td>EPD: Many young drivers violate license rules</td>\n",
       "      <td>Cass Rains Staff Writer</td>\n",
       "      <td>license, motor vehicle, transports, highway, d...</td>\n",
       "      <td>Enid Police Department has seen a recent incre...</td>\n",
       "    </tr>\n",
       "    <tr>\n",
       "      <th>1</th>\n",
       "      <td>Enid News</td>\n",
       "      <td>29-SEP-19-05.41.10.760725</td>\n",
       "      <td>opinion</td>\n",
       "      <td>https://www.enidnews.com/opinion/go-and-see/ar...</td>\n",
       "      <td>“There’s nothing to do in Enid.” That’s a pop...</td>\n",
       "      <td>2018-09-27</td>\n",
       "      <td>EDITORIAL: There's plenty to do in Enid this w...</td>\n",
       "      <td>Enid News &amp; Eagle Editorial Board</td>\n",
       "      <td>oktoberfest, food, gastronomy, enology, tom ni...</td>\n",
       "      <td>“There’s nothing to do in Enid.” That’s a popu...</td>\n",
       "    </tr>\n",
       "    <tr>\n",
       "      <th>2</th>\n",
       "      <td>Enid News</td>\n",
       "      <td>29-SEP-19-05.41.09.696911</td>\n",
       "      <td>opinion</td>\n",
       "      <td>https://www.enidnews.com/opinion/it-s-gold-sta...</td>\n",
       "      <td>By Sen. James Lankford, R-Okla. Each year bef...</td>\n",
       "      <td>2018-09-27</td>\n",
       "      <td>It's Gold Star Family Remembrance Week this week</td>\n",
       "      <td>Sen.James Lankford</td>\n",
       "      <td>week, politics, military, remembrance, photo, ...</td>\n",
       "      <td>By Sen. James Lankford, R-Okla.</td>\n",
       "    </tr>\n",
       "    <tr>\n",
       "      <th>3</th>\n",
       "      <td>Enid News</td>\n",
       "      <td>29-SEP-19-05.49.26.759437</td>\n",
       "      <td>regular</td>\n",
       "      <td>https://www.enidnews.com/sports/local_sports/c...</td>\n",
       "      <td>Chisholm coach Kevin Burns is hopeful about h...</td>\n",
       "      <td>2018-09-27</td>\n",
       "      <td>Chisholm, Waukomis hopeful about regionals</td>\n",
       "      <td>Bruce Campbell Staff Writer</td>\n",
       "      <td>tournament, sport, baseball, kevin burns, phil...</td>\n",
       "      <td>Chisholm coach Kevin Burns is hopeful about hi...</td>\n",
       "    </tr>\n",
       "    <tr>\n",
       "      <th>4</th>\n",
       "      <td>Enid News</td>\n",
       "      <td>29-SEP-19-05.54.22.577748</td>\n",
       "      <td>regular</td>\n",
       "      <td>https://www.enidnews.com/sports/local_sports/s...</td>\n",
       "      <td>ENID, Okla. — Senior Traber Smithson is savor...</td>\n",
       "      <td>2018-09-27</td>\n",
       "      <td>Smithson 'a Trojan to the core'</td>\n",
       "      <td>Bruce Campbell</td>\n",
       "      <td>jay mendenhall, sport, american football, wint...</td>\n",
       "      <td>Senior Traber Smithson is savoring Oklahoma Bi...</td>\n",
       "    </tr>\n",
       "  </tbody>\n",
       "</table>\n",
       "</div>"
      ],
      "text/plain": [
       "      Source                  Timestamp Category  \\\n",
       "0  Enid News  29-SEP-19-04.27.53.653303  regular   \n",
       "1  Enid News  29-SEP-19-05.41.10.760725  opinion   \n",
       "2  Enid News  29-SEP-19-05.41.09.696911  opinion   \n",
       "3  Enid News  29-SEP-19-05.49.26.759437  regular   \n",
       "4  Enid News  29-SEP-19-05.54.22.577748  regular   \n",
       "\n",
       "                                                 URL  \\\n",
       "0  https://www.enidnews.com/oklahoma/news/epd-man...   \n",
       "1  https://www.enidnews.com/opinion/go-and-see/ar...   \n",
       "2  https://www.enidnews.com/opinion/it-s-gold-sta...   \n",
       "3  https://www.enidnews.com/sports/local_sports/c...   \n",
       "4  https://www.enidnews.com/sports/local_sports/s...   \n",
       "\n",
       "                                             Content        Date  \\\n",
       "0   Enid Police Department has seen a recent incr...  2018-09-26   \n",
       "1   “There’s nothing to do in Enid.” That’s a pop...  2018-09-27   \n",
       "2   By Sen. James Lankford, R-Okla. Each year bef...  2018-09-27   \n",
       "3   Chisholm coach Kevin Burns is hopeful about h...  2018-09-27   \n",
       "4   ENID, Okla. — Senior Traber Smithson is savor...  2018-09-27   \n",
       "\n",
       "                                               Title  \\\n",
       "0      EPD: Many young drivers violate license rules   \n",
       "1  EDITORIAL: There's plenty to do in Enid this w...   \n",
       "2   It's Gold Star Family Remembrance Week this week   \n",
       "3         Chisholm, Waukomis hopeful about regionals   \n",
       "4                    Smithson 'a Trojan to the core'   \n",
       "\n",
       "                              Author  \\\n",
       "0            Cass Rains Staff Writer   \n",
       "1  Enid News & Eagle Editorial Board   \n",
       "2                Sen.James Lankford    \n",
       "3        Bruce Campbell Staff Writer   \n",
       "4                    Bruce Campbell    \n",
       "\n",
       "                                            Keywords  \\\n",
       "0  license, motor vehicle, transports, highway, d...   \n",
       "1  oktoberfest, food, gastronomy, enology, tom ni...   \n",
       "2  week, politics, military, remembrance, photo, ...   \n",
       "3  tournament, sport, baseball, kevin burns, phil...   \n",
       "4  jay mendenhall, sport, american football, wint...   \n",
       "\n",
       "                                         Description  \n",
       "0  Enid Police Department has seen a recent incre...  \n",
       "1  “There’s nothing to do in Enid.” That’s a popu...  \n",
       "2                    By Sen. James Lankford, R-Okla.  \n",
       "3  Chisholm coach Kevin Burns is hopeful about hi...  \n",
       "4  Senior Traber Smithson is savoring Oklahoma Bi...  "
      ]
     },
     "execution_count": 39,
     "metadata": {},
     "output_type": "execute_result"
    }
   ],
   "source": [
    "Enid_News.head()"
   ]
  },
  {
   "cell_type": "code",
   "execution_count": 40,
   "metadata": {
    "collapsed": true
   },
   "outputs": [],
   "source": [
    "Enid_News.to_csv('Bloomberg_Enid_News.csv')"
   ]
  },
  {
   "cell_type": "code",
   "execution_count": null,
   "metadata": {
    "collapsed": true
   },
   "outputs": [],
   "source": []
  }
 ],
 "metadata": {
  "kernelspec": {
   "display_name": "Python 3",
   "language": "python",
   "name": "python3"
  },
  "language_info": {
   "codemirror_mode": {
    "name": "ipython",
    "version": 3
   },
   "file_extension": ".py",
   "mimetype": "text/x-python",
   "name": "python",
   "nbconvert_exporter": "python",
   "pygments_lexer": "ipython3",
   "version": "3.6.8"
  }
 },
 "nbformat": 4,
 "nbformat_minor": 2
}
